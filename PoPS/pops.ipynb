{
 "cells": [
  {
   "cell_type": "markdown",
   "id": "dba9a037-724d-4d12-8fee-61cc6b5e3297",
   "metadata": {
    "kernel": "SoS",
    "tags": []
   },
   "source": [
    "# PoPs Workflow"
   ]
  },
  {
   "cell_type": "markdown",
   "id": "619e080a-82cd-45c0-a6b0-993a28177770",
   "metadata": {
    "kernel": "SoS"
   },
   "source": [
    "Polygenic Priority Score (PoPS) evaluates the associations between traits and genes, aiming to prioritizing the causal genes for complex biological traits. It incorporates GWAS summary statistics with gene expression, biological pathway, and predicted protein-protein interaction data. This pipeline is modified from the [FinucaneLab's code](https://github.com/FinucaneLab/gene_features/tree/master/code). \n",
    "\n",
    "> [Weeks, E. M., Ulirsch, J. C., Cheng, N. Y., Trippe, B. L., Fine, R. S., Miao, J., ... & Finucane, H. K. (2020). Leveraging polygenic enrichments of gene features to predict genes underlying complex traits and diseases. medRxiv.](https://doi.org/10.1101/2020.09.08.20190561;)"
   ]
  },
  {
   "cell_type": "markdown",
   "id": "4e65bd63-5956-4e36-9784-3d482c73c56d",
   "metadata": {
    "kernel": "SoS"
   },
   "source": [
    "## Method\n",
    "\n",
    "### Primary GLS model \n",
    "\n",
    "$$y=X^f\\beta^f+\\varepsilon,\\ \\ \\varepsilon\\sim MNV(0,R)$$\n",
    "\n",
    "For the primary step, PoPS takes GWAS summary statistics (gene-level z scores from magma) as y and gene features extracted from gene expression, biological pathways, and predicted PPI networks as x, building a Generalized Least Squares (GLS). The model accounts for the correlation between genes by variance covariance matrix R.\n",
    "\n",
    "### Final GLS model \n",
    "\n",
    "$$y=C\\alpha+X^f\\beta^f+\\varepsilon,\\ \\ \\varepsilon\\sim MNV(0,R)$$\n",
    "\n",
    "After fitting the primary GLS model, PoPS filters gene featues by marginal selection. For the remianing features, a final GLS model is built by Leave One Chomosome Out (LOCO) framework and ridge penalty. For each gene $g$ on the chromosome $i$, it estimates the coefficient for each remianing gene feature $\\hat{\\beta}_{-chr i}$. The model also incorporates a term $C\\alpha$ for gene covariants (i.e. gene length, effective gene size).\n",
    "\n",
    "### PoPS calculation\n",
    "\n",
    "$$\\hat{y}_{g}=X_{g}\\hat{\\beta}_{-chr i}$$\n",
    "\n",
    "For the gene $g$ on the chromosome $i$, he Polygenic Priority Score $\\hat{y}$ equals to $X_{g}$ times $\\hat{\\beta}_{-chr i}$.\n",
    "\n",
    "![image.png](https://github.com/UxxUnet/prototype/blob/main/Picture1.png?raw=true)"
   ]
  },
  {
   "cell_type": "markdown",
   "id": "3ed8ca13-6c65-4399-ac07-db6fe6a8cc52",
   "metadata": {
    "kernel": "SoS"
   },
   "source": [
    "## Overview\n",
    "\n",
    "### Step 1 - MAGMA\n",
    "\n",
    "#### Inputs\n",
    "        \n",
    "  - Reference panel\n",
    "\n",
    "    `--bfile` A binary PLINK format data set, consisting of a .bed, .bim and .fam trio of files, is required for the reference panel. The `1000G.EUR.bed/bim/fam` files contain the necessary reference panel data for Europeans in the 1000 Genomes Project phase 3.\n",
    "\n",
    "  - MAGMA gene annotation\n",
    "\n",
    "    `--gene_annot` The MAGMA gene annotation file is created by running MAGMA with the `--annotate` flag. Each row of the MAGMA annotation file corresponds to a gene and containings the gene ID, a specification of the gene's location, and a list of SNP IDs of SNPs mapped to that gene. The `magma_0kb.genes.annot` file is a MAGMA annotation file for the 18,383 protein coding genes using SNPs in the 1000 Genomes phase 3 reference panel and a 0 Kb window around the gene body.\n",
    "\n",
    "  - GWAS summary statistics\n",
    "\n",
    "    `--pval` the GWAS summary statistics file. If it designates the name of the column containing the per SNP sample size, use `ncol=<colname>`.\n",
    "\n",
    "#### Outputs\n",
    "\n",
    "  - `.genes.out` file\n",
    "  \n",
    "    The `.genes.out` file contains the MAGMA gene analysis results in human-readable format. This file contains the gene z-scores and relevant data to construct the control covariates in the joint prediction model.\n",
    "\n",
    "  - `.genes.raw` file\n",
    "  \n",
    "    The `.genes.raw` file is the intermediary file that serves as the input for subsequent analyses. This file contains the required data to consturct the gene-gene correlation matrix.\n",
    "\n",
    "### Step 2 - Gene features\n",
    "\n",
    "* Read in, QC, filter, scale, and normalize data\n",
    "\n",
    "* Perform PCA and independent component analysis (ICA) across all cells or meta-cells or tissues\n",
    "\n",
    "* Perform clustering and UMAP and plot features on projection\n",
    "\n",
    "* Perform differential expression analysis\n",
    "\n",
    "#### Inputs\n",
    "\n",
    "  - Gene expression\n",
    "  \n",
    "     `--expr-matrix` The RNA-seq data for the gene expression\n",
    "     \n",
    "  - Mata data\n",
    "  \n",
    "     `--meta` Additional cell-level metadata to add to the Seurat object. Should be a data frame where the rows are cell names and the columns are additional metadata fields.\n",
    "\n",
    "  - Gene annotations\n",
    "  \n",
    "     `--anno_file`  The gene ENSG id, chr, position and TSS annotations\n",
    "     \n",
    "  - Gene symbol\n",
    "  \n",
    "     `--symbol` For gene ENSG id to symbol transfering\n",
    "\n",
    "#### Output\n",
    "\n",
    "  - Unweighted gene loadings from PCA\n",
    "  \n",
    "    `/features/human_airway_projected_pcaloadings.txt.gz`\n",
    "    \n",
    "  - Unweighted gene loadings from ICA \n",
    "  \n",
    "    `/features/human_airway_projected_icaloadings.txt.gz`\n",
    "    \n",
    "  - Unweighted gene loadings from PCA within cluster \n",
    "  \n",
    "    `features/human_immune/projected_pcaloadings_clusters.txt.gz`\n",
    "    \n",
    "  - Average expression across clusters (pre-defined and identified) \n",
    "  \n",
    "    `/features/human_airway_average_expression.txt`\n",
    "  \n",
    "  - One-vs-all t-test statistic (pre-defined and identified) \n",
    "  \n",
    "    `/features/human_airway_diffexprs_tstat_clusters.txt`\n",
    "  \n",
    "  - Differentially expressed genes across clusters (pre-defined and identified) \n",
    "  \n",
    "    `/features/human_airway_diffexprs_genes_clusters.txt`\n",
    "\n",
    "### Step 3 - Feature selection\n",
    "\n",
    "#### Inputs\n",
    "\n",
    "  - Gene features\n",
    "  \n",
    "    `--features` The gene feature file incoprates the features from gene expression (from `[genefeature]`), biological pathway, and predicted protein-protein interaction data.\n",
    "     \n",
    "  - Gene association results\n",
    "  \n",
    "    `--gene_results` The gene association results produced from `[magma]`\n",
    "\n",
    "\n",
    "#### Output\n",
    "\n",
    "  - Selected features\n",
    "  \n",
    "    `.features file` It contains the names of the marginally selected features. This file has no header and contains the name of one feature per row.\n",
    "  \n",
    "\n",
    "### Step 4 - Predict scores\n",
    "\n",
    "#### Inputs\n",
    "\n",
    "  - Gene location file\n",
    "  \n",
    "     `--gene_loc` The gene location file\n",
    "\n",
    "  - Gene association results\n",
    "  \n",
    "     `--gene_results` The gene association results produced from `[magma]`\n",
    "     \n",
    "  - Gene features\n",
    "  \n",
    "     `--features` The gene feature file incoprates the features from gene expression (from `[genefeature]`), biological pathway, and predicted protein-protein interaction data.\n",
    "     \n",
    "  - Selected features\n",
    "\n",
    "    `.selected_features` The selected features produced from `[feature_selection]`\n",
    "\n",
    "  - Control fetures\n",
    "  \n",
    "     `--control_features` The list of control fetures\n",
    "\n",
    "  - Chromosome index\n",
    "  \n",
    "     `--chromosome` This flag designates the chromosome for which to compute PoP scores.\n",
    "\n",
    "#### Output\n",
    "\n",
    "  - `.{chomosome}.results` file\n",
    "  \n",
    "    The `.results` file contains the predicted PoP scores for each gene on the designated chromosome.\n",
    "\n",
    "  - `.{chomosome}.coefs` file\n",
    "  \n",
    "    The `.coefs` file contains the estimated $\\hat{\\beta}$ for each feature from fitting the PoPS model leaving out the designated chromosome."
   ]
  },
  {
   "cell_type": "markdown",
   "id": "9f25d486-d8d9-4ede-870d-c58b46a73ca2",
   "metadata": {
    "kernel": "SoS"
   },
   "source": [
    "## Future work\n",
    "#### genefeature \n",
    " - Input data format restriction\n",
    " - Need more customized options\n",
    "     - Known genes set or an omit option\n",
    "     - Number of PCs applied\n",
    "     - Number of features to select as top variable features\n",
    "     - Value of the resolution parameter\n",
    "     - Cell type label in the meta data\n",
    "     - PlotAndSaveDEGenesOnUMAP --height\n",
    "     - Annotation symbol, i.e. human_symbol\n",
    " \n",
    "#### Docker image\n",
    " - Embedding of \"utils.R\" file\n",
    " - Warning \"gzip: ./features/human_retina2_average_expression.txt: No such file or directory\"\n",
    " \n",
    "#### MWE\n",
    " - Smaller MWE files"
   ]
  },
  {
   "cell_type": "code",
   "execution_count": null,
   "id": "ebe8141d-1846-4ea8-a868-3f07eee2e5cc",
   "metadata": {
    "kernel": "SoS"
   },
   "outputs": [],
   "source": []
  },
  {
   "cell_type": "code",
   "execution_count": 52,
   "id": "262abf00-8b9e-4a5d-be38-4b5a7a92aee2",
   "metadata": {
    "kernel": "Bash",
    "tags": []
   },
   "outputs": [
    {
     "name": "stdout",
     "output_type": "stream",
     "text": [
      "usage: sos run pops.ipynb [workflow_name | -t targets] [options] [workflow_options]\n",
      "  workflow_name:        Single or combined workflows defined in this script\n",
      "  targets:              One or more targets to generate\n",
      "  options:              Single-hyphen sos parameters (see \"sos run -h\" for details)\n",
      "  workflow_options:     Double-hyphen workflow-specific parameters\n",
      "\n",
      "Workflows:\n",
      "  magma\n",
      "  genefeature\n",
      "  feature_selection\n",
      "  predict_scores\n",
      "\n",
      "Global Workflow Options:\n",
      "  --cwd VAL (as path, required)\n",
      "                        the code directory\n",
      "  --name VAL (as str, required)\n",
      "                        A string to identify your analysis run\n",
      "  --out VAL (as path, required)\n",
      "                        Path directory or prefix for output files\n",
      "  --job-size 1 (as int)\n",
      "                        For cluster jobs, number commands to run per job\n",
      "  --walltime 5h\n",
      "                        Wall clock time expected\n",
      "  --mem 16G\n",
      "                        Memory expected\n",
      "  --numThreads 20 (as int)\n",
      "                        Number of threads\n",
      "  --container-pops 'guangyou/pops:1.0.0'\n",
      "                        Software container option\n",
      "\n",
      "Sections\n",
      "  magma:                Get gene-level z scores\n",
      "    Workflow Options:\n",
      "      --bfile  paths\n",
      "\n",
      "                        Path of the plink format file set for the reference\n",
      "                        panel, including .bed/.fam/.bim\n",
      "      --gene-annot VAL (as path, required)\n",
      "                        Path to MAGMA gene annotation file\n",
      "      --pval VAL (as path, required)\n",
      "                        Path to summary statistics file\n",
      "      --snpcol VAL (as str, required)\n",
      "                        The colname (or name) of SNP id in summary statistics\n",
      "                        file\n",
      "      --pvalcol VAL (as str, required)\n",
      "                        The colname (or name) of p value id in summary\n",
      "                        statistics file\n",
      "  genefeature_1:        To extract the gene features from gene expression data\n",
      "    Workflow Options:\n",
      "      --expr-matrix VAL (as path, required)\n",
      "                        Path to expression matrix file\n",
      "      --meta VAL (as path, required)\n",
      "                        Path to the meta data information tsv file\n",
      "      --anno-file VAL (as path, required)\n",
      "                        Path to the annotation file\n",
      "      --symbol VAL (as path, required)\n",
      "                        Path to the symbol file\n",
      "      --number-pcs 30 (as int)\n",
      "                        Number of PCs applied\n",
      "      --vargenes 1500 (as int)\n",
      "                        Number of features to select as top variable features\n",
      "      --clus-res 0.3 (as float)\n",
      "                        Value of the resolution parameter, use a value above\n",
      "                        (below) 1.0 if you want to obtain a larger (smaller)\n",
      "                        number of communities\n",
      "  genefeature_2:        To merge the gene features from gene expression data\n",
      "                        produced by [genefeature_1] with PPi and pathways\n",
      "                        features\n",
      "    Workflow Options:\n",
      "      --ppath VAL (as path, required)\n",
      "                        This flag gives the prefix for location of the gene\n",
      "                        association results from [magma]\n",
      "  feature_selection:    Feature selection by the GLS model\n",
      "    Workflow Options:\n",
      "      --features VAL (as path, required)\n",
      "                        Path to the gene feature file\n",
      "      --gene-results VAL (as path, required)\n",
      "                        This flag gives the prefix for location of the gene\n",
      "                        association results from [magma]\n",
      "  predict_scores:       Polygenic Priority Score calculation\n",
      "    Workflow Options:\n",
      "      --gene-loc  paths\n",
      "\n",
      "                        Path to the gene location file\n",
      "      --gene-results VAL (as path, required)\n",
      "                        This flag gives the prefix for location of the gene\n",
      "                        association results from [magma]\n",
      "      --features VAL (as path, required)\n",
      "                        Path to the gene feature file\n",
      "      --selected-features VAL (as path, required)\n",
      "                        This flag gives the prefix for the location of the list\n",
      "                        of selected features from [feature_selection]\n",
      "      --control-features VAL (as path, required)\n",
      "                        Path to the list of control fetures\n",
      "      --chromosome VAL (as int, required)\n",
      "                        The index of chromosome for which to compute PoP scores\n",
      "\n"
     ]
    }
   ],
   "source": [
    "sos run pops.ipynb -h"
   ]
  },
  {
   "cell_type": "markdown",
   "id": "9fa38b4d-f022-4a3a-93b0-1c2a82015162",
   "metadata": {
    "kernel": "SoS"
   },
   "source": [
    "## A minimal working example\n",
    "\n",
    "The data can be downloaded from here. The `1000G.EUR.bed/fam/bim` can be found on the cluster folder `/mnt/mfs/statgen/guangyou/data/pops-MWE/`. The dependent R file `utils.R` is still needed under the same folder. The container `pops.sif` can be found on the cluster folder `/mnt/mfs/statgen/guangyou/containers/`."
   ]
  },
  {
   "cell_type": "code",
   "execution_count": 24,
   "id": "4adc5308-b5a7-4cac-99d6-5d296b39b38c",
   "metadata": {
    "kernel": "Bash"
   },
   "outputs": [
    {
     "name": "stdout",
     "output_type": "stream",
     "text": [
      "INFO: Running \u001b[32mmagma\u001b[0m: Get gene-level z scores\n",
      "INFO: \u001b[32mmagma\u001b[0m is \u001b[32mcompleted\u001b[0m.\n",
      "INFO: \u001b[32mmagma\u001b[0m output:   \u001b[32m/home/gl2776/pops/out/AFib-mini.genes.out /home/gl2776/pops/out/AFib-mini.genes.raw\u001b[0m\n",
      "INFO: Workflow magma (ID=w4e092dfe8a302a86) is executed successfully with 1 completed step.\n",
      "\n"
     ]
    }
   ],
   "source": [
    "sos run pops.ipynb magma\\\n",
    "    --cwd ~/pops/code/ \\\n",
    "    --bfile ~/pops/data/1000G.EUR.bed\\\n",
    "    --gene_annot ~/pops/data/magma_0kb.genes.annot\\\n",
    "    --pval ~/pops/data/AFib-mini.tbl\\\n",
    "    --snpcol rs_dbSNP147\\\n",
    "    --pvalcol Pvalue\\\n",
    "    --name human_retina2\\\n",
    "    --container_pops /mnt/mfs/statgen/guangyou/containers/pops.sif\\\n",
    "    --out ~/pops/out/AFib-mini"
   ]
  },
  {
   "cell_type": "code",
   "execution_count": 29,
   "id": "80be4586-1bc0-4851-862c-716c58c8312b",
   "metadata": {
    "kernel": "Bash",
    "tags": []
   },
   "outputs": [
    {
     "name": "stdout",
     "output_type": "stream",
     "text": [
      "INFO: Running \u001b[32mgenefeature_1\u001b[0m: To extract the gene features from gene expression data\n",
      "INFO: \u001b[32mgenefeature_1\u001b[0m is \u001b[32mcompleted\u001b[0m.\n",
      "INFO: \u001b[32mgenefeature_1\u001b[0m output:   \u001b[32m/home/gl2776/pops/out/plots/human_retina2_variablegenes.pdf /home/gl2776/pops/out/plots/human_retina2_pcaelbow.pdf... (10 items)\u001b[0m\n",
      "INFO: Running \u001b[32mgenefeature_2\u001b[0m: To merge the gene features from gene expression data produced by [genefeature_1] with PPi and pathways features\n",
      "INFO: \u001b[32mgenefeature_2\u001b[0m is \u001b[32mcompleted\u001b[0m.\n",
      "INFO: \u001b[32mgenefeature_2\u001b[0m output:   \u001b[32m/home/gl2776/pops/out/human_retina2_merge.gene.features.txt /home/gl2776/pops/out/human_retina2_merge.all.features.txt\u001b[0m\n",
      "INFO: Workflow genefeature (ID=wc5510c351a12c662) is executed successfully with 2 completed steps.\n",
      "\n"
     ]
    }
   ],
   "source": [
    "sos run pops.ipynb genefeature\\\n",
    "    --cwd ~/pops/code/ \\\n",
    "    --expr_matrix ~/pops/data/GSE137537_counts.mtx.tsv.gz \\\n",
    "    --meta ~/pops/data/GSE137537_sample_annotations.tsv.gz \\\n",
    "    --anno_file ~/pops/resources/gene_annot_jun10.txt \\\n",
    "    --symbol ~/pops/resources/ensg2symbol.txt \\\n",
    "    --ppath ../data/PoPS.features.ppiandpathways.mini.txt \\\n",
    "    --container_pops /mnt/mfs/statgen/guangyou/containers/pops.sif \\\n",
    "    --name human_retina2 \\\n",
    "    --out ~/pops/out/"
   ]
  },
  {
   "cell_type": "markdown",
   "id": "c0537468-1e4e-4b67-89c5-e2fc06124247",
   "metadata": {
    "kernel": "Bash",
    "tags": []
   },
   "source": [
    "![image.png](https://github.com/UxxUnet/prototype/blob/main/human_retina2_pcaelbow.pdf.png?raw=true)"
   ]
  },
  {
   "cell_type": "markdown",
   "id": "99fe9d9f-42a0-433b-b7ee-a57f51fdb9ff",
   "metadata": {
    "kernel": "Bash"
   },
   "source": [
    "![image.png](https://github.com/UxxUnet/prototype/blob/main/human_retina2_umap_clusters.pdf.png?raw=true)"
   ]
  },
  {
   "cell_type": "code",
   "execution_count": 30,
   "id": "28903f10-6d15-4c21-9d44-319fba684000",
   "metadata": {
    "kernel": "Bash"
   },
   "outputs": [
    {
     "name": "stdout",
     "output_type": "stream",
     "text": [
      "INFO: Running \u001b[32mfeature_selection\u001b[0m: Feature selection by the GLS model\n",
      "INFO: \u001b[32mfeature_selection\u001b[0m is \u001b[32mcompleted\u001b[0m.\n",
      "INFO: \u001b[32mfeature_selection\u001b[0m output:   \u001b[32m/home/gl2776/pops/out/AFib-mini.features\u001b[0m\n",
      "INFO: Workflow feature_selection (ID=w25d8348e3b77be2e) is executed successfully with 1 completed step.\n",
      "\n"
     ]
    }
   ],
   "source": [
    "sos run pops.ipynb feature_selection\\\n",
    "    --cwd ~/pops/code/\\\n",
    "    --features ~/pops/out/human_retina2_merge.all.features.txt\\\n",
    "    --gene_results ~/pops/out/AFib-mini.genes.out\\\n",
    "    --container_pops /mnt/mfs/statgen/guangyou/containers/pops.sif\\\n",
    "    --name human_retina2\\\n",
    "    --out ~/pops/out/AFib-mini"
   ]
  },
  {
   "cell_type": "code",
   "execution_count": 31,
   "id": "6daca5ff-1da4-47f3-be6a-10bcbfbaae08",
   "metadata": {
    "kernel": "Bash"
   },
   "outputs": [
    {
     "name": "stdout",
     "output_type": "stream",
     "text": [
      "INFO: Running \u001b[32mpredict_scores\u001b[0m: Polygenic Priority Score calculation\n",
      "INFO: \u001b[32mpredict_scores\u001b[0m is \u001b[32mcompleted\u001b[0m.\n",
      "INFO: \u001b[32mpredict_scores\u001b[0m output:   \u001b[32m/home/gl2776/pops/out/AFib-mini.1.results /home/gl2776/pops/out/AFib-mini.1.coefs\u001b[0m\n",
      "INFO: Workflow predict_scores (ID=wc81263bb7891ad8c) is executed successfully with 1 completed step.\n",
      "\n"
     ]
    }
   ],
   "source": [
    "sos run pops.ipynb predict_scores\\\n",
    "    --cwd ~/pops/code/\\\n",
    "    --gene_loc ~/pops/data/gene_loc.txt\\\n",
    "    --gene_results ~/pops/out/AFib-mini.genes.out\\\n",
    "    --features ~/pops/out/human_retina2_merge.all.features.txt\\\n",
    "    --selected_features ~/pops/out/AFib-mini.features\\\n",
    "    --control_features ~/pops/data/control.features\\\n",
    "    --chromosome 1\\\n",
    "    --container_pops /mnt/mfs/statgen/guangyou/containers/pops.sif\\\n",
    "    --name human_retina2\\\n",
    "    --out ~/pops/out/AFib-mini"
   ]
  },
  {
   "cell_type": "code",
   "execution_count": 51,
   "id": "a10b63f9-4cab-454e-8f6a-a6bee42de751",
   "metadata": {
    "kernel": "R",
    "tags": []
   },
   "outputs": [
    {
     "data": {
      "image/png": "[encoded data removed]",
      "text/plain": [
       "plot without title"
      ]
     },
     "metadata": {
      "image/png": {
       "height": 420,
       "width": 420
      }
     },
     "output_type": "display_data"
    }
   ],
   "source": [
    "data<-read.table(\"~/pops/out/AFib-mini.1.results\",header=T)\n",
    "plot(data$Score,ylab=\"PoPS\",pch=16)"
   ]
  },
  {
   "cell_type": "code",
   "execution_count": null,
   "id": "e4855736-5eda-4d6d-b6e8-b1e7f94242be",
   "metadata": {
    "kernel": "SoS"
   },
   "outputs": [],
   "source": [
    "[global]\n",
    "# the code directory\n",
    "parameter: cwd = path\n",
    "# A string to identify your analysis run\n",
    "parameter: name = str\n",
    "# Path directory or prefix for output files\n",
    "parameter: out = path\n",
    "# For cluster jobs, number commands to run per job\n",
    "parameter: job_size = 1\n",
    "# Wall clock time expected\n",
    "parameter: walltime = \"5h\"\n",
    "# Memory expected\n",
    "parameter: mem = \"16G\"\n",
    "# Number of threads\n",
    "parameter: numThreads = 20\n",
    "# Software container option\n",
    "parameter: container_pops = 'guangyou/pops:1.0.0'\n",
    "cwd = f\"{cwd:a}\""
   ]
  },
  {
   "cell_type": "code",
   "execution_count": null,
   "id": "f7c9bba4-4c97-4ead-bf4e-c2467f01a85e",
   "metadata": {
    "kernel": "SoS",
    "tags": []
   },
   "outputs": [],
   "source": [
    "# Get gene-level z scores\n",
    "[magma]\n",
    "# Path of the plink format file set for the reference panel, including .bed/.fam/.bim\n",
    "parameter: bfile = paths\n",
    "# Path to MAGMA gene annotation file\n",
    "parameter: gene_annot = path\n",
    "# Path to summary statistics file\n",
    "parameter: pval = path\n",
    "# The colname (or name) of SNP id in summary statistics file\n",
    "parameter: snpcol = str\n",
    "# The colname (or name) of p value id in summary statistics file\n",
    "parameter: pvalcol = str\n",
    "# Path prefix for output. MAGMA will append .genes.out and .genes.raw to this prefix.\n",
    "parameter: out = path\n",
    "input: bfile, gene_annot, pval\n",
    "output: f'{out}.genes.out', f'{out}.genes.raw'\n",
    "task: trunk_workers = 1, walltime = '10h', mem = '30G', cores = numThreads, tags = f'{step_name}_{_output:bn}'\n",
    "bash: container=container_pops, expand= \"${ }\", stderr = f'{out:d}/{name}_magma.stderr', stdout = f'{out:d}/{name}_magma.stdout' \n",
    "    n=$(wc -l < ${_input[2]:r})\n",
    "\n",
    "    magma \\\n",
    "      --bfile ${_input[0]:n} \\\n",
    "      --gene-annot ${_input[1]:r} \\\n",
    "      --pval  ${_input[2]:r} use=${snpcol},${pvalcol} N=$n \\\n",
    "      --gene-model snp-wise=mean \\\n",
    "      --out ${_output[0]:nn} "
   ]
  },
  {
   "cell_type": "code",
   "execution_count": 13,
   "id": "b0cd9daa-2906-4a46-bd62-874f0c8ae227",
   "metadata": {
    "kernel": "SoS"
   },
   "outputs": [],
   "source": [
    "# To extract the gene features from gene expression data \n",
    "[genefeature_1]\n",
    "# Path to expression matrix file\n",
    "parameter: expr_matrix = path\n",
    "# Path to the meta data information tsv file \n",
    "parameter: meta = path\n",
    "# Path to the annotation file \n",
    "parameter: anno_file = path\n",
    "# Path to the symbol file \n",
    "parameter: symbol = path\n",
    "# A string to identify your analysis run\n",
    "parameter: name = str\n",
    "# Number of PCs applied\n",
    "parameter: number_pcs = 30\n",
    "# Number of features to select as top variable features\n",
    "parameter: vargenes = 1500\n",
    "# Value of the resolution parameter, use a value above (below) 1.0 if you want to obtain a larger (smaller) number of communities\n",
    "parameter: clus_res = 0.3\n",
    "# Path prefix for output. MAGMA will append .genes.out and .genes.raw to this prefix.\n",
    "parameter: out = path\n",
    "input: expr_matrix, meta, anno_file, symbol\n",
    "output: f'{out}/plots/{name}_variablegenes.pdf',\n",
    "        f'{out}/plots/{name}_pcaelbow.pdf',\n",
    "        f'{out}/plots/{name}_umap_clusters.pdf',\n",
    "        f'{out}/plots/{name}_umap_clusters_pre_def.pdf',\n",
    "        f'{out}/plots/{name}_umap_pcs.pdf',\n",
    "        f'{out}/plots/{name}_umap_ics.pdf',\n",
    "        f'{out}/plots/{name}_umap_knownmarkers.pdf',\n",
    "        f'{out}/plots/{name}_umap_degenes.pdf',\n",
    "        f'{out}/plots/{name}_umap_degenes_pre_def.pdf',\n",
    "        f'{out}/features/{name}_so.rds'\n",
    "task: trunk_workers = 1, walltime = \"10h\", mem = \"24G\", cores = 24, tags = f'{step_name}_{name}'\n",
    "R:  container=container_pops, expand= \"${ }\", stderr = f'{out}/{name}_genefeature_1.stderr', stdout = f'{out}/{name}_genefeature_1.stdout' \n",
    "    library(tidyverse)\n",
    "    library(data.table)\n",
    "    library(BuenColors)\n",
    "    library(Seurat)\n",
    "    library(irlba)\n",
    "    library(Matrix)\n",
    "    library(future)\n",
    "    library(reticulate)\n",
    "    library(ggrastr)\n",
    "    library(tidytext)\n",
    "    library(matrixTests)\n",
    "    # Need a function source file, or the code would be too long\n",
    "    source(\"utils.R\")\n",
    "    # Set up parallelization\n",
    "    # Remember to use htop to delete forgotten forks\n",
    "    Sys.setenv(R_FUTURE_FORK_ENABLE = T)\n",
    "    options(future.globals.maxSize = 6 * 2048 * 1024^2)\n",
    "    # plan(strategy = \"multicore\", workers = 32)\n",
    "    name <- \"${name}\"\n",
    "    # Setup dictionary\n",
    "    dir.create(\"${out:r}/plots/\")\n",
    "    dir.create(\"${out:r}/features/\")\n",
    "    # Notes on data:\n",
    "    # Annotations provided. There is a mild batch effeect by method, but correcting it breaks the clustering.\n",
    "    # So we ignore it. Looking at pre-defined clusters, we are clearly still capturing biology.\n",
    "    ### Assumes a sparse dgCMatrix as input\n",
    "    ### Accepts row_id_type = ENSG, ENSMUSG, human_symbol, mouse_symbol\n",
    "    #------------------------------------------------LOAD AND FORMAT DATA-----------------------------------------------#\n",
    "    # Read in data and annotations\n",
    "    mat <- data.frame(fread(${_input[0]:r}), row.names=1) %>%\n",
    "      data.matrix() %>%\n",
    "      Matrix(sparse = TRUE) %>%\n",
    "      as(\"dgCMatrix\")\n",
    "    mat.annot <- data.frame(fread(${_input[1]:r}, header=T), row.names=1)\n",
    "    colnames(mat) <- rownames(mat.annot)\n",
    "\n",
    "    # Convert to ENSG, drop duplicates, and fill in missing genes\n",
    "    mat <- ConvertToENSGAndProcessMatrix(mat, \"human_symbol\", \"${_input[3]:d}\", ${_input[2]:r})\n",
    "\n",
    "    # Load this in in case we need it later\n",
    "    keep <- read.table(${_input[2]:r}, sep = \"\\t\", header = T, stringsAsFactors = F, col.names = c(\"ENSG\", \"symbol\", \"chr\", \"start\", \"end\", \"TSS\"))\n",
    "\n",
    "    #--------------------------------------------------COMPUTE FEATURES-------------------------------------------------#\n",
    "\n",
    "    # Create Seurat object\n",
    "    # min.features determined for each dataset\n",
    "    so <- CreateSeuratObject(counts = mat, project = name, min.features = 200, meta.data = mat.annot)\n",
    "\n",
    "    # Clean up\n",
    "    rm(mat)\n",
    "\n",
    "    # QC\n",
    "    so <- subset(so, \n",
    "                 subset = nFeature_RNA > quantile(so$nFeature_RNA, 0.05) & \n",
    "                   nFeature_RNA < quantile(so$nFeature_RNA, 0.95))\n",
    "    so <- NormalizeData(so, normalization.method = \"LogNormalize\", scale.factor = 1000000)\n",
    "    so <- ScaleData(so, min.cells.to.block = 1, block.size = 500)\n",
    "\n",
    "    # Identify variable genes\n",
    "    so <- FindVariableFeatures(so, nfeatures = ${vargenes})\n",
    "\n",
    "    # Plot variable genes with and without labels\n",
    "    PlotAndSaveHVG(so, ${_output[0]:r})\n",
    "    \n",
    "    # Run PCA\n",
    "    so <- RunPCA(so, npcs = 100)\n",
    "    # Project PCA to all genes\n",
    "    so <- ProjectDim(so, do.center = T)\n",
    "    # Plot Elbow\n",
    "    PlotAndSavePCAElbow(so, 100, ${_output[1]:r})\n",
    "\n",
    "    # Run ICA\n",
    "    so <- RunICA(so, nics = ${number_pcs})\n",
    "    # Project ICA to all genes\n",
    "    so <- ProjectDim(so, reduction = \"ica\", do.center = T)\n",
    "\n",
    "    # Cluster cells\n",
    "    so <- FindNeighbors(so, dims = 1:${number_pcs}, nn.eps = 0)\n",
    "    so <- FindClusters(so, resolution = ${clus_res}, n.start = 100)\n",
    "\n",
    "    # UMAP dim reduction\n",
    "    so <- RunUMAP(so, dims = 1:${number_pcs}, min.dist = 0.4, n.epochs = 500,\n",
    "                  n.neighbors = 10, learning.rate = 0.1, spread = 2)\n",
    "\n",
    "    # Plot UMAP clusters\n",
    "    PlotAndSaveUMAPClusters(so, so@meta.data$seurat_clusters, ${_output[2]:r})\n",
    "    # Plot known clusters on UMAP (if applicable)\n",
    "    PlotAndSaveUMAPClusters(so, so@meta.data$Labels, ${_output[3]:r})\n",
    "\n",
    "    # Plot PCs on UMAP\n",
    "    PlotAndSavePCsOnUMAP(so, ${_output[4]:r})\n",
    "    # Plot ICs on UMAP\n",
    "    PlotAndSaveICsOnUMAP(so, ${_output[5]:r})\n",
    "    # Plot known marker genes on UMAP \n",
    "    marker_genes <- c(\"PDE6A\", \"PPEF2\", \"NR2E3\", \"GNAT2\", \"OPN1MW\", \"OPN1LW\", \"NEFM\", \"NEFM\", \"SNCG\", \"CAD1\", \"C1QL2\", \"LHX1\", \"CLU\", \"CLUL\", \"APOE\", \"TMEM119\", \"AIF1\", \"CD163\", \"ADAMTS9\", \"CD34\", \"CDH5\", \"RGS5\")\n",
    "    PlotAndSaveKnownMarkerGenesOnUMAP(so, keep, marker_genes, ${_output[6]:r})\n",
    "  \n",
    "    # Save global features\n",
    "    featurepathprefix=paste0(\"${out}/features/\",\"${name}\",\"_\")\n",
    "    SaveGlobalFeatures(so, featurepathprefix)\n",
    "\n",
    "    # Compute any cluster dependent features (DE genes, within-cluster PCs, etc.) and save them\n",
    "    # Seurat clusters\n",
    "    Idents(object=so) <- \"seurat_clusters\"\n",
    "    clus <- levels(so@meta.data$seurat_clusters)\n",
    "    demarkers <- WithinClusterFeatures(so, \"seurat_clusters\", clus, featurepathprefix)\n",
    "\n",
    "    # Pre-defined cluster dependent features (if applicable)\n",
    "    Idents(object=so) <- \"Labels\"\n",
    "    clus <- unique(so@meta.data$Labels)\n",
    "    demarkers_pre_def <- WithinClusterFeatures(so, \"Labels\", clus, featurepathprefix, suffix = \"_pre_def\")\n",
    "    \n",
    "    # Plot DE genes on UMAP\n",
    "    PlotAndSaveDEGenesOnUMAP(so, demarkers, ${_output[7]:r}, height = 15, rank_by_tstat = TRUE)\n",
    "    # Plot DE genes from pre-defined clusters on UMAP (if applicable)\n",
    "    PlotAndSaveDEGenesOnUMAP(so, demarkers_pre_def, ${_output[8]:r}, height = 15, rank_by_tstat = TRUE)\n",
    "\n",
    "    # Save Seurat object\n",
    "    saveRDS(so, ${_output[9]:r})"
   ]
  },
  {
   "cell_type": "code",
   "execution_count": null,
   "id": "26d1a3bc-3586-47c9-a16c-0dad761a6a4e",
   "metadata": {
    "kernel": "SoS"
   },
   "outputs": [],
   "source": [
    "# To merge the gene features from gene expression data produced by [genefeature_1] with PPi and pathways features\n",
    "[genefeature_2]\n",
    "# This flag gives the prefix for location of the gene association results from [magma]\n",
    "parameter: ppath = path\n",
    "input: ppath\n",
    "output: f'{out}/{name}_merge.gene.features.txt',\n",
    "        f'{out}/{name}_merge.all.features.txt'\n",
    "task: trunk_workers = 1, walltime = '10h', mem = '30G', cores = numThreads, tags = f'{step_name}_{_output:bn}'\n",
    "python: container=container_pops, expand= \"${ }\", stderr = f'{out}/{name}_genefeature_2.stderr', stdout = f'{out}/{name}_genefeature_2.stdout' \n",
    "    import pandas as pd\n",
    "    import os \n",
    "    # Gene expression features read in and merge\n",
    "    path=\"${out}/features/\"\n",
    "    name=\"${name}\"\n",
    "    files = [f for f in os.listdir(path) if f.endswith(\".txt\")]\n",
    "    feature_df=pd.read_csv(os.path.join(path,files[0]),sep=\"\\t\")\n",
    "    feature_df=feature_df.add_prefix(\"%s_\"%files[0].split(\".\")[0])\n",
    "    feature_df=feature_df.rename(columns={\"%s_ENSG\"%files[0].split(\".\")[0]:\"ENSG\"})\n",
    "    for i in range(1,len(files)):\n",
    "        x=pd.read_csv(os.path.join(path,files[i]),sep=\"\\t\")\n",
    "        x=x.add_prefix(\"%s_\"%files[i].split(\".\")[0])\n",
    "        x=x.rename(columns={\"%s_ENSG\"%files[i].split(\".\")[0]:\"ENSG\"})\n",
    "        feature_df=feature_df.merge(x, on='ENSG', how='inner')\n",
    "    feature_df=feature_df.rename(columns={\"ENSG\":\"ENSGID\"})\n",
    "    feature_df.to_csv(${_output[0]:r},sep=\"\\t\",index=False)\n",
    "    # PPI and Pathways features read in and merge\n",
    "    ppath=${_input:r}\n",
    "    pfeatures=pd.read_csv(os.path.join(ppath),sep=\"\\t\")\n",
    "    feature_df=feature_df.merge(pfeatures, on='ENSGID', how='inner')\n",
    "    feature_df.to_csv(${_output[1]:r},sep=\"\\t\",index=False)"
   ]
  },
  {
   "cell_type": "code",
   "execution_count": null,
   "id": "90fa0001-baff-4ca0-9d06-2c9c5bd9a7fe",
   "metadata": {
    "kernel": "SoS",
    "tags": []
   },
   "outputs": [],
   "source": [
    "# Feature selection by the GLS model\n",
    "[feature_selection]\n",
    "# Path to the gene feature file\n",
    "parameter: features = path\n",
    "# This flag gives the prefix for location of the gene association results from [magma]\n",
    "parameter: gene_results = path\n",
    "# Path prefix for output. It will append .features to this prefix.\n",
    "parameter: out = path\n",
    "input: features, gene_results\n",
    "output: f'{out}.features'\n",
    "task: trunk_workers = 1, walltime = '10h', mem = '20G', cores = numThreads, tags = f'{step_name}_{_output:bn}'\n",
    "bash: container=container_pops, expand= \"${ }\", stderr = f'{out:d}/{name}_feature_selection.stderr', stdout = f'{out:d}/{name}_feature_selection.stdout' \n",
    "    pops.feature_selection.py\\\n",
    "      --features ${_input[0]:r}\\\n",
    "      --gene_results ${_input[1]:nn}\\\n",
    "      --out ${_output:n}"
   ]
  },
  {
   "cell_type": "code",
   "execution_count": null,
   "id": "a772229c-9d91-46e9-98fd-558c9096497f",
   "metadata": {
    "kernel": "SoS"
   },
   "outputs": [],
   "source": [
    "# Polygenic Priority Score calculation\n",
    "[predict_scores]\n",
    "# Path to the gene location file \n",
    "parameter: gene_loc = paths\n",
    "# This flag gives the prefix for location of the gene association results from [magma]\n",
    "parameter: gene_results = path\n",
    "# Path to the gene feature file\n",
    "parameter: features = path\n",
    "# This flag gives the prefix for the location of the list of selected features from [feature_selection]\n",
    "parameter: selected_features = path\n",
    "# Path to the list of control fetures\n",
    "parameter: control_features = path\n",
    "# The index of chromosome for which to compute PoP scores\n",
    "parameter: chromosome = int\n",
    "input: gene_loc, gene_results, features, selected_features, control_features\n",
    "output: f'{out}.{chromosome}.results',f'{out}.{chromosome}.coefs'\n",
    "task: trunk_workers = 1, walltime = '10h', mem = '30G', cores = numThreads, tags = f'{step_name}_{_output:bn}'\n",
    "bash: container=container_pops, expand= \"${ }\", stderr = f'{out:d}/{name}_predict_scores.stderr', stdout = f'{out:d}/{name}_predict_scores.stdout'\n",
    "    pops.predict_scores.py\\\n",
    "      --gene_loc ${_input[0]:r}\\\n",
    "      --gene_results ${_input[1]:nn}\\\n",
    "      --features ${_input[2]:r}\\\n",
    "      --selected_features ${_input[3]:r}\\\n",
    "      --control_features ${_input[4]:r}\\\n",
    "      --chromosome ${chromosome}\\\n",
    "      --out ${_output[0]:nn}"
   ]
  }
 ],
 "metadata": {
  "kernelspec": {
   "display_name": "SoS",
   "language": "sos",
   "name": "sos"
  },
  "language_info": {
   "codemirror_mode": "sos",
   "file_extension": ".sos",
   "mimetype": "text/x-sos",
   "name": "sos",
   "nbconvert_exporter": "sos_notebook.converter.SoS_Exporter",
   "pygments_lexer": "sos"
  },
  "sos": {
   "kernels": [
    [
     "Bash",
     "calysto_bash",
     "Bash",
     "#E6EEFF",
     ""
    ],
    [
     "R",
     "ir",
     "R",
     "#DCDCDA",
     "r"
    ],
    [
     "SoS",
     "sos",
     "",
     "",
     "sos"
    ]
   ],
   "version": "0.22.3"
  }
 },
 "nbformat": 4,
 "nbformat_minor": 5
}
