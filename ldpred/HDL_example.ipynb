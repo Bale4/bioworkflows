{
 "cells": [
  {
   "cell_type": "markdown",
   "id": "integral-secondary",
   "metadata": {
    "kernel": "SoS"
   },
   "source": [
    "# HDL PRS example\n",
    "\n",
    "Here we show an example of our pipeline for HDL PRS on UK Biobank samples."
   ]
  },
  {
   "cell_type": "markdown",
   "id": "million-purpose",
   "metadata": {
    "kernel": "SoS"
   },
   "source": [
    "## Data used"
   ]
  },
  {
   "cell_type": "markdown",
   "id": "parliamentary-sitting",
   "metadata": {
    "kernel": "SoS"
   },
   "source": [
    "### Reference panel\n",
    "\n",
    "Obtained via `download_1000G()` in `bigsnpr`. \n",
    "\n",
    "Including 503 (mostly unrelated) European individuals and ~1.7M SNPs in common with either HapMap3 or the UK Biobank. Classification of European population can be found at [IGSR](https://www.internationalgenome.org/category/population/). European individuals ID are from [IGSR data portal](https://www.internationalgenome.org/data-portal/sample).\n",
    "\n",
    "### GWAS summary statistics data\n",
    "\n",
    "From MVP. We have the original GWAS summary data as well as multivariate posterior estimate of HDL effects using [mashr](https://github.com/stephenslab/mashr). In brief, we have two versions of summary statistics (effect estimates) for HDL.\n",
    "\n",
    "### Target test data: UK biobank\n",
    "\n",
    "We select randomly from UK Biobank 2000 individuals with covariates and HDL phenotype (medication adjusted, inverse normalized). Their genotypes are extracted. See `UKB.QC.*` PLINK file bundle. \n",
    "\n",
    "### PRS Models\n",
    "\n",
    "Auto model runs the algorithm for 30 different $p$ (the proportion of causal variants) values range from 10e-4 to 0.9, and heritability $h^2$ from LD score regression as initial value.\n",
    "\n",
    "Grid model tries a grid of parameters $p$, ranges from 0 to 1 and three $h^2$ which are 0.7/1/1.4 times of initial $h^2$ estimated by LD score regression.\n",
    "\n",
    "## Test genotype data preparation\n",
    "\n",
    "Use `awk` select columns in phenotypes file saved to traits file `UKB.hdl.cov` and covariates file `UKB.ind.cov`."
   ]
  },
  {
   "cell_type": "code",
   "execution_count": 1,
   "id": "female-portal",
   "metadata": {
    "kernel": "R"
   },
   "outputs": [],
   "source": [
    "fam_UKB <- read.table(\"ukbiobank/UKB.fam\", header = F, stringsAsFactors = F)\n",
    "colnames(fam_UKB)=c(\"FID\",\"IID\",\"paternal.ID\",\"maternal.ID\",\"sex\",\"affection\")\n",
    "covariates <- read.table(\"ukbiobank/UKBCauc_cholesterolandbloodpressurefields_inverseranknorm_covariatesage_sex_alcohol_smokingpackyears_foranalysis\", header = T, stringsAsFactors = F)\n",
    "suppressMessages(library(tidyverse))\n",
    "\n",
    "set.seed(2021)\n",
    "covariate = covariates %>%\n",
    "    drop_na() %>%\n",
    "    filter(FID %in% sample(FID,2000))\n",
    "    \n",
    "covariate = covariate[order(covariate[,1]),]\n",
    "\n",
    "fam_UKB = fam_UKB %>% filter(FID %in% covariate$FID)\n",
    "fam_UKB = fam_UKB[order(covariate[,1]),]\n",
    "colnames(fam_UKB)<-NULL\n",
    "\n",
    "write.table(covariate, file = \"ukbiobank/UKB.cov\", sep = \" \", \n",
    "            row.names = F, col.names = T,)\n",
    "write.table(fam_UKB, file = \"ukbiobank/UKB.QC.fam\", sep = \" \", \n",
    "            row.names = FALSE, col.names = FALSE)"
   ]
  },
  {
   "cell_type": "code",
   "execution_count": null,
   "id": "hindu-imaging",
   "metadata": {
    "kernel": "Bash"
   },
   "outputs": [],
   "source": [
    "cd ukbiobank\n",
    "awk '{print $3, $4}' UKB.cov > UKB.ind.cov\n",
    "awk '{print $14}' UKB.cov > UKB.hdl.cov\n",
    "cd .."
   ]
  },
  {
   "cell_type": "markdown",
   "id": "statutory-print",
   "metadata": {
    "kernel": "Bash"
   },
   "source": [
    "We only want to focus on 2000 selected samples in UKB as target data. Below we extract this subset,"
   ]
  },
  {
   "cell_type": "code",
   "execution_count": null,
   "id": "herbal-guyana",
   "metadata": {
    "kernel": "Bash"
   },
   "outputs": [],
   "source": [
    "sos run ldpred.ipynb snp_qc \\\n",
    "    --cwd output \\\n",
    "    --genoFile  /path/to/full/UKB.bed \\\n",
    "    --keep-samples /path/to/UKB.QC.fam \\\n",
    "    --name 2000_subset"
   ]
  },
  {
   "cell_type": "markdown",
   "id": "governing-yorkshire",
   "metadata": {
    "kernel": "Bash"
   },
   "source": [
    "## Summary statistics data preparation"
   ]
  },
  {
   "cell_type": "code",
   "execution_count": 3,
   "id": "inappropriate-provider",
   "metadata": {
    "kernel": "R"
   },
   "outputs": [
    {
     "name": "stderr",
     "output_type": "stream",
     "text": [
      "── \u001b[1mAttaching packages\u001b[22m ─────────────────────────────────────── tidyverse 1.3.0 ──\n",
      "\n",
      "\u001b[32m✔\u001b[39m \u001b[34mggplot2\u001b[39m 3.3.3     \u001b[32m✔\u001b[39m \u001b[34mpurrr  \u001b[39m 0.3.4\n",
      "\u001b[32m✔\u001b[39m \u001b[34mtibble \u001b[39m 3.0.5     \u001b[32m✔\u001b[39m \u001b[34mdplyr  \u001b[39m 1.0.2\n",
      "\u001b[32m✔\u001b[39m \u001b[34mtidyr  \u001b[39m 1.0.3     \u001b[32m✔\u001b[39m \u001b[34mstringr\u001b[39m 1.4.0\n",
      "\u001b[32m✔\u001b[39m \u001b[34mreadr  \u001b[39m 1.3.1     \u001b[32m✔\u001b[39m \u001b[34mforcats\u001b[39m 0.5.0\n",
      "\n",
      "── \u001b[1mConflicts\u001b[22m ────────────────────────────────────────── tidyverse_conflicts() ──\n",
      "\u001b[31m✖\u001b[39m \u001b[34mdplyr\u001b[39m::\u001b[32mfilter()\u001b[39m masks \u001b[34mstats\u001b[39m::filter()\n",
      "\u001b[31m✖\u001b[39m \u001b[34mdplyr\u001b[39m::\u001b[32mlag()\u001b[39m    masks \u001b[34mstats\u001b[39m::lag()\n",
      "\n"
     ]
    }
   ],
   "source": [
    "library(tidyverse)"
   ]
  },
  {
   "cell_type": "code",
   "execution_count": 14,
   "id": "several-replica",
   "metadata": {
    "kernel": "R"
   },
   "outputs": [],
   "source": [
    "format_data <- function(sums, chrpos, prefix) {\n",
    "  sums = inner_join(sums, chrpos, by = c(\"chr\",\"pos\")) %>% select(chr, pos, rsid, a0, a1, everything())\n",
    "  \n",
    "  print(\"inner join completed\")\n",
    "  \n",
    "  sumstats_hdl  = sums %>% \n",
    "    select(chr, pos, rsid, a0,a1, hdl, hdl_se) %>% \n",
    "    rename(beta = hdl,\n",
    "          beta_se = hdl_se) %>% \n",
    "    mutate(n_eff = 200000)\n",
    "  \n",
    "  print(\"finish hdl\")\n",
    "  \n",
    "  sumstats_ldl  = sums %>% \n",
    "   select(chr, pos, rsid, a0, a1, ldl, ldl_se) %>% \n",
    "    rename(beta = ldl,\n",
    "          beta_se = ldl_se) %>% \n",
    "    mutate(n_eff = 200000)\n",
    "  \n",
    "  print(\"finish ldl\")\n",
    "\n",
    "  sumstats_tc  = sums %>% \n",
    "    select(chr, pos, rsid, a0,a1, tc, tc_se) %>% \n",
    "    rename(beta = tc,\n",
    "          beta_se = tc_se) %>% \n",
    "    mutate(n_eff = 200000)\n",
    "  \n",
    "  print(\"finish tc\")\n",
    "\n",
    "  sumstats_tg  = sums %>% \n",
    "    select(chr, pos, rsid, a0,a1, tg, tg_se) %>% \n",
    "    rename(beta = tg,\n",
    "          beta_se = tg_se) %>% \n",
    "    mutate(n_eff = 200000)\n",
    "  \n",
    "  print(\"finish tg\")\n",
    "  \n",
    "  print(\"data ready to save\")\n",
    "    saveRDS(sumstats_hdl, file = paste0(prefix, \"_hdl.rds\"))\n",
    "    saveRDS(sumstats_ldl, file = paste0(prefix, \"_ldl.rds\"))\n",
    "    saveRDS(sumstats_tc, file = paste0(prefix, \"_tc.rds\"))\n",
    "    saveRDS(sumstats_tg, file = paste0(prefix, \"_tg.rds\"))  \n",
    "}"
   ]
  },
  {
   "cell_type": "code",
   "execution_count": 4,
   "id": "dietary-strand",
   "metadata": {
    "kernel": "R"
   },
   "outputs": [
    {
     "name": "stderr",
     "output_type": "stream",
     "text": [
      "Warning message in data.table::fread(input, ..., data.table = data.table, nThread = nThread):\n",
      "“Detected 7 column names but the data has 8 columns (i.e. invalid file). Added 1 extra default column name for the first column which is guessed to be row names or an index. Use setnames() afterwards if this guess is not correct, or fix the file write command that created the file to create a valid file.”\n"
     ]
    },
    {
     "data": {
      "text/html": [
       "<table>\n",
       "<caption>A data.frame: 6 × 8</caption>\n",
       "<thead>\n",
       "\t<tr><th></th><th scope=col>V1</th><th scope=col>Allele1</th><th scope=col>Allele2</th><th scope=col>rsID</th><th scope=col>hdl</th><th scope=col>ldl</th><th scope=col>tg</th><th scope=col>tc</th></tr>\n",
       "\t<tr><th></th><th scope=col>&lt;chr&gt;</th><th scope=col>&lt;chr&gt;</th><th scope=col>&lt;chr&gt;</th><th scope=col>&lt;chr&gt;</th><th scope=col>&lt;dbl&gt;</th><th scope=col>&lt;dbl&gt;</th><th scope=col>&lt;dbl&gt;</th><th scope=col>&lt;dbl&gt;</th></tr>\n",
       "</thead>\n",
       "<tbody>\n",
       "\t<tr><th scope=row>1</th><td>1:748332</td><td>T</td><td>C</td><td>rs182373484</td><td>0.5109300</td><td>0.3644157</td><td>0.5689165</td><td>0.3591687</td></tr>\n",
       "\t<tr><th scope=row>2</th><td>1:751343</td><td>A</td><td>T</td><td>rs28544273 </td><td>0.4295461</td><td>0.5213810</td><td>0.4557329</td><td>0.5505538</td></tr>\n",
       "\t<tr><th scope=row>3</th><td>1:751756</td><td>T</td><td>C</td><td>rs143225517</td><td>0.4322768</td><td>0.5181581</td><td>0.4569321</td><td>0.5463038</td></tr>\n",
       "\t<tr><th scope=row>4</th><td>1:752566</td><td>A</td><td>G</td><td>rs3094315  </td><td>0.5774074</td><td>0.6145746</td><td>0.5934880</td><td>0.6117367</td></tr>\n",
       "\t<tr><th scope=row>5</th><td>1:752721</td><td>A</td><td>G</td><td>rs3131972  </td><td>0.5833319</td><td>0.5641637</td><td>0.5950461</td><td>0.5602104</td></tr>\n",
       "\t<tr><th scope=row>6</th><td>1:753405</td><td>A</td><td>C</td><td>rs3115860  </td><td>0.4092361</td><td>0.4824255</td><td>0.4297362</td><td>0.5109667</td></tr>\n",
       "</tbody>\n",
       "</table>\n"
      ],
      "text/latex": [
       "A data.frame: 6 × 8\n",
       "\\begin{tabular}{r|llllllll}\n",
       "  & V1 & Allele1 & Allele2 & rsID & hdl & ldl & tg & tc\\\\\n",
       "  & <chr> & <chr> & <chr> & <chr> & <dbl> & <dbl> & <dbl> & <dbl>\\\\\n",
       "\\hline\n",
       "\t1 & 1:748332 & T & C & rs182373484 & 0.5109300 & 0.3644157 & 0.5689165 & 0.3591687\\\\\n",
       "\t2 & 1:751343 & A & T & rs28544273  & 0.4295461 & 0.5213810 & 0.4557329 & 0.5505538\\\\\n",
       "\t3 & 1:751756 & T & C & rs143225517 & 0.4322768 & 0.5181581 & 0.4569321 & 0.5463038\\\\\n",
       "\t4 & 1:752566 & A & G & rs3094315   & 0.5774074 & 0.6145746 & 0.5934880 & 0.6117367\\\\\n",
       "\t5 & 1:752721 & A & G & rs3131972   & 0.5833319 & 0.5641637 & 0.5950461 & 0.5602104\\\\\n",
       "\t6 & 1:753405 & A & C & rs3115860   & 0.4092361 & 0.4824255 & 0.4297362 & 0.5109667\\\\\n",
       "\\end{tabular}\n"
      ],
      "text/markdown": [
       "\n",
       "A data.frame: 6 × 8\n",
       "\n",
       "| <!--/--> | V1 &lt;chr&gt; | Allele1 &lt;chr&gt; | Allele2 &lt;chr&gt; | rsID &lt;chr&gt; | hdl &lt;dbl&gt; | ldl &lt;dbl&gt; | tg &lt;dbl&gt; | tc &lt;dbl&gt; |\n",
       "|---|---|---|---|---|---|---|---|---|\n",
       "| 1 | 1:748332 | T | C | rs182373484 | 0.5109300 | 0.3644157 | 0.5689165 | 0.3591687 |\n",
       "| 2 | 1:751343 | A | T | rs28544273  | 0.4295461 | 0.5213810 | 0.4557329 | 0.5505538 |\n",
       "| 3 | 1:751756 | T | C | rs143225517 | 0.4322768 | 0.5181581 | 0.4569321 | 0.5463038 |\n",
       "| 4 | 1:752566 | A | G | rs3094315   | 0.5774074 | 0.6145746 | 0.5934880 | 0.6117367 |\n",
       "| 5 | 1:752721 | A | G | rs3131972   | 0.5833319 | 0.5641637 | 0.5950461 | 0.5602104 |\n",
       "| 6 | 1:753405 | A | C | rs3115860   | 0.4092361 | 0.4824255 | 0.4297362 | 0.5109667 |\n",
       "\n"
      ],
      "text/plain": [
       "  V1       Allele1 Allele2 rsID        hdl       ldl       tg        tc       \n",
       "1 1:748332 T       C       rs182373484 0.5109300 0.3644157 0.5689165 0.3591687\n",
       "2 1:751343 A       T       rs28544273  0.4295461 0.5213810 0.4557329 0.5505538\n",
       "3 1:751756 T       C       rs143225517 0.4322768 0.5181581 0.4569321 0.5463038\n",
       "4 1:752566 A       G       rs3094315   0.5774074 0.6145746 0.5934880 0.6117367\n",
       "5 1:752721 A       G       rs3131972   0.5833319 0.5641637 0.5950461 0.5602104\n",
       "6 1:753405 A       C       rs3115860   0.4092361 0.4824255 0.4297362 0.5109667"
      ]
     },
     "metadata": {},
     "output_type": "display_data"
    },
    {
     "data": {
      "text/html": [
       "<table>\n",
       "<caption>A data.frame: 6 × 5</caption>\n",
       "<thead>\n",
       "\t<tr><th></th><th scope=col>chr</th><th scope=col>pos</th><th scope=col>rsid</th><th scope=col>a0</th><th scope=col>a1</th></tr>\n",
       "\t<tr><th></th><th scope=col>&lt;dbl&gt;</th><th scope=col>&lt;dbl&gt;</th><th scope=col>&lt;chr&gt;</th><th scope=col>&lt;chr&gt;</th><th scope=col>&lt;chr&gt;</th></tr>\n",
       "</thead>\n",
       "<tbody>\n",
       "\t<tr><th scope=row>1</th><td>1</td><td>748332</td><td>rs182373484</td><td>T</td><td>C</td></tr>\n",
       "\t<tr><th scope=row>2</th><td>1</td><td>751343</td><td>rs28544273 </td><td>A</td><td>T</td></tr>\n",
       "\t<tr><th scope=row>3</th><td>1</td><td>751756</td><td>rs143225517</td><td>T</td><td>C</td></tr>\n",
       "\t<tr><th scope=row>4</th><td>1</td><td>752566</td><td>rs3094315  </td><td>A</td><td>G</td></tr>\n",
       "\t<tr><th scope=row>5</th><td>1</td><td>752721</td><td>rs3131972  </td><td>A</td><td>G</td></tr>\n",
       "\t<tr><th scope=row>6</th><td>1</td><td>753405</td><td>rs3115860  </td><td>A</td><td>C</td></tr>\n",
       "</tbody>\n",
       "</table>\n"
      ],
      "text/latex": [
       "A data.frame: 6 × 5\n",
       "\\begin{tabular}{r|lllll}\n",
       "  & chr & pos & rsid & a0 & a1\\\\\n",
       "  & <dbl> & <dbl> & <chr> & <chr> & <chr>\\\\\n",
       "\\hline\n",
       "\t1 & 1 & 748332 & rs182373484 & T & C\\\\\n",
       "\t2 & 1 & 751343 & rs28544273  & A & T\\\\\n",
       "\t3 & 1 & 751756 & rs143225517 & T & C\\\\\n",
       "\t4 & 1 & 752566 & rs3094315   & A & G\\\\\n",
       "\t5 & 1 & 752721 & rs3131972   & A & G\\\\\n",
       "\t6 & 1 & 753405 & rs3115860   & A & C\\\\\n",
       "\\end{tabular}\n"
      ],
      "text/markdown": [
       "\n",
       "A data.frame: 6 × 5\n",
       "\n",
       "| <!--/--> | chr &lt;dbl&gt; | pos &lt;dbl&gt; | rsid &lt;chr&gt; | a0 &lt;chr&gt; | a1 &lt;chr&gt; |\n",
       "|---|---|---|---|---|---|\n",
       "| 1 | 1 | 748332 | rs182373484 | T | C |\n",
       "| 2 | 1 | 751343 | rs28544273  | A | T |\n",
       "| 3 | 1 | 751756 | rs143225517 | T | C |\n",
       "| 4 | 1 | 752566 | rs3094315   | A | G |\n",
       "| 5 | 1 | 752721 | rs3131972   | A | G |\n",
       "| 6 | 1 | 753405 | rs3115860   | A | C |\n",
       "\n"
      ],
      "text/plain": [
       "  chr pos    rsid        a0 a1\n",
       "1 1   748332 rs182373484 T  C \n",
       "2 1   751343 rs28544273  A  T \n",
       "3 1   751756 rs143225517 T  C \n",
       "4 1   752566 rs3094315   A  G \n",
       "5 1   752721 rs3131972   A  G \n",
       "6 1   753405 rs3115860   A  C "
      ]
     },
     "metadata": {},
     "output_type": "display_data"
    }
   ],
   "source": [
    "chr_pos = bigreadr::fread2(\"mvpdata/chr_pos_allele2_lfsr.txt\")\n",
    "head(chr_pos)\n",
    "\n",
    "chr_pos = chr_pos %>%\n",
    "  extract(V1, into = c(\"chr\", \"pos\"), regex = \"([0-9]+)(\\\\:[0-9]+)\") %>% \n",
    "  mutate(chr = as.numeric(chr),\n",
    "         pos = as.numeric(str_replace(pos, \":\",\"\"))) %>% \n",
    "  rename(a0 = Allele1,\n",
    "         a1 = Allele2,\n",
    "         rsid = rsID) %>% \n",
    "  select(chr,pos,rsid,a0,a1)\n",
    "head(chr_pos)"
   ]
  },
  {
   "cell_type": "code",
   "execution_count": 6,
   "id": "focused-relative",
   "metadata": {
    "kernel": "R"
   },
   "outputs": [
    {
     "name": "stderr",
     "output_type": "stream",
     "text": [
      "Warning message in data.table::fread(input, ..., data.table = data.table, nThread = nThread):\n",
      "“Detected 5 column names but the data has 6 columns (i.e. invalid file). Added 1 extra default column name for the first column which is guessed to be row names or an index. Use setnames() afterwards if this guess is not correct, or fix the file write command that created the file to create a valid file.”\n"
     ]
    }
   ],
   "source": [
    "raw_beta = readRDS(\"mvpdata/zmash_raw_univariate_MVP.rds\")\n",
    "raw_beta_se = bigreadr::fread2(\"mvpdata/Merged_MVP_Full_se_raw.txt\")"
   ]
  },
  {
   "cell_type": "code",
   "execution_count": 8,
   "id": "capital-florist",
   "metadata": {
    "kernel": "R"
   },
   "outputs": [],
   "source": [
    "raw_beta_se = raw_beta_se %>% \n",
    "  data.frame() %>% \n",
    "  rename(marker = m.Marker)\n",
    "raw_beta = raw_beta %>% \n",
    "  data.frame() %>% \n",
    "  mutate(marker = rownames(raw_beta))\n",
    "\n",
    "sumstats = inner_join(raw_beta_se,raw_beta, by = 'marker') %>% \n",
    "  select(marker, hdl,HDLSe,ldl,LDLSe, tg, TGSe, tc, TCSe)\n",
    "\n",
    "colnames(sumstats) = c(\"marker\", \"hdl_z\", \"hdl_se\", \"ldl_z\", \"ldl_se\", \"tg_z\", \"tg_se\", \"tc_z\", \"tc_se\")\n",
    "\n",
    "sumstats = sumstats %>%\n",
    "  extract(marker, into = c(\"chr\", \"pos\"), regex = \"([0-9]+)(\\\\:[0-9]+)\") %>% \n",
    "  mutate(chr = as.numeric(chr),\n",
    "         pos = as.numeric(str_replace(pos, \":\",\"\")))"
   ]
  },
  {
   "cell_type": "code",
   "execution_count": null,
   "id": "tender-optimization",
   "metadata": {
    "kernel": "R"
   },
   "outputs": [],
   "source": [
    "# adjust the input GWAS summary stats to get bhat from z-scores\n",
    "sumstats = sumstats %>% \n",
    "  mutate(hdl = hdl_z*hdl_se,\n",
    "        ldl = ldl_z*ldl_se,\n",
    "        tc = tc_z*tc_se,\n",
    "        tg = tg_z*tg_se) %>% \n",
    "  select(-hdl_z,-ldl_z, -tc_z, -tg_z)"
   ]
  },
  {
   "cell_type": "code",
   "execution_count": 16,
   "id": "italian-thinking",
   "metadata": {
    "kernel": "R"
   },
   "outputs": [
    {
     "name": "stdout",
     "output_type": "stream",
     "text": [
      "[1] \"inner join completed\"\n",
      "[1] \"finish hdl\"\n",
      "[1] \"finish ldl\"\n",
      "[1] \"finish tc\"\n",
      "[1] \"finish tg\"\n",
      "[1] \"data ready to save\"\n"
     ]
    }
   ],
   "source": [
    "format_data(sumstats, chr_pos, \"mvpdata/gwas\")"
   ]
  },
  {
   "cell_type": "code",
   "execution_count": 17,
   "id": "liked-commitment",
   "metadata": {
    "kernel": "R"
   },
   "outputs": [
    {
     "name": "stderr",
     "output_type": "stream",
     "text": [
      "Warning message in data.table::fread(input, ..., data.table = data.table, nThread = nThread):\n",
      "“Detected 4 column names but the data has 5 columns (i.e. invalid file). Added 1 extra default column name for the first column which is guessed to be row names or an index. Use setnames() afterwards if this guess is not correct, or fix the file write command that created the file to create a valid file.”\n",
      "Warning message in data.table::fread(input, ..., data.table = data.table, nThread = nThread):\n",
      "“Detected 4 column names but the data has 5 columns (i.e. invalid file). Added 1 extra default column name for the first column which is guessed to be row names or an index. Use setnames() afterwards if this guess is not correct, or fix the file write command that created the file to create a valid file.”\n"
     ]
    }
   ],
   "source": [
    "pos_raw_beta = bigreadr::fread2(\"mvpdata/MVP_all_beta_posterior_beta.txt\")\n",
    "pos_raw_beta_se = bigreadr::fread2(\"mvpdata/posterior_beta_se.txt\")\n",
    "\n",
    "colnames(pos_raw_beta)=c(\"marker\", \"hdl\",\"ldl\",\"tg\",\"tc\")\n",
    "colnames(pos_raw_beta_se)=c(\"marker\", \"hdl_se\",\"ldl_se\",\"tg_se\",\"tc_se\")"
   ]
  },
  {
   "cell_type": "code",
   "execution_count": 18,
   "id": "arranged-california",
   "metadata": {
    "kernel": "R"
   },
   "outputs": [
    {
     "data": {
      "text/html": [
       "<table>\n",
       "<caption>A data.frame: 6 × 5</caption>\n",
       "<thead>\n",
       "\t<tr><th></th><th scope=col>marker</th><th scope=col>hdl</th><th scope=col>ldl</th><th scope=col>tg</th><th scope=col>tc</th></tr>\n",
       "\t<tr><th></th><th scope=col>&lt;chr&gt;</th><th scope=col>&lt;dbl&gt;</th><th scope=col>&lt;dbl&gt;</th><th scope=col>&lt;dbl&gt;</th><th scope=col>&lt;dbl&gt;</th></tr>\n",
       "</thead>\n",
       "<tbody>\n",
       "\t<tr><th scope=row>1</th><td>1:100000012</td><td> 2.460009e-03</td><td>-0.0001055433</td><td>-0.0019129145</td><td>-0.0001208528</td></tr>\n",
       "\t<tr><th scope=row>2</th><td>1:10000006 </td><td>-6.929132e-05</td><td> 0.0018424284</td><td>-0.0001815899</td><td> 0.0014059207</td></tr>\n",
       "\t<tr><th scope=row>3</th><td>1:100000507</td><td>-8.461508e-03</td><td> 0.0171136365</td><td> 0.0144205721</td><td> 0.0179276152</td></tr>\n",
       "\t<tr><th scope=row>4</th><td>1:100000827</td><td> 3.042258e-03</td><td> 0.0001911716</td><td>-0.0024015024</td><td> 0.0001091159</td></tr>\n",
       "\t<tr><th scope=row>5</th><td>1:100000843</td><td>-1.196533e-03</td><td>-0.0003462751</td><td> 0.0011000920</td><td>-0.0002095452</td></tr>\n",
       "\t<tr><th scope=row>6</th><td>1:100000948</td><td> 1.142429e-02</td><td> 0.0034483668</td><td>-0.0070852939</td><td> 0.0034940914</td></tr>\n",
       "</tbody>\n",
       "</table>\n"
      ],
      "text/latex": [
       "A data.frame: 6 × 5\n",
       "\\begin{tabular}{r|lllll}\n",
       "  & marker & hdl & ldl & tg & tc\\\\\n",
       "  & <chr> & <dbl> & <dbl> & <dbl> & <dbl>\\\\\n",
       "\\hline\n",
       "\t1 & 1:100000012 &  2.460009e-03 & -0.0001055433 & -0.0019129145 & -0.0001208528\\\\\n",
       "\t2 & 1:10000006  & -6.929132e-05 &  0.0018424284 & -0.0001815899 &  0.0014059207\\\\\n",
       "\t3 & 1:100000507 & -8.461508e-03 &  0.0171136365 &  0.0144205721 &  0.0179276152\\\\\n",
       "\t4 & 1:100000827 &  3.042258e-03 &  0.0001911716 & -0.0024015024 &  0.0001091159\\\\\n",
       "\t5 & 1:100000843 & -1.196533e-03 & -0.0003462751 &  0.0011000920 & -0.0002095452\\\\\n",
       "\t6 & 1:100000948 &  1.142429e-02 &  0.0034483668 & -0.0070852939 &  0.0034940914\\\\\n",
       "\\end{tabular}\n"
      ],
      "text/markdown": [
       "\n",
       "A data.frame: 6 × 5\n",
       "\n",
       "| <!--/--> | marker &lt;chr&gt; | hdl &lt;dbl&gt; | ldl &lt;dbl&gt; | tg &lt;dbl&gt; | tc &lt;dbl&gt; |\n",
       "|---|---|---|---|---|---|\n",
       "| 1 | 1:100000012 |  2.460009e-03 | -0.0001055433 | -0.0019129145 | -0.0001208528 |\n",
       "| 2 | 1:10000006  | -6.929132e-05 |  0.0018424284 | -0.0001815899 |  0.0014059207 |\n",
       "| 3 | 1:100000507 | -8.461508e-03 |  0.0171136365 |  0.0144205721 |  0.0179276152 |\n",
       "| 4 | 1:100000827 |  3.042258e-03 |  0.0001911716 | -0.0024015024 |  0.0001091159 |\n",
       "| 5 | 1:100000843 | -1.196533e-03 | -0.0003462751 |  0.0011000920 | -0.0002095452 |\n",
       "| 6 | 1:100000948 |  1.142429e-02 |  0.0034483668 | -0.0070852939 |  0.0034940914 |\n",
       "\n"
      ],
      "text/plain": [
       "  marker      hdl           ldl           tg            tc           \n",
       "1 1:100000012  2.460009e-03 -0.0001055433 -0.0019129145 -0.0001208528\n",
       "2 1:10000006  -6.929132e-05  0.0018424284 -0.0001815899  0.0014059207\n",
       "3 1:100000507 -8.461508e-03  0.0171136365  0.0144205721  0.0179276152\n",
       "4 1:100000827  3.042258e-03  0.0001911716 -0.0024015024  0.0001091159\n",
       "5 1:100000843 -1.196533e-03 -0.0003462751  0.0011000920 -0.0002095452\n",
       "6 1:100000948  1.142429e-02  0.0034483668 -0.0070852939  0.0034940914"
      ]
     },
     "metadata": {},
     "output_type": "display_data"
    }
   ],
   "source": [
    "head(pos_raw_beta)"
   ]
  },
  {
   "cell_type": "code",
   "execution_count": 19,
   "id": "secure-wrist",
   "metadata": {
    "kernel": "R"
   },
   "outputs": [
    {
     "data": {
      "text/html": [
       "<table>\n",
       "<caption>A data.frame: 6 × 5</caption>\n",
       "<thead>\n",
       "\t<tr><th></th><th scope=col>marker</th><th scope=col>hdl_se</th><th scope=col>ldl_se</th><th scope=col>tg_se</th><th scope=col>tc_se</th></tr>\n",
       "\t<tr><th></th><th scope=col>&lt;chr&gt;</th><th scope=col>&lt;dbl&gt;</th><th scope=col>&lt;dbl&gt;</th><th scope=col>&lt;dbl&gt;</th><th scope=col>&lt;dbl&gt;</th></tr>\n",
       "</thead>\n",
       "<tbody>\n",
       "\t<tr><th scope=row>1</th><td>1:100000012</td><td>0.002291870</td><td>0.001469390</td><td>0.001952622</td><td>0.001596889</td></tr>\n",
       "\t<tr><th scope=row>2</th><td>1:10000006 </td><td>0.014067514</td><td>0.011210222</td><td>0.014404394</td><td>0.012153967</td></tr>\n",
       "\t<tr><th scope=row>3</th><td>1:100000507</td><td>0.027183021</td><td>0.028191475</td><td>0.029768057</td><td>0.029389961</td></tr>\n",
       "\t<tr><th scope=row>4</th><td>1:100000827</td><td>0.002307946</td><td>0.001522781</td><td>0.002027389</td><td>0.001655077</td></tr>\n",
       "\t<tr><th scope=row>5</th><td>1:100000843</td><td>0.002689326</td><td>0.002029852</td><td>0.002632001</td><td>0.002180022</td></tr>\n",
       "\t<tr><th scope=row>6</th><td>1:100000948</td><td>0.014627076</td><td>0.010156359</td><td>0.012015341</td><td>0.010786769</td></tr>\n",
       "</tbody>\n",
       "</table>\n"
      ],
      "text/latex": [
       "A data.frame: 6 × 5\n",
       "\\begin{tabular}{r|lllll}\n",
       "  & marker & hdl\\_se & ldl\\_se & tg\\_se & tc\\_se\\\\\n",
       "  & <chr> & <dbl> & <dbl> & <dbl> & <dbl>\\\\\n",
       "\\hline\n",
       "\t1 & 1:100000012 & 0.002291870 & 0.001469390 & 0.001952622 & 0.001596889\\\\\n",
       "\t2 & 1:10000006  & 0.014067514 & 0.011210222 & 0.014404394 & 0.012153967\\\\\n",
       "\t3 & 1:100000507 & 0.027183021 & 0.028191475 & 0.029768057 & 0.029389961\\\\\n",
       "\t4 & 1:100000827 & 0.002307946 & 0.001522781 & 0.002027389 & 0.001655077\\\\\n",
       "\t5 & 1:100000843 & 0.002689326 & 0.002029852 & 0.002632001 & 0.002180022\\\\\n",
       "\t6 & 1:100000948 & 0.014627076 & 0.010156359 & 0.012015341 & 0.010786769\\\\\n",
       "\\end{tabular}\n"
      ],
      "text/markdown": [
       "\n",
       "A data.frame: 6 × 5\n",
       "\n",
       "| <!--/--> | marker &lt;chr&gt; | hdl_se &lt;dbl&gt; | ldl_se &lt;dbl&gt; | tg_se &lt;dbl&gt; | tc_se &lt;dbl&gt; |\n",
       "|---|---|---|---|---|---|\n",
       "| 1 | 1:100000012 | 0.002291870 | 0.001469390 | 0.001952622 | 0.001596889 |\n",
       "| 2 | 1:10000006  | 0.014067514 | 0.011210222 | 0.014404394 | 0.012153967 |\n",
       "| 3 | 1:100000507 | 0.027183021 | 0.028191475 | 0.029768057 | 0.029389961 |\n",
       "| 4 | 1:100000827 | 0.002307946 | 0.001522781 | 0.002027389 | 0.001655077 |\n",
       "| 5 | 1:100000843 | 0.002689326 | 0.002029852 | 0.002632001 | 0.002180022 |\n",
       "| 6 | 1:100000948 | 0.014627076 | 0.010156359 | 0.012015341 | 0.010786769 |\n",
       "\n"
      ],
      "text/plain": [
       "  marker      hdl_se      ldl_se      tg_se       tc_se      \n",
       "1 1:100000012 0.002291870 0.001469390 0.001952622 0.001596889\n",
       "2 1:10000006  0.014067514 0.011210222 0.014404394 0.012153967\n",
       "3 1:100000507 0.027183021 0.028191475 0.029768057 0.029389961\n",
       "4 1:100000827 0.002307946 0.001522781 0.002027389 0.001655077\n",
       "5 1:100000843 0.002689326 0.002029852 0.002632001 0.002180022\n",
       "6 1:100000948 0.014627076 0.010156359 0.012015341 0.010786769"
      ]
     },
     "metadata": {},
     "output_type": "display_data"
    }
   ],
   "source": [
    "head(pos_raw_beta_se)"
   ]
  },
  {
   "cell_type": "code",
   "execution_count": 20,
   "id": "later-particular",
   "metadata": {
    "kernel": "R"
   },
   "outputs": [],
   "source": [
    "pos_raw_beta_se = pos_raw_beta_se %>% \n",
    "  data.frame()\n",
    "pos_raw_beta = pos_raw_beta %>% \n",
    "  data.frame()"
   ]
  },
  {
   "cell_type": "code",
   "execution_count": 21,
   "id": "defensive-addition",
   "metadata": {
    "kernel": "R"
   },
   "outputs": [
    {
     "data": {
      "text/html": [
       "<table>\n",
       "<caption>A data.frame: 6 × 9</caption>\n",
       "<thead>\n",
       "\t<tr><th></th><th scope=col>marker</th><th scope=col>hdl</th><th scope=col>hdl_se</th><th scope=col>ldl</th><th scope=col>ldl_se</th><th scope=col>tg</th><th scope=col>tg_se</th><th scope=col>tc</th><th scope=col>tc_se</th></tr>\n",
       "\t<tr><th></th><th scope=col>&lt;chr&gt;</th><th scope=col>&lt;dbl&gt;</th><th scope=col>&lt;dbl&gt;</th><th scope=col>&lt;dbl&gt;</th><th scope=col>&lt;dbl&gt;</th><th scope=col>&lt;dbl&gt;</th><th scope=col>&lt;dbl&gt;</th><th scope=col>&lt;dbl&gt;</th><th scope=col>&lt;dbl&gt;</th></tr>\n",
       "</thead>\n",
       "<tbody>\n",
       "\t<tr><th scope=row>1</th><td>1:100000012</td><td> 2.460009e-03</td><td>0.002291870</td><td>-0.0001055433</td><td>0.001469390</td><td>-0.0019129145</td><td>0.001952622</td><td>-0.0001208528</td><td>0.001596889</td></tr>\n",
       "\t<tr><th scope=row>2</th><td>1:10000006 </td><td>-6.929132e-05</td><td>0.014067514</td><td> 0.0018424284</td><td>0.011210222</td><td>-0.0001815899</td><td>0.014404394</td><td> 0.0014059207</td><td>0.012153967</td></tr>\n",
       "\t<tr><th scope=row>3</th><td>1:100000507</td><td>-8.461508e-03</td><td>0.027183021</td><td> 0.0171136365</td><td>0.028191475</td><td> 0.0144205721</td><td>0.029768057</td><td> 0.0179276152</td><td>0.029389961</td></tr>\n",
       "\t<tr><th scope=row>4</th><td>1:100000827</td><td> 3.042258e-03</td><td>0.002307946</td><td> 0.0001911716</td><td>0.001522781</td><td>-0.0024015024</td><td>0.002027389</td><td> 0.0001091159</td><td>0.001655077</td></tr>\n",
       "\t<tr><th scope=row>5</th><td>1:100000843</td><td>-1.196533e-03</td><td>0.002689326</td><td>-0.0003462751</td><td>0.002029852</td><td> 0.0011000920</td><td>0.002632001</td><td>-0.0002095452</td><td>0.002180022</td></tr>\n",
       "\t<tr><th scope=row>6</th><td>1:100000948</td><td> 1.142429e-02</td><td>0.014627076</td><td> 0.0034483668</td><td>0.010156359</td><td>-0.0070852939</td><td>0.012015341</td><td> 0.0034940914</td><td>0.010786769</td></tr>\n",
       "</tbody>\n",
       "</table>\n"
      ],
      "text/latex": [
       "A data.frame: 6 × 9\n",
       "\\begin{tabular}{r|lllllllll}\n",
       "  & marker & hdl & hdl\\_se & ldl & ldl\\_se & tg & tg\\_se & tc & tc\\_se\\\\\n",
       "  & <chr> & <dbl> & <dbl> & <dbl> & <dbl> & <dbl> & <dbl> & <dbl> & <dbl>\\\\\n",
       "\\hline\n",
       "\t1 & 1:100000012 &  2.460009e-03 & 0.002291870 & -0.0001055433 & 0.001469390 & -0.0019129145 & 0.001952622 & -0.0001208528 & 0.001596889\\\\\n",
       "\t2 & 1:10000006  & -6.929132e-05 & 0.014067514 &  0.0018424284 & 0.011210222 & -0.0001815899 & 0.014404394 &  0.0014059207 & 0.012153967\\\\\n",
       "\t3 & 1:100000507 & -8.461508e-03 & 0.027183021 &  0.0171136365 & 0.028191475 &  0.0144205721 & 0.029768057 &  0.0179276152 & 0.029389961\\\\\n",
       "\t4 & 1:100000827 &  3.042258e-03 & 0.002307946 &  0.0001911716 & 0.001522781 & -0.0024015024 & 0.002027389 &  0.0001091159 & 0.001655077\\\\\n",
       "\t5 & 1:100000843 & -1.196533e-03 & 0.002689326 & -0.0003462751 & 0.002029852 &  0.0011000920 & 0.002632001 & -0.0002095452 & 0.002180022\\\\\n",
       "\t6 & 1:100000948 &  1.142429e-02 & 0.014627076 &  0.0034483668 & 0.010156359 & -0.0070852939 & 0.012015341 &  0.0034940914 & 0.010786769\\\\\n",
       "\\end{tabular}\n"
      ],
      "text/markdown": [
       "\n",
       "A data.frame: 6 × 9\n",
       "\n",
       "| <!--/--> | marker &lt;chr&gt; | hdl &lt;dbl&gt; | hdl_se &lt;dbl&gt; | ldl &lt;dbl&gt; | ldl_se &lt;dbl&gt; | tg &lt;dbl&gt; | tg_se &lt;dbl&gt; | tc &lt;dbl&gt; | tc_se &lt;dbl&gt; |\n",
       "|---|---|---|---|---|---|---|---|---|---|\n",
       "| 1 | 1:100000012 |  2.460009e-03 | 0.002291870 | -0.0001055433 | 0.001469390 | -0.0019129145 | 0.001952622 | -0.0001208528 | 0.001596889 |\n",
       "| 2 | 1:10000006  | -6.929132e-05 | 0.014067514 |  0.0018424284 | 0.011210222 | -0.0001815899 | 0.014404394 |  0.0014059207 | 0.012153967 |\n",
       "| 3 | 1:100000507 | -8.461508e-03 | 0.027183021 |  0.0171136365 | 0.028191475 |  0.0144205721 | 0.029768057 |  0.0179276152 | 0.029389961 |\n",
       "| 4 | 1:100000827 |  3.042258e-03 | 0.002307946 |  0.0001911716 | 0.001522781 | -0.0024015024 | 0.002027389 |  0.0001091159 | 0.001655077 |\n",
       "| 5 | 1:100000843 | -1.196533e-03 | 0.002689326 | -0.0003462751 | 0.002029852 |  0.0011000920 | 0.002632001 | -0.0002095452 | 0.002180022 |\n",
       "| 6 | 1:100000948 |  1.142429e-02 | 0.014627076 |  0.0034483668 | 0.010156359 | -0.0070852939 | 0.012015341 |  0.0034940914 | 0.010786769 |\n",
       "\n"
      ],
      "text/plain": [
       "  marker      hdl           hdl_se      ldl           ldl_se      tg           \n",
       "1 1:100000012  2.460009e-03 0.002291870 -0.0001055433 0.001469390 -0.0019129145\n",
       "2 1:10000006  -6.929132e-05 0.014067514  0.0018424284 0.011210222 -0.0001815899\n",
       "3 1:100000507 -8.461508e-03 0.027183021  0.0171136365 0.028191475  0.0144205721\n",
       "4 1:100000827  3.042258e-03 0.002307946  0.0001911716 0.001522781 -0.0024015024\n",
       "5 1:100000843 -1.196533e-03 0.002689326 -0.0003462751 0.002029852  0.0011000920\n",
       "6 1:100000948  1.142429e-02 0.014627076  0.0034483668 0.010156359 -0.0070852939\n",
       "  tg_se       tc            tc_se      \n",
       "1 0.001952622 -0.0001208528 0.001596889\n",
       "2 0.014404394  0.0014059207 0.012153967\n",
       "3 0.029768057  0.0179276152 0.029389961\n",
       "4 0.002027389  0.0001091159 0.001655077\n",
       "5 0.002632001 -0.0002095452 0.002180022\n",
       "6 0.012015341  0.0034940914 0.010786769"
      ]
     },
     "metadata": {},
     "output_type": "display_data"
    }
   ],
   "source": [
    "sumstats_pos = inner_join(pos_raw_beta_se,pos_raw_beta, by = 'marker') %>% \n",
    "  select(marker, hdl,hdl_se,ldl,ldl_se, tg, tg_se, tc, tc_se)\n",
    "\n",
    "head(sumstats_pos)\n",
    "\n",
    "colnames(sumstats_pos) = c(\"marker\", \"hdl\", \"hdl_se\", \"ldl\", \"ldl_se\", \"tg\", \"tg_se\", \"tc\", \"tc_se\")\n",
    "\n",
    "sumstats_pos = sumstats_pos %>%\n",
    "  extract(marker, into = c(\"chr\", \"pos\"), regex = \"([0-9]+)(\\\\:[0-9]+)\") %>% \n",
    "  mutate(chr = as.numeric(chr),\n",
    "         pos = as.numeric(str_replace(pos, \":\",\"\")))"
   ]
  },
  {
   "cell_type": "code",
   "execution_count": 22,
   "id": "circular-festival",
   "metadata": {
    "kernel": "R"
   },
   "outputs": [
    {
     "name": "stdout",
     "output_type": "stream",
     "text": [
      "[1] \"inner join completed\"\n",
      "[1] \"finish hdl\"\n",
      "[1] \"finish ldl\"\n",
      "[1] \"finish tc\"\n",
      "[1] \"finish tg\"\n",
      "[1] \"data ready to save\"\n"
     ]
    }
   ],
   "source": [
    "format_data(sumstats_pos, chr_pos, \"mvpdata/mash\")"
   ]
  },
  {
   "cell_type": "markdown",
   "id": "adjacent-history",
   "metadata": {
    "kernel": "R"
   },
   "source": [
    "At this point files on the disk should be:"
   ]
  },
  {
   "cell_type": "code",
   "execution_count": 23,
   "id": "concrete-leather",
   "metadata": {
    "kernel": "Bash"
   },
   "outputs": [
    {
     "name": "stdout",
     "output_type": "stream",
     "text": [
      "\u001b[01;34m.\u001b[00m\n",
      "├── \u001b[01;34m1000G.EUR\u001b[00m\n",
      "│   ├── 1000G.EUR.bed\n",
      "│   ├── 1000G.EUR.bim\n",
      "│   └── 1000G.EUR.fam\n",
      "├── \u001b[01;34mmvpdata\u001b[00m\n",
      "│   ├── chr_pos_allele2_lfsr.txt\n",
      "│   ├── gwas_hdl.rds\n",
      "│   ├── gwas_ldl.rds\n",
      "│   ├── gwas_tc.rds\n",
      "│   ├── gwas_tg.rds\n",
      "│   ├── mash_hdl.rds\n",
      "│   ├── mash_ldl.rds\n",
      "│   ├── mash_tc.rds\n",
      "│   ├── mash_tg.rds\n",
      "│   ├── Merged_MVP_Full_se_raw.txt\n",
      "│   ├── MVP_all_beta_posterior_beta.txt\n",
      "│   ├── posterior_beta_se.txt\n",
      "│   └── zmash_raw_univariate_MVP.rds\n",
      "└── \u001b[01;34mukbiobank\u001b[00m\n",
      "    ├── UKB.cov\n",
      "    ├── UKB.hdl.cov\n",
      "    ├── UKB.ind.cov\n",
      "    └── UKB.QC.fam\n",
      "\n",
      "3 directories, 20 files\n"
     ]
    }
   ],
   "source": [
    "tree"
   ]
  },
  {
   "cell_type": "markdown",
   "id": "listed-education",
   "metadata": {
    "kernel": "Bash"
   },
   "source": [
    "## Step 1: QC and select SNPs shared by summary statistics and target data"
   ]
  },
  {
   "cell_type": "code",
   "execution_count": 29,
   "id": "illegal-asian",
   "metadata": {
    "kernel": "Bash"
   },
   "outputs": [
    {
     "name": "stdout",
     "output_type": "stream",
     "text": [
      "INFO: Running \u001b[32mbasic QC filters\u001b[0m: Filter SNPs and select individuals\n",
      "INFO: \u001b[32mbasic QC filters\u001b[0m is \u001b[32mcompleted\u001b[0m.\n",
      "INFO: \u001b[32mbasic QC filters\u001b[0m output:   \u001b[32m/home/gw/tmp/18-May-2021/output/cache/1000G.EUR.output.filtered.bed\u001b[0m\n",
      "INFO: Workflow snp_qc (ID=w0fc7d31d81e2bd2c) is executed successfully with 1 completed step.\n"
     ]
    }
   ],
   "source": [
    "sos run ldpred.ipynb snp_qc \\\n",
    "    --cwd output \\\n",
    "    --genoFile  1000G.EUR/1000G.EUR.bed"
   ]
  },
  {
   "cell_type": "code",
   "execution_count": 7,
   "id": "sunrise-cheat",
   "metadata": {
    "kernel": "Bash"
   },
   "outputs": [
    {
     "name": "stdout",
     "output_type": "stream",
     "text": [
      "INFO: Running \u001b[32mcommon_snp\u001b[0m: 2004l\u001b[?2004l\u001b[?2004l\u001b[?2004l\n",
      "During startup - Warning messages:\n",
      "1: Setting LC_COLLATE failed, using \"C\" \n",
      "2: Setting LC_TIME failed, using \"C\" \n",
      "3: Setting LC_MESSAGES failed, using \"C\" \n",
      "4: Setting LC_MONETARY failed, using \"C\" \n",
      "[1] \"There are  409486  common SNPs.\"\n",
      "INFO: \u001b[32mcommon_snp\u001b[0m is \u001b[32mcompleted\u001b[0m.\n",
      "INFO: \u001b[32mcommon_snp\u001b[0m output:   \u001b[32mmvpdata/sumstats_hdl.SUB.rds res-data/common.snplist\u001b[0m\n",
      "INFO: Workflow common_snp (ID=wda5082e8178fcf44) is executed successfully with 1 completed step.\n",
      "\u001b[?2004h"
     ]
    },
    {
     "ename": "",
     "evalue": "1",
     "output_type": "error",
     "traceback": []
    }
   ],
   "source": [
    "sos run ldpred.ipynb common_snp \\\n",
    "    --outpath res-data \\\n",
    "    --testpath ukbiobank \\\n",
    "    --stat_snp mvpdata/sumstats_hdl.snplist \\\n",
    "    --ref_snp 1000G/1000G.QC.snplist \\\n",
    "    --test_snp ukbiobank/UKB.QC.snplist \\\n",
    "    --summstats_file mvpdata/sumstats_hdl.rds \\\n",
    "    --sub_stats mvpdata/sumstats_hdl.SUB.rds"
   ]
  },
  {
   "cell_type": "markdown",
   "id": "quick-thickness",
   "metadata": {
    "kernel": "Bash"
   },
   "source": [
    "## Step 2: Extract SNPs also in reference panel"
   ]
  },
  {
   "cell_type": "code",
   "execution_count": 9,
   "id": "improving-tribute",
   "metadata": {
    "kernel": "Bash"
   },
   "outputs": [
    {
     "name": "stdout",
     "output_type": "stream",
     "text": [
      "INFO: Running \u001b[32msubsets\u001b[0m: \u001b[?2004l\u001b[?2004l\u001b[?2004l\n",
      "PLINK v1.90b6.22 64-bit (16 Apr 2021)          www.cog-genomics.org/plink/1.9/\n",
      "(C) 2005-2021 Shaun Purcell, Christopher Chang   GNU General Public License v3\n",
      "Logging to 1000G/1000G.SUB.log.\n",
      "Options in effect:\n",
      "  --bfile 1000G/1000G.EUR\n",
      "  --extract res-data/common.snplist\n",
      "  --keep 1000G/1000G.EUR.fam\n",
      "  --make-bed\n",
      "  --out 1000G/1000G.SUB\n",
      "\n",
      "8192 MB RAM detected; reserving 4096 MB for main workspace.\n",
      "1664852 variants loaded from .bim file.\n",
      "503 people (240 males, 263 females) loaded from .fam.\n",
      "--extract: 409486 variants remaining.\n",
      "--keep: 503 people remaining.\n",
      "Using 1 thread (no multithreaded calculations invoked).\n",
      "Before main variant filters, 503 founders and 0 nonfounders present.\n",
      "Calculating allele frequencies... 10111213141516171819202122232425262728293031323334353637383940414243444546474849505152535455565758596061626364656667686970717273747576777879808182838485868788899091929394959697989 done.\n",
      "409486 variants and 503 people pass filters and QC.\n",
      "Note: No phenotypes present.\n",
      "--make-bed to 1000G/1000G.SUB.bed + 1000G/1000G.SUB.bim + 1000G/1000G.SUB.fam\n",
      "... 101112131415161718192021222324252627282930313233343536373839404142434445464748495051525354555657585960616263646566676869707172737475767778798081828384858687888990919293949596979899done.\n",
      "INFO: \u001b[32msubsets\u001b[0m is \u001b[32mcompleted\u001b[0m.\n",
      "INFO: \u001b[32msubsets\u001b[0m output:   \u001b[32m1000G/1000G.SUB.bed 1000G/1000G.SUB.bim... (3 items)\u001b[0m\n",
      "INFO: Workflow subsets (ID=w155ce1f50427ee8f) is executed successfully with 1 completed step.\n",
      "\u001b[?2004h"
     ]
    },
    {
     "ename": "",
     "evalue": "1",
     "output_type": "error",
     "traceback": []
    }
   ],
   "source": [
    "sos run ldpred.ipynb subsets \\\n",
    "    --outpath res-data \\\n",
    "    --testpath ukbiobank \\\n",
    "    --bed_file 1000G/1000G.EUR.bed \\\n",
    "    --fam_file 1000G/1000G.EUR.fam \\\n",
    "    --snp_file res-data/common.snplist \\\n",
    "    --sub_bedfile 1000G/1000G.SUB.bed"
   ]
  },
  {
   "cell_type": "markdown",
   "id": "polish-banner",
   "metadata": {
    "kernel": "Bash"
   },
   "source": [
    "Totally 31566 varients"
   ]
  },
  {
   "cell_type": "markdown",
   "id": "running-river",
   "metadata": {
    "kernel": "Bash"
   },
   "source": [
    "    ./plink \\\n",
    "        --bfile 1000G/1000G.EUR \\\n",
    "        --keep 1000G/1000G.EUR.fam \\\n",
    "        --extract res-data/common.snplist \\\n",
    "        --make-bed \\\n",
    "        --out 1000G/1000G.SUB\n"
   ]
  },
  {
   "cell_type": "markdown",
   "id": "chubby-applicant",
   "metadata": {
    "kernel": "Bash"
   },
   "source": [
    "## Step 3: Harmonize alleles for shared SNPs\n",
    "\n",
    "To handle major/minor allele, strand flips and consequently possible flips in sign for summary statistics."
   ]
  },
  {
   "cell_type": "code",
   "execution_count": null,
   "id": "banner-invention",
   "metadata": {
    "kernel": "Bash"
   },
   "outputs": [],
   "source": [
    "sos run ldpred.ipynb snp_match \\\n",
    "    --outpath res-data \\\n",
    "    --testpath ukbiobank \\\n",
    "    --ref_bfile 1000G/1000G.SUB.bed \\\n",
    "    --ref_file 1000G/1000G.SUB.rds \\\n",
    "    --summstats_file mvpdata/sumstats_hdl.SUB.rds \\\n",
    "    --n_eff 200000 \\\n",
    "    --test_snplist UKB.SUB.snplist"
   ]
  },
  {
   "cell_type": "markdown",
   "id": "super-visiting",
   "metadata": {
    "kernel": "Bash"
   },
   "source": [
    "## Step 4: Summary statistics quality control (optional)\n",
    "\n",
    "In this example this workflow seems to have dropped so SNPs that PRS no longer contributes. See results at the end of the document."
   ]
  },
  {
   "cell_type": "code",
   "execution_count": null,
   "id": "neither-prospect",
   "metadata": {
    "kernel": "Bash"
   },
   "outputs": [],
   "source": [
    "sos run ldpred.ipynb QControl \\\n",
    "    --qc_in res-data/MatchedSnp.RData \\\n",
    "    --outpath res-data \\\n",
    "    --testpath ukbiobank \\\n",
    "    --test_snplist UKB.QC.SUB.snplist"
   ]
  },
  {
   "cell_type": "markdown",
   "id": "korean-defensive",
   "metadata": {
    "kernel": "Bash"
   },
   "source": [
    "## Step 5: Extract test target data\n",
    "\n",
    "Subset the genotype data for randomly selected samples"
   ]
  },
  {
   "cell_type": "code",
   "execution_count": null,
   "id": "colored-thousand",
   "metadata": {
    "kernel": "Bash"
   },
   "outputs": [],
   "source": [
    "sos run ldpred.ipynb subsets \\\n",
    "    --outpath res-data \\\n",
    "    --testpath ukbiobank \\\n",
    "    --bed_file ukbiobank/UKB.bed \\\n",
    "    --fam_file ukbiobank/UKB.QC.fam \\\n",
    "    --snp_file ukbiobank/UKB.SUB.snplist \\\n",
    "    --sub_bedfile ukbiobank/UKB.SUB.bed"
   ]
  },
  {
   "cell_type": "markdown",
   "id": "czech-workplace",
   "metadata": {
    "kernel": "Bash"
   },
   "source": [
    "## Step 6: Calculate LD matrix (correlation matrix)"
   ]
  },
  {
   "cell_type": "code",
   "execution_count": null,
   "id": "premium-symphony",
   "metadata": {
    "kernel": "Bash"
   },
   "outputs": [],
   "source": [
    "sos run ldpred.ipynb LD \\\n",
    "    --outpath res-data \\\n",
    "    --testpath ukbiobank \\\n",
    "    --ld_in res-data/MatchedSnp.Rdata"
   ]
  },
  {
   "cell_type": "markdown",
   "id": "personalized-lawyer",
   "metadata": {
    "kernel": "Bash"
   },
   "source": [
    "## Step 7: Estimate posterior effect sizes and PRS"
   ]
  },
  {
   "cell_type": "code",
   "execution_count": null,
   "id": "novel-pharmacology",
   "metadata": {
    "kernel": "Bash"
   },
   "outputs": [],
   "source": [
    "sos run ldpred.ipynb load_testdata+inf_prs \\\n",
    "    --outpath res-data \\\n",
    "    --testpath ukbiobank \\\n",
    "    --inf_in res-data/LdMatrix.Rdata \\\n",
    "    --test_bfile ukbiobank/UKB.SUB.bed \\\n",
    "    --test_file ukbiobank/UKB.SUB.rds"
   ]
  },
  {
   "cell_type": "code",
   "execution_count": null,
   "id": "outside-desire",
   "metadata": {
    "kernel": "Bash"
   },
   "outputs": [],
   "source": [
    "sos run ldpred.ipynb grid_prs \\\n",
    "    --outpath res-data \\\n",
    "    --testpath ukbiobank \\\n",
    "    --grid_in res-data/LdMatrix.Rdata \\\n",
    "    --test_bfile ukbiobank/UKB.SUB.bed \\\n",
    "    --cov_file ukbiobank/UKB.ind.cov \\\n",
    "    --trait_file ukbiobank/UKB.hdl.cov \\\n",
    "    --test_file ukbiobank/UKB.SUB.rds \\\n",
    "    --response continuous"
   ]
  },
  {
   "cell_type": "code",
   "execution_count": null,
   "id": "conscious-dividend",
   "metadata": {
    "kernel": "Bash"
   },
   "outputs": [],
   "source": [
    "sos run ldpred.ipynb auto_prs \\\n",
    "    --outpath res-data \\\n",
    "    --testpath ukbiobank \\\n",
    "    --auto_in res-data/LdMatrix.Rdata \\\n",
    "    --test_bfile ukbiobank/UKB.SUB.bed \\\n",
    "    --test_file ukbiobank/UKB.SUB.rds"
   ]
  },
  {
   "cell_type": "markdown",
   "id": "royal-phenomenon",
   "metadata": {
    "kernel": "Bash"
   },
   "source": [
    "## Step 8: predict phenotypes"
   ]
  },
  {
   "cell_type": "markdown",
   "id": "searching-seeker",
   "metadata": {
    "kernel": "Bash"
   },
   "source": [
    "Null model: Traits ~ Sex + Age"
   ]
  },
  {
   "cell_type": "code",
   "execution_count": 5,
   "id": "atlantic-testament",
   "metadata": {
    "kernel": "Bash"
   },
   "outputs": [
    {
     "name": "stdout",
     "output_type": "stream",
     "text": [
      "INFO: Running \u001b[32mnull_phenopred\u001b[0m: l\u001b[?2004l\n",
      "During startup - Warning messages:\n",
      "1: Setting LC_COLLATE failed, using \"C\" \n",
      "2: Setting LC_TIME failed, using \"C\" \n",
      "3: Setting LC_MESSAGES failed, using \"C\" \n",
      "4: Setting LC_MONETARY failed, using \"C\" \n",
      "Loading required package: bigstatsr\n",
      "HDL_inverseranknorm ~ AGE + SEX\n",
      "<environment: 0x7fdc0ec54d20>\n",
      "\n",
      "Call:\n",
      "lm(formula = ., data = data[train.ind, ])\n",
      "\n",
      "Residuals:\n",
      "    Min      1Q  Median      3Q     Max \n",
      "-2.7973 -0.6148 -0.0072  0.5943  3.2185 \n",
      "\n",
      "Coefficients:\n",
      "             Estimate Std. Error t value Pr(>|t|)    \n",
      "(Intercept) -0.083025   0.177526  -0.468   0.6401    \n",
      "AGE          0.007225   0.003028   2.386   0.0171 *  \n",
      "SEX         -0.857958   0.046395 -18.492   <2e-16 ***\n",
      "---\n",
      "Signif. codes:  0 ‘***’ 0.001 ‘**’ 0.01 ‘*’ 0.05 ‘.’ 0.1 ‘ ’ 1\n",
      "\n",
      "Residual standard error: 0.9257 on 1597 degrees of freedom\n",
      "Multiple R-squared:  0.177,\tAdjusted R-squared:  0.176 \n",
      "F-statistic: 171.7 on 2 and 1597 DF,  p-value: < 2.2e-16\n",
      "\n",
      "\u001b[90m# A tibble: 1 x 3\u001b[39m\n",
      "  model         R2   MSE\n",
      "  \u001b[3m\u001b[90m<chr>\u001b[39m\u001b[23m      \u001b[3m\u001b[90m<dbl>\u001b[39m\u001b[23m \u001b[3m\u001b[90m<dbl>\u001b[39m\u001b[23m\n",
      "\u001b[90m1\u001b[39m NULL model 0.176 0.954\n",
      "null device \n",
      "          1 \n",
      "INFO: \u001b[32mnull_phenopred\u001b[0m is \u001b[32mcompleted\u001b[0m.\n",
      "INFO: \u001b[32mnull_phenopred\u001b[0m output:   \u001b[32mres-data/summary/NullSummary.pdf res-data/model/NullModel.Rdata\u001b[0m\n",
      "INFO: Workflow null_phenopred (ID=w66238e0ec0d25389) is executed successfully with 1 completed step.\n",
      "\u001b[?2004h"
     ]
    },
    {
     "ename": "",
     "evalue": "1",
     "output_type": "error",
     "traceback": []
    }
   ],
   "source": [
    "sos run ldpred.ipynb null_phenopred \\\n",
    "    --outpath res-data \\\n",
    "    --testpath ukbiobank \\\n",
    "    --cov_file ukbiobank/UKB.ind.cov \\\n",
    "    --trait_file ukbiobank/UKB.hdl.cov \\\n",
    "    --response continuous"
   ]
  },
  {
   "cell_type": "markdown",
   "id": "ready-subscriber",
   "metadata": {
    "kernel": "Bash"
   },
   "source": [
    "Inf/grid/auto model: Traits ~ Sex + Age + PRS"
   ]
  },
  {
   "cell_type": "code",
   "execution_count": 4,
   "id": "indie-trick",
   "metadata": {
    "kernel": "Bash"
   },
   "outputs": [
    {
     "name": "stdout",
     "output_type": "stream",
     "text": [
      "INFO: Running \u001b[32minf_phenopred\u001b[0m: 4l\u001b[?2004l\u001b[?2004l\u001b[?2004l\u001b[?2004l\n",
      "During startup - Warning messages:\n",
      "1: Setting LC_COLLATE failed, using \"C\" \n",
      "2: Setting LC_TIME failed, using \"C\" \n",
      "3: Setting LC_MESSAGES failed, using \"C\" \n",
      "4: Setting LC_MONETARY failed, using \"C\" \n",
      "Loading required package: bigstatsr\n",
      "HDL_inverseranknorm ~ PRS + AGE + SEX\n",
      "<environment: 0x7fe452c226e0>\n",
      "\n",
      "Call:\n",
      "lm(formula = reg.formula, data = data[train.ind, ])\n",
      "\n",
      "Residuals:\n",
      "    Min      1Q  Median      3Q     Max \n",
      "-2.9595 -0.5773 -0.0030  0.5575  3.8241 \n",
      "\n",
      "Coefficients:\n",
      "             Estimate Std. Error t value Pr(>|t|)    \n",
      "(Intercept) -0.303484   0.166778  -1.820   0.0690 .  \n",
      "PRS         -2.628765   0.174294 -15.082   <2e-16 ***\n",
      "AGE          0.006512   0.002834   2.298   0.0217 *  \n",
      "SEX         -0.839663   0.043436 -19.331   <2e-16 ***\n",
      "---\n",
      "Signif. codes:  0 ‘***’ 0.001 ‘**’ 0.01 ‘*’ 0.05 ‘.’ 0.1 ‘ ’ 1\n",
      "\n",
      "Residual standard error: 0.8663 on 1596 degrees of freedom\n",
      "Multiple R-squared:  0.2797,\tAdjusted R-squared:  0.2783 \n",
      "F-statistic: 206.5 on 3 and 1596 DF,  p-value: < 2.2e-16\n",
      "\n",
      "\u001b[90m# A tibble: 1 x 2\u001b[39m\n",
      "     R2   MSE\n",
      "  \u001b[3m\u001b[90m<dbl>\u001b[39m\u001b[23m \u001b[3m\u001b[90m<dbl>\u001b[39m\u001b[23m\n",
      "\u001b[90m1\u001b[39m 0.278 0.861\n",
      "null device \n",
      "          1 \n",
      "INFO: \u001b[32minf_phenopred\u001b[0m is \u001b[32mcompleted\u001b[0m.\n",
      "INFO: \u001b[32minf_phenopred\u001b[0m output:   \u001b[32mres-data/summary/InfSummary.pdf res-data/model/InfModel.Rdata\u001b[0m\n",
      "INFO: Workflow inf_phenopred (ID=wda1c7045b39ee0ce) is executed successfully with 1 completed step.\n",
      "\u001b[?2004h"
     ]
    },
    {
     "ename": "",
     "evalue": "1",
     "output_type": "error",
     "traceback": []
    }
   ],
   "source": [
    "sos run ldpred.ipynb inf_phenopred \\\n",
    "    --outpath res-data \\\n",
    "    --testpath ukbiobank \\\n",
    "    --cov_file ukbiobank/UKB.ind.cov \\\n",
    "    --trait_file ukbiobank/UKB.hdl.cov \\\n",
    "    --prs_file res-data/InfPred.Rdata \\\n",
    "    --mod_summary InfSummary.pdf \\\n",
    "    --model InfModel.Rdata \\\n",
    "    --response continuous"
   ]
  },
  {
   "cell_type": "code",
   "execution_count": null,
   "id": "classified-design",
   "metadata": {
    "kernel": "Bash"
   },
   "outputs": [],
   "source": [
    "sos run ldpred.ipynb grid_phenopred \\\n",
    "    --outpath res-data \\\n",
    "    --testpath ukbiobank \\\n",
    "    --cov_file ukbiobank/UKB.ind.cov \\\n",
    "    --trait_file ukbiobank/UKB.hdl.cov \\\n",
    "    --prs_file res-data/GridPred.Rdata \\\n",
    "    --mod_summary GridSummary.pdf \\\n",
    "    --model GridModel.Rdata \\\n",
    "    --response continuous"
   ]
  },
  {
   "cell_type": "code",
   "execution_count": null,
   "id": "paperback-history",
   "metadata": {
    "kernel": "Bash"
   },
   "outputs": [],
   "source": [
    "sos run ldpred.ipynb auto_phenopred \\\n",
    "    --outpath res-data \\\n",
    "    --testpath ukbiobank \\\n",
    "    --cov_file ukbiobank/UKB.ind.cov \\\n",
    "    --trait_file ukbiobank/UKB.hdl.cov \\\n",
    "    --prs_file res-data/AutoPred.Rdata \\\n",
    "    --mod_summary AutoSummary.pdf \\\n",
    "    --model AutoModel.Rdata \\\n",
    "    --response continuous"
   ]
  },
  {
   "cell_type": "markdown",
   "id": "exposed-discretion",
   "metadata": {
    "kernel": "Bash"
   },
   "source": [
    "# Results"
   ]
  },
  {
   "cell_type": "markdown",
   "id": "passing-opportunity",
   "metadata": {
    "kernel": "Bash"
   },
   "source": [
    "Following table shows adjusted R squared of HDL prediction model. QC is quality control in step 4."
   ]
  },
  {
   "cell_type": "markdown",
   "id": "thermal-booth",
   "metadata": {
    "kernel": "Bash"
   },
   "source": [
    "|   Betas   | QC? |   Null  |   Inf   |   Grid  |   Auto  |\n",
    "|:---------:|:---:|:-------:|:-------:|:-------:|:-------:|\n",
    "|  Original | Yes | 0.2901 | 0.2899 | 0.2901  | 0.2897 |\n",
    "|  Original |  No$^*$ | - | - |    -  |    -   |\n",
    "| Posterior | Yes | 0.2901 | 0.2897 | 0.2901| 0.29 |\n",
    "| Posterior |  No$^*$ |  -  |  - |    -    |    -   |"
   ]
  },
  {
   "cell_type": "markdown",
   "id": "critical-celtic",
   "metadata": {
    "kernel": "Bash"
   },
   "source": [
    "|   Betas   | QC? |   Null  |   Inf   |   Grid  |   Auto  |\n",
    "|:---------:|:---:|:-------:|:-------:|:-------:|:-------:|\n",
    "|  Original | Yes | 0.176 | 0.1756 | 0.1757  | 0.1755 |\n",
    "|  Original |  No$^*$ | - | - |    -  |    -   |\n",
    "| Posterior | Yes | 0.176 | 0.1756 | 0.1758| 0.1756 |\n",
    "| Posterior |  No$^*$ |  0.176  |  0.2783 |    -    |    -   |"
   ]
  },
  {
   "cell_type": "markdown",
   "id": "simple-infrared",
   "metadata": {
    "kernel": "Bash"
   },
   "source": [
    "$*$: Take long very long time to get results (4hrs+)"
   ]
  }
 ],
 "metadata": {
  "kernelspec": {
   "display_name": "SoS",
   "language": "sos",
   "name": "sos"
  },
  "language_info": {
   "codemirror_mode": "sos",
   "file_extension": ".sos",
   "mimetype": "text/x-sos",
   "name": "sos",
   "nbconvert_exporter": "sos_notebook.converter.SoS_Exporter",
   "pygments_lexer": "sos"
  },
  "sos": {
   "kernels": [
    [
     "Bash",
     "bash",
     "Bash",
     "#E6EEFF",
     "shell"
    ],
    [
     "R",
     "ir",
     "R",
     "#DCDCDA",
     "r"
    ]
   ],
   "version": "0.22.4"
  },
  "toc-autonumbering": false
 },
 "nbformat": 4,
 "nbformat_minor": 5
}
