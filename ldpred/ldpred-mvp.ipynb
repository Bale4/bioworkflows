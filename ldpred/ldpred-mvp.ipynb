{
 "cells": [
  {
   "cell_type": "markdown",
   "metadata": {
    "kernel": "SoS"
   },
   "source": [
    "# Data preparation"
   ]
  },
  {
   "cell_type": "markdown",
   "metadata": {
    "kernel": "SoS"
   },
   "source": [
    "* Summary statistics (n*9)\n",
    "\n",
    "Column: \"chr\", \"pos\", \"rsid\", \"a1\", \"a0\", \"n_eff\", \"beta\", \"beta_se\", \"p\"\n",
    "\n",
    "* refence panel\n",
    "\n",
    "    genotypes (n * # of snp):\n",
    "    \n",
    "        matrix that contains 0,1,2\n",
    "    \n",
    "    fam (n * 6):\n",
    "    \n",
    "        \"family.ID\", \"sample.ID\", \"paternal.ID\", \"maternal.ID\", \"sex\", \"affection\"\n",
    "\n",
    "    map (n*6):\n",
    "    \n",
    "        \"chromosome\", \"marker.ID\", \"genetic.dist\", \"physical.pos\", \"allele1\", \"allele2\"\n",
    "\n"
   ]
  },
  {
   "cell_type": "markdown",
   "metadata": {
    "kernel": "SoS"
   },
   "source": [
    "# Command Interface"
   ]
  },
  {
   "cell_type": "code",
   "execution_count": 1,
   "metadata": {
    "kernel": "Bash"
   },
   "outputs": [
    {
     "name": "stdout",
     "output_type": "stream",
     "text": [
      "usage: sos run ldpred-mvp.ipynb [workflow_name | -t targets] [options] [workflow_options]\n",
      "  workflow_name:        Single or combined workflows defined in this script\n",
      "  targets:              One or more targets to generate\n",
      "  options:              Single-hyphen sos parameters (see \"sos run -h\" for details)\n",
      "  workflow_options:     Double-hyphen workflow-specific parameters\n",
      "\n",
      "Workflows:\n",
      "  inf\n",
      "  auto\n",
      "  grid\n",
      "  auton\n",
      "\n",
      "Global Workflow Options:\n",
      "  --summstats-file VAL (as path, required)\n",
      "                        path to summary statistics files, genotypes, phenotypes\n",
      "                        and covaraites data \"post-qc/Height.QC.gz\"\n",
      "  --bed-file VAL (as path, required)\n",
      "                        \"post-qc/EUR.QC.bed\"\n",
      "  --geno-file VAL (as path, required)\n",
      "                        \"post-qc/EUR.QC.rds\"\n",
      "  --summary-stat 'path/SumStats.RData'\n",
      "                        parameters that dave\n",
      "  --qc-in 'path/QcInput.RData'\n",
      "  --qc-plot 'path/QcPlot.png'\n",
      "  --conv-plot 'path/ConvPlot.png'\n",
      "  --sd-out 'path/sd.rds'\n",
      "  --ld-in 'path/LdInput.RData'\n",
      "  --ld-out 'path/LdOutput.RData'\n",
      "  --ldreg-out 'path/LdRegOut.RData'\n",
      "  --inf-beta 'path/InfBeta.RData'\n",
      "  --grid-beta 'path/GridBeta.RData'\n",
      "  --auto-beta 'path/AutoBeta.RData'\n",
      "  --inf-prs 'path/InfPrs.RData'\n",
      "  --grid-prs 'path/GridPrs.RData'\n",
      "  --auto-prs 'path/AutoPrs.RData'\n",
      "  --null-r2 'path/NullR2.RData'\n",
      "  --inf-mod 'path/InfMod.RData'\n",
      "  --grid-mod 'path/GridMod.RData'\n",
      "  --auto-mod 'path/AutoMod.RData'\n",
      "  --inf-pheno-pred 'path/InfPhenoPred.RData'\n",
      "  --grid-pheno-pred 'path/GridPhenoPred.RData'\n",
      "  --auto-pheno-pred 'path/AutoPhenoPred.RData'\n",
      "  --inf-ldpred-res 'path/InfLdpredRes.RData'\n",
      "  --grid-ldpred-res 'path/GridLdpredRes.RData'\n",
      "  --auto-ldpred-res 'path/AutoLdpredRes.RData'\n",
      "  --response 1 (as int)\n",
      "                        Binary or continuous phenotype\n",
      "\n",
      "Sections\n",
      "  inf_10, auto_10, grid_10:\n",
      "  inf_20, auto_20, grid_20:\n",
      "  inf_31, auto_31, grid_31:\n",
      "  inf_33, auton_33, grid_33:\n",
      "  inf_35, auto_35, grid_35:\n",
      "  inf_40, auto_40, grid_40:\n",
      "  inf_50:\n",
      "  grid_50:\n",
      "  auto_50:\n",
      "  inf_60:\n",
      "  grid_60:\n",
      "  auto_60:\n",
      "\u001b[?2004h"
     ]
    },
    {
     "ename": "",
     "evalue": "1",
     "output_type": "error",
     "traceback": []
    }
   ],
   "source": [
    "sos run ldpred-mvp.ipynb -h"
   ]
  },
  {
   "cell_type": "markdown",
   "metadata": {
    "kernel": "SoS"
   },
   "source": [
    "# Global Parameter Setting"
   ]
  },
  {
   "cell_type": "code",
   "execution_count": null,
   "metadata": {
    "kernel": "SoS"
   },
   "outputs": [],
   "source": [
    "[global]\n",
    "\n",
    "### Data preparation\n",
    "\n",
    "# path to summary statistics files, genotypes, phenotypes and covaraites data\n",
    "# \"*.rds\"\n",
    "parameter: summstats_file =  path\n",
    "# \"*.bed\"\n",
    "parameter: bed_file =  path\n",
    "# \"*.rds\"\n",
    "parameter: geno_file = path\n",
    "#parameter: tmpdir_ = \"tmp-dataset\"\n",
    "\n",
    "parameter: summary_stat = 'path/SumStats.RData'\n",
    "parameter: qc_in = 'path/QcInput.RData'\n",
    "parameter: qc_plot = 'path/QcPlot.png'\n",
    "parameter: conv_plot = 'path/ConvPlot.png'\n",
    "parameter: sd_out = 'path/sd.rds'\n",
    "parameter: ld_in = 'path/LdInput.RData'\n",
    "parameter: ld_out = 'path/LdOutput.RData'\n",
    "parameter: ldreg_out = 'path/LdRegOut.RData'\n",
    "parameter: inf_beta = 'path/InfBeta.RData'\n",
    "parameter: grid_beta = 'path/GridBeta.RData'\n",
    "parameter: auto_beta = 'path/AutoBeta.RData'\n",
    "parameter: inf_prs = 'path/InfPrs.RData'\n",
    "parameter: grid_prs = 'path/GridPrs.RData'\n",
    "parameter: auto_prs = 'path/AutoPrs.RData'\n",
    "parameter: null_r2 = 'path/NullR2.RData'\n",
    "parameter: inf_mod = 'path/InfMod.RData'\n",
    "parameter: grid_mod = 'path/GridMod.RData'\n",
    "parameter: auto_mod = 'path/AutoMod.RData'\n",
    "parameter: inf_pheno_pred = 'path/InfPhenoPred.RData'\n",
    "parameter: grid_pheno_pred = 'path/GridPhenoPred.RData'\n",
    "parameter: auto_pheno_pred = 'path/AutoPhenoPred.RData'\n",
    "parameter: inf_ldpred_res = 'path/InfLdpredRes.RData'\n",
    "parameter: grid_ldpred_res = 'path/GridLdpredRes.RData'\n",
    "parameter: auto_ldpred_res = 'path/AutoLdpredRes.RData'\n",
    "\n",
    "# Binary or continuous phenotype\n",
    "parameter: response = 1\n"
   ]
  },
  {
   "cell_type": "markdown",
   "metadata": {
    "kernel": "Bash"
   },
   "source": [
    "# Workflow"
   ]
  },
  {
   "cell_type": "markdown",
   "metadata": {
    "kernel": "SoS"
   },
   "source": [
    "## Process bed file"
   ]
  },
  {
   "cell_type": "code",
   "execution_count": null,
   "metadata": {
    "kernel": "SoS"
   },
   "outputs": [],
   "source": [
    "[inf_10, auto_10, grid_10]\n",
    "\n",
    "input: bed_file\n",
    "\n",
    "R: expand=True \n",
    "    library(bigsnpr)\n",
    "    try(snp_readBed(\"{_input}\"))"
   ]
  },
  {
   "cell_type": "markdown",
   "metadata": {
    "kernel": "SoS"
   },
   "source": [
    "## Load reference panel and summary statistics\n",
    "\n",
    "save `sumstats` as `SumStats.RData`"
   ]
  },
  {
   "cell_type": "code",
   "execution_count": null,
   "metadata": {
    "kernel": "SoS"
   },
   "outputs": [],
   "source": [
    "[inf_20, auto_20, grid_20]\n",
    "\n",
    "input: summstats_file\n",
    "output: summary_stat\n",
    "\n",
    "R: expand=True\n",
    "    # Read in the summary statistic file\n",
    "    sumstats <- readRDS(\"{_input}\") \n",
    "    sumstats$n_eff = 200000\n",
    "    save(sumstats, file = \"{_output}\")"
   ]
  },
  {
   "cell_type": "markdown",
   "metadata": {
    "kernel": "SoS"
   },
   "source": [
    "## SNP matching and get the CM information from 1000 Genome"
   ]
  },
  {
   "cell_type": "markdown",
   "metadata": {
    "kernel": "SoS"
   },
   "source": [
    "* Perform SNP matching `snp_match(sumstats, map)` to get `info_snp`\n",
    "\n",
    "Mathch alleles between summary statistics `sumstats` and SNP information from `obj.bigSNP`.\n",
    "\n",
    "* CM information from 1000 Genome `snp_asGeneticPos(CHR, POS, dir = \".\")`\n",
    "\n",
    "Use genetic maps available at https://github.com/joepickrell/1000-genomes-genetic-maps/ to interpolate physical positions (in bp) to genetic positions (in cM).\n",
    "\n",
    "\n",
    "save `obj.bigSNP`, `genotype`, `map`, `CHR`, `POS`, `info_snp` and `POS2` as `LdInput.RData`"
   ]
  },
  {
   "cell_type": "code",
   "execution_count": null,
   "metadata": {
    "kernel": "SoS"
   },
   "outputs": [],
   "source": [
    "[inf_31, auto_31, grid_31]\n",
    "\n",
    "input: geno = geno_file, sums = summary_stat\n",
    "output: qc_in\n",
    " \n",
    "R: expand=True \n",
    "    library(bigsnpr)\n",
    "    load(\"{_input[\"sums\"]}\")\n",
    "    # now attach the genotype object\n",
    "    obj.bigSNP <- snp_attach(\"{_input[\"geno\"]}\")\n",
    "    \n",
    "    # Assign the genotype to a variable for easier downstream analysis\n",
    "    genotype <- obj.bigSNP$genotypes\n",
    "    \n",
    "    # extract the SNP information from the genotype\n",
    "    map <- obj.bigSNP$map[-(2:3)]\n",
    "    names(map) <- c(\"chr\", \"pos\", \"a1\", \"a0\")  \n",
    "    \n",
    "    # Rename the data structures\n",
    "    CHR <- map$chr\n",
    "    POS <- map$pos   \n",
    "\n",
    "    # perform SNP matching\n",
    "    info_snp <- snp_match(sumstats, map)\n",
    "    \n",
    "    # get the CM information from 1000 Genome\n",
    "    # will download the 1000G file to the current directory (\".\")\n",
    "    POS2 <- snp_asGeneticPos(CHR, POS, dir = \".\")\n",
    "   \n",
    "    \n",
    "    # save data to Rdata file\n",
    "    save(obj.bigSNP, genotype, map, CHR, POS, info_snp, POS2, file = \"{_output}\")\n",
    "    "
   ]
  },
  {
   "cell_type": "markdown",
   "metadata": {
    "kernel": "SoS"
   },
   "source": [
    "## Quality Control"
   ]
  },
  {
   "cell_type": "code",
   "execution_count": 1,
   "metadata": {
    "kernel": "SoS"
   },
   "outputs": [],
   "source": [
    "[inf_33, auton_33, grid_33]\n",
    "\n",
    "input: qc_in\n",
    "output: sdout = sd_out, ldin = ld_in, qcplot = qc_plot\n",
    "\n",
    "\n",
    "R: expand=True\n",
    "    library(bigsnpr)\n",
    "    suppressMessages(library(tidyverse))\n",
    "    load(\"{_input}\")\n",
    "    NCORES = nb_cores()\n",
    "    ind.val = 1:nrow(genotype)\n",
    "    sd <- runonce::save_run(\n",
    "      sqrt(big_colstats(genotype, ind.val, ncores = NCORES)$var),\n",
    "      file = \"{_output[\"sdout\"]}\"\n",
    "    )\n",
    "\n",
    "    sd_val <- sd[info_snp$`_NUM_ID_`]\n",
    "\n",
    "    sd_ss <- with(info_snp, 2 / sqrt(n_eff * beta_se^2))\n",
    "\n",
    "    is_bad <- sd_ss < (0.5 * sd_val) | \n",
    "            sd_ss > (sd_val + 0.1) |  ##### fixme>\n",
    "            sd_ss < 0.1 | \n",
    "            sd_val < 0.05\n",
    "      \n",
    "    qplot(sd_val, sd_ss, color = is_bad, alpha = I(0.5)) +\n",
    "      theme_bigstatsr() +\n",
    "      coord_equal() +\n",
    "      scale_color_viridis_d(direction = -1) +\n",
    "      geom_abline(linetype = 2, color = \"red\") +\n",
    "      labs(x = \"Standard deviations in the validation set\",\n",
    "           y = \"Standard deviations derived from the summary statistics\",\n",
    "           color = \"Removed?\")\n",
    "    ggsave(\"{_output[\"qcplot\"]}\")      \n",
    "      \n",
    "    n = nrow(info_snp)\n",
    "    print(paste0(length(which(is_bad==\"TRUE\")), \" over \", n, \" was removed in Quality Control.\"))\n",
    "           \n",
    "    info_snp = info_snp[!is_bad, ]\n",
    "           \n",
    "    save(obj.bigSNP, genotype, map, CHR, POS, info_snp, POS2, file = \"{_output[\"ldin\"]}\")"
   ]
  },
  {
   "cell_type": "markdown",
   "metadata": {
    "kernel": "SoS"
   },
   "source": [
    "## Calculate LD"
   ]
  },
  {
   "cell_type": "markdown",
   "metadata": {
    "kernel": "SoS"
   },
   "source": [
    "* calculate LD using genotype from `obj.bigSNP` and CM information (distance)\n",
    "\n",
    "save `info_snp`, `ld`, `fam.order`, `corr`, `NCORES`, `genotype` as `LdOutput.RData`"
   ]
  },
  {
   "cell_type": "code",
   "execution_count": null,
   "metadata": {
    "kernel": "SoS"
   },
   "outputs": [],
   "source": [
    "[inf_35, auto_35, grid_35]\n",
    "input: ldin = ld_in\n",
    "output: ld_out\n",
    "\n",
    "R: expand = True\n",
    "    library(bigsnpr)\n",
    "    library(data.table)\n",
    "    library(bigsparser)\n",
    "    load(\"{_input[\"ldin\"]}\") \n",
    "    source(\"rcode/sess_35.R\")\n",
    "    save(info_snp, ld, fam.order, corr, NCORES, genotype, file = \"{_output}\")"
   ]
  },
  {
   "cell_type": "markdown",
   "metadata": {
    "kernel": "SoS"
   },
   "source": [
    "## Perform LD score regression "
   ]
  },
  {
   "cell_type": "markdown",
   "metadata": {
    "kernel": "SoS"
   },
   "source": [
    "Using funciton `snp_ldsc()` to obtain $h^2$ the (SNP) heritability\n",
    "\n",
    "save `h2_est`, `df_beta`, `corr`, `NCORES`, `info_snp`, `genotype` as `LdRegOut.RData` "
   ]
  },
  {
   "cell_type": "code",
   "execution_count": null,
   "metadata": {
    "kernel": "SoS"
   },
   "outputs": [],
   "source": [
    "[inf_40, auto_40, grid_40]\n",
    "\n",
    "input: ld_out\n",
    "output: ldreg_out\n",
    "\n",
    "R: expand=True\n",
    "    library(bigsnpr)\n",
    "    suppressMessages(library(tidyverse))\n",
    "    library(data.table)\n",
    "    load(\"{_input}\")\n",
    "    info_snp1 =  info_snp %>%\n",
    "        filter(chr %in% c(21,22))\n",
    "    df_beta <- info_snp1[,c(\"beta\", \"beta_se\", \"n_eff\", \"_NUM_ID_\")]\n",
    "    ldsc <- snp_ldsc(ld, \n",
    "                    length(ld), \n",
    "                    chi2 = (df_beta$beta / df_beta$beta_se)^2,\n",
    "                    sample_size = df_beta$n_eff, \n",
    "                    blocks = NULL)\n",
    "    h2_est <- ldsc[[\"h2\"]]\n",
    "    save(h2_est, df_beta, corr, NCORES, info_snp, genotype,file = \"{_output}\")"
   ]
  },
  {
   "cell_type": "markdown",
   "metadata": {
    "kernel": "SoS"
   },
   "source": [
    "## Get adjusted betas"
   ]
  },
  {
   "cell_type": "markdown",
   "metadata": {
    "kernel": "SoS"
   },
   "source": [
    "### Infinitesimal model\n",
    "\n",
    "save `beta_inf`, `df_beta`, `corr`, `NCORES`,`info_snp`, `genotype` as `InfBeta.RData`"
   ]
  },
  {
   "cell_type": "code",
   "execution_count": null,
   "metadata": {
    "kernel": "SoS"
   },
   "outputs": [],
   "source": [
    "[inf_50]\n",
    "\n",
    "input: ldreg_out\n",
    "output: inf_beta\n",
    "\n",
    "R: expand=True\n",
    "    library(bigsnpr)\n",
    "    library(data.table)\n",
    "    load(\"{_input}\")\n",
    "    ## adjusted beta ##\n",
    "    beta_inf <- snp_ldpred2_inf(corr, df_beta, h2 = h2_est)\n",
    "    # save data\n",
    "    save(beta_inf, df_beta, corr, NCORES,info_snp, genotype, file = \"{_output}\")"
   ]
  },
  {
   "cell_type": "markdown",
   "metadata": {
    "kernel": "SoS"
   },
   "source": [
    "### Grid model\n",
    "\n",
    "save `beta_grid`, `df_beta`, `corr`, `NCORES`,`info_snp`, `genotype` as `GridBeta.Rdata`"
   ]
  },
  {
   "cell_type": "code",
   "execution_count": null,
   "metadata": {
    "kernel": "SoS"
   },
   "outputs": [],
   "source": [
    "[grid_50]\n",
    "\n",
    "input: ldreg_out\n",
    "output: grid_beta\n",
    "\n",
    "R: expand=True\n",
    "    library(bigsnpr)\n",
    "    library(data.table)\n",
    "    load(\"{_input}\")\n",
    "    # Prepare data for grid model\n",
    "    p_seq <- signif(seq_log(1e-4, 1, length.out = 17), 2)\n",
    "    h2_seq <- round(h2_est * c(0.7, 1, 1.4), 4)\n",
    "    grid.param <-\n",
    "        expand.grid(p = p_seq,\n",
    "                h2 = h2_seq,\n",
    "                sparse = c(FALSE, TRUE))\n",
    "    # Get adjusted beta from grid model\n",
    "    beta_grid <- snp_ldpred2_grid(corr, df_beta, grid.param, ncores = NCORES)\n",
    "    # save data\n",
    "    save(beta_grid, df_beta, corr, NCORES,info_snp, genotype, file = \"{_output}\")"
   ]
  },
  {
   "cell_type": "markdown",
   "metadata": {
    "kernel": "SoS"
   },
   "source": [
    "### Auto model\n",
    "\n",
    "save `beta_auto`, `df_beta`, `corr`, `NCORES`,`info_snp`, `genotype` as `AutoBeta.Rdata`"
   ]
  },
  {
   "cell_type": "code",
   "execution_count": null,
   "metadata": {
    "kernel": "SoS"
   },
   "outputs": [],
   "source": [
    "[auto_50]\n",
    "\n",
    "input: ldreg_out\n",
    "output: auto_beta\n",
    "\n",
    "R: expand=True\n",
    "    library(bigsnpr)\n",
    "    library(data.table)\n",
    "    load(\"{_input}\")\n",
    "    # Get adjusted beta from the auto model\n",
    "    multi_auto <- snp_ldpred2_auto(\n",
    "        corr,\n",
    "        df_beta,\n",
    "        h2_init = h2_est,\n",
    "        vec_p_init = seq_log(1e-4, 0.9, length.out = 30),\n",
    "        ncores = NCORES\n",
    "    )\n",
    "    beta_auto <- sapply(multi_auto, function(auto)\n",
    "        auto$beta_est)\n",
    "    # save data\n",
    "    save(beta_auto, df_beta,multi_auto, corr, NCORES,info_snp, genotype, file = \"{_output}\")"
   ]
  },
  {
   "cell_type": "markdown",
   "metadata": {
    "kernel": "SoS"
   },
   "source": [
    "## Get PRS"
   ]
  },
  {
   "cell_type": "markdown",
   "metadata": {
    "kernel": "SoS"
   },
   "source": [
    "### Infinitesimal model\n",
    "\n",
    "save `pred_inf` as `InfPrs.RData`"
   ]
  },
  {
   "cell_type": "code",
   "execution_count": null,
   "metadata": {
    "kernel": "SoS"
   },
   "outputs": [],
   "source": [
    "[inf_60]\n",
    "\n",
    "input: inf_beta\n",
    "output: inf_prs\n",
    "\n",
    "R: expand=True\n",
    "    library(bigsnpr)\n",
    "    library(data.table)\n",
    "    load(\"{_input}\")\n",
    "    # calculate PRS for all samples\n",
    "    ind.test <- 1:nrow(genotype)\n",
    "    pred_inf <- big_prodVec(    genotype,\n",
    "                                beta_inf,\n",
    "                                ind.row = ind.test,\n",
    "                                ind.col = info_snp$`_NUM_ID_`)\n",
    "    save(pred_inf, file = \"{_output}\")"
   ]
  },
  {
   "cell_type": "markdown",
   "metadata": {
    "kernel": "SoS"
   },
   "source": [
    "### Grid model\n",
    "save `pred_grid` as `GridPrs.RData`"
   ]
  },
  {
   "cell_type": "code",
   "execution_count": null,
   "metadata": {
    "kernel": "SoS"
   },
   "outputs": [],
   "source": [
    "[grid_60]\n",
    "\n",
    "input: grid_beta\n",
    "output: grid_prs\n",
    "\n",
    "R: expand=True\n",
    "    library(bigsnpr)\n",
    "    library(data.table)\n",
    "    load(\"{_input}\")\n",
    "    ind.test <- 1:nrow(genotype)\n",
    "    pred_grid <- big_prodMat(   genotype, \n",
    "                                beta_grid, \n",
    "                                ind.col = info_snp$`_NUM_ID_`)\n",
    "    save(pred_grid, file = \"{_output}\")"
   ]
  },
  {
   "cell_type": "markdown",
   "metadata": {
    "kernel": "SoS"
   },
   "source": [
    "### Auto model\n",
    "\n",
    "save `pred_auto` as `AutoPrs.RData`"
   ]
  },
  {
   "cell_type": "code",
   "execution_count": null,
   "metadata": {
    "kernel": "SoS"
   },
   "outputs": [],
   "source": [
    "[auto_60]\n",
    "\n",
    "input: auto_beta\n",
    "output: autoprs = auto_prs, convplot = conv_plot \n",
    "\n",
    "R: expand=True\n",
    "    library(bigsnpr)\n",
    "    library(data.table)\n",
    "    library(ggplot2)\n",
    "    load(\"{_input}\")\n",
    "    auto <- multi_auto[[29]]\n",
    "    plot_grid(\n",
    "      qplot(y = auto$path_p_est) +\n",
    "        theme_bigstatsr() +\n",
    "        geom_hline(yintercept = auto$p_est, col = \"blue\") +\n",
    "        scale_y_log10() +\n",
    "        labs(y = \"p\"),\n",
    "      qplot(y = auto$path_h2_est) +\n",
    "        theme_bigstatsr() +\n",
    "        geom_hline(yintercept = auto$h2_est, col = \"blue\") +\n",
    "        labs(y = \"h2\"),\n",
    "      ncol = 1, align = \"hv\"\n",
    "    )\n",
    "    ggsave(\"{_output[\"convplot\"]}\", width = 10, height = 7)\n",
    "    #save(pred_auto, file = \"{_output[\"autoprs\"]}\")"
   ]
  }
 ],
 "metadata": {
  "kernelspec": {
   "display_name": "SoS",
   "language": "sos",
   "name": "sos"
  },
  "language_info": {
   "codemirror_mode": "sos",
   "file_extension": ".sos",
   "mimetype": "text/x-sos",
   "name": "sos",
   "nbconvert_exporter": "sos_notebook.converter.SoS_Exporter",
   "pygments_lexer": "sos"
  },
  "sos": {
   "kernels": [
    [
     "Bash",
     "bash",
     "Bash",
     "#E6EEFF",
     "shell"
    ],
    [
     "SoS",
     "sos",
     "",
     "",
     "sos"
    ]
   ],
   "version": "0.22.4"
  },
  "toc-autonumbering": true,
  "toc-showmarkdowntxt": false
 },
 "nbformat": 4,
 "nbformat_minor": 4
}
