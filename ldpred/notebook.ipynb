{
 "cells": [
  {
   "cell_type": "markdown",
   "metadata": {},
   "source": [
    "# Notebook"
   ]
  },
  {
   "cell_type": "markdown",
   "metadata": {},
   "source": [
    "Polygenic risk score (PRSs) -> predict complex disease risk\n",
    "\n",
    "sample size increase -> more accurate\n",
    "\n",
    "Standard approach for calculating risk scores: linkage disequilibrium (LD)-based marker pruning and applying a p value threshold to association statistics."
   ]
  },
  {
   "cell_type": "markdown",
   "metadata": {},
   "source": [
    "## 1. Introduction"
   ]
  },
  {
   "cell_type": "markdown",
   "metadata": {},
   "source": [
    "Current PRS methods do not account for the effects of linkage disequilibrium (LD)\n",
    "\n",
    "Solutions:\n",
    "\n",
    "* require genotype data as input (genomic BLUP)\n",
    "\n",
    "* LDpred, a Bayesian PRS that estimates posterior mean causaul effect sizes from GWAS (genome-wide association study) summary statistics by assuming a prior for the genetic architecture and LD information from a reference panel.\n",
    "\n",
    "Compare LDpred, P+T and other approaches"
   ]
  },
  {
   "cell_type": "markdown",
   "metadata": {},
   "source": [
    "## 2. Methods"
   ]
  },
  {
   "cell_type": "markdown",
   "metadata": {},
   "source": [
    "**LDpred** calculates the **posterior mean effects** from GWAS summary statistics by conditioning on a **genetic *architecture* prior** and **LD information from a reference panel**\n",
    "\n",
    "1. genetic *architecture* prior\n",
    "\n",
    "The **prior for effect sizes** is a point-normal mixture distribution (allows for non-infinitesimal genetic *architectures*), has 2 parameters: \n",
    "\n",
    "* the **heritability (parameter) explained by the genotypes**\n",
    "\n",
    "estimated from GWAS summary statistiscs and accounts for sampling noise and LD (details\n",
    "\n",
    "and \n",
    "\n",
    "* **the fraction of causal markers** (i.e., the fraction of markers with non-zero effects)\n",
    "\n",
    "**multiple LDpred risk scores** are calculated with the use of priors with varying fractions of markers with non-zero effects.\n",
    "\n",
    "2. LD information from a reference panel\n",
    "\n",
    "3. Estimate the **posterior mean effect sizes** via the **Markov chain Monte Carlo (MCMC)** method and apply them to validation data to **obtain PRSs**\n"
   ]
  },
  {
   "cell_type": "markdown",
   "metadata": {},
   "source": [
    "### 2.1 Phenotype Model"
   ]
  },
  {
   "cell_type": "markdown",
   "metadata": {},
   "source": [
    "Y(N * 1),X (N * M): centered and standardized phenotype vector and genotype matrix\n",
    "\n",
    "$$\n",
    "Y=\\sum_{i=1}^MX_i\\beta_i+\\epsilon\n",
    "$$\n",
    "\n",
    "$\\epsilon$: environmental and noise contribution\n",
    "\n",
    "Idealy, The (marginal) least-squares estimate of an individual marker effect is $\\hat\\beta_i=X_i^\\prime Y/N$\n",
    "\n",
    "In practice, with other summary statistics such as p value and direction of the effect estimates. $\\hat\\beta_i=s_i(z_i/\\sqrt n)$"
   ]
  },
  {
   "cell_type": "markdown",
   "metadata": {},
   "source": [
    "### 2.2 Unadjusted PRS"
   ]
  },
  {
   "cell_type": "markdown",
   "metadata": {},
   "source": [
    "$$\n",
    "S_i=\\sum_{j=1}^M X_{ij} \\hat\\beta_j\n",
    "$$"
   ]
  },
  {
   "cell_type": "markdown",
   "metadata": {},
   "source": [
    "### 2.3 P+T"
   ]
  },
  {
   "cell_type": "markdown",
   "metadata": {},
   "source": [
    "Informed LD pruning (LD clumping) (like lasso?) and applying p value thresholding."
   ]
  },
  {
   "cell_type": "markdown",
   "metadata": {},
   "source": [
    "### 2.4 Bpred: Bayesian Approach in the Special Case of No LD"
   ]
  },
  {
   "cell_type": "markdown",
   "metadata": {},
   "source": [
    "The quantity of interest is the posterior mean marker effect given LD information from the GWAS sample and the GWAS summary statistics.\n",
    "\n",
    "$$\n",
    "E(Y \\mid \\tilde{\\beta}, \\widehat{D})=\\sum_{i=1}^{M} X_{i}^{\\prime} E\\left(\\beta_{i} \\mid \\tilde{\\beta}, \\widehat{D}\\right)\n",
    "$$\n",
    "\n",
    "Estimate the local LD structure in the training data from the independent validation data\n",
    "\n",
    "The variance of the trait:\n",
    "\n",
    "$$\n",
    "\\operatorname{Var}(Y)=h_{g}^{2} \\Theta+\\left(1-h_{g}^{2}\\right) \\mathrm{I}\n",
    "$$\n",
    "\n",
    "where $h_{g}^{2}$ denotes the **heritability explained by the genotyped variants**, and $\\Theta=X X^{\\prime} / M$ is the SNP-based genetic **relationship matrix**. \n",
    "\n",
    "We can obtain a trait with the desired covariance structure if we sample the betas independently with mean 0 and variance $h_g^2/M$.\n",
    "\n",
    "---"
   ]
  },
  {
   "cell_type": "markdown",
   "metadata": {},
   "source": [
    "**Infinitesimal model** considering following Gaussian prior:\n",
    "$$\n",
    "\\beta_{i} \\sim_{i i d} N\\left(0,\\left(h_{g}^{2} / M\\right)\\right)\n",
    "$$\n",
    "Posterior mean:\n",
    "$$\n",
    "E\\left(\\beta_{i} \\mid \\tilde{\\beta}\\right)=E\\left(\\beta_{i} \\mid \\tilde{\\beta}_{i}\\right)=\\left(\\frac{h_{g}^{2}}{h_{g}^{2}+\\frac{M}{N}}\\right) \\tilde{\\beta}_{i}\n",
    "$$\n",
    "Expected squared correlation between the unadjusted PRS\n",
    "(with **unlinked** markers) and the phenotype:\n",
    "$$\n",
    "\\left(\\frac{h_{g}^{2}}{h_{g}^{2}+\\frac{M}{N}}\\right) h_{g}^{2}\n",
    "$$\n",
    "---\n",
    "**Non-infinitesimal model** considering following Gaussian mixture prior:\n",
    "$$\n",
    "\\beta_{i} \\sim_{i i d}\\left\\{\\begin{array}{c}\n",
    "N\\left(0, \\frac{h_{g}^{2}}{M p}\\right) \\text { with probability } p \\\\\n",
    "0 \\text { with probability }(1-p)\n",
    "\\end{array}\\right.\n",
    "$$\n",
    "where $p$ is the probability that a marker is drawn from a Gaussian distribution, i.e., the fraction of causal markers. \n",
    "\n",
    "Posterior mean:\n",
    "$$\n",
    "\\mathrm{E}\\left(\\beta_{i} \\mid \\tilde{\\beta}_{i}\\right)=\\left(\\frac{h_{g}^{2}}{h_{g}^{2}+\\frac{M p}{N}}\\right) \\bar{p}_{i} \\tilde{\\beta}_{i}\n",
    "$$\n",
    "where $\\bar{p}_{i}$ is the posterior probability that the $i^{\\text {th }}$ marker is causal and can be calculated analytically."
   ]
  },
  {
   "cell_type": "markdown",
   "metadata": {},
   "source": [
    "### 2.5 LDpred: Bayesian Approach in the Presence of LD"
   ]
  },
  {
   "cell_type": "markdown",
   "metadata": {},
   "source": [
    "Assume distant markers are unlinked, the posterior mean for the effect sizes *within a small region l* under an **infinitesimal model** (_LDpred-inf_)\n",
    "$$\n",
    "E\\left(\\beta^{l} \\mid \\tilde{\\beta}^{l}, D\\right) \\approx\\left(\\frac{M}{N h_{g}^{2}} I+D_{l}\\right)^{-1} \\tilde{\\beta}^{l}\n",
    "$$\n",
    "\n",
    "LDpred-inf is therefore a natural extension of the genomic BLUP to summary statistics\n",
    "\n",
    "---\n",
    "\n",
    "LDpred approximates the posterior mean under a\n",
    "non-infinitesimal Gaussian mixture prior numerically by using an approximate **MCMC Gibbs sampler** (Appendix A)\n",
    "\n",
    "Ensure Convergence:\n",
    "\n",
    "shinkage factor $c=\\min \\left(1,\\left(\\widehat{h}_{g}^{2} /\\left(\\tilde{h}_{g}^{2}\\right)_{i}\\right)\\right)$ used to shink $\\bar{p}_{i}$, where $\\hat{h}_{g}^{2}$ is the estimated heritability based on an aggregate approach (see below), and $\\left(\\tilde{h}_{g}^{2}\\right)_{i}$ is the estimated genome-wide heritability at each big iteration."
   ]
  },
  {
   "cell_type": "markdown",
   "metadata": {},
   "source": [
    "Practical Considerations:\n",
    "\n",
    "LD radius and the fraction p of non-zero effects in the prior these two parameters of LDpred\n",
    "\n",
    "When using LDpred, we recommend that SNP weights (posterior mean effect sizes) are calculated for exactly the SNPs used in the validation data (intersection)"
   ]
  },
  {
   "cell_type": "markdown",
   "metadata": {},
   "source": [
    "### 2.6 Some dataset??? (No idea)"
   ]
  },
  {
   "cell_type": "markdown",
   "metadata": {},
   "source": [
    "* WTCCC Genotype Data\n",
    "\n",
    "* Summary Statistics and Independent Validation Datasets\n",
    "\n",
    "* SCZ Validation Datasets with Non-European Ancestry"
   ]
  },
  {
   "cell_type": "markdown",
   "metadata": {},
   "source": [
    "### 2.7 Prediction-Accuracy Metrics"
   ]
  },
  {
   "cell_type": "markdown",
   "metadata": {},
   "source": [
    "For quantitative traits, Squared correlation ($R^2$)\n",
    "\n",
    "For case-control traits, Nagelkerke R2, observed-scale R2, liability-scale R2, and the area under the curve (AUC).\n",
    "\n",
    "All of the reported prediction R2 values were adjusted for the top five principal components (PCs) in the validation sample (top three PCs for BC) ????? (No idea）"
   ]
  },
  {
   "cell_type": "markdown",
   "metadata": {},
   "source": [
    "...."
   ]
  },
  {
   "cell_type": "code",
   "execution_count": null,
   "metadata": {},
   "outputs": [],
   "source": []
  }
 ],
 "metadata": {
  "kernelspec": {
   "display_name": "Markdown",
   "language": "markdown",
   "name": "markdown"
  },
  "language_info": {
   "codemirror_mode": "markdown",
   "file_extension": ".md",
   "mimetype": "text/markdown",
   "name": "Markdown",
   "pygments_lexer": "markdown"
  }
 },
 "nbformat": 4,
 "nbformat_minor": 4
}
