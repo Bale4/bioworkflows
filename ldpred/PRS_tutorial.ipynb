{
 "cells": [
  {
   "cell_type": "markdown",
   "id": "further-desktop",
   "metadata": {
    "kernel": "SoS"
   },
   "source": [
    "# Computing polygenic risk scores using LDpred2"
   ]
  },
  {
   "cell_type": "markdown",
   "id": "sharp-canadian",
   "metadata": {
    "kernel": "SoS"
   },
   "source": [
    "This polygenic risk scores (PRS) tutorial was developed using GWAS summary statistics, and 1000 Genome. \n",
    "\n",
    "As an exmple in this tutorial, we used the 483 European samples from 1000 Genome project and GWAS data of height to calculate PRS.\n",
    "\n",
    "If you do not have enough data to use as LD reference, the author of LDpred2 provided an [LD reference](https://figshare.com/articles/dataset/European_LD_reference/13034123) that can be used directly."
   ]
  },
  {
   "cell_type": "markdown",
   "id": "tracked-interpretation",
   "metadata": {
    "kernel": "SoS"
   },
   "source": [
    "## Data description download link\n",
    "The data are stored in a directory called \"tmp-data\". \n",
    "\n",
    "    GWAS: height; SNPs on chromosome 2.\n",
    "    1000 Genome: 483 European samples, 489805 SNPs.\n",
    "    HapMap3: 1120696 SNPs."
   ]
  },
  {
   "cell_type": "markdown",
   "id": "laughing-elements",
   "metadata": {
    "kernel": "SoS"
   },
   "source": [
    "## Load R package `bigsnpr`"
   ]
  },
  {
   "cell_type": "code",
   "execution_count": 1,
   "id": "healthy-activity",
   "metadata": {
    "kernel": "R"
   },
   "outputs": [
    {
     "name": "stderr",
     "output_type": "stream",
     "text": [
      "Loading required package: bigstatsr\n",
      "\n"
     ]
    }
   ],
   "source": [
    "# Load packages bigsnpr and bigstatsr\n",
    "library(bigsnpr)"
   ]
  },
  {
   "cell_type": "markdown",
   "id": "cross-liechtenstein",
   "metadata": {
    "kernel": "R"
   },
   "source": [
    "## Load genotype data and summary statistics"
   ]
  },
  {
   "cell_type": "markdown",
   "id": "inappropriate-fossil",
   "metadata": {
    "kernel": "R"
   },
   "source": [
    "### Obtain HapMap3 SNPs\n",
    "In practice, until we find a better set of variants, we recommend using the HapMap3 variants used in PRS-CS and the LDpred2 papers.\n",
    "\n",
    "SNPs present on the 1000 Genomes reference panel and the HapMap3 panel were kept to calculate PRS."
   ]
  },
  {
   "cell_type": "code",
   "execution_count": 15,
   "id": "turkish-scoop",
   "metadata": {
    "kernel": "R"
   },
   "outputs": [],
   "source": [
    "info <- readRDS(url(\"https://github.com/privefl/bigsnpr/raw/master/data-raw/hm3_variants.rds\"))"
   ]
  },
  {
   "cell_type": "markdown",
   "id": "leading-desperate",
   "metadata": {
    "kernel": "R"
   },
   "source": [
    "There are 1120696 SNPs."
   ]
  },
  {
   "cell_type": "code",
   "execution_count": 19,
   "id": "saving-think",
   "metadata": {
    "kernel": "R"
   },
   "outputs": [
    {
     "data": {
      "text/html": [
       "<style>\n",
       ".list-inline {list-style: none; margin:0; padding: 0}\n",
       ".list-inline>li {display: inline-block}\n",
       ".list-inline>li:not(:last-child)::after {content: \"\\00b7\"; padding: 0 .5ex}\n",
       "</style>\n",
       "<ol class=list-inline><li>1120696</li><li>8</li></ol>\n"
      ],
      "text/latex": [
       "\\begin{enumerate*}\n",
       "\\item 1120696\n",
       "\\item 8\n",
       "\\end{enumerate*}\n"
      ],
      "text/markdown": [
       "1. 1120696\n",
       "2. 8\n",
       "\n",
       "\n"
      ],
      "text/plain": [
       "[1] 1120696       8"
      ]
     },
     "metadata": {},
     "output_type": "display_data"
    }
   ],
   "source": [
    "dim(info)"
   ]
  },
  {
   "cell_type": "code",
   "execution_count": 22,
   "id": "sensitive-marsh",
   "metadata": {
    "kernel": "R"
   },
   "outputs": [
    {
     "data": {
      "text/html": [
       "<table>\n",
       "<caption>A data.frame: 6 × 8</caption>\n",
       "<thead>\n",
       "\t<tr><th></th><th scope=col>chr</th><th scope=col>rsid</th><th scope=col>pos</th><th scope=col>a1</th><th scope=col>a0</th><th scope=col>maf</th><th scope=col>pos_hg19</th><th scope=col>pos_hg17</th></tr>\n",
       "\t<tr><th></th><th scope=col>&lt;int&gt;</th><th scope=col>&lt;chr&gt;</th><th scope=col>&lt;int&gt;</th><th scope=col>&lt;chr&gt;</th><th scope=col>&lt;chr&gt;</th><th scope=col>&lt;dbl&gt;</th><th scope=col>&lt;int&gt;</th><th scope=col>&lt;int&gt;</th></tr>\n",
       "</thead>\n",
       "<tbody>\n",
       "\t<tr><th scope=row>1</th><td>1</td><td>rs3131972 </td><td>752721</td><td>A</td><td>G</td><td>0.16100</td><td>762858</td><td>802721</td></tr>\n",
       "\t<tr><th scope=row>2</th><td>1</td><td>rs3131969 </td><td>754182</td><td>A</td><td>G</td><td>0.12820</td><td>764319</td><td>804182</td></tr>\n",
       "\t<tr><th scope=row>3</th><td>1</td><td>rs1048488 </td><td>760912</td><td>C</td><td>T</td><td>0.16000</td><td>771049</td><td>810912</td></tr>\n",
       "\t<tr><th scope=row>4</th><td>1</td><td>rs12562034</td><td>768448</td><td>A</td><td>G</td><td>0.09245</td><td>778585</td><td>818448</td></tr>\n",
       "\t<tr><th scope=row>5</th><td>1</td><td>rs4040617 </td><td>779322</td><td>G</td><td>A</td><td>0.11830</td><td>789459</td><td>829322</td></tr>\n",
       "\t<tr><th scope=row>6</th><td>1</td><td>rs4970383 </td><td>838555</td><td>A</td><td>C</td><td>0.23860</td><td>848692</td><td>888555</td></tr>\n",
       "</tbody>\n",
       "</table>\n"
      ],
      "text/latex": [
       "A data.frame: 6 × 8\n",
       "\\begin{tabular}{r|llllllll}\n",
       "  & chr & rsid & pos & a1 & a0 & maf & pos\\_hg19 & pos\\_hg17\\\\\n",
       "  & <int> & <chr> & <int> & <chr> & <chr> & <dbl> & <int> & <int>\\\\\n",
       "\\hline\n",
       "\t1 & 1 & rs3131972  & 752721 & A & G & 0.16100 & 762858 & 802721\\\\\n",
       "\t2 & 1 & rs3131969  & 754182 & A & G & 0.12820 & 764319 & 804182\\\\\n",
       "\t3 & 1 & rs1048488  & 760912 & C & T & 0.16000 & 771049 & 810912\\\\\n",
       "\t4 & 1 & rs12562034 & 768448 & A & G & 0.09245 & 778585 & 818448\\\\\n",
       "\t5 & 1 & rs4040617  & 779322 & G & A & 0.11830 & 789459 & 829322\\\\\n",
       "\t6 & 1 & rs4970383  & 838555 & A & C & 0.23860 & 848692 & 888555\\\\\n",
       "\\end{tabular}\n"
      ],
      "text/markdown": [
       "\n",
       "A data.frame: 6 × 8\n",
       "\n",
       "| <!--/--> | chr &lt;int&gt; | rsid &lt;chr&gt; | pos &lt;int&gt; | a1 &lt;chr&gt; | a0 &lt;chr&gt; | maf &lt;dbl&gt; | pos_hg19 &lt;int&gt; | pos_hg17 &lt;int&gt; |\n",
       "|---|---|---|---|---|---|---|---|---|\n",
       "| 1 | 1 | rs3131972  | 752721 | A | G | 0.16100 | 762858 | 802721 |\n",
       "| 2 | 1 | rs3131969  | 754182 | A | G | 0.12820 | 764319 | 804182 |\n",
       "| 3 | 1 | rs1048488  | 760912 | C | T | 0.16000 | 771049 | 810912 |\n",
       "| 4 | 1 | rs12562034 | 768448 | A | G | 0.09245 | 778585 | 818448 |\n",
       "| 5 | 1 | rs4040617  | 779322 | G | A | 0.11830 | 789459 | 829322 |\n",
       "| 6 | 1 | rs4970383  | 838555 | A | C | 0.23860 | 848692 | 888555 |\n",
       "\n"
      ],
      "text/plain": [
       "  chr rsid       pos    a1 a0 maf     pos_hg19 pos_hg17\n",
       "1 1   rs3131972  752721 A  G  0.16100 762858   802721  \n",
       "2 1   rs3131969  754182 A  G  0.12820 764319   804182  \n",
       "3 1   rs1048488  760912 C  T  0.16000 771049   810912  \n",
       "4 1   rs12562034 768448 A  G  0.09245 778585   818448  \n",
       "5 1   rs4040617  779322 G  A  0.11830 789459   829322  \n",
       "6 1   rs4970383  838555 A  C  0.23860 848692   888555  "
      ]
     },
     "metadata": {},
     "output_type": "display_data"
    }
   ],
   "source": [
    "head(info)"
   ]
  },
  {
   "cell_type": "markdown",
   "id": "textile-bacteria",
   "metadata": {
    "kernel": "R"
   },
   "source": [
    "### Obtain summary statistic and merge with HapMap3\n",
    "To match variants contained in genotype data and summary statistics, the variables \"chr\" (chromosome number), \"pos\" (genetic position), \"a0\" (reference allele) and \"a1\" (derived allele) should be available in the summary statistics and in the genotype data. These 4 variables are used to match variants between the two data frames."
   ]
  },
  {
   "cell_type": "code",
   "execution_count": 11,
   "id": "dangerous-violin",
   "metadata": {
    "kernel": "R"
   },
   "outputs": [],
   "source": [
    "# Read summary statistic\n",
    "sumstats <- bigreadr::fread2(\"post-qc/Height.QC.gz\") \n",
    "# Rename headers required by LDpred2\n",
    "names(sumstats) <- c(\"chr\", \"pos\", \"rsid\", \"a1\", \"a0\", \"n_eff\", \"beta_se\", \"p\", \"OR\", \"INFO\", \"MAF\")\n",
    "# Transform the OR into log(OR)\n",
    "sumstats$beta <- log(sumstats$OR)"
   ]
  },
  {
   "cell_type": "code",
   "execution_count": 13,
   "id": "tracked-cookie",
   "metadata": {
    "kernel": "R"
   },
   "outputs": [
    {
     "data": {
      "text/html": [
       "499617"
      ],
      "text/latex": [
       "499617"
      ],
      "text/markdown": [
       "499617"
      ],
      "text/plain": [
       "[1] 499617"
      ]
     },
     "metadata": {},
     "output_type": "display_data"
    }
   ],
   "source": [
    "nrow(sumstats)"
   ]
  },
  {
   "cell_type": "markdown",
   "id": "simplified-custom",
   "metadata": {
    "kernel": "R"
   },
   "source": [
    "Keep GWAS SNPs that match with HapMap3."
   ]
  },
  {
   "cell_type": "code",
   "execution_count": 16,
   "id": "amino-symphony",
   "metadata": {
    "kernel": "R"
   },
   "outputs": [],
   "source": [
    "sumstats <- sumstats[sumstats$rsid %in% info$rsid,]"
   ]
  },
  {
   "cell_type": "code",
   "execution_count": 18,
   "id": "polyphonic-freeware",
   "metadata": {
    "kernel": "R"
   },
   "outputs": [
    {
     "data": {
      "text/html": [
       "136004"
      ],
      "text/latex": [
       "136004"
      ],
      "text/markdown": [
       "136004"
      ],
      "text/plain": [
       "[1] 136004"
      ]
     },
     "metadata": {},
     "output_type": "display_data"
    }
   ],
   "source": [
    "nrow(sumstats)"
   ]
  },
  {
   "cell_type": "code",
   "execution_count": 17,
   "id": "entertaining-catalog",
   "metadata": {
    "kernel": "R"
   },
   "outputs": [
    {
     "data": {
      "text/html": [
       "<table>\n",
       "<caption>A data.frame: 6 × 12</caption>\n",
       "<thead>\n",
       "\t<tr><th></th><th scope=col>chr</th><th scope=col>pos</th><th scope=col>rsid</th><th scope=col>a1</th><th scope=col>a0</th><th scope=col>n_eff</th><th scope=col>beta_se</th><th scope=col>p</th><th scope=col>OR</th><th scope=col>INFO</th><th scope=col>MAF</th><th scope=col>beta</th></tr>\n",
       "\t<tr><th></th><th scope=col>&lt;int&gt;</th><th scope=col>&lt;int&gt;</th><th scope=col>&lt;chr&gt;</th><th scope=col>&lt;chr&gt;</th><th scope=col>&lt;chr&gt;</th><th scope=col>&lt;int&gt;</th><th scope=col>&lt;dbl&gt;</th><th scope=col>&lt;dbl&gt;</th><th scope=col>&lt;dbl&gt;</th><th scope=col>&lt;dbl&gt;</th><th scope=col>&lt;dbl&gt;</th><th scope=col>&lt;dbl&gt;</th></tr>\n",
       "</thead>\n",
       "<tbody>\n",
       "\t<tr><th scope=row>2</th><td>1</td><td>768448</td><td>rs12562034</td><td>A</td><td>G</td><td>388028</td><td>0.00329472</td><td>0.834808000</td><td>1.0006873</td><td>0.8958935</td><td>0.3368458</td><td> 0.00068708</td></tr>\n",
       "\t<tr><th scope=row>3</th><td>1</td><td>779322</td><td>rs4040617 </td><td>G</td><td>A</td><td>388028</td><td>0.00303344</td><td>0.428970000</td><td>0.9976036</td><td>0.8975083</td><td>0.3773680</td><td>-0.00239932</td></tr>\n",
       "\t<tr><th scope=row>8</th><td>1</td><td>838555</td><td>rs4970383 </td><td>A</td><td>C</td><td>388028</td><td>0.00235773</td><td>0.150993000</td><td>0.9966199</td><td>0.9077165</td><td>0.3271640</td><td>-0.00338578</td></tr>\n",
       "\t<tr><th scope=row>18</th><td>1</td><td>873558</td><td>rs1110052 </td><td>G</td><td>T</td><td>388028</td><td>0.00225578</td><td>0.000285674</td><td>0.9918494</td><td>0.9004758</td><td>0.3680888</td><td>-0.00818396</td></tr>\n",
       "\t<tr><th scope=row>19</th><td>1</td><td>880238</td><td>rs3748592 </td><td>A</td><td>G</td><td>388028</td><td>0.00450310</td><td>0.488653000</td><td>1.0031231</td><td>0.8728364</td><td>0.4104163</td><td> 0.00311819</td></tr>\n",
       "\t<tr><th scope=row>20</th><td>1</td><td>880390</td><td>rs3748593 </td><td>A</td><td>C</td><td>388028</td><td>0.00635197</td><td>0.272881000</td><td>0.9930596</td><td>0.8992809</td><td>0.4930243</td><td>-0.00696463</td></tr>\n",
       "</tbody>\n",
       "</table>\n"
      ],
      "text/latex": [
       "A data.frame: 6 × 12\n",
       "\\begin{tabular}{r|llllllllllll}\n",
       "  & chr & pos & rsid & a1 & a0 & n\\_eff & beta\\_se & p & OR & INFO & MAF & beta\\\\\n",
       "  & <int> & <int> & <chr> & <chr> & <chr> & <int> & <dbl> & <dbl> & <dbl> & <dbl> & <dbl> & <dbl>\\\\\n",
       "\\hline\n",
       "\t2 & 1 & 768448 & rs12562034 & A & G & 388028 & 0.00329472 & 0.834808000 & 1.0006873 & 0.8958935 & 0.3368458 &  0.00068708\\\\\n",
       "\t3 & 1 & 779322 & rs4040617  & G & A & 388028 & 0.00303344 & 0.428970000 & 0.9976036 & 0.8975083 & 0.3773680 & -0.00239932\\\\\n",
       "\t8 & 1 & 838555 & rs4970383  & A & C & 388028 & 0.00235773 & 0.150993000 & 0.9966199 & 0.9077165 & 0.3271640 & -0.00338578\\\\\n",
       "\t18 & 1 & 873558 & rs1110052  & G & T & 388028 & 0.00225578 & 0.000285674 & 0.9918494 & 0.9004758 & 0.3680888 & -0.00818396\\\\\n",
       "\t19 & 1 & 880238 & rs3748592  & A & G & 388028 & 0.00450310 & 0.488653000 & 1.0031231 & 0.8728364 & 0.4104163 &  0.00311819\\\\\n",
       "\t20 & 1 & 880390 & rs3748593  & A & C & 388028 & 0.00635197 & 0.272881000 & 0.9930596 & 0.8992809 & 0.4930243 & -0.00696463\\\\\n",
       "\\end{tabular}\n"
      ],
      "text/markdown": [
       "\n",
       "A data.frame: 6 × 12\n",
       "\n",
       "| <!--/--> | chr &lt;int&gt; | pos &lt;int&gt; | rsid &lt;chr&gt; | a1 &lt;chr&gt; | a0 &lt;chr&gt; | n_eff &lt;int&gt; | beta_se &lt;dbl&gt; | p &lt;dbl&gt; | OR &lt;dbl&gt; | INFO &lt;dbl&gt; | MAF &lt;dbl&gt; | beta &lt;dbl&gt; |\n",
       "|---|---|---|---|---|---|---|---|---|---|---|---|---|\n",
       "| 2 | 1 | 768448 | rs12562034 | A | G | 388028 | 0.00329472 | 0.834808000 | 1.0006873 | 0.8958935 | 0.3368458 |  0.00068708 |\n",
       "| 3 | 1 | 779322 | rs4040617  | G | A | 388028 | 0.00303344 | 0.428970000 | 0.9976036 | 0.8975083 | 0.3773680 | -0.00239932 |\n",
       "| 8 | 1 | 838555 | rs4970383  | A | C | 388028 | 0.00235773 | 0.150993000 | 0.9966199 | 0.9077165 | 0.3271640 | -0.00338578 |\n",
       "| 18 | 1 | 873558 | rs1110052  | G | T | 388028 | 0.00225578 | 0.000285674 | 0.9918494 | 0.9004758 | 0.3680888 | -0.00818396 |\n",
       "| 19 | 1 | 880238 | rs3748592  | A | G | 388028 | 0.00450310 | 0.488653000 | 1.0031231 | 0.8728364 | 0.4104163 |  0.00311819 |\n",
       "| 20 | 1 | 880390 | rs3748593  | A | C | 388028 | 0.00635197 | 0.272881000 | 0.9930596 | 0.8992809 | 0.4930243 | -0.00696463 |\n",
       "\n"
      ],
      "text/plain": [
       "   chr pos    rsid       a1 a0 n_eff  beta_se    p           OR       \n",
       "2  1   768448 rs12562034 A  G  388028 0.00329472 0.834808000 1.0006873\n",
       "3  1   779322 rs4040617  G  A  388028 0.00303344 0.428970000 0.9976036\n",
       "8  1   838555 rs4970383  A  C  388028 0.00235773 0.150993000 0.9966199\n",
       "18 1   873558 rs1110052  G  T  388028 0.00225578 0.000285674 0.9918494\n",
       "19 1   880238 rs3748592  A  G  388028 0.00450310 0.488653000 1.0031231\n",
       "20 1   880390 rs3748593  A  C  388028 0.00635197 0.272881000 0.9930596\n",
       "   INFO      MAF       beta       \n",
       "2  0.8958935 0.3368458  0.00068708\n",
       "3  0.8975083 0.3773680 -0.00239932\n",
       "8  0.9077165 0.3271640 -0.00338578\n",
       "18 0.9004758 0.3680888 -0.00818396\n",
       "19 0.8728364 0.4104163  0.00311819\n",
       "20 0.8992809 0.4930243 -0.00696463"
      ]
     },
     "metadata": {},
     "output_type": "display_data"
    }
   ],
   "source": [
    "head(sumstats)"
   ]
  },
  {
   "cell_type": "markdown",
   "id": "ceramic-cycling",
   "metadata": {
    "kernel": "R"
   },
   "source": [
    "## Perform SNP matching between 1000 Genome and summary statistics. "
   ]
  },
  {
   "cell_type": "code",
   "execution_count": 25,
   "id": "devoted-practice",
   "metadata": {
    "kernel": "R"
   },
   "outputs": [],
   "source": [
    "# Get maximum amount of cores\n",
    "NCORES <- nb_cores()\n",
    "# Open a temporary file\n",
    "tmp <- tempfile(tmpdir = \"tmp-data\")"
   ]
  },
  {
   "cell_type": "code",
   "execution_count": 26,
   "id": "german-brand",
   "metadata": {
    "kernel": "R"
   },
   "outputs": [],
   "source": [
    "# Initialize variables for storing the LD score and LD matrix\n",
    "corr <- NULL\n",
    "ld <- NULL\n",
    "# We want to know the ordering of samples in the bed file \n",
    "fam.order <- NULL"
   ]
  },
  {
   "cell_type": "code",
   "execution_count": 27,
   "id": "adjustable-darwin",
   "metadata": {
    "kernel": "R"
   },
   "outputs": [],
   "source": [
    "# Obtain the genotype object\n",
    "obj.bigSNP <- snp_attach(\"post-qc/EUR.QC.rds\")"
   ]
  },
  {
   "cell_type": "markdown",
   "id": "african-soviet",
   "metadata": {
    "kernel": "R"
   },
   "source": [
    "We used SNP map in 1000 Genome. Here, we have 489805 SNPs."
   ]
  },
  {
   "cell_type": "code",
   "execution_count": 29,
   "id": "assisted-anxiety",
   "metadata": {
    "kernel": "R"
   },
   "outputs": [
    {
     "data": {
      "text/html": [
       "<style>\n",
       ".list-inline {list-style: none; margin:0; padding: 0}\n",
       ".list-inline>li {display: inline-block}\n",
       ".list-inline>li:not(:last-child)::after {content: \"\\00b7\"; padding: 0 .5ex}\n",
       "</style>\n",
       "<ol class=list-inline><li>'genotypes'</li><li>'fam'</li><li>'map'</li></ol>\n"
      ],
      "text/latex": [
       "\\begin{enumerate*}\n",
       "\\item 'genotypes'\n",
       "\\item 'fam'\n",
       "\\item 'map'\n",
       "\\end{enumerate*}\n"
      ],
      "text/markdown": [
       "1. 'genotypes'\n",
       "2. 'fam'\n",
       "3. 'map'\n",
       "\n",
       "\n"
      ],
      "text/plain": [
       "[1] \"genotypes\" \"fam\"       \"map\"      "
      ]
     },
     "metadata": {},
     "output_type": "display_data"
    }
   ],
   "source": [
    "names(obj.bigSNP)"
   ]
  },
  {
   "cell_type": "code",
   "execution_count": 31,
   "id": "statewide-programmer",
   "metadata": {
    "kernel": "R"
   },
   "outputs": [
    {
     "data": {
      "text/html": [
       "<style>\n",
       ".list-inline {list-style: none; margin:0; padding: 0}\n",
       ".list-inline>li {display: inline-block}\n",
       ".list-inline>li:not(:last-child)::after {content: \"\\00b7\"; padding: 0 .5ex}\n",
       "</style>\n",
       "<ol class=list-inline><li>483</li><li>489805</li></ol>\n"
      ],
      "text/latex": [
       "\\begin{enumerate*}\n",
       "\\item 483\n",
       "\\item 489805\n",
       "\\end{enumerate*}\n"
      ],
      "text/markdown": [
       "1. 483\n",
       "2. 489805\n",
       "\n",
       "\n"
      ],
      "text/plain": [
       "[1]    483 489805"
      ]
     },
     "metadata": {},
     "output_type": "display_data"
    }
   ],
   "source": [
    "dim(obj.bigSNP$genotypes)"
   ]
  },
  {
   "cell_type": "code",
   "execution_count": 33,
   "id": "gorgeous-austin",
   "metadata": {
    "kernel": "R"
   },
   "outputs": [
    {
     "data": {
      "text/html": [
       "<table>\n",
       "<caption>A data.frame: 6 × 6</caption>\n",
       "<thead>\n",
       "\t<tr><th></th><th scope=col>chromosome</th><th scope=col>marker.ID</th><th scope=col>genetic.dist</th><th scope=col>physical.pos</th><th scope=col>allele1</th><th scope=col>allele2</th></tr>\n",
       "\t<tr><th></th><th scope=col>&lt;int&gt;</th><th scope=col>&lt;chr&gt;</th><th scope=col>&lt;dbl&gt;</th><th scope=col>&lt;int&gt;</th><th scope=col>&lt;chr&gt;</th><th scope=col>&lt;chr&gt;</th></tr>\n",
       "</thead>\n",
       "<tbody>\n",
       "\t<tr><th scope=row>1</th><td>1</td><td>rs3131962 </td><td>0.490722</td><td>756604</td><td>A</td><td>G</td></tr>\n",
       "\t<tr><th scope=row>2</th><td>1</td><td>rs4040617 </td><td>0.500708</td><td>779322</td><td>G</td><td>A</td></tr>\n",
       "\t<tr><th scope=row>3</th><td>1</td><td>rs79373928</td><td>0.587220</td><td>801536</td><td>G</td><td>T</td></tr>\n",
       "\t<tr><th scope=row>4</th><td>1</td><td>rs11240779</td><td>0.620827</td><td>808631</td><td>G</td><td>A</td></tr>\n",
       "\t<tr><th scope=row>5</th><td>1</td><td>rs57181708</td><td>0.620827</td><td>809876</td><td>G</td><td>A</td></tr>\n",
       "\t<tr><th scope=row>6</th><td>1</td><td>rs4422948 </td><td>0.620827</td><td>835499</td><td>G</td><td>A</td></tr>\n",
       "</tbody>\n",
       "</table>\n"
      ],
      "text/latex": [
       "A data.frame: 6 × 6\n",
       "\\begin{tabular}{r|llllll}\n",
       "  & chromosome & marker.ID & genetic.dist & physical.pos & allele1 & allele2\\\\\n",
       "  & <int> & <chr> & <dbl> & <int> & <chr> & <chr>\\\\\n",
       "\\hline\n",
       "\t1 & 1 & rs3131962  & 0.490722 & 756604 & A & G\\\\\n",
       "\t2 & 1 & rs4040617  & 0.500708 & 779322 & G & A\\\\\n",
       "\t3 & 1 & rs79373928 & 0.587220 & 801536 & G & T\\\\\n",
       "\t4 & 1 & rs11240779 & 0.620827 & 808631 & G & A\\\\\n",
       "\t5 & 1 & rs57181708 & 0.620827 & 809876 & G & A\\\\\n",
       "\t6 & 1 & rs4422948  & 0.620827 & 835499 & G & A\\\\\n",
       "\\end{tabular}\n"
      ],
      "text/markdown": [
       "\n",
       "A data.frame: 6 × 6\n",
       "\n",
       "| <!--/--> | chromosome &lt;int&gt; | marker.ID &lt;chr&gt; | genetic.dist &lt;dbl&gt; | physical.pos &lt;int&gt; | allele1 &lt;chr&gt; | allele2 &lt;chr&gt; |\n",
       "|---|---|---|---|---|---|---|\n",
       "| 1 | 1 | rs3131962  | 0.490722 | 756604 | A | G |\n",
       "| 2 | 1 | rs4040617  | 0.500708 | 779322 | G | A |\n",
       "| 3 | 1 | rs79373928 | 0.587220 | 801536 | G | T |\n",
       "| 4 | 1 | rs11240779 | 0.620827 | 808631 | G | A |\n",
       "| 5 | 1 | rs57181708 | 0.620827 | 809876 | G | A |\n",
       "| 6 | 1 | rs4422948  | 0.620827 | 835499 | G | A |\n",
       "\n"
      ],
      "text/plain": [
       "  chromosome marker.ID  genetic.dist physical.pos allele1 allele2\n",
       "1 1          rs3131962  0.490722     756604       A       G      \n",
       "2 1          rs4040617  0.500708     779322       G       A      \n",
       "3 1          rs79373928 0.587220     801536       G       T      \n",
       "4 1          rs11240779 0.620827     808631       G       A      \n",
       "5 1          rs57181708 0.620827     809876       G       A      \n",
       "6 1          rs4422948  0.620827     835499       G       A      "
      ]
     },
     "metadata": {},
     "output_type": "display_data"
    }
   ],
   "source": [
    "head(obj.bigSNP$map)"
   ]
  },
  {
   "cell_type": "code",
   "execution_count": 66,
   "id": "interior-statistics",
   "metadata": {
    "kernel": "R"
   },
   "outputs": [
    {
     "data": {
      "text/html": [
       "<style>\n",
       ".list-inline {list-style: none; margin:0; padding: 0}\n",
       ".list-inline>li {display: inline-block}\n",
       ".list-inline>li:not(:last-child)::after {content: \"\\00b7\"; padding: 0 .5ex}\n",
       "</style>\n",
       "<ol class=list-inline><li>489805</li><li>6</li></ol>\n"
      ],
      "text/latex": [
       "\\begin{enumerate*}\n",
       "\\item 489805\n",
       "\\item 6\n",
       "\\end{enumerate*}\n"
      ],
      "text/markdown": [
       "1. 489805\n",
       "2. 6\n",
       "\n",
       "\n"
      ],
      "text/plain": [
       "[1] 489805      6"
      ]
     },
     "metadata": {},
     "output_type": "display_data"
    }
   ],
   "source": [
    "dim(obj.bigSNP$map)"
   ]
  },
  {
   "cell_type": "code",
   "execution_count": 68,
   "id": "herbal-passage",
   "metadata": {
    "kernel": "R"
   },
   "outputs": [],
   "source": [
    "# Extract the SNP information from the genotype\n",
    "map <- obj.bigSNP$map[-3]\n",
    "# Rename columns\n",
    "names(map) <- c(\"chr\", \"rsid\", \"pos\", \"a1\", \"a0\")"
   ]
  },
  {
   "cell_type": "markdown",
   "id": "agricultural-chick",
   "metadata": {
    "kernel": "R"
   },
   "source": [
    "Match SNPs from GWAS SNPs (already matched with HapMap3) with 1000 Genome.\n",
    "\n",
    "There are 134522 SNPs matched."
   ]
  },
  {
   "cell_type": "code",
   "execution_count": 35,
   "id": "tutorial-stream",
   "metadata": {
    "kernel": "R"
   },
   "outputs": [
    {
     "name": "stderr",
     "output_type": "stream",
     "text": [
      "136,004 variants to be matched.\n",
      "\n",
      "0 ambiguous SNPs have been removed.\n",
      "\n",
      "134,522 variants have been matched; 0 were flipped and 91 were reversed.\n",
      "\n"
     ]
    }
   ],
   "source": [
    "info_snp <- snp_match(sumstats, map)"
   ]
  },
  {
   "cell_type": "code",
   "execution_count": 41,
   "id": "copyrighted-asthma",
   "metadata": {
    "kernel": "R"
   },
   "outputs": [
    {
     "data": {
      "text/html": [
       "<table>\n",
       "<caption>A data.frame: 6 × 15</caption>\n",
       "<thead>\n",
       "\t<tr><th></th><th scope=col>chr</th><th scope=col>pos</th><th scope=col>a0</th><th scope=col>a1</th><th scope=col>rsid.ss</th><th scope=col>n_eff</th><th scope=col>beta_se</th><th scope=col>p</th><th scope=col>OR</th><th scope=col>INFO</th><th scope=col>MAF</th><th scope=col>beta</th><th scope=col>_NUM_ID_.ss</th><th scope=col>rsid</th><th scope=col>_NUM_ID_</th></tr>\n",
       "\t<tr><th></th><th scope=col>&lt;int&gt;</th><th scope=col>&lt;int&gt;</th><th scope=col>&lt;chr&gt;</th><th scope=col>&lt;chr&gt;</th><th scope=col>&lt;chr&gt;</th><th scope=col>&lt;int&gt;</th><th scope=col>&lt;dbl&gt;</th><th scope=col>&lt;dbl&gt;</th><th scope=col>&lt;dbl&gt;</th><th scope=col>&lt;dbl&gt;</th><th scope=col>&lt;dbl&gt;</th><th scope=col>&lt;dbl&gt;</th><th scope=col>&lt;int&gt;</th><th scope=col>&lt;chr&gt;</th><th scope=col>&lt;int&gt;</th></tr>\n",
       "</thead>\n",
       "<tbody>\n",
       "\t<tr><th scope=row>1</th><td>1</td><td>779322</td><td>A</td><td>G</td><td>rs4040617</td><td>388028</td><td>0.00303344</td><td>0.428970000</td><td>0.9976036</td><td>0.8975083</td><td>0.3773680</td><td>-0.00239932</td><td>2</td><td>rs4040617</td><td> 2</td></tr>\n",
       "\t<tr><th scope=row>2</th><td>1</td><td>838555</td><td>C</td><td>A</td><td>rs4970383</td><td>388028</td><td>0.00235773</td><td>0.150993000</td><td>0.9966199</td><td>0.9077165</td><td>0.3271640</td><td>-0.00338578</td><td>3</td><td>rs4970383</td><td> 7</td></tr>\n",
       "\t<tr><th scope=row>3</th><td>1</td><td>873558</td><td>T</td><td>G</td><td>rs1110052</td><td>388028</td><td>0.00225578</td><td>0.000285674</td><td>0.9918494</td><td>0.9004758</td><td>0.3680888</td><td>-0.00818396</td><td>4</td><td>rs1110052</td><td>17</td></tr>\n",
       "\t<tr><th scope=row>4</th><td>1</td><td>880238</td><td>G</td><td>A</td><td>rs3748592</td><td>388028</td><td>0.00450310</td><td>0.488653000</td><td>1.0031231</td><td>0.8728364</td><td>0.4104163</td><td> 0.00311819</td><td>5</td><td>rs3748592</td><td>18</td></tr>\n",
       "\t<tr><th scope=row>5</th><td>1</td><td>880390</td><td>C</td><td>A</td><td>rs3748593</td><td>388028</td><td>0.00635197</td><td>0.272881000</td><td>0.9930596</td><td>0.8992809</td><td>0.4930243</td><td>-0.00696463</td><td>6</td><td>rs3748593</td><td>19</td></tr>\n",
       "\t<tr><th scope=row>6</th><td>1</td><td>888659</td><td>C</td><td>T</td><td>rs3748597</td><td>388028</td><td>0.00450334</td><td>0.532409000</td><td>1.0028155</td><td>0.9041076</td><td>0.4979493</td><td> 0.00281159</td><td>7</td><td>rs3748597</td><td>23</td></tr>\n",
       "</tbody>\n",
       "</table>\n"
      ],
      "text/latex": [
       "A data.frame: 6 × 15\n",
       "\\begin{tabular}{r|lllllllllllllll}\n",
       "  & chr & pos & a0 & a1 & rsid.ss & n\\_eff & beta\\_se & p & OR & INFO & MAF & beta & \\_NUM\\_ID\\_.ss & rsid & \\_NUM\\_ID\\_\\\\\n",
       "  & <int> & <int> & <chr> & <chr> & <chr> & <int> & <dbl> & <dbl> & <dbl> & <dbl> & <dbl> & <dbl> & <int> & <chr> & <int>\\\\\n",
       "\\hline\n",
       "\t1 & 1 & 779322 & A & G & rs4040617 & 388028 & 0.00303344 & 0.428970000 & 0.9976036 & 0.8975083 & 0.3773680 & -0.00239932 & 2 & rs4040617 &  2\\\\\n",
       "\t2 & 1 & 838555 & C & A & rs4970383 & 388028 & 0.00235773 & 0.150993000 & 0.9966199 & 0.9077165 & 0.3271640 & -0.00338578 & 3 & rs4970383 &  7\\\\\n",
       "\t3 & 1 & 873558 & T & G & rs1110052 & 388028 & 0.00225578 & 0.000285674 & 0.9918494 & 0.9004758 & 0.3680888 & -0.00818396 & 4 & rs1110052 & 17\\\\\n",
       "\t4 & 1 & 880238 & G & A & rs3748592 & 388028 & 0.00450310 & 0.488653000 & 1.0031231 & 0.8728364 & 0.4104163 &  0.00311819 & 5 & rs3748592 & 18\\\\\n",
       "\t5 & 1 & 880390 & C & A & rs3748593 & 388028 & 0.00635197 & 0.272881000 & 0.9930596 & 0.8992809 & 0.4930243 & -0.00696463 & 6 & rs3748593 & 19\\\\\n",
       "\t6 & 1 & 888659 & C & T & rs3748597 & 388028 & 0.00450334 & 0.532409000 & 1.0028155 & 0.9041076 & 0.4979493 &  0.00281159 & 7 & rs3748597 & 23\\\\\n",
       "\\end{tabular}\n"
      ],
      "text/markdown": [
       "\n",
       "A data.frame: 6 × 15\n",
       "\n",
       "| <!--/--> | chr &lt;int&gt; | pos &lt;int&gt; | a0 &lt;chr&gt; | a1 &lt;chr&gt; | rsid.ss &lt;chr&gt; | n_eff &lt;int&gt; | beta_se &lt;dbl&gt; | p &lt;dbl&gt; | OR &lt;dbl&gt; | INFO &lt;dbl&gt; | MAF &lt;dbl&gt; | beta &lt;dbl&gt; | _NUM_ID_.ss &lt;int&gt; | rsid &lt;chr&gt; | _NUM_ID_ &lt;int&gt; |\n",
       "|---|---|---|---|---|---|---|---|---|---|---|---|---|---|---|---|\n",
       "| 1 | 1 | 779322 | A | G | rs4040617 | 388028 | 0.00303344 | 0.428970000 | 0.9976036 | 0.8975083 | 0.3773680 | -0.00239932 | 2 | rs4040617 |  2 |\n",
       "| 2 | 1 | 838555 | C | A | rs4970383 | 388028 | 0.00235773 | 0.150993000 | 0.9966199 | 0.9077165 | 0.3271640 | -0.00338578 | 3 | rs4970383 |  7 |\n",
       "| 3 | 1 | 873558 | T | G | rs1110052 | 388028 | 0.00225578 | 0.000285674 | 0.9918494 | 0.9004758 | 0.3680888 | -0.00818396 | 4 | rs1110052 | 17 |\n",
       "| 4 | 1 | 880238 | G | A | rs3748592 | 388028 | 0.00450310 | 0.488653000 | 1.0031231 | 0.8728364 | 0.4104163 |  0.00311819 | 5 | rs3748592 | 18 |\n",
       "| 5 | 1 | 880390 | C | A | rs3748593 | 388028 | 0.00635197 | 0.272881000 | 0.9930596 | 0.8992809 | 0.4930243 | -0.00696463 | 6 | rs3748593 | 19 |\n",
       "| 6 | 1 | 888659 | C | T | rs3748597 | 388028 | 0.00450334 | 0.532409000 | 1.0028155 | 0.9041076 | 0.4979493 |  0.00281159 | 7 | rs3748597 | 23 |\n",
       "\n"
      ],
      "text/plain": [
       "  chr pos    a0 a1 rsid.ss   n_eff  beta_se    p           OR        INFO     \n",
       "1 1   779322 A  G  rs4040617 388028 0.00303344 0.428970000 0.9976036 0.8975083\n",
       "2 1   838555 C  A  rs4970383 388028 0.00235773 0.150993000 0.9966199 0.9077165\n",
       "3 1   873558 T  G  rs1110052 388028 0.00225578 0.000285674 0.9918494 0.9004758\n",
       "4 1   880238 G  A  rs3748592 388028 0.00450310 0.488653000 1.0031231 0.8728364\n",
       "5 1   880390 C  A  rs3748593 388028 0.00635197 0.272881000 0.9930596 0.8992809\n",
       "6 1   888659 C  T  rs3748597 388028 0.00450334 0.532409000 1.0028155 0.9041076\n",
       "  MAF       beta        _NUM_ID_.ss rsid      _NUM_ID_\n",
       "1 0.3773680 -0.00239932 2           rs4040617  2      \n",
       "2 0.3271640 -0.00338578 3           rs4970383  7      \n",
       "3 0.3680888 -0.00818396 4           rs1110052 17      \n",
       "4 0.4104163  0.00311819 5           rs3748592 18      \n",
       "5 0.4930243 -0.00696463 6           rs3748593 19      \n",
       "6 0.4979493  0.00281159 7           rs3748597 23      "
      ]
     },
     "metadata": {},
     "output_type": "display_data"
    }
   ],
   "source": [
    "head(info_snp)"
   ]
  },
  {
   "cell_type": "code",
   "execution_count": 69,
   "id": "german-surface",
   "metadata": {
    "kernel": "R"
   },
   "outputs": [
    {
     "data": {
      "text/html": [
       "<style>\n",
       ".list-inline {list-style: none; margin:0; padding: 0}\n",
       ".list-inline>li {display: inline-block}\n",
       ".list-inline>li:not(:last-child)::after {content: \"\\00b7\"; padding: 0 .5ex}\n",
       "</style>\n",
       "<ol class=list-inline><li>134522</li><li>15</li></ol>\n"
      ],
      "text/latex": [
       "\\begin{enumerate*}\n",
       "\\item 134522\n",
       "\\item 15\n",
       "\\end{enumerate*}\n"
      ],
      "text/markdown": [
       "1. 134522\n",
       "2. 15\n",
       "\n",
       "\n"
      ],
      "text/plain": [
       "[1] 134522     15"
      ]
     },
     "metadata": {},
     "output_type": "display_data"
    }
   ],
   "source": [
    "dim(info_snp)"
   ]
  },
  {
   "cell_type": "code",
   "execution_count": 36,
   "id": "matched-aggregate",
   "metadata": {
    "kernel": "R"
   },
   "outputs": [],
   "source": [
    "# Assign the genotype to a variable for easier downstream analysis\n",
    "genotype <- obj.bigSNP$genotypes\n",
    "# Rename the data structures\n",
    "CHR <- map$chr\n",
    "POS <- map$pos"
   ]
  },
  {
   "cell_type": "markdown",
   "id": "choice-marking",
   "metadata": {
    "kernel": "R"
   },
   "source": [
    "### Correlation\n",
    "You need to compute correlations between variants. We recommend to use a window size of 3 cM."
   ]
  },
  {
   "cell_type": "code",
   "execution_count": 37,
   "id": "valid-dryer",
   "metadata": {
    "kernel": "R"
   },
   "outputs": [],
   "source": [
    "# get the CM information from 1000 Genome\n",
    "POS2 <- snp_asGeneticPos(CHR, POS, dir = \".\")"
   ]
  },
  {
   "cell_type": "markdown",
   "id": "restricted-beads",
   "metadata": {
    "kernel": "R"
   },
   "source": [
    "## Calculate the LD matrix\n",
    "In practice, you need to build it for variants from all chromosomes.\n",
    "\n",
    "In this example, we built the LD matrix using variants from one chromosome only (chromosome 2). But we calculate LD matrices for all chromosomes and saved them. If you only need a particular chrosome, just change the `for loop` in the first line."
   ]
  },
  {
   "cell_type": "code",
   "execution_count": 38,
   "id": "thirty-constitution",
   "metadata": {
    "kernel": "R"
   },
   "outputs": [],
   "source": [
    "# calculate LD matrix for chromosome 1 to 22. If you only need a particular chromosome, just change the for loop.\n",
    "for (chr in 1:22) {\n",
    "    # Extract SNPs that are included in the chromosome\n",
    "    ind.chr <- which(info_snp$chr == chr)\n",
    "    ind.chr2 <- info_snp$`_NUM_ID_`[ind.chr]\n",
    "    # Calculate the LD\n",
    "    corr0 <- snp_cor(genotype, ind.col = ind.chr2,  ncores = NCORES, infos.pos = POS2[ind.chr2], size = 3 / 1000)\n",
    "    if (chr == 1) {\n",
    "        ld <- Matrix::colSums(corr0^2)\n",
    "        corr <- as_SFBM(corr0, tmp)\n",
    "    } \n",
    "    else {\n",
    "        ld <- c(ld, Matrix::colSums(corr0^2))\n",
    "        corr$add_columns(corr0, nrow(corr))\n",
    "    }\n",
    "}"
   ]
  },
  {
   "cell_type": "code",
   "execution_count": 43,
   "id": "growing-margin",
   "metadata": {
    "kernel": "R"
   },
   "outputs": [
    {
     "data": {
      "text/html": [
       "<style>\n",
       ".list-inline {list-style: none; margin:0; padding: 0}\n",
       ".list-inline>li {display: inline-block}\n",
       ".list-inline>li:not(:last-child)::after {content: \"\\00b7\"; padding: 0 .5ex}\n",
       "</style>\n",
       "<ol class=list-inline><li>134522</li><li>134522</li></ol>\n"
      ],
      "text/latex": [
       "\\begin{enumerate*}\n",
       "\\item 134522\n",
       "\\item 134522\n",
       "\\end{enumerate*}\n"
      ],
      "text/markdown": [
       "1. 134522\n",
       "2. 134522\n",
       "\n",
       "\n"
      ],
      "text/plain": [
       "[1] 134522 134522"
      ]
     },
     "metadata": {},
     "output_type": "display_data"
    }
   ],
   "source": [
    "dim(corr)"
   ]
  },
  {
   "cell_type": "code",
   "execution_count": 39,
   "id": "fitted-listening",
   "metadata": {
    "kernel": "R"
   },
   "outputs": [],
   "source": [
    "# We assume the fam order is the same across different chromosomes\n",
    "fam.order <- as.data.table(obj.bigSNP$fam)\n",
    "# Rename fam order\n",
    "setnames(fam.order, c(\"family.ID\", \"sample.ID\"), c(\"FID\", \"IID\"))"
   ]
  },
  {
   "cell_type": "markdown",
   "id": "returning-grammar",
   "metadata": {
    "kernel": "R"
   },
   "source": [
    "## LD score regression"
   ]
  },
  {
   "cell_type": "code",
   "execution_count": 40,
   "id": "boxed-smart",
   "metadata": {
    "kernel": "R"
   },
   "outputs": [],
   "source": [
    "df_beta <- info_snp[,c(\"beta\", \"beta_se\", \"n_eff\", \"_NUM_ID_\")]"
   ]
  },
  {
   "cell_type": "code",
   "execution_count": 42,
   "id": "specified-kuwait",
   "metadata": {
    "kernel": "R"
   },
   "outputs": [
    {
     "data": {
      "text/html": [
       "<table>\n",
       "<caption>A data.frame: 6 × 4</caption>\n",
       "<thead>\n",
       "\t<tr><th></th><th scope=col>beta</th><th scope=col>beta_se</th><th scope=col>n_eff</th><th scope=col>_NUM_ID_</th></tr>\n",
       "\t<tr><th></th><th scope=col>&lt;dbl&gt;</th><th scope=col>&lt;dbl&gt;</th><th scope=col>&lt;int&gt;</th><th scope=col>&lt;int&gt;</th></tr>\n",
       "</thead>\n",
       "<tbody>\n",
       "\t<tr><th scope=row>1</th><td>-0.00239932</td><td>0.00303344</td><td>388028</td><td> 2</td></tr>\n",
       "\t<tr><th scope=row>2</th><td>-0.00338578</td><td>0.00235773</td><td>388028</td><td> 7</td></tr>\n",
       "\t<tr><th scope=row>3</th><td>-0.00818396</td><td>0.00225578</td><td>388028</td><td>17</td></tr>\n",
       "\t<tr><th scope=row>4</th><td> 0.00311819</td><td>0.00450310</td><td>388028</td><td>18</td></tr>\n",
       "\t<tr><th scope=row>5</th><td>-0.00696463</td><td>0.00635197</td><td>388028</td><td>19</td></tr>\n",
       "\t<tr><th scope=row>6</th><td> 0.00281159</td><td>0.00450334</td><td>388028</td><td>23</td></tr>\n",
       "</tbody>\n",
       "</table>\n"
      ],
      "text/latex": [
       "A data.frame: 6 × 4\n",
       "\\begin{tabular}{r|llll}\n",
       "  & beta & beta\\_se & n\\_eff & \\_NUM\\_ID\\_\\\\\n",
       "  & <dbl> & <dbl> & <int> & <int>\\\\\n",
       "\\hline\n",
       "\t1 & -0.00239932 & 0.00303344 & 388028 &  2\\\\\n",
       "\t2 & -0.00338578 & 0.00235773 & 388028 &  7\\\\\n",
       "\t3 & -0.00818396 & 0.00225578 & 388028 & 17\\\\\n",
       "\t4 &  0.00311819 & 0.00450310 & 388028 & 18\\\\\n",
       "\t5 & -0.00696463 & 0.00635197 & 388028 & 19\\\\\n",
       "\t6 &  0.00281159 & 0.00450334 & 388028 & 23\\\\\n",
       "\\end{tabular}\n"
      ],
      "text/markdown": [
       "\n",
       "A data.frame: 6 × 4\n",
       "\n",
       "| <!--/--> | beta &lt;dbl&gt; | beta_se &lt;dbl&gt; | n_eff &lt;int&gt; | _NUM_ID_ &lt;int&gt; |\n",
       "|---|---|---|---|---|\n",
       "| 1 | -0.00239932 | 0.00303344 | 388028 |  2 |\n",
       "| 2 | -0.00338578 | 0.00235773 | 388028 |  7 |\n",
       "| 3 | -0.00818396 | 0.00225578 | 388028 | 17 |\n",
       "| 4 |  0.00311819 | 0.00450310 | 388028 | 18 |\n",
       "| 5 | -0.00696463 | 0.00635197 | 388028 | 19 |\n",
       "| 6 |  0.00281159 | 0.00450334 | 388028 | 23 |\n",
       "\n"
      ],
      "text/plain": [
       "  beta        beta_se    n_eff  _NUM_ID_\n",
       "1 -0.00239932 0.00303344 388028  2      \n",
       "2 -0.00338578 0.00235773 388028  7      \n",
       "3 -0.00818396 0.00225578 388028 17      \n",
       "4  0.00311819 0.00450310 388028 18      \n",
       "5 -0.00696463 0.00635197 388028 19      \n",
       "6  0.00281159 0.00450334 388028 23      "
      ]
     },
     "metadata": {},
     "output_type": "display_data"
    }
   ],
   "source": [
    "head(df_beta)"
   ]
  },
  {
   "cell_type": "code",
   "execution_count": 44,
   "id": "removed-enclosure",
   "metadata": {
    "kernel": "R"
   },
   "outputs": [
    {
     "data": {
      "text/html": [
       "<style>\n",
       ".list-inline {list-style: none; margin:0; padding: 0}\n",
       ".list-inline>li {display: inline-block}\n",
       ".list-inline>li:not(:last-child)::after {content: \"\\00b7\"; padding: 0 .5ex}\n",
       "</style>\n",
       "<ol class=list-inline><li>134522</li><li>4</li></ol>\n"
      ],
      "text/latex": [
       "\\begin{enumerate*}\n",
       "\\item 134522\n",
       "\\item 4\n",
       "\\end{enumerate*}\n"
      ],
      "text/markdown": [
       "1. 134522\n",
       "2. 4\n",
       "\n",
       "\n"
      ],
      "text/plain": [
       "[1] 134522      4"
      ]
     },
     "metadata": {},
     "output_type": "display_data"
    }
   ],
   "source": [
    "dim(df_beta)"
   ]
  },
  {
   "cell_type": "code",
   "execution_count": 45,
   "id": "charming-internship",
   "metadata": {
    "kernel": "R"
   },
   "outputs": [
    {
     "data": {
      "text/html": [
       "0.448572055980603"
      ],
      "text/latex": [
       "0.448572055980603"
      ],
      "text/markdown": [
       "0.448572055980603"
      ],
      "text/plain": [
       "[1] 0.4485721"
      ]
     },
     "metadata": {},
     "output_type": "display_data"
    }
   ],
   "source": [
    "## snp_ldsc from library bigsnpr\n",
    "ldsc <- snp_ldsc(ld, length(ld), chi2 = (df_beta$beta / df_beta$beta_se)^2, sample_size = df_beta$n_eff, blocks = NULL)\n",
    "h2_est <- ldsc[[\"h2\"]]\n",
    "h2_est"
   ]
  },
  {
   "cell_type": "markdown",
   "id": "fundamental-viewer",
   "metadata": {
    "kernel": "R"
   },
   "source": [
    "## Estimate the adjusted beta"
   ]
  },
  {
   "cell_type": "markdown",
   "id": "nervous-distribution",
   "metadata": {
    "kernel": "R"
   },
   "source": [
    "### Infinitesimal Model"
   ]
  },
  {
   "cell_type": "code",
   "execution_count": 46,
   "id": "dried-touch",
   "metadata": {
    "kernel": "R"
   },
   "outputs": [
    {
     "data": {
      "text/plain": [
       "     Min.   1st Qu.    Median      Mean   3rd Qu.      Max. \n",
       "-6.085121 -0.002012 -0.000006  0.000915  0.002009  6.981044 "
      ]
     },
     "metadata": {},
     "output_type": "display_data"
    }
   ],
   "source": [
    "beta_inf <- snp_ldpred2_inf(corr, df_beta, h2 = h2_est)\n",
    "summary(beta_inf)"
   ]
  },
  {
   "cell_type": "code",
   "execution_count": 47,
   "id": "parallel-speaking",
   "metadata": {
    "kernel": "R"
   },
   "outputs": [
    {
     "data": {
      "text/html": [
       "134522"
      ],
      "text/latex": [
       "134522"
      ],
      "text/markdown": [
       "134522"
      ],
      "text/plain": [
       "[1] 134522"
      ]
     },
     "metadata": {},
     "output_type": "display_data"
    }
   ],
   "source": [
    "length(beta_inf)"
   ]
  },
  {
   "cell_type": "markdown",
   "id": "applicable-paintball",
   "metadata": {
    "kernel": "R"
   },
   "source": [
    "### Grid of models"
   ]
  },
  {
   "cell_type": "code",
   "execution_count": 48,
   "id": "differential-resident",
   "metadata": {
    "kernel": "R"
   },
   "outputs": [],
   "source": [
    "# Prepare data for grid model\n",
    "p_seq <- signif(seq_log(1e-4, 1, length.out = 17), 2)\n",
    "h2_seq <- round(h2_est * c(0.7, 1, 1.4), 4)\n",
    "grid.param <- expand.grid(p = p_seq, h2 = h2_seq, sparse = c(FALSE, TRUE))"
   ]
  },
  {
   "cell_type": "code",
   "execution_count": null,
   "id": "planned-arbor",
   "metadata": {
    "kernel": "R"
   },
   "outputs": [],
   "source": [
    "beta_grid <- snp_ldpred2_grid(corr, df_beta, grid.param, ncores = NCORES)"
   ]
  },
  {
   "cell_type": "markdown",
   "id": "reliable-pollution",
   "metadata": {
    "kernel": "R"
   },
   "source": [
    "### Auto model"
   ]
  },
  {
   "cell_type": "code",
   "execution_count": 50,
   "id": "prescription-percentage",
   "metadata": {
    "kernel": "R"
   },
   "outputs": [],
   "source": [
    "multi_auto <- snp_ldpred2_auto(corr, df_beta, h2_init = h2_est, vec_p_init = seq_log(1e-4, 0.9, length.out = NCORES), ncores = NCORES)\n",
    "beta_auto <- sapply(multi_auto, function(auto) auto$beta_est)"
   ]
  },
  {
   "cell_type": "code",
   "execution_count": 52,
   "id": "about-planner",
   "metadata": {
    "kernel": "R"
   },
   "outputs": [
    {
     "data": {
      "text/plain": [
       "       V1                   V2                   V3            \n",
       " Min.   :-6.008e-02   Min.   :-6.018e-02   Min.   :-6.007e-02  \n",
       " 1st Qu.:-1.324e-03   1st Qu.:-1.324e-03   1st Qu.:-1.322e-03  \n",
       " Median :-5.130e-06   Median :-5.320e-06   Median :-5.580e-06  \n",
       " Mean   : 2.760e-05   Mean   : 2.734e-05   Mean   : 2.724e-05  \n",
       " 3rd Qu.: 1.328e-03   3rd Qu.: 1.326e-03   3rd Qu.: 1.325e-03  \n",
       " Max.   : 1.217e-01   Max.   : 1.223e-01   Max.   : 1.219e-01  \n",
       "       V4                   V5                   V6            \n",
       " Min.   :-6.016e-02   Min.   :-6.015e-02   Min.   :-6.017e-02  \n",
       " 1st Qu.:-1.321e-03   1st Qu.:-1.321e-03   1st Qu.:-1.322e-03  \n",
       " Median :-6.380e-06   Median :-6.730e-06   Median :-5.380e-06  \n",
       " Mean   : 2.763e-05   Mean   : 2.753e-05   Mean   : 2.747e-05  \n",
       " 3rd Qu.: 1.327e-03   3rd Qu.: 1.326e-03   3rd Qu.: 1.324e-03  \n",
       " Max.   : 1.219e-01   Max.   : 1.220e-01   Max.   : 1.217e-01  \n",
       "       V7            \n",
       " Min.   :-6.019e-02  \n",
       " 1st Qu.:-1.322e-03  \n",
       " Median :-8.230e-06  \n",
       " Mean   : 2.747e-05  \n",
       " 3rd Qu.: 1.326e-03  \n",
       " Max.   : 1.223e-01  "
      ]
     },
     "metadata": {},
     "output_type": "display_data"
    }
   ],
   "source": [
    "summary(beta_auto)"
   ]
  },
  {
   "cell_type": "markdown",
   "id": "offshore-mambo",
   "metadata": {
    "kernel": "R"
   },
   "source": [
    "## Calculate PRS"
   ]
  },
  {
   "cell_type": "markdown",
   "id": "dimensional-basin",
   "metadata": {
    "kernel": "R"
   },
   "source": [
    "### Infinitesimal Model"
   ]
  },
  {
   "cell_type": "code",
   "execution_count": 53,
   "id": "retained-elevation",
   "metadata": {
    "kernel": "R"
   },
   "outputs": [],
   "source": [
    "if(is.null(obj.bigSNP)){\n",
    "    obj.bigSNP <- snp_attach(\"EUR.QC.rds\")\n",
    "}\n",
    "genotype <- obj.bigSNP$genotypes\n",
    "# calculate PRS for all samples\n",
    "ind.test <- 1:nrow(genotype)\n",
    "pred_inf <- big_prodVec(genotype, beta_inf, ind.row = ind.test, ind.col = info_snp$`_NUM_ID_`)"
   ]
  },
  {
   "cell_type": "code",
   "execution_count": 54,
   "id": "conscious-remove",
   "metadata": {
    "kernel": "R"
   },
   "outputs": [
    {
     "data": {
      "image/png": "[encoded data removed]",
      "text/plain": [
       "Plot with title “Histogram of pred_inf”"
      ]
     },
     "metadata": {
      "image/png": {
       "height": 420,
       "width": 420
      },
      "text/plain": {
       "height": 420,
       "width": 420
      }
     },
     "output_type": "display_data"
    }
   ],
   "source": [
    "hist(pred_inf)"
   ]
  },
  {
   "cell_type": "code",
   "execution_count": 55,
   "id": "amber-lincoln",
   "metadata": {
    "kernel": "R"
   },
   "outputs": [
    {
     "data": {
      "text/html": [
       "483"
      ],
      "text/latex": [
       "483"
      ],
      "text/markdown": [
       "483"
      ],
      "text/plain": [
       "[1] 483"
      ]
     },
     "metadata": {},
     "output_type": "display_data"
    }
   ],
   "source": [
    "length(pred_inf)"
   ]
  },
  {
   "cell_type": "code",
   "execution_count": 56,
   "id": "contrary-asset",
   "metadata": {
    "kernel": "R"
   },
   "outputs": [
    {
     "data": {
      "text/html": [
       "482"
      ],
      "text/latex": [
       "482"
      ],
      "text/markdown": [
       "482"
      ],
      "text/plain": [
       "[1] 482"
      ]
     },
     "metadata": {},
     "output_type": "display_data"
    }
   ],
   "source": [
    "length(pred_inf[which(pred_inf>0)])"
   ]
  },
  {
   "cell_type": "markdown",
   "id": "final-thomson",
   "metadata": {
    "kernel": "R"
   },
   "source": [
    "### Grid of models"
   ]
  },
  {
   "cell_type": "code",
   "execution_count": 57,
   "id": "grand-genealogy",
   "metadata": {
    "kernel": "R"
   },
   "outputs": [],
   "source": [
    "if(is.null(obj.bigSNP)){\n",
    "    obj.bigSNP <- snp_attach(\"EUR.QC.rds\")\n",
    "}\n",
    "# calculate PRS for all samples\n",
    "ind.test <- 1:nrow(genotype)\n",
    "pred_grid <- big_prodMat(genotype, beta_grid, ind.col = info_snp$`_NUM_ID_`)"
   ]
  },
  {
   "cell_type": "code",
   "execution_count": 58,
   "id": "absolute-quantity",
   "metadata": {
    "kernel": "R"
   },
   "outputs": [
    {
     "data": {
      "image/png": "[encoded data removed]",
      "text/plain": [
       "Plot with title “Histogram of pred_grid”"
      ]
     },
     "metadata": {
      "image/png": {
       "height": 420,
       "width": 420
      },
      "text/plain": {
       "height": 420,
       "width": 420
      }
     },
     "output_type": "display_data"
    }
   ],
   "source": [
    "hist(pred_grid)"
   ]
  },
  {
   "cell_type": "code",
   "execution_count": 60,
   "id": "fossil-torture",
   "metadata": {
    "kernel": "R"
   },
   "outputs": [
    {
     "data": {
      "text/html": [
       "49266"
      ],
      "text/latex": [
       "49266"
      ],
      "text/markdown": [
       "49266"
      ],
      "text/plain": [
       "[1] 49266"
      ]
     },
     "metadata": {},
     "output_type": "display_data"
    }
   ],
   "source": [
    "length(pred_grid)"
   ]
  },
  {
   "cell_type": "code",
   "execution_count": 59,
   "id": "sustained-circuit",
   "metadata": {
    "kernel": "R"
   },
   "outputs": [
    {
     "data": {
      "text/html": [
       "20426"
      ],
      "text/latex": [
       "20426"
      ],
      "text/markdown": [
       "20426"
      ],
      "text/plain": [
       "[1] 20426"
      ]
     },
     "metadata": {},
     "output_type": "display_data"
    }
   ],
   "source": [
    "length(pred_grid[which(pred_grid>0)])"
   ]
  },
  {
   "cell_type": "markdown",
   "id": "unusual-finder",
   "metadata": {
    "kernel": "R"
   },
   "source": [
    "### Auto model"
   ]
  },
  {
   "cell_type": "code",
   "execution_count": 61,
   "id": "incident-brick",
   "metadata": {
    "kernel": "R"
   },
   "outputs": [],
   "source": [
    "if(is.null(obj.bigSNP)){\n",
    "    obj.bigSNP <- snp_attach(\"EUR.QC.rds\")\n",
    "}\n",
    "# calculate PRS for all samples\n",
    "ind.test <- 1:nrow(genotype)\n",
    "pred_auto <-\n",
    "    big_prodMat(genotype,\n",
    "                beta_auto,\n",
    "                ind.row = ind.test,\n",
    "                ind.col = info_snp$`_NUM_ID_`)\n",
    "# scale the PRS generated from AUTO\n",
    "pred_scaled <- apply(pred_auto, 2, sd)\n",
    "final_beta_auto <-\n",
    "    rowMeans(beta_auto[,\n",
    "                abs(pred_scaled -\n",
    "                    median(pred_scaled)) <\n",
    "                    3 * mad(pred_scaled)])\n",
    "pred_auto <-\n",
    "    big_prodVec(genotype,\n",
    "        final_beta_auto,\n",
    "        ind.row = ind.test,\n",
    "        ind.col = info_snp$`_NUM_ID_`)"
   ]
  },
  {
   "cell_type": "code",
   "execution_count": 62,
   "id": "worth-decade",
   "metadata": {
    "kernel": "R"
   },
   "outputs": [
    {
     "data": {
      "image/png": "[encoded data removed]",
      "text/plain": [
       "Plot with title “Histogram of pred_auto”"
      ]
     },
     "metadata": {
      "image/png": {
       "height": 420,
       "width": 420
      },
      "text/plain": {
       "height": 420,
       "width": 420
      }
     },
     "output_type": "display_data"
    }
   ],
   "source": [
    "hist(pred_auto)"
   ]
  },
  {
   "cell_type": "code",
   "execution_count": 63,
   "id": "editorial-korean",
   "metadata": {
    "kernel": "R"
   },
   "outputs": [
    {
     "data": {
      "text/html": [
       "483"
      ],
      "text/latex": [
       "483"
      ],
      "text/markdown": [
       "483"
      ],
      "text/plain": [
       "[1] 483"
      ]
     },
     "metadata": {},
     "output_type": "display_data"
    }
   ],
   "source": [
    "length(pred_auto)"
   ]
  },
  {
   "cell_type": "code",
   "execution_count": 64,
   "id": "conscious-account",
   "metadata": {
    "kernel": "R"
   },
   "outputs": [
    {
     "data": {
      "text/html": [
       "480"
      ],
      "text/latex": [
       "480"
      ],
      "text/markdown": [
       "480"
      ],
      "text/plain": [
       "[1] 480"
      ]
     },
     "metadata": {},
     "output_type": "display_data"
    }
   ],
   "source": [
    "length(pred_auto[which(pred_auto>0)])"
   ]
  },
  {
   "cell_type": "code",
   "execution_count": null,
   "id": "aquatic-brand",
   "metadata": {
    "kernel": "R"
   },
   "outputs": [],
   "source": []
  }
 ],
 "metadata": {
  "kernelspec": {
   "display_name": "SoS",
   "language": "sos",
   "name": "sos"
  },
  "language_info": {
   "codemirror_mode": "sos",
   "file_extension": ".sos",
   "mimetype": "text/x-sos",
   "name": "sos",
   "nbconvert_exporter": "sos_notebook.converter.SoS_Exporter",
   "pygments_lexer": "sos"
  },
  "sos": {
   "kernels": [
    [
     "R",
     "ir",
     "R",
     "#DCDCDA",
     ""
    ],
    [
     "SoS",
     "sos",
     "",
     "",
     "sos"
    ]
   ],
   "version": "0.21.13"
  }
 },
 "nbformat": 4,
 "nbformat_minor": 5
}
