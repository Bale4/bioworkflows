{
 "cells": [
  {
   "cell_type": "markdown",
   "id": "swedish-playback",
   "metadata": {
    "kernel": "Bash"
   },
   "source": [
    "# MVP\n",
    "\n",
    "* reference panel: `download_1000G()` in `bigsnpr`\n",
    "\n",
    "Including 2490 (mostly unrelated) individuals and ~1.7M SNPs in common with either HapMap3 or the UK Biobank.\n",
    "\n",
    "* summary stats: raw and posterior betas for traits ldl,hdl,tc and tg\n",
    "\n",
    "* LDpred2-auto model free of hyper-parameters\n",
    "\n",
    "The model I used to estimate effect size is auto mdoel. It runs the algorithm for 30 different p (the proportion of causal variants) values range from 10e-4 to 0.9, and heritability from LD score regression as initial value.\n",
    "\n"
   ]
  },
  {
   "cell_type": "markdown",
   "id": "oriental-acting",
   "metadata": {
    "kernel": "Bash"
   },
   "source": [
    "## Low-density lipoprotein (LDL)\n",
    "\n",
    "### Raw betas"
   ]
  },
  {
   "cell_type": "code",
   "execution_count": null,
   "id": "textile-music",
   "metadata": {
    "kernel": "Bash"
   },
   "outputs": [],
   "source": [
    "sos run ldpred.ipynb data_load+QControl+LD_corr+LD_reg+auto \\\n",
    "    --summstats_file mvpdata/sumstats_ldl.rds \\\n",
    "    --bed_file  1000G/1000G.bed \\\n",
    "    --ref_file 1000G/1000G.rds \\\n",
    "    --summary_stat './res-data/SumStats.RData' \\\n",
    "    --qc_in './res-data/QcInput.RData' \\\n",
    "    --qc_plot './res-data/QcPlot.png' \\\n",
    "    --conv-plot './res-data/ConvPlot.png' \\\n",
    "    --ld_in './res-data/LdInput.RData' \\\n",
    "    --sd_out './res-data/sd.rds' \\\n",
    "    --ld_out './res-data/LdOutput.RData' \\\n",
    "    --ldreg_out './res-data/LdRegOut.RData' \\\n",
    "    --inf_beta './res-data/InfBeta.RData' \\\n",
    "    --grid_beta './res-data/GridBeta.RData' \\\n",
    "    --auto_beta './res-data/AutoBeta.RData' \\\n",
    "    --inf_prs './res-data/InfPrs.RData' \\\n",
    "    --grid_prs './res-data/GridPrs.RData' \\\n",
    "    --auto_prs './res-data/AutoPrs.RData' \\\n",
    "    --response 1 \\\n",
    "    --n_eff 200000"
   ]
  },
  {
   "cell_type": "markdown",
   "id": "broken-breast",
   "metadata": {
    "kernel": "Bash"
   },
   "source": [
    "See the removed SNP in quality control. 1307124 over 1339339 variants were removed."
   ]
  },
  {
   "cell_type": "code",
   "execution_count": null,
   "id": "incorporate-madison",
   "metadata": {
    "kernel": "Bash"
   },
   "outputs": [],
   "source": [
    "%preview res-data/QcPlot.png"
   ]
  },
  {
   "cell_type": "markdown",
   "id": "acknowledged-grounds",
   "metadata": {
    "kernel": "Bash"
   },
   "source": [
    "* Important to check convergence\n",
    "\n",
    "See the convergence path of p (proportion of causal variants) and $h^2$ heritability."
   ]
  },
  {
   "cell_type": "code",
   "execution_count": null,
   "id": "agreed-change",
   "metadata": {
    "kernel": "Bash"
   },
   "outputs": [],
   "source": [
    "%preview res-data/ConvPlot.png"
   ]
  },
  {
   "cell_type": "markdown",
   "id": "forced-disease",
   "metadata": {
    "kernel": "Bash"
   },
   "source": [
    "### Posterior betas"
   ]
  },
  {
   "cell_type": "code",
   "execution_count": null,
   "id": "sixth-coverage",
   "metadata": {
    "kernel": "Bash"
   },
   "outputs": [],
   "source": [
    "sos run ldpred.ipynb data_load+QControl+LD_corr+LD_reg+auto \\\n",
    "    --summstats_file mvpdata/pos_sumstats_ldl.rds \\\n",
    "    --bed_file  1000G/1000G.bed \\\n",
    "    --ref_file 1000G/1000G.rds \\\n",
    "    --summary_stat './res-data-pos/SumStats.RData' \\\n",
    "    --qc_in './res-data-pos/QcInput.RData' \\\n",
    "    --qc_plot './res-data-pos/QcPlot.png' \\\n",
    "    --conv-plot './res-data-pos/ConvPlot.png' \\\n",
    "    --ld_in './res-data-pos/LdInput.RData' \\\n",
    "    --sd_out './res-data-pos/sd.rds' \\\n",
    "    --ld_out './res-data-pos/LdOutput.RData' \\\n",
    "    --ldreg_out './res-data-pos/LdRegOut.RData' \\\n",
    "    --inf_beta './res-data-pos/InfBeta.RData' \\\n",
    "    --grid_beta './res-data-pos/GridBeta.RData' \\\n",
    "    --auto_beta './res-data-pos/AutoBeta.RData' \\\n",
    "    --inf_prs './res-data-pos/InfPrs.RData' \\\n",
    "    --grid_prs './res-data-pos/GridPrs.RData' \\\n",
    "    --auto_prs './res-data-pos/AutoPrs.RData' \\\n",
    "    --response 1 \\\n",
    "    --n_eff 200000"
   ]
  },
  {
   "cell_type": "markdown",
   "id": "helpful-ambassador",
   "metadata": {
    "kernel": "Bash"
   },
   "source": [
    "1338015 over 1339339 were removed in quality control"
   ]
  },
  {
   "cell_type": "code",
   "execution_count": null,
   "id": "external-accreditation",
   "metadata": {
    "kernel": "Bash"
   },
   "outputs": [],
   "source": [
    "%preview res-data-pos/QcPlot.png"
   ]
  },
  {
   "cell_type": "markdown",
   "id": "greater-silicon",
   "metadata": {
    "kernel": "Bash"
   },
   "source": [
    "The convergence plot of posterior make much more sense."
   ]
  },
  {
   "cell_type": "code",
   "execution_count": null,
   "id": "phantom-recruitment",
   "metadata": {
    "kernel": "Bash"
   },
   "outputs": [],
   "source": [
    "%preview res-data-pos/ConvPlot.png"
   ]
  },
  {
   "cell_type": "markdown",
   "id": "particular-collective",
   "metadata": {
    "kernel": "Bash"
   },
   "source": [
    "## High-density lipoprotein (HDL)\n",
    "\n",
    "### Raw betas"
   ]
  },
  {
   "cell_type": "code",
   "execution_count": null,
   "id": "popular-carol",
   "metadata": {
    "kernel": "Bash"
   },
   "outputs": [],
   "source": [
    "sos run ldpred.ipynb data_load+QControl+LD_corr+LD_reg+auto \\\n",
    "    --summstats_file mvpdata/sumstats_hdl.rds \\\n",
    "    --bed_file  1000G/1000G.bed \\\n",
    "    --ref_file 1000G/1000G.rds \\\n",
    "    --summary_stat './res-data/SumStats.RData' \\\n",
    "    --qc_in './res-data/QcInput.RData' \\\n",
    "    --qc_plot './res-data/QcPlot.png' \\\n",
    "    --conv-plot './res-data/ConvPlot.png' \\\n",
    "    --ld_in './res-data/LdInput.RData' \\\n",
    "    --sd_out './res-data/sd.rds' \\\n",
    "    --ld_out './res-data/LdOutput.RData' \\\n",
    "    --ldreg_out './res-data/LdRegOut.RData' \\\n",
    "    --inf_beta './res-data/InfBeta.RData' \\\n",
    "    --grid_beta './res-data/GridBeta.RData' \\\n",
    "    --auto_beta './res-data/AutoBeta.RData' \\\n",
    "    --inf_prs './res-data/InfPrs.RData' \\\n",
    "    --grid_prs './res-data/GridPrs.RData' \\\n",
    "    --auto_prs './res-data/AutoPrs.RData' \\\n",
    "    --response 1 \\\n",
    "    --n_eff 200000"
   ]
  },
  {
   "cell_type": "markdown",
   "id": "external-sandwich",
   "metadata": {
    "kernel": "Bash"
   },
   "source": [
    "1305679 over 1339339 were removed in Quality Control."
   ]
  },
  {
   "cell_type": "code",
   "execution_count": null,
   "id": "downtown-cylinder",
   "metadata": {
    "kernel": "Bash"
   },
   "outputs": [],
   "source": [
    "%preview res-data/QcPlot.png"
   ]
  },
  {
   "cell_type": "code",
   "execution_count": null,
   "id": "thrown-processor",
   "metadata": {
    "kernel": "Bash"
   },
   "outputs": [],
   "source": [
    "%preview res-data/ConvPlot.png"
   ]
  },
  {
   "cell_type": "markdown",
   "id": "complimentary-fashion",
   "metadata": {
    "kernel": "Bash"
   },
   "source": [
    "### Posterior beta"
   ]
  },
  {
   "cell_type": "code",
   "execution_count": null,
   "id": "grateful-attribute",
   "metadata": {
    "kernel": "Bash"
   },
   "outputs": [],
   "source": [
    "sos run ldpred.ipynb data_load+QControl+LD_corr+LD_reg+auto \\\n",
    "    --summstats_file mvpdata/pos_sumstats_hdl.rds \\\n",
    "    --bed_file  1000G/1000G.bed \\\n",
    "    --ref_file 1000G/1000G.rds \\\n",
    "    --summary_stat './res-data-pos/SumStats.RData' \\\n",
    "    --qc_in './res-data-pos/QcInput.RData' \\\n",
    "    --qc_plot './res-data-pos/QcPlot.png' \\\n",
    "    --conv-plot './res-data-pos/ConvPlot.png' \\\n",
    "    --ld_in './res-data-pos/LdInput.RData' \\\n",
    "    --sd_out './res-data-pos/sd.rds' \\\n",
    "    --ld_out './res-data-pos/LdOutput.RData' \\\n",
    "    --ldreg_out './res-data-pos/LdRegOut.RData' \\\n",
    "    --inf_beta './res-data-pos/InfBeta.RData' \\\n",
    "    --grid_beta './res-data-pos/GridBeta.RData' \\\n",
    "    --auto_beta './res-data-pos/AutoBeta.RData' \\\n",
    "    --inf_prs './res-data-pos/InfPrs.RData' \\\n",
    "    --grid_prs './res-data-pos/GridPrs.RData' \\\n",
    "    --auto_prs './res-data-pos/AutoPrs.RData' \\\n",
    "    --response 1 \\\n",
    "    --n_eff 200000"
   ]
  },
  {
   "cell_type": "markdown",
   "id": "saving-genesis",
   "metadata": {
    "kernel": "Bash"
   },
   "source": [
    "1336793 over 1339339 were removed in Quality Control."
   ]
  },
  {
   "cell_type": "code",
   "execution_count": null,
   "id": "altered-invention",
   "metadata": {
    "kernel": "Bash"
   },
   "outputs": [],
   "source": [
    "%preview res-data-pos/QcPlot.png"
   ]
  },
  {
   "cell_type": "code",
   "execution_count": null,
   "id": "talented-parade",
   "metadata": {
    "kernel": "Bash"
   },
   "outputs": [],
   "source": [
    "%preview res-data-pos/ConvPlot.png"
   ]
  },
  {
   "cell_type": "markdown",
   "id": "protective-limitation",
   "metadata": {
    "kernel": "Bash"
   },
   "source": [
    "## Total cholesterol (tc)\n",
    "\n",
    "### Raw beta"
   ]
  },
  {
   "cell_type": "code",
   "execution_count": null,
   "id": "nasty-snapshot",
   "metadata": {
    "kernel": "Bash"
   },
   "outputs": [],
   "source": [
    "sos run ldpred.ipynb data_load+QControl+LD_corr+LD_reg+auto \\\n",
    "    --summstats_file mvpdata/sumstats_tc.rds \\\n",
    "    --bed_file  1000G/1000G.bed \\\n",
    "    --ref_file 1000G/1000G.rds \\\n",
    "    --summary_stat './res-data/SumStats.RData' \\\n",
    "    --qc_in './res-data/QcInput.RData' \\\n",
    "    --qc_plot './res-data/QcPlot.png' \\\n",
    "    --conv-plot './res-data/ConvPlot.png' \\\n",
    "    --ld_in './res-data/LdInput.RData' \\\n",
    "    --sd_out './res-data/sd.rds' \\\n",
    "    --ld_out './res-data/LdOutput.RData' \\\n",
    "    --ldreg_out './res-data/LdRegOut.RData' \\\n",
    "    --inf_beta './res-data/InfBeta.RData' \\\n",
    "    --grid_beta './res-data/GridBeta.RData' \\\n",
    "    --auto_beta './res-data/AutoBeta.RData' \\\n",
    "    --inf_prs './res-data/InfPrs.RData' \\\n",
    "    --grid_prs './res-data/GridPrs.RData' \\\n",
    "    --auto_prs './res-data/AutoPrs.RData' \\\n",
    "    --response 1 \\\n",
    "    --n_eff 200000"
   ]
  },
  {
   "cell_type": "markdown",
   "id": "thirty-completion",
   "metadata": {
    "kernel": "Bash"
   },
   "source": [
    "1261860 over 1339339 were removed in Quality Control"
   ]
  },
  {
   "cell_type": "code",
   "execution_count": null,
   "id": "automated-cheat",
   "metadata": {
    "kernel": "Bash"
   },
   "outputs": [],
   "source": [
    "%preview res-data/QcPlot.png"
   ]
  },
  {
   "cell_type": "code",
   "execution_count": null,
   "id": "native-groove",
   "metadata": {
    "kernel": "Bash"
   },
   "outputs": [],
   "source": [
    "%preview res-data/ConvPlot.png"
   ]
  },
  {
   "cell_type": "markdown",
   "id": "chicken-establishment",
   "metadata": {
    "kernel": "Bash"
   },
   "source": [
    "### Posterior beta"
   ]
  },
  {
   "cell_type": "code",
   "execution_count": null,
   "id": "excess-british",
   "metadata": {
    "kernel": "Bash"
   },
   "outputs": [],
   "source": [
    "sos run ldpred.ipynb data_load+QControl+LD_corr+LD_reg+auto \\\n",
    "    --summstats_file mvpdata/pos_sumstats_tc.rds \\\n",
    "    --bed_file  1000G/1000G.bed \\\n",
    "    --ref_file 1000G/1000G.rds \\\n",
    "    --summary_stat './res-data-pos/SumStats.RData' \\\n",
    "    --qc_in './res-data-pos/QcInput.RData' \\\n",
    "    --qc_plot './res-data-pos/QcPlot.png' \\\n",
    "    --conv-plot './res-data-pos/ConvPlot.png' \\\n",
    "    --ld_in './res-data-pos/LdInput.RData' \\\n",
    "    --sd_out './res-data-pos/sd.rds' \\\n",
    "    --ld_out './res-data-pos/LdOutput.RData' \\\n",
    "    --ldreg_out './res-data-pos/LdRegOut.RData' \\\n",
    "    --inf_beta './res-data-pos/InfBeta.RData' \\\n",
    "    --grid_beta './res-data-pos/GridBeta.RData' \\\n",
    "    --auto_beta './res-data-pos/AutoBeta.RData' \\\n",
    "    --inf_prs './res-data-pos/InfPrs.RData' \\\n",
    "    --grid_prs './res-data-pos/GridPrs.RData' \\\n",
    "    --auto_prs './res-data-pos/AutoPrs.RData' \\\n",
    "    --response 1 \\\n",
    "    --n_eff 200000"
   ]
  },
  {
   "cell_type": "markdown",
   "id": "backed-produce",
   "metadata": {
    "kernel": "Bash"
   },
   "source": [
    "1333625 over 1339339 were removed in Quality Control"
   ]
  },
  {
   "cell_type": "code",
   "execution_count": null,
   "id": "floppy-geography",
   "metadata": {
    "kernel": "Bash"
   },
   "outputs": [],
   "source": [
    "%preview res-data-pos/QcPlot.png"
   ]
  },
  {
   "cell_type": "code",
   "execution_count": null,
   "id": "stopped-halloween",
   "metadata": {
    "kernel": "Bash"
   },
   "outputs": [],
   "source": [
    "%preview res-data-pos/ConvPlot.png"
   ]
  },
  {
   "cell_type": "markdown",
   "id": "worst-integral",
   "metadata": {
    "kernel": "Bash"
   },
   "source": [
    "## Triglycerides (tg)\n",
    "\n",
    "### Raw beta"
   ]
  },
  {
   "cell_type": "code",
   "execution_count": null,
   "id": "binary-desperate",
   "metadata": {
    "kernel": "Bash"
   },
   "outputs": [],
   "source": [
    "sos run ldpred.ipynb data_load+QControl+LD_corr+LD_reg+auto \\\n",
    "    --summstats_file mvpdata/sumstats_tg.rds \\\n",
    "    --bed_file  1000G/1000G.bed \\\n",
    "    --ref_file 1000G/1000G.rds \\\n",
    "    --summary_stat './res-data/SumStats.RData' \\\n",
    "    --qc_in './res-data/QcInput.RData' \\\n",
    "    --qc_plot './res-data/QcPlot.png' \\\n",
    "    --conv-plot './res-data/ConvPlot.png' \\\n",
    "    --ld_in './res-data/LdInput.RData' \\\n",
    "    --sd_out './res-data/sd.rds' \\\n",
    "    --ld_out './res-data/LdOutput.RData' \\\n",
    "    --ldreg_out './res-data/LdRegOut.RData' \\\n",
    "    --inf_beta './res-data/InfBeta.RData' \\\n",
    "    --grid_beta './res-data/GridBeta.RData' \\\n",
    "    --auto_beta './res-data/AutoBeta.RData' \\\n",
    "    --inf_prs './res-data/InfPrs.RData' \\\n",
    "    --grid_prs './res-data/GridPrs.RData' \\\n",
    "    --auto_prs './res-data/AutoPrs.RData' \\\n",
    "    --response 1 \\\n",
    "    --n_eff 200000"
   ]
  },
  {
   "cell_type": "markdown",
   "id": "marked-reasoning",
   "metadata": {
    "kernel": "Bash"
   },
   "source": [
    "1305425 over 1339339 were removed in Quality Control."
   ]
  },
  {
   "cell_type": "code",
   "execution_count": null,
   "id": "remarkable-wages",
   "metadata": {
    "kernel": "Bash"
   },
   "outputs": [],
   "source": [
    "%preview res-data/QcPlot.png"
   ]
  },
  {
   "cell_type": "code",
   "execution_count": null,
   "id": "beautiful-bookmark",
   "metadata": {
    "kernel": "Bash"
   },
   "outputs": [],
   "source": [
    "%preview res-data/ConvPlot.png"
   ]
  },
  {
   "cell_type": "markdown",
   "id": "bottom-writing",
   "metadata": {
    "kernel": "Bash"
   },
   "source": [
    "### Posterior beta"
   ]
  },
  {
   "cell_type": "code",
   "execution_count": null,
   "id": "municipal-lighter",
   "metadata": {
    "kernel": "Bash"
   },
   "outputs": [],
   "source": [
    "sos run ldpred.ipynb data_load+QControl+LD_corr+LD_reg+auto \\\n",
    "    --summstats_file mvpdata/pos_sumstats_tg.rds \\\n",
    "    --bed_file  1000G/1000G.bed \\\n",
    "    --ref_file 1000G/1000G.rds \\\n",
    "    --summary_stat './res-data-pos/SumStats.RData' \\\n",
    "    --qc_in './res-data-pos/QcInput.RData' \\\n",
    "    --qc_plot './res-data-pos/QcPlot.png' \\\n",
    "    --conv-plot './res-data-pos/ConvPlot.png' \\\n",
    "    --ld_in './res-data-pos/LdInput.RData' \\\n",
    "    --sd_out './res-data-pos/sd.rds' \\\n",
    "    --ld_out './res-data-pos/LdOutput.RData' \\\n",
    "    --ldreg_out './res-data-pos/LdRegOut.RData' \\\n",
    "    --inf_beta './res-data-pos/InfBeta.RData' \\\n",
    "    --grid_beta './res-data-pos/GridBeta.RData' \\\n",
    "    --auto_beta './res-data-pos/AutoBeta.RData' \\\n",
    "    --inf_prs './res-data-pos/InfPrs.RData' \\\n",
    "    --grid_prs './res-data-pos/GridPrs.RData' \\\n",
    "    --auto_prs './res-data-pos/AutoPrs.RData' \\\n",
    "    --response 1 \\\n",
    "    --n_eff 200000"
   ]
  },
  {
   "cell_type": "markdown",
   "id": "responsible-promotion",
   "metadata": {
    "kernel": "Bash"
   },
   "source": [
    "1336892 over 1339339 were removed in Quality Control"
   ]
  },
  {
   "cell_type": "code",
   "execution_count": null,
   "id": "hairy-conditioning",
   "metadata": {
    "kernel": "Bash"
   },
   "outputs": [],
   "source": [
    "%preview res-data-pos/QcPlot.png"
   ]
  },
  {
   "cell_type": "code",
   "execution_count": null,
   "id": "classified-seafood",
   "metadata": {
    "kernel": "Bash"
   },
   "outputs": [],
   "source": [
    "%preview res-data-pos/ConvPlot.png"
   ]
  },
  {
   "cell_type": "code",
   "execution_count": null,
   "id": "static-ladder",
   "metadata": {
    "kernel": "Bash"
   },
   "outputs": [],
   "source": []
  },
  {
   "cell_type": "code",
   "execution_count": null,
   "id": "better-booth",
   "metadata": {
    "kernel": "Bash"
   },
   "outputs": [],
   "source": []
  },
  {
   "cell_type": "markdown",
   "id": "offensive-conditions",
   "metadata": {
    "kernel": "Bash"
   },
   "source": [
    "# test pipeline"
   ]
  },
  {
   "cell_type": "markdown",
   "id": "minor-little",
   "metadata": {
    "kernel": "Bash"
   },
   "source": [
    "## Step 1: common snps"
   ]
  },
  {
   "cell_type": "code",
   "execution_count": 12,
   "id": "secondary-detail",
   "metadata": {
    "kernel": "Bash"
   },
   "outputs": [
    {
     "name": "stdout",
     "output_type": "stream",
     "text": [
      "INFO: Running \u001b[32mcommon_snp\u001b[0m: 2004l\u001b[?2004l\u001b[?2004l\u001b[?2004l\u001b[?2004l\n",
      "During startup - Warning messages:\n",
      "1: Setting LC_COLLATE failed, using \"C\" \n",
      "2: Setting LC_TIME failed, using \"C\" \n",
      "3: Setting LC_MESSAGES failed, using \"C\" \n",
      "4: Setting LC_MONETARY failed, using \"C\" \n",
      "INFO: \u001b[32mcommon_snp\u001b[0m is \u001b[32mcompleted\u001b[0m.\n",
      "INFO: \u001b[32mcommon_snp\u001b[0m output:   \u001b[32mmvpdata/pos_sumstats_hdl.SUB.rds mvpdata/common.snplist... (4 items)\u001b[0m\n",
      "INFO: Workflow common_snp (ID=we3bb041313e5ee79) is executed successfully with 1 completed step.\n",
      "\u001b[?2004h"
     ]
    },
    {
     "ename": "",
     "evalue": "1",
     "output_type": "error",
     "traceback": []
    }
   ],
   "source": [
    "sos run ldpred.ipynb common_snp \\\n",
    "    --stat_snp mvpdata/pos_sumstats_hdl.snplist \\\n",
    "    --ref_snp 1000G/1000G.QC.snplist \\\n",
    "    --test_snp ukbiobank/UKB.TMP.snplist \\\n",
    "    --summstats_file mvpdata/pos_sumstats_tg.rds \\\n",
    "    --sub_stats mvpdata/pos_sumstats_hdl.SUB.rds \\\n",
    "    --stats_comsnp mvpdata/common.snplist \\\n",
    "    --test_comsnp ukbiobank/common.snplist \\\n",
    "    --ref_comsnp 1000G/common.snplist"
   ]
  },
  {
   "cell_type": "markdown",
   "id": "numerical-foundation",
   "metadata": {
    "kernel": "Bash"
   },
   "source": [
    "## Step 2: subsetting ref panel"
   ]
  },
  {
   "cell_type": "markdown",
   "id": "moving-pierce",
   "metadata": {
    "kernel": "Bash"
   },
   "source": [
    "sos run ldpred.ipynb subsets \\\n",
    "    --plink_path 1000G \\\n",
    "    --bed_file '1000G.bed' \\\n",
    "    --fam_file 1000G.QC.fam \\\n",
    "    --sub_bedfile 1000G.SUB.bed"
   ]
  },
  {
   "cell_type": "markdown",
   "id": "human-circus",
   "metadata": {
    "kernel": "Bash"
   },
   "source": [
    "Totally 31566 varients"
   ]
  },
  {
   "cell_type": "code",
   "execution_count": 26,
   "id": "broke-marathon",
   "metadata": {
    "kernel": "Bash"
   },
   "outputs": [
    {
     "name": "stdout",
     "output_type": "stream",
     "text": [
      "PLINK v1.90b6.22 64-bit (16 Apr 2021)          www.cog-genomics.org/plink/1.9/\n",
      "(C) 2005-2021 Shaun Purcell, Christopher Chang   GNU General Public License v3\n",
      "Logging to 1000G.SUB.log.\n",
      "Options in effect:\n",
      "  --bfile 1000G\n",
      "  --extract common.snplist\n",
      "  --keep 1000G.QC.fam\n",
      "  --make-bed\n",
      "  --out 1000G.SUB\n",
      "\n",
      "8192 MB RAM detected; reserving 4096 MB for main workspace.\n",
      "1664852 variants loaded from .bim file.\n",
      "2490 people (1227 males, 1263 females) loaded from .fam.\n",
      "--extract: 31566 variants remaining.\n",
      "--keep: 2490 people remaining.\n",
      "Using 1 thread (no multithreaded calculations invoked).\n",
      "Before main variant filters, 2489 founders and 1 nonfounder present.\n",
      "Calculating allele frequencies... 10111213141516171819202122232425262728293031323334353637383940414243444546474849505152535455565758596061626364656667686970717273747576777879808182838485868788899091929394959697989 done.\n",
      "31566 variants and 2490 people pass filters and QC.\n",
      "Note: No phenotypes present.\n",
      "--make-bed to 1000G.SUB.bed + 1000G.SUB.bim + 1000G.SUB.fam ... 101112131415161718192021222324252627282930313233343536373839404142434445464748495051525354555657585960616263646566676869707172737475767778798081828384858687888990919293949596979899done.\n",
      "\u001b[?2004h\u001b[?2004l"
     ]
    },
    {
     "ename": "",
     "evalue": "1",
     "output_type": "error",
     "traceback": []
    }
   ],
   "source": [
    "cd 1000G\n",
    "./plink \\\n",
    "    --bfile 1000G \\\n",
    "    --keep 1000G.QC.fam \\\n",
    "    --extract common.snplist \\\n",
    "    --make-bed \\\n",
    "    --out 1000G.SUB\n",
    "cd .."
   ]
  },
  {
   "cell_type": "code",
   "execution_count": null,
   "id": "seeing-mount",
   "metadata": {
    "kernel": "Bash"
   },
   "outputs": [],
   "source": []
  },
  {
   "cell_type": "markdown",
   "id": "earlier-forge",
   "metadata": {
    "kernel": "Bash"
   },
   "source": [
    "## Step 3: load data"
   ]
  },
  {
   "cell_type": "code",
   "execution_count": 6,
   "id": "intermediate-stewart",
   "metadata": {
    "kernel": "Bash"
   },
   "outputs": [
    {
     "name": "stdout",
     "output_type": "stream",
     "text": [
      "INFO: Running \u001b[32mdata_load_10\u001b[0m: 04l\u001b[?2004l\u001b[?2004l\n",
      "During startup - Warning messages:\n",
      "1: Setting LC_COLLATE failed, using \"C\" \n",
      "2: Setting LC_TIME failed, using \"C\" \n",
      "3: Setting LC_MESSAGES failed, using \"C\" \n",
      "4: Setting LC_MONETARY failed, using \"C\" \n",
      "Loading required package: bigstatsr\n",
      "Error : File '1000G/1000G.SUB.bk' already exists.\n",
      "INFO: \u001b[32mdata_load_10\u001b[0m is \u001b[32mcompleted\u001b[0m.\n",
      "INFO: Running \u001b[32mdata_load_20\u001b[0m: \n",
      "INFO: \u001b[32mdata_load_20\u001b[0m (index=0) is \u001b[32mignored\u001b[0m due to saved signature\n",
      "INFO: \u001b[32mdata_load_20\u001b[0m output:   \u001b[32mres-data/SumStats.RData\u001b[0m\n",
      "INFO: Running \u001b[32mdata_load_30\u001b[0m: \n",
      "During startup - Warning messages:\n",
      "1: Setting LC_COLLATE failed, using \"C\" \n",
      "2: Setting LC_TIME failed, using \"C\" \n",
      "3: Setting LC_MESSAGES failed, using \"C\" \n",
      "4: Setting LC_MONETARY failed, using \"C\" \n",
      "Loading required package: bigstatsr\n",
      "31,566 variants to be matched.\n",
      "1,134 ambiguous SNPs have been removed.\n",
      "30,432 variants have been matched; 0 were flipped and 19,529 were reversed.\n",
      "INFO: \u001b[32mdata_load_30\u001b[0m is \u001b[32mcompleted\u001b[0m.\n",
      "INFO: \u001b[32mdata_load_30\u001b[0m output:   \u001b[32mres-data/MatchedSnp.RData ukbiobank/UKB.SUB.snplist\u001b[0m\n",
      "INFO: Workflow data_load (ID=w6450178220ea9861) is executed successfully with 2 completed steps and 1 ignored step.\n",
      "\u001b[?2004h"
     ]
    },
    {
     "ename": "",
     "evalue": "1",
     "output_type": "error",
     "traceback": []
    }
   ],
   "source": [
    "sos run ldpred.ipynb data_load \\\n",
    "    --testpath \"ukbiobank\" \\\n",
    "    --ref_bfile 1000G/1000G.SUB.bed \\\n",
    "    --summstats_file mvpdata/pos_sumstats_hdl.SUB.rds \\\n",
    "    --ref_file 1000G/1000G.SUB.rds \\\n",
    "    --test_snplist UKB.SUB.snplist \\\n",
    "    --n_eff 200000"
   ]
  },
  {
   "cell_type": "markdown",
   "id": "rubber-wellington",
   "metadata": {
    "kernel": "Bash"
   },
   "source": [
    "## Step 4: Quality control or do not"
   ]
  },
  {
   "cell_type": "code",
   "execution_count": 7,
   "id": "jewish-parts",
   "metadata": {
    "kernel": "Bash"
   },
   "outputs": [
    {
     "name": "stdout",
     "output_type": "stream",
     "text": [
      "INFO: Running \u001b[32mQControl\u001b[0m: \n",
      "During startup - Warning messages:\n",
      "1: Setting LC_COLLATE failed, using \"C\" \n",
      "2: Setting LC_TIME failed, using \"C\" \n",
      "3: Setting LC_MESSAGES failed, using \"C\" \n",
      "4: Setting LC_MONETARY failed, using \"C\" \n",
      "Loading required package: bigstatsr\n",
      "During startup - Warning messages:\n",
      "1: Setting LC_COLLATE failed, using \"C\" \n",
      "2: Setting LC_TIME failed, using \"C\" \n",
      "3: Setting LC_MESSAGES failed, using \"C\" \n",
      "4: Setting LC_MONETARY failed, using \"C\" \n",
      "During startup - Warning messages:\n",
      "1: Setting LC_COLLATE failed, using \"C\" \n",
      "2: Setting LC_TIME failed, using \"C\" \n",
      "3: Setting LC_MESSAGES failed, using \"C\" \n",
      "4: Setting LC_MONETARY failed, using \"C\" \n",
      "During startup - Warning messages:\n",
      "1: Setting LC_COLLATE failed, using \"C\" \n",
      "2: Setting LC_TIME failed, using \"C\" \n",
      "3: Setting LC_MESSAGES failed, using \"C\" \n",
      "4: Setting LC_MONETARY failed, using \"C\" \n",
      "   user  system elapsed \n",
      "  0.057   0.010   2.165 \n",
      "Saving 7 x 7 in image\n",
      "[1] \"30376 over 30432 were removed in Quality Control.\"\n",
      "INFO: \u001b[32mQControl\u001b[0m is \u001b[32mcompleted\u001b[0m.\n",
      "INFO: \u001b[32mQControl\u001b[0m output:   \u001b[32mres-data/sd.rds res-data/QCMatchedSnp.RData... (4 items)\u001b[0m\n",
      "INFO: Workflow QControl (ID=wee2619455f259aee) is executed successfully with 1 completed step.\n",
      "\u001b[?2004h"
     ]
    },
    {
     "ename": "",
     "evalue": "1",
     "output_type": "error",
     "traceback": []
    }
   ],
   "source": [
    "sos run ldpred.ipynb QControl \\\n",
    "    --qc_in res-data/MatchedSnp.RData"
   ]
  },
  {
   "cell_type": "markdown",
   "id": "hazardous-logging",
   "metadata": {
    "kernel": "Bash"
   },
   "source": [
    "## Step 5: subsetting test data"
   ]
  },
  {
   "cell_type": "code",
   "execution_count": 8,
   "id": "incredible-intranet",
   "metadata": {
    "kernel": "Bash"
   },
   "outputs": [
    {
     "name": "stdout",
     "output_type": "stream",
     "text": [
      "PLINK v1.90b6.22 64-bit (16 Apr 2021)          www.cog-genomics.org/plink/1.9/\n",
      "(C) 2005-2021 Shaun Purcell, Christopher Chang   GNU General Public License v3\n",
      "Logging to UKB.SUB.log.\n",
      "Options in effect:\n",
      "  --bfile UKB.QC\n",
      "  --extract UKB.SUB.snplist\n",
      "  --make-bed\n",
      "  --out UKB.SUB\n",
      "\n",
      "8192 MB RAM detected; reserving 4096 MB for main workspace.\n",
      "47605 variants loaded from .bim file.\n",
      "2000 people (1085 males, 915 females) loaded from .fam.\n",
      "--extract: 30432 variants remaining.\n",
      "Using 1 thread (no multithreaded calculations invoked).\n",
      "Before main variant filters, 2000 founders and 0 nonfounders present.\n",
      "Calculating allele frequencies... 10111213141516171819202122232425262728293031323334353637383940414243444546474849505152535455565758596061626364656667686970717273747576777879808182838485868788899091929394959697989 done.\n",
      "30432 variants and 2000 people pass filters and QC.\n",
      "Note: No phenotypes present.\n",
      "--make-bed to UKB.SUB.bed + UKB.SUB.bim + UKB.SUB.fam ... 101112131415161718192021222324252627282930313233343536373839404142434445464748495051525354555657585960616263646566676869707172737475767778798081828384858687888990919293949596979899done.\n",
      "\u001b[?2004h\u001b[?2004l"
     ]
    },
    {
     "ename": "",
     "evalue": "1",
     "output_type": "error",
     "traceback": []
    }
   ],
   "source": [
    "cd ukbiobank\n",
    "./plink \\\n",
    "    --bfile UKB.QC \\\n",
    "    --extract UKB.SUB.snplist \\\n",
    "    --make-bed \\\n",
    "    --out UKB.SUB\n",
    "cd .."
   ]
  },
  {
   "cell_type": "markdown",
   "id": "southern-ranking",
   "metadata": {
    "kernel": "Bash"
   },
   "source": [
    "## Step 6: Calculate LD matrix and correlation"
   ]
  },
  {
   "cell_type": "code",
   "execution_count": 9,
   "id": "declared-brass",
   "metadata": {
    "kernel": "Bash"
   },
   "outputs": [
    {
     "name": "stdout",
     "output_type": "stream",
     "text": [
      "INFO: Running \u001b[32mLD\u001b[0m: \n",
      "During startup - Warning messages:\n",
      "1: Setting LC_COLLATE failed, using \"C\" \n",
      "2: Setting LC_TIME failed, using \"C\" \n",
      "3: Setting LC_MESSAGES failed, using \"C\" \n",
      "4: Setting LC_MONETARY failed, using \"C\" \n",
      "Loading required package: bigstatsr\n",
      "During startup - Warning messages:\n",
      "1: Setting LC_COLLATE failed, using \"C\" \n",
      "2: Setting LC_TIME failed, using \"C\" \n",
      "3: Setting LC_MESSAGES failed, using \"C\" \n",
      "4: Setting LC_MONETARY failed, using \"C\" \n",
      "Warning message:\n",
      "In file.remove(paste0(tmp, \".sbk\")) :\n",
      "  cannot remove file './res-data/file1658859d4b4ad.sbk', reason 'No such file or directory'\n",
      "INFO: \u001b[32mLD\u001b[0m is \u001b[32mcompleted\u001b[0m.\n",
      "INFO: \u001b[32mLD\u001b[0m output:   \u001b[32mres-data/LdMatrix.Rdata\u001b[0m\n",
      "INFO: Workflow LD (ID=wa8dcd8f85f92bd67) is executed successfully with 1 completed step.\n",
      "\u001b[?2004h"
     ]
    },
    {
     "ename": "",
     "evalue": "1",
     "output_type": "error",
     "traceback": []
    }
   ],
   "source": [
    "sos run ldpred.ipynb LD \\\n",
    "    --ld_in res-data/MatchedSnp.Rdata"
   ]
  },
  {
   "cell_type": "markdown",
   "id": "environmental-whale",
   "metadata": {
    "kernel": "Bash"
   },
   "source": [
    "## Step 7: Estimate posterior effect sizes and PRS"
   ]
  },
  {
   "cell_type": "code",
   "execution_count": null,
   "id": "superior-architecture",
   "metadata": {
    "kernel": "Bash"
   },
   "outputs": [],
   "source": [
    "sos run ldpred.ipynb load_testdata \\\n",
    "    --test_bfile ukbiobank/UKB.SUB.bed"
   ]
  },
  {
   "cell_type": "code",
   "execution_count": 64,
   "id": "becoming-village",
   "metadata": {
    "kernel": "Bash"
   },
   "outputs": [
    {
     "name": "stdout",
     "output_type": "stream",
     "text": [
      "INFO: Running \u001b[32minf_10\u001b[0m: l\u001b[?2004l\u001b[?2004l\n",
      "INFO: \u001b[32minf_10\u001b[0m (index=0) is \u001b[32mignored\u001b[0m due to saved signature\n",
      "INFO: \u001b[32minf_10\u001b[0m output:   \u001b[32mres-data/InfPred.Rdata\u001b[0m\n",
      "INFO: Running \u001b[32minf_20\u001b[0m: \n",
      "INFO: \u001b[32minf_20\u001b[0m (index=0) is \u001b[32mignored\u001b[0m due to saved signature\n",
      "INFO: \u001b[32minf_20\u001b[0m output:   \u001b[32mres-data/inf.cov\u001b[0m\n",
      "INFO: Workflow inf (ID=w1831d8e8c96f96ef) is ignored with 2 ignored steps.\n",
      "\u001b[?2004h"
     ]
    },
    {
     "ename": "",
     "evalue": "1",
     "output_type": "error",
     "traceback": []
    }
   ],
   "source": [
    "sos run ldpred.ipynb inf \\\n",
    "    --inf_in res-data/LdMatrix.Rdata \\\n",
    "    --outpath \"res-data\" \\\n",
    "    --test_file ukbiobank/UKB.SUB.rds \\\n",
    "    --covariate ukbiobank/UKB.cov \\\n",
    "    --traits ukbiobank/UKB.hdl.cov"
   ]
  },
  {
   "cell_type": "code",
   "execution_count": 2,
   "id": "beautiful-trance",
   "metadata": {
    "kernel": "Bash"
   },
   "outputs": [
    {
     "name": "stdout",
     "output_type": "stream",
     "text": [
      "INFO: Running \u001b[32mgrid_10\u001b[0m: \n",
      "\u001b[95mWARNING\u001b[0m: \u001b[95mNo target with label \"gridplot\" is available.\u001b[0m\n",
      "During startup - Warning messages:\n",
      "1: Setting LC_COLLATE failed, using \"C\" \n",
      "2: Setting LC_TIME failed, using \"C\" \n",
      "3: Setting LC_MESSAGES failed, using \"C\" \n",
      "4: Setting LC_MONETARY failed, using \"C\" \n",
      "Loading required package: bigstatsr\n",
      "30,432 variants to be matched.\n",
      "0 ambiguous SNPs have been removed.\n",
      "30,432 variants have been matched; 0 were flipped and 29,999 were reversed.\n",
      "During startup - Warning messages:\n",
      "1: Setting LC_COLLATE failed, using \"C\" \n",
      "2: Setting LC_TIME failed, using \"C\" \n",
      "3: Setting LC_MESSAGES failed, using \"C\" \n",
      "4: Setting LC_MONETARY failed, using \"C\" \n",
      "INFO: \u001b[32mgrid_10\u001b[0m is \u001b[32mcompleted\u001b[0m.\n",
      "INFO: \u001b[32mgrid_10\u001b[0m output:   \u001b[32mres-data/GridPred.Rdata\u001b[0m\n",
      "INFO: Workflow grid (ID=w2b38d2f57b520df1) is executed successfully with 1 completed step.\n",
      "\u001b[?2004h"
     ]
    },
    {
     "ename": "",
     "evalue": "1",
     "output_type": "error",
     "traceback": []
    }
   ],
   "source": [
    "sos run ldpred.ipynb grid:10 \\\n",
    "    --grid_in res-data/LdMatrix.Rdata \\\n",
    "    --outpath \"res-data\" \\\n",
    "    --test_file ukbiobank/UKB.SUB.rds"
   ]
  },
  {
   "cell_type": "code",
   "execution_count": 3,
   "id": "interior-capture",
   "metadata": {
    "kernel": "Bash"
   },
   "outputs": [
    {
     "name": "stdout",
     "output_type": "stream",
     "text": [
      "INFO: Running \u001b[32mauto_10\u001b[0m: \n",
      "During startup - Warning messages:\n",
      "1: Setting LC_COLLATE failed, using \"C\" \n",
      "2: Setting LC_TIME failed, using \"C\" \n",
      "3: Setting LC_MESSAGES failed, using \"C\" \n",
      "4: Setting LC_MONETARY failed, using \"C\" \n",
      "Loading required package: bigstatsr\n",
      "30,432 variants to be matched.\n",
      "0 ambiguous SNPs have been removed.\n",
      "30,432 variants have been matched; 0 were flipped and 29,999 were reversed.\n",
      "During startup - Warning messages:\n",
      "1: Setting LC_COLLATE failed, using \"C\" \n",
      "2: Setting LC_TIME failed, using \"C\" \n",
      "3: Setting LC_MESSAGES failed, using \"C\" \n",
      "4: Setting LC_MONETARY failed, using \"C\" \n",
      "During startup - Warning messages:\n",
      "1: Setting LC_COLLATE failed, using \"C\" \n",
      "2: Setting LC_TIME failed, using \"C\" \n",
      "3: Setting LC_MESSAGES failed, using \"C\" \n",
      "4: Setting LC_MONETARY failed, using \"C\" \n",
      "During startup - Warning messages:\n",
      "1: Setting LC_COLLATE failed, using \"C\" \n",
      "2: Setting LC_TIME failed, using \"C\" \n",
      "3: Setting LC_MESSAGES failed, using \"C\" \n",
      "4: Setting LC_MONETARY failed, using \"C\" \n",
      "Saving 7 x 7 in image\n",
      "INFO: \u001b[32mauto_10\u001b[0m is \u001b[32mcompleted\u001b[0m.\n",
      "INFO: \u001b[32mauto_10\u001b[0m output:   \u001b[32mres-data/AutoPred.Rdata res-data/AutoPlot.png\u001b[0m\n",
      "INFO: Workflow auto (ID=w8631c37040512513) is executed successfully with 1 completed step.\n",
      "\u001b[?2004h"
     ]
    },
    {
     "ename": "",
     "evalue": "1",
     "output_type": "error",
     "traceback": []
    }
   ],
   "source": [
    "sos run ldpred.ipynb auto:10 \\\n",
    "    --auto_in res-data/LdMatrix.Rdata \\\n",
    "    --outpath \"res-data\" \\\n",
    "    --test_file ukbiobank/UKB.SUB.rds"
   ]
  },
  {
   "cell_type": "markdown",
   "id": "liberal-powder",
   "metadata": {
    "kernel": "Bash"
   },
   "source": [
    "## Step 8: predict phenotypes"
   ]
  },
  {
   "cell_type": "code",
   "execution_count": 22,
   "id": "unlimited-theology",
   "metadata": {
    "kernel": "Bash"
   },
   "outputs": [
    {
     "name": "stdout",
     "output_type": "stream",
     "text": [
      "INFO: Running \u001b[32mnull_phenopred\u001b[0m: \n",
      "During startup - Warning messages:\n",
      "1: Setting LC_COLLATE failed, using \"C\" \n",
      "2: Setting LC_TIME failed, using \"C\" \n",
      "3: Setting LC_MESSAGES failed, using \"C\" \n",
      "4: Setting LC_MONETARY failed, using \"C\" \n",
      "Loading required package: bigstatsr\n",
      "There were 50 or more warnings (use warnings() to see the first 50)\n",
      "\u001b[90m# A tibble: 1 x 3\u001b[39m\n",
      "  model          R2   MSE\n",
      "  \u001b[3m\u001b[90m<chr>\u001b[39m\u001b[23m       \u001b[3m\u001b[90m<dbl>\u001b[39m\u001b[23m \u001b[3m\u001b[90m<dbl>\u001b[39m\u001b[23m\n",
      "\u001b[90m1\u001b[39m NULL model 0.039\u001b[4m7\u001b[24m 0.943\n",
      "null device \n",
      "          1 \n",
      "INFO: \u001b[32mnull_phenopred\u001b[0m is \u001b[32mcompleted\u001b[0m.\n",
      "INFO: \u001b[32mnull_phenopred\u001b[0m output:   \u001b[32mres-data/summary/NullSummary.pdf res-data/model/NullModel.Rdata\u001b[0m\n",
      "INFO: Workflow null_phenopred (ID=w267ecbfeb07e9d76) is executed successfully with 1 completed step.\n",
      "\u001b[?2004h"
     ]
    },
    {
     "ename": "",
     "evalue": "1",
     "output_type": "error",
     "traceback": []
    }
   ],
   "source": [
    "sos run ldpred.ipynb null_phenopred \\\n",
    "    --cov_file ukbiobank/UKB.ind.cov \\\n",
    "    --trait_file ukbiobank/UKB.hdl.cov"
   ]
  },
  {
   "cell_type": "code",
   "execution_count": 34,
   "id": "imposed-sussex",
   "metadata": {
    "kernel": "Bash"
   },
   "outputs": [
    {
     "name": "stdout",
     "output_type": "stream",
     "text": [
      "INFO: Running \u001b[32minf_phenopred\u001b[0m: \n",
      "During startup - Warning messages:\n",
      "1: Setting LC_COLLATE failed, using \"C\" \n",
      "2: Setting LC_TIME failed, using \"C\" \n",
      "3: Setting LC_MESSAGES failed, using \"C\" \n",
      "4: Setting LC_MONETARY failed, using \"C\" \n",
      "Loading required package: bigstatsr\n",
      "There were 50 or more warnings (use warnings() to see the first 50)\n",
      "\u001b[90m# A tibble: 1 x 3\u001b[39m\n",
      "  model         R2   MSE\n",
      "  \u001b[3m\u001b[90m<chr>\u001b[39m\u001b[23m      \u001b[3m\u001b[90m<dbl>\u001b[39m\u001b[23m \u001b[3m\u001b[90m<dbl>\u001b[39m\u001b[23m\n",
      "\u001b[90m1\u001b[39m Inf model 0.039\u001b[4m9\u001b[24m 0.944\n",
      "null device \n",
      "          1 \n",
      "INFO: \u001b[32minf_phenopred\u001b[0m is \u001b[32mcompleted\u001b[0m.\n",
      "INFO: \u001b[32minf_phenopred\u001b[0m output:   \u001b[32mres-data/summary/InfSummary.pdf res-data/model/InfModel.Rdata\u001b[0m\n",
      "INFO: Workflow inf_phenopred (ID=w149f969cac530f01) is executed successfully with 1 completed step.\n",
      "\u001b[?2004h"
     ]
    },
    {
     "ename": "",
     "evalue": "1",
     "output_type": "error",
     "traceback": []
    }
   ],
   "source": [
    "sos run ldpred.ipynb inf_phenopred \\\n",
    "    --cov_file ukbiobank/UKB.ind.cov \\\n",
    "    --trait_file ukbiobank/UKB.hdl.cov \\\n",
    "    --inf_file res-data/InfPred.Rdata"
   ]
  },
  {
   "cell_type": "code",
   "execution_count": 41,
   "id": "prostate-syracuse",
   "metadata": {
    "kernel": "Bash"
   },
   "outputs": [
    {
     "name": "stdout",
     "output_type": "stream",
     "text": [
      "INFO: Running \u001b[32mgrid_phenopred\u001b[0m: \n",
      "During startup - Warning messages:\n",
      "1: Setting LC_COLLATE failed, using \"C\" \n",
      "2: Setting LC_TIME failed, using \"C\" \n",
      "3: Setting LC_MESSAGES failed, using \"C\" \n",
      "4: Setting LC_MONETARY failed, using \"C\" \n",
      "Loading required package: bigstatsr\n",
      "There were 50 or more warnings (use warnings() to see the first 50)\n",
      "\u001b[90m# A tibble: 1 x 3\u001b[39m\n",
      "  model          R2   MSE\n",
      "  \u001b[3m\u001b[90m<chr>\u001b[39m\u001b[23m       \u001b[3m\u001b[90m<dbl>\u001b[39m\u001b[23m \u001b[3m\u001b[90m<dbl>\u001b[39m\u001b[23m\n",
      "\u001b[90m1\u001b[39m Grid model 0.040\u001b[4m5\u001b[24m 0.948\n",
      "null device \n",
      "          1 \n",
      "INFO: \u001b[32mgrid_phenopred\u001b[0m is \u001b[32mcompleted\u001b[0m.\n",
      "INFO: \u001b[32mgrid_phenopred\u001b[0m output:   \u001b[32mres-data/summary/GridSummary.pdf res-data/model/GridModel.Rdata\u001b[0m\n",
      "INFO: Workflow grid_phenopred (ID=wed8934f47fa4f9e2) is executed successfully with 1 completed step.\n",
      "\u001b[?2004h"
     ]
    },
    {
     "ename": "",
     "evalue": "1",
     "output_type": "error",
     "traceback": []
    }
   ],
   "source": [
    "sos run ldpred.ipynb grid_phenopred \\\n",
    "    --cov_file ukbiobank/UKB.ind.cov \\\n",
    "    --trait_file ukbiobank/UKB.hdl.cov \\\n",
    "    --grid_file res-data/GridPred.Rdata"
   ]
  },
  {
   "cell_type": "code",
   "execution_count": 36,
   "id": "multiple-notice",
   "metadata": {
    "kernel": "Bash"
   },
   "outputs": [
    {
     "name": "stdout",
     "output_type": "stream",
     "text": [
      "INFO: Running \u001b[32mauto_phenopred\u001b[0m: \n",
      "INFO: \u001b[32mauto_phenopred\u001b[0m (index=0) is \u001b[32mignored\u001b[0m due to saved signature\n",
      "INFO: \u001b[32mauto_phenopred\u001b[0m output:   \u001b[32mres-data/summary/AutoSummary.pdf res-data/model/AutoModel.Rdata\u001b[0m\n",
      "INFO: Workflow auto_phenopred (ID=w1fd8ee719cfac591) is ignored with 1 ignored step.\n",
      "\u001b[?2004h"
     ]
    },
    {
     "ename": "",
     "evalue": "1",
     "output_type": "error",
     "traceback": []
    }
   ],
   "source": [
    "sos run ldpred.ipynb auto_phenopred \\\n",
    "    --cov_file ukbiobank/UKB.ind.cov \\\n",
    "    --trait_file ukbiobank/UKB.hdl.cov \\\n",
    "    --auto_file res-data/AutoPred.Rdata"
   ]
  },
  {
   "cell_type": "code",
   "execution_count": null,
   "id": "lucky-nepal",
   "metadata": {
    "kernel": "Bash"
   },
   "outputs": [],
   "source": []
  }
 ],
 "metadata": {
  "kernelspec": {
   "display_name": "SoS",
   "language": "sos",
   "name": "sos"
  },
  "language_info": {
   "codemirror_mode": "sos",
   "file_extension": ".sos",
   "mimetype": "text/x-sos",
   "name": "sos",
   "nbconvert_exporter": "sos_notebook.converter.SoS_Exporter",
   "pygments_lexer": "sos"
  },
  "sos": {
   "kernels": [
    [
     "Bash",
     "bash",
     "Bash",
     "#E6EEFF",
     "shell"
    ],
    [
     "R",
     "ir",
     "R",
     "#DCDCDA",
     ""
    ]
   ],
   "version": "0.22.4"
  },
  "toc-autonumbering": false
 },
 "nbformat": 4,
 "nbformat_minor": 5
}
