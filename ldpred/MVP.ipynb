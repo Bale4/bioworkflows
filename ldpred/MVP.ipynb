{
 "cells": [
  {
   "cell_type": "markdown",
   "id": "short-thermal",
   "metadata": {
    "kernel": "Bash"
   },
   "source": [
    "# MVP\n",
    "\n",
    "* reference panel: `download_1000G()` in `bigsnpr`\n",
    "\n",
    "Including 2490 (mostly unrelated) individuals and ~1.7M SNPs in common with either HapMap3 or the UK Biobank.\n",
    "\n",
    "* summary stats: raw and posterior betas for traits ldl,hdl,tc and tg\n",
    "\n",
    "* LDpred2-auto model free of hyper-parameters\n",
    "\n",
    "The model I used to estimate effect size is auto mdoel. It runs the algorithm for 30 different p (the proportion of causal variants) values range from 10e-4 to 0.9, and heritability from LD score regression as initial value.\n",
    "\n"
   ]
  },
  {
   "cell_type": "markdown",
   "id": "fifteen-keyboard",
   "metadata": {
    "kernel": "Bash"
   },
   "source": [
    "* Important to check convergence\n",
    "\n",
    "See the convergence path of p (proportion of causal variants) and $h^2$ heritability."
   ]
  },
  {
   "cell_type": "markdown",
   "id": "included-jordan",
   "metadata": {
    "kernel": "Bash"
   },
   "source": [
    "1336793 over 1339339 were removed in Quality Control."
   ]
  },
  {
   "cell_type": "markdown",
   "id": "sharing-thing",
   "metadata": {
    "kernel": "Bash"
   },
   "source": [
    "## Step 1: common snps"
   ]
  },
  {
   "cell_type": "code",
   "execution_count": 12,
   "id": "dress-friend",
   "metadata": {
    "kernel": "Bash"
   },
   "outputs": [
    {
     "name": "stdout",
     "output_type": "stream",
     "text": [
      "INFO: Running \u001b[32mcommon_snp\u001b[0m: 2004l\u001b[?2004l\u001b[?2004l\u001b[?2004l\u001b[?2004l\n",
      "During startup - Warning messages:\n",
      "1: Setting LC_COLLATE failed, using \"C\" \n",
      "2: Setting LC_TIME failed, using \"C\" \n",
      "3: Setting LC_MESSAGES failed, using \"C\" \n",
      "4: Setting LC_MONETARY failed, using \"C\" \n",
      "INFO: \u001b[32mcommon_snp\u001b[0m is \u001b[32mcompleted\u001b[0m.\n",
      "INFO: \u001b[32mcommon_snp\u001b[0m output:   \u001b[32mmvpdata/pos_sumstats_hdl.SUB.rds mvpdata/common.snplist... (4 items)\u001b[0m\n",
      "INFO: Workflow common_snp (ID=we3bb041313e5ee79) is executed successfully with 1 completed step.\n",
      "\u001b[?2004h"
     ]
    },
    {
     "ename": "",
     "evalue": "1",
     "output_type": "error",
     "traceback": []
    }
   ],
   "source": [
    "sos run ldpred.ipynb common_snp \\\n",
    "    --stat_snp mvpdata/pos_sumstats_hdl.snplist \\\n",
    "    --ref_snp 1000G/1000G.QC.snplist \\\n",
    "    --test_snp ukbiobank/UKB.TMP.snplist \\\n",
    "    --summstats_file mvpdata/pos_sumstats_tg.rds \\\n",
    "    --sub_stats mvpdata/pos_sumstats_hdl.SUB.rds \\\n",
    "    --stats_comsnp mvpdata/common.snplist \\\n",
    "    --test_comsnp ukbiobank/common.snplist \\\n",
    "    --ref_comsnp 1000G/common.snplist"
   ]
  },
  {
   "cell_type": "markdown",
   "id": "colored-explanation",
   "metadata": {
    "kernel": "Bash"
   },
   "source": [
    "## Step 2: subsetting reference panel"
   ]
  },
  {
   "cell_type": "code",
   "execution_count": 22,
   "id": "heavy-combination",
   "metadata": {
    "kernel": "Bash"
   },
   "outputs": [
    {
     "name": "stdout",
     "output_type": "stream",
     "text": [
      "INFO: Running \u001b[32msubsets\u001b[0m: \u001b[?2004l\n",
      "PLINK v1.90b6.22 64-bit (16 Apr 2021)          www.cog-genomics.org/plink/1.9/\n",
      "(C) 2005-2021 Shaun Purcell, Christopher Chang   GNU General Public License v3\n",
      "Logging to 1000G/1000G.SUB.log.\n",
      "Options in effect:\n",
      "  --bfile 1000G/1000G\n",
      "  --extract 1000G/common.snplist\n",
      "  --keep 1000G/1000G.QC.fam\n",
      "  --make-bed\n",
      "  --out 1000G/1000G.SUB\n",
      "\n",
      "8192 MB RAM detected; reserving 4096 MB for main workspace.\n",
      "1664852 variants loaded from .bim file.\n",
      "2490 people (1227 males, 1263 females) loaded from .fam.\n",
      "--extract: 31566 variants remaining.\n",
      "--keep: 2490 people remaining.\n",
      "Using 1 thread (no multithreaded calculations invoked).\n",
      "Before main variant filters, 2489 founders and 1 nonfounder present.\n",
      "Calculating allele frequencies... 10111213141516171819202122232425262728293031323334353637383940414243444546474849505152535455565758596061626364656667686970717273747576777879808182838485868788899091929394959697989 done.\n",
      "31566 variants and 2490 people pass filters and QC.\n",
      "Note: No phenotypes present.\n",
      "--make-bed to 1000G/1000G.SUB.bed + 1000G/1000G.SUB.bim + 1000G/1000G.SUB.fam\n",
      "... 101112131415161718192021222324252627282930313233343536373839404142434445464748495051525354555657585960616263646566676869707172737475767778798081828384858687888990919293949596979899done.\n",
      "INFO: \u001b[32msubsets\u001b[0m is \u001b[32mcompleted\u001b[0m.\n",
      "INFO: \u001b[32msubsets\u001b[0m output:   \u001b[32m1000G/1000G.SUB.bed 1000G/1000G.SUB.bim... (3 items)\u001b[0m\n",
      "INFO: Workflow subsets (ID=wa3c1ffb0780fabfb) is executed successfully with 1 completed step.\n",
      "\u001b[?2004h"
     ]
    },
    {
     "ename": "",
     "evalue": "1",
     "output_type": "error",
     "traceback": []
    }
   ],
   "source": [
    "sos run ldpred.ipynb subsets \\\n",
    "    --bed_file 1000G/1000G.bed \\\n",
    "    --fam_file 1000G/1000G.QC.fam \\\n",
    "    --snp_file 1000G/common.snplist \\\n",
    "    --sub_bedfile 1000G/1000G.SUB.bed"
   ]
  },
  {
   "cell_type": "markdown",
   "id": "collective-provision",
   "metadata": {
    "kernel": "Bash"
   },
   "source": [
    "Totally 31566 varients"
   ]
  },
  {
   "cell_type": "markdown",
   "id": "assigned-colony",
   "metadata": {
    "kernel": "Bash"
   },
   "source": [
    "    ./plink \\\n",
    "        --bfile 1000G/1000G \\\n",
    "        --keep 1000G/1000G.QC.fam \\\n",
    "        --extract 1000G/common.snplist \\\n",
    "        --make-bed \\\n",
    "        --out 1000G/1000G.SUB\n"
   ]
  },
  {
   "cell_type": "markdown",
   "id": "comparative-finnish",
   "metadata": {
    "kernel": "Bash"
   },
   "source": [
    "## Step 3: load data"
   ]
  },
  {
   "cell_type": "code",
   "execution_count": 6,
   "id": "forward-begin",
   "metadata": {
    "kernel": "Bash"
   },
   "outputs": [
    {
     "name": "stdout",
     "output_type": "stream",
     "text": [
      "INFO: Running \u001b[32mdata_load_10\u001b[0m: 04l\u001b[?2004l\u001b[?2004l\n",
      "During startup - Warning messages:\n",
      "1: Setting LC_COLLATE failed, using \"C\" \n",
      "2: Setting LC_TIME failed, using \"C\" \n",
      "3: Setting LC_MESSAGES failed, using \"C\" \n",
      "4: Setting LC_MONETARY failed, using \"C\" \n",
      "Loading required package: bigstatsr\n",
      "Error : File '1000G/1000G.SUB.bk' already exists.\n",
      "INFO: \u001b[32mdata_load_10\u001b[0m is \u001b[32mcompleted\u001b[0m.\n",
      "INFO: Running \u001b[32mdata_load_20\u001b[0m: \n",
      "INFO: \u001b[32mdata_load_20\u001b[0m (index=0) is \u001b[32mignored\u001b[0m due to saved signature\n",
      "INFO: \u001b[32mdata_load_20\u001b[0m output:   \u001b[32mres-data/SumStats.RData\u001b[0m\n",
      "INFO: Running \u001b[32mdata_load_30\u001b[0m: \n",
      "During startup - Warning messages:\n",
      "1: Setting LC_COLLATE failed, using \"C\" \n",
      "2: Setting LC_TIME failed, using \"C\" \n",
      "3: Setting LC_MESSAGES failed, using \"C\" \n",
      "4: Setting LC_MONETARY failed, using \"C\" \n",
      "Loading required package: bigstatsr\n",
      "31,566 variants to be matched.\n",
      "1,134 ambiguous SNPs have been removed.\n",
      "30,432 variants have been matched; 0 were flipped and 19,529 were reversed.\n",
      "INFO: \u001b[32mdata_load_30\u001b[0m is \u001b[32mcompleted\u001b[0m.\n",
      "INFO: \u001b[32mdata_load_30\u001b[0m output:   \u001b[32mres-data/MatchedSnp.RData ukbiobank/UKB.SUB.snplist\u001b[0m\n",
      "INFO: Workflow data_load (ID=w6450178220ea9861) is executed successfully with 2 completed steps and 1 ignored step.\n",
      "\u001b[?2004h"
     ]
    },
    {
     "ename": "",
     "evalue": "1",
     "output_type": "error",
     "traceback": []
    }
   ],
   "source": [
    "sos run ldpred.ipynb data_load \\\n",
    "    --testpath \"ukbiobank\" \\\n",
    "    --ref_bfile 1000G/1000G.SUB.bed \\\n",
    "    --summstats_file mvpdata/pos_sumstats_hdl.SUB.rds \\\n",
    "    --ref_file 1000G/1000G.SUB.rds \\\n",
    "    --test_snplist UKB.SUB.snplist \\\n",
    "    --n_eff 200000"
   ]
  },
  {
   "cell_type": "markdown",
   "id": "racial-watershed",
   "metadata": {
    "kernel": "Bash"
   },
   "source": [
    "## Step 4: Quality control or do not"
   ]
  },
  {
   "cell_type": "code",
   "execution_count": 7,
   "id": "attached-helen",
   "metadata": {
    "kernel": "Bash"
   },
   "outputs": [
    {
     "name": "stdout",
     "output_type": "stream",
     "text": [
      "INFO: Running \u001b[32mQControl\u001b[0m: \n",
      "During startup - Warning messages:\n",
      "1: Setting LC_COLLATE failed, using \"C\" \n",
      "2: Setting LC_TIME failed, using \"C\" \n",
      "3: Setting LC_MESSAGES failed, using \"C\" \n",
      "4: Setting LC_MONETARY failed, using \"C\" \n",
      "Loading required package: bigstatsr\n",
      "During startup - Warning messages:\n",
      "1: Setting LC_COLLATE failed, using \"C\" \n",
      "2: Setting LC_TIME failed, using \"C\" \n",
      "3: Setting LC_MESSAGES failed, using \"C\" \n",
      "4: Setting LC_MONETARY failed, using \"C\" \n",
      "During startup - Warning messages:\n",
      "1: Setting LC_COLLATE failed, using \"C\" \n",
      "2: Setting LC_TIME failed, using \"C\" \n",
      "3: Setting LC_MESSAGES failed, using \"C\" \n",
      "4: Setting LC_MONETARY failed, using \"C\" \n",
      "During startup - Warning messages:\n",
      "1: Setting LC_COLLATE failed, using \"C\" \n",
      "2: Setting LC_TIME failed, using \"C\" \n",
      "3: Setting LC_MESSAGES failed, using \"C\" \n",
      "4: Setting LC_MONETARY failed, using \"C\" \n",
      "   user  system elapsed \n",
      "  0.057   0.010   2.165 \n",
      "Saving 7 x 7 in image\n",
      "[1] \"30376 over 30432 were removed in Quality Control.\"\n",
      "INFO: \u001b[32mQControl\u001b[0m is \u001b[32mcompleted\u001b[0m.\n",
      "INFO: \u001b[32mQControl\u001b[0m output:   \u001b[32mres-data/sd.rds res-data/QCMatchedSnp.RData... (4 items)\u001b[0m\n",
      "INFO: Workflow QControl (ID=wee2619455f259aee) is executed successfully with 1 completed step.\n",
      "\u001b[?2004h"
     ]
    },
    {
     "ename": "",
     "evalue": "1",
     "output_type": "error",
     "traceback": []
    }
   ],
   "source": [
    "sos run ldpred.ipynb QControl \\\n",
    "    --qc_in res-data/MatchedSnp.RData"
   ]
  },
  {
   "cell_type": "markdown",
   "id": "answering-desktop",
   "metadata": {
    "kernel": "Bash"
   },
   "source": [
    "## Step 5: subsetting test data"
   ]
  },
  {
   "cell_type": "code",
   "execution_count": 26,
   "id": "indian-subscription",
   "metadata": {
    "kernel": "Bash"
   },
   "outputs": [
    {
     "name": "stdout",
     "output_type": "stream",
     "text": [
      "INFO: Running \u001b[32msubsets\u001b[0m: \u001b[?2004l\n",
      "PLINK v1.90b6.22 64-bit (16 Apr 2021)          www.cog-genomics.org/plink/1.9/\n",
      "(C) 2005-2021 Shaun Purcell, Christopher Chang   GNU General Public License v3\n",
      "Logging to ukbiobank/UKB.SUB.log.\n",
      "Options in effect:\n",
      "  --bfile ukbiobank/UKB.QC\n",
      "  --extract ukbiobank/UKB.SUB.snplist\n",
      "  --keep ukbiobank/UKB.QC.fam\n",
      "  --make-bed\n",
      "  --out ukbiobank/UKB.SUB\n",
      "\n",
      "8192 MB RAM detected; reserving 4096 MB for main workspace.\n",
      "47605 variants loaded from .bim file.\n",
      "2000 people (1085 males, 915 females) loaded from .fam.\n",
      "--extract: 30432 variants remaining.\n",
      "--keep: 2000 people remaining.\n",
      "Using 1 thread (no multithreaded calculations invoked).\n",
      "Before main variant filters, 2000 founders and 0 nonfounders present.\n",
      "Calculating allele frequencies... 10111213141516171819202122232425262728293031323334353637383940414243444546474849505152535455565758596061626364656667686970717273747576777879808182838485868788899091929394959697989 done.\n",
      "30432 variants and 2000 people pass filters and QC.\n",
      "Note: No phenotypes present.\n",
      "--make-bed to ukbiobank/UKB.SUB.bed + ukbiobank/UKB.SUB.bim +\n",
      "ukbiobank/UKB.SUB.fam ... 101112131415161718192021222324252627282930313233343536373839404142434445464748495051525354555657585960616263646566676869707172737475767778798081828384858687888990919293949596979899done.\n",
      "INFO: \u001b[32msubsets\u001b[0m is \u001b[32mcompleted\u001b[0m.\n",
      "INFO: \u001b[32msubsets\u001b[0m output:   \u001b[32mukbiobank/UKB.SUB.bed ukbiobank/UKB.SUB.bim... (3 items)\u001b[0m\n",
      "INFO: Workflow subsets (ID=w855fe8da068fffbd) is executed successfully with 1 completed step.\n",
      "\u001b[?2004h"
     ]
    },
    {
     "ename": "",
     "evalue": "1",
     "output_type": "error",
     "traceback": []
    }
   ],
   "source": [
    "sos run ldpred.ipynb subsets \\\n",
    "    --bed_file ukbiobank/UKB.QC.bed \\\n",
    "    --fam_file ukbiobank/UKB.QC.fam \\\n",
    "    --snp_file ukbiobank/UKB.SUB.snplist \\\n",
    "    --sub_bedfile ukbiobank/UKB.SUB.bed"
   ]
  },
  {
   "cell_type": "code",
   "execution_count": 25,
   "id": "lovely-bread",
   "metadata": {
    "kernel": "Bash"
   },
   "outputs": [
    {
     "name": "stdout",
     "output_type": "stream",
     "text": [
      "PLINK v1.90b6.22 64-bit (16 Apr 2021)          www.cog-genomics.org/plink/1.9/\n",
      "(C) 2005-2021 Shaun Purcell, Christopher Chang   GNU General Public License v3\n",
      "Logging to UKB.SUB.log.\n",
      "Options in effect:\n",
      "  --bfile UKB.QC\n",
      "  --extract UKB.SUB.snplist\n",
      "  --make-bed\n",
      "  --out UKB.SUB\n",
      "\n",
      "8192 MB RAM detected; reserving 4096 MB for main workspace.\n",
      "47605 variants loaded from .bim file.\n",
      "2000 people (1085 males, 915 females) loaded from .fam.\n",
      "--extract: 30432 variants remaining.\n",
      "Using 1 thread (no multithreaded calculations invoked).\n",
      "Before main variant filters, 2000 founders and 0 nonfounders present.\n",
      "Calculating allele frequencies... 10111213141516171819202122232425262728293031323334353637383940414243444546474849505152535455565758596061626364656667686970717273747576777879808182838485868788899091929394959697989 done.\n",
      "30432 variants and 2000 people pass filters and QC.\n",
      "Note: No phenotypes present.\n",
      "--make-bed to UKB.SUB.bed + UKB.SUB.bim + UKB.SUB.fam ... 101112131415161718192021222324252627282930313233343536373839404142434445464748495051525354555657585960616263646566676869707172737475767778798081828384858687888990919293949596979899done.\n",
      "\u001b[?2004h\u001b[?2004l"
     ]
    },
    {
     "ename": "",
     "evalue": "1",
     "output_type": "error",
     "traceback": []
    }
   ],
   "source": [
    "cd ukbiobank\n",
    "./plink \\\n",
    "    --bfile UKB.QC \\\n",
    "    --extract UKB.SUB.snplist \\\n",
    "    --make-bed \\\n",
    "    --out UKB.SUB\n",
    "cd .."
   ]
  },
  {
   "cell_type": "markdown",
   "id": "pharmaceutical-wages",
   "metadata": {
    "kernel": "Bash"
   },
   "source": [
    "## Step 6: Calculate LD matrix and correlation"
   ]
  },
  {
   "cell_type": "code",
   "execution_count": 9,
   "id": "lyric-exercise",
   "metadata": {
    "kernel": "Bash"
   },
   "outputs": [
    {
     "name": "stdout",
     "output_type": "stream",
     "text": [
      "INFO: Running \u001b[32mLD\u001b[0m: \n",
      "During startup - Warning messages:\n",
      "1: Setting LC_COLLATE failed, using \"C\" \n",
      "2: Setting LC_TIME failed, using \"C\" \n",
      "3: Setting LC_MESSAGES failed, using \"C\" \n",
      "4: Setting LC_MONETARY failed, using \"C\" \n",
      "Loading required package: bigstatsr\n",
      "During startup - Warning messages:\n",
      "1: Setting LC_COLLATE failed, using \"C\" \n",
      "2: Setting LC_TIME failed, using \"C\" \n",
      "3: Setting LC_MESSAGES failed, using \"C\" \n",
      "4: Setting LC_MONETARY failed, using \"C\" \n",
      "Warning message:\n",
      "In file.remove(paste0(tmp, \".sbk\")) :\n",
      "  cannot remove file './res-data/file1658859d4b4ad.sbk', reason 'No such file or directory'\n",
      "INFO: \u001b[32mLD\u001b[0m is \u001b[32mcompleted\u001b[0m.\n",
      "INFO: \u001b[32mLD\u001b[0m output:   \u001b[32mres-data/LdMatrix.Rdata\u001b[0m\n",
      "INFO: Workflow LD (ID=wa8dcd8f85f92bd67) is executed successfully with 1 completed step.\n",
      "\u001b[?2004h"
     ]
    },
    {
     "ename": "",
     "evalue": "1",
     "output_type": "error",
     "traceback": []
    }
   ],
   "source": [
    "sos run ldpred.ipynb LD \\\n",
    "    --ld_in res-data/MatchedSnp.Rdata"
   ]
  },
  {
   "cell_type": "markdown",
   "id": "younger-argument",
   "metadata": {
    "kernel": "Bash"
   },
   "source": [
    "## Step 7: Estimate posterior effect sizes and PRS"
   ]
  },
  {
   "cell_type": "code",
   "execution_count": null,
   "id": "adopted-english",
   "metadata": {
    "kernel": "Bash"
   },
   "outputs": [],
   "source": [
    "sos run ldpred.ipynb load_testdata \\\n",
    "    --test_bfile ukbiobank/UKB.SUB.bed"
   ]
  },
  {
   "cell_type": "code",
   "execution_count": 64,
   "id": "severe-compromise",
   "metadata": {
    "kernel": "Bash"
   },
   "outputs": [
    {
     "name": "stdout",
     "output_type": "stream",
     "text": [
      "INFO: Running \u001b[32minf_10\u001b[0m: l\u001b[?2004l\u001b[?2004l\n",
      "INFO: \u001b[32minf_10\u001b[0m (index=0) is \u001b[32mignored\u001b[0m due to saved signature\n",
      "INFO: \u001b[32minf_10\u001b[0m output:   \u001b[32mres-data/InfPred.Rdata\u001b[0m\n",
      "INFO: Running \u001b[32minf_20\u001b[0m: \n",
      "INFO: \u001b[32minf_20\u001b[0m (index=0) is \u001b[32mignored\u001b[0m due to saved signature\n",
      "INFO: \u001b[32minf_20\u001b[0m output:   \u001b[32mres-data/inf.cov\u001b[0m\n",
      "INFO: Workflow inf (ID=w1831d8e8c96f96ef) is ignored with 2 ignored steps.\n",
      "\u001b[?2004h"
     ]
    },
    {
     "ename": "",
     "evalue": "1",
     "output_type": "error",
     "traceback": []
    }
   ],
   "source": [
    "sos run ldpred.ipynb inf \\\n",
    "    --inf_in res-data/LdMatrix.Rdata \\\n",
    "    --outpath \"res-data\" \\\n",
    "    --test_file ukbiobank/UKB.SUB.rds \\\n",
    "    --covariate ukbiobank/UKB.cov \\\n",
    "    --traits ukbiobank/UKB.hdl.cov"
   ]
  },
  {
   "cell_type": "code",
   "execution_count": 2,
   "id": "editorial-apple",
   "metadata": {
    "kernel": "Bash"
   },
   "outputs": [
    {
     "name": "stdout",
     "output_type": "stream",
     "text": [
      "INFO: Running \u001b[32mgrid_10\u001b[0m: \n",
      "\u001b[95mWARNING\u001b[0m: \u001b[95mNo target with label \"gridplot\" is available.\u001b[0m\n",
      "During startup - Warning messages:\n",
      "1: Setting LC_COLLATE failed, using \"C\" \n",
      "2: Setting LC_TIME failed, using \"C\" \n",
      "3: Setting LC_MESSAGES failed, using \"C\" \n",
      "4: Setting LC_MONETARY failed, using \"C\" \n",
      "Loading required package: bigstatsr\n",
      "30,432 variants to be matched.\n",
      "0 ambiguous SNPs have been removed.\n",
      "30,432 variants have been matched; 0 were flipped and 29,999 were reversed.\n",
      "During startup - Warning messages:\n",
      "1: Setting LC_COLLATE failed, using \"C\" \n",
      "2: Setting LC_TIME failed, using \"C\" \n",
      "3: Setting LC_MESSAGES failed, using \"C\" \n",
      "4: Setting LC_MONETARY failed, using \"C\" \n",
      "INFO: \u001b[32mgrid_10\u001b[0m is \u001b[32mcompleted\u001b[0m.\n",
      "INFO: \u001b[32mgrid_10\u001b[0m output:   \u001b[32mres-data/GridPred.Rdata\u001b[0m\n",
      "INFO: Workflow grid (ID=w2b38d2f57b520df1) is executed successfully with 1 completed step.\n",
      "\u001b[?2004h"
     ]
    },
    {
     "ename": "",
     "evalue": "1",
     "output_type": "error",
     "traceback": []
    }
   ],
   "source": [
    "sos run ldpred.ipynb grid:10 \\\n",
    "    --grid_in res-data/LdMatrix.Rdata \\\n",
    "    --outpath \"res-data\" \\\n",
    "    --test_file ukbiobank/UKB.SUB.rds"
   ]
  },
  {
   "cell_type": "code",
   "execution_count": 3,
   "id": "active-custom",
   "metadata": {
    "kernel": "Bash"
   },
   "outputs": [
    {
     "name": "stdout",
     "output_type": "stream",
     "text": [
      "INFO: Running \u001b[32mauto_10\u001b[0m: \n",
      "During startup - Warning messages:\n",
      "1: Setting LC_COLLATE failed, using \"C\" \n",
      "2: Setting LC_TIME failed, using \"C\" \n",
      "3: Setting LC_MESSAGES failed, using \"C\" \n",
      "4: Setting LC_MONETARY failed, using \"C\" \n",
      "Loading required package: bigstatsr\n",
      "30,432 variants to be matched.\n",
      "0 ambiguous SNPs have been removed.\n",
      "30,432 variants have been matched; 0 were flipped and 29,999 were reversed.\n",
      "During startup - Warning messages:\n",
      "1: Setting LC_COLLATE failed, using \"C\" \n",
      "2: Setting LC_TIME failed, using \"C\" \n",
      "3: Setting LC_MESSAGES failed, using \"C\" \n",
      "4: Setting LC_MONETARY failed, using \"C\" \n",
      "During startup - Warning messages:\n",
      "1: Setting LC_COLLATE failed, using \"C\" \n",
      "2: Setting LC_TIME failed, using \"C\" \n",
      "3: Setting LC_MESSAGES failed, using \"C\" \n",
      "4: Setting LC_MONETARY failed, using \"C\" \n",
      "During startup - Warning messages:\n",
      "1: Setting LC_COLLATE failed, using \"C\" \n",
      "2: Setting LC_TIME failed, using \"C\" \n",
      "3: Setting LC_MESSAGES failed, using \"C\" \n",
      "4: Setting LC_MONETARY failed, using \"C\" \n",
      "Saving 7 x 7 in image\n",
      "INFO: \u001b[32mauto_10\u001b[0m is \u001b[32mcompleted\u001b[0m.\n",
      "INFO: \u001b[32mauto_10\u001b[0m output:   \u001b[32mres-data/AutoPred.Rdata res-data/AutoPlot.png\u001b[0m\n",
      "INFO: Workflow auto (ID=w8631c37040512513) is executed successfully with 1 completed step.\n",
      "\u001b[?2004h"
     ]
    },
    {
     "ename": "",
     "evalue": "1",
     "output_type": "error",
     "traceback": []
    }
   ],
   "source": [
    "sos run ldpred.ipynb auto:10 \\\n",
    "    --auto_in res-data/LdMatrix.Rdata \\\n",
    "    --outpath \"res-data\" \\\n",
    "    --test_file ukbiobank/UKB.SUB.rds"
   ]
  },
  {
   "cell_type": "markdown",
   "id": "recent-clothing",
   "metadata": {
    "kernel": "Bash"
   },
   "source": [
    "## Step 8: predict phenotypes"
   ]
  },
  {
   "cell_type": "code",
   "execution_count": 22,
   "id": "synthetic-shareware",
   "metadata": {
    "kernel": "Bash"
   },
   "outputs": [
    {
     "name": "stdout",
     "output_type": "stream",
     "text": [
      "INFO: Running \u001b[32mnull_phenopred\u001b[0m: \n",
      "During startup - Warning messages:\n",
      "1: Setting LC_COLLATE failed, using \"C\" \n",
      "2: Setting LC_TIME failed, using \"C\" \n",
      "3: Setting LC_MESSAGES failed, using \"C\" \n",
      "4: Setting LC_MONETARY failed, using \"C\" \n",
      "Loading required package: bigstatsr\n",
      "There were 50 or more warnings (use warnings() to see the first 50)\n",
      "\u001b[90m# A tibble: 1 x 3\u001b[39m\n",
      "  model          R2   MSE\n",
      "  \u001b[3m\u001b[90m<chr>\u001b[39m\u001b[23m       \u001b[3m\u001b[90m<dbl>\u001b[39m\u001b[23m \u001b[3m\u001b[90m<dbl>\u001b[39m\u001b[23m\n",
      "\u001b[90m1\u001b[39m NULL model 0.039\u001b[4m7\u001b[24m 0.943\n",
      "null device \n",
      "          1 \n",
      "INFO: \u001b[32mnull_phenopred\u001b[0m is \u001b[32mcompleted\u001b[0m.\n",
      "INFO: \u001b[32mnull_phenopred\u001b[0m output:   \u001b[32mres-data/summary/NullSummary.pdf res-data/model/NullModel.Rdata\u001b[0m\n",
      "INFO: Workflow null_phenopred (ID=w267ecbfeb07e9d76) is executed successfully with 1 completed step.\n",
      "\u001b[?2004h"
     ]
    },
    {
     "ename": "",
     "evalue": "1",
     "output_type": "error",
     "traceback": []
    }
   ],
   "source": [
    "sos run ldpred.ipynb null_phenopred \\\n",
    "    --cov_file ukbiobank/UKB.ind.cov \\\n",
    "    --trait_file ukbiobank/UKB.hdl.cov"
   ]
  },
  {
   "cell_type": "code",
   "execution_count": 30,
   "id": "jewish-fluid",
   "metadata": {
    "kernel": "Bash"
   },
   "outputs": [
    {
     "name": "stdout",
     "output_type": "stream",
     "text": [
      "INFO: Running \u001b[32minf_phenopred\u001b[0m: 4l\n",
      "During startup - Warning messages:\n",
      "1: Setting LC_COLLATE failed, using \"C\" \n",
      "2: Setting LC_TIME failed, using \"C\" \n",
      "3: Setting LC_MESSAGES failed, using \"C\" \n",
      "4: Setting LC_MONETARY failed, using \"C\" \n",
      "Loading required package: bigstatsr\n",
      "There were 50 or more warnings (use warnings() to see the first 50)\n",
      "\u001b[90m# A tibble: 1 x 3\u001b[39m\n",
      "  model         R2   MSE\n",
      "  \u001b[3m\u001b[90m<chr>\u001b[39m\u001b[23m      \u001b[3m\u001b[90m<dbl>\u001b[39m\u001b[23m \u001b[3m\u001b[90m<dbl>\u001b[39m\u001b[23m\n",
      "\u001b[90m1\u001b[39m Inf model 0.039\u001b[4m9\u001b[24m 0.944\n",
      "null device \n",
      "          1 \n",
      "INFO: \u001b[32minf_phenopred\u001b[0m is \u001b[32mcompleted\u001b[0m.\n",
      "INFO: \u001b[32minf_phenopred\u001b[0m output:   \u001b[32mres-data/summary/InfSummary.pdf res-data/model/InfModel.Rdata\u001b[0m\n",
      "INFO: Workflow inf_phenopred (ID=w155a831f53ecc4ca) is executed successfully with 1 completed step.\n",
      "\u001b[?2004h"
     ]
    },
    {
     "ename": "",
     "evalue": "1",
     "output_type": "error",
     "traceback": []
    }
   ],
   "source": [
    "sos run ldpred.ipynb inf_phenopred \\\n",
    "    --cov_file ukbiobank/UKB.ind.cov \\\n",
    "    --trait_file ukbiobank/UKB.hdl.cov \\\n",
    "    --inf_file res-data/InfPred.Rdata \\\n",
    "    --response 1"
   ]
  },
  {
   "cell_type": "code",
   "execution_count": 32,
   "id": "plain-portfolio",
   "metadata": {
    "kernel": "Bash"
   },
   "outputs": [
    {
     "name": "stdout",
     "output_type": "stream",
     "text": [
      "INFO: Running \u001b[32mgrid_phenopred\u001b[0m: l\n",
      "During startup - Warning messages:\n",
      "1: Setting LC_COLLATE failed, using \"C\" \n",
      "2: Setting LC_TIME failed, using \"C\" \n",
      "3: Setting LC_MESSAGES failed, using \"C\" \n",
      "4: Setting LC_MONETARY failed, using \"C\" \n",
      "Loading required package: bigstatsr\n",
      "Saving 7 x 7 in image\n",
      "There were 50 or more warnings (use warnings() to see the first 50)\n",
      "\u001b[90m# A tibble: 1 x 3\u001b[39m\n",
      "  model          R2   MSE\n",
      "  \u001b[3m\u001b[90m<chr>\u001b[39m\u001b[23m       \u001b[3m\u001b[90m<dbl>\u001b[39m\u001b[23m \u001b[3m\u001b[90m<dbl>\u001b[39m\u001b[23m\n",
      "\u001b[90m1\u001b[39m Grid model 0.040\u001b[4m5\u001b[24m 0.948\n",
      "pdf \n",
      "  2 \n",
      "INFO: \u001b[32mgrid_phenopred\u001b[0m is \u001b[32mcompleted\u001b[0m.\n",
      "INFO: \u001b[32mgrid_phenopred\u001b[0m output:   \u001b[32mres-data/summary/GridSummary.pdf res-data/model/GridModel.Rdata... (3 items)\u001b[0m\n",
      "INFO: Workflow grid_phenopred (ID=w23f42d8d83262af5) is executed successfully with 1 completed step.\n",
      "\u001b[?2004h"
     ]
    },
    {
     "ename": "",
     "evalue": "1",
     "output_type": "error",
     "traceback": []
    }
   ],
   "source": [
    "sos run ldpred.ipynb grid_phenopred \\\n",
    "    --cov_file ukbiobank/UKB.ind.cov \\\n",
    "    --trait_file ukbiobank/UKB.hdl.cov \\\n",
    "    --grid_file res-data/GridPred.Rdata \\\n",
    "    --response 1"
   ]
  },
  {
   "cell_type": "code",
   "execution_count": 34,
   "id": "alternate-david",
   "metadata": {
    "kernel": "Bash"
   },
   "outputs": [
    {
     "name": "stdout",
     "output_type": "stream",
     "text": [
      "INFO: Running \u001b[32mauto_phenopred\u001b[0m: l\n",
      "During startup - Warning messages:\n",
      "1: Setting LC_COLLATE failed, using \"C\" \n",
      "2: Setting LC_TIME failed, using \"C\" \n",
      "3: Setting LC_MESSAGES failed, using \"C\" \n",
      "4: Setting LC_MONETARY failed, using \"C\" \n",
      "Loading required package: bigstatsr\n",
      "There were 50 or more warnings (use warnings() to see the first 50)\n",
      "\u001b[90m# A tibble: 1 x 3\u001b[39m\n",
      "  model          R2   MSE\n",
      "  \u001b[3m\u001b[90m<chr>\u001b[39m\u001b[23m       \u001b[3m\u001b[90m<dbl>\u001b[39m\u001b[23m \u001b[3m\u001b[90m<dbl>\u001b[39m\u001b[23m\n",
      "\u001b[90m1\u001b[39m Auto model 0.039\u001b[4m8\u001b[24m 0.944\n",
      "null device \n",
      "          1 \n",
      "INFO: \u001b[32mauto_phenopred\u001b[0m is \u001b[32mcompleted\u001b[0m.\n",
      "INFO: \u001b[32mauto_phenopred\u001b[0m output:   \u001b[32mres-data/summary/AutoSummary.pdf res-data/model/AutoModel.Rdata\u001b[0m\n",
      "INFO: Workflow auto_phenopred (ID=w48dc9ff9b8b99f04) is executed successfully with 1 completed step.\n",
      "\u001b[?2004h"
     ]
    },
    {
     "ename": "",
     "evalue": "1",
     "output_type": "error",
     "traceback": []
    }
   ],
   "source": [
    "sos run ldpred.ipynb auto_phenopred \\\n",
    "    --cov_file ukbiobank/UKB.ind.cov \\\n",
    "    --trait_file ukbiobank/UKB.hdl.cov \\\n",
    "    --auto_file res-data/AutoPred.Rdata \\\n",
    "    --response 1"
   ]
  },
  {
   "cell_type": "code",
   "execution_count": null,
   "id": "southeast-instruction",
   "metadata": {
    "kernel": "Bash"
   },
   "outputs": [],
   "source": []
  }
 ],
 "metadata": {
  "kernelspec": {
   "display_name": "SoS",
   "language": "sos",
   "name": "sos"
  },
  "language_info": {
   "codemirror_mode": "sos",
   "file_extension": ".sos",
   "mimetype": "text/x-sos",
   "name": "sos",
   "nbconvert_exporter": "sos_notebook.converter.SoS_Exporter",
   "pygments_lexer": "sos"
  },
  "sos": {
   "kernels": [
    [
     "Bash",
     "bash",
     "Bash",
     "#E6EEFF",
     "shell"
    ],
    [
     "R",
     "ir",
     "R",
     "#DCDCDA",
     ""
    ]
   ],
   "version": "0.22.4"
  },
  "toc-autonumbering": false
 },
 "nbformat": 4,
 "nbformat_minor": 5
}
