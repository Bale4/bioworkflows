{
 "cells": [
  {
   "cell_type": "markdown",
   "metadata": {
    "kernel": "SoS"
   },
   "source": [
    " # LDpred-2\n",
    " \n",
    " Author: Shing Wan Choi"
   ]
  },
  {
   "cell_type": "markdown",
   "metadata": {
    "kernel": "SoS"
   },
   "source": [
    "## Required data and files\n",
    "\n",
    "[data link](https://drive.google.com/file/d/1x_G0Gxk9jFMY-PMqwtg6-vdEyUPp5p5u/view)\n",
    "\n",
    "\\begin{array}{c|c}\n",
    "\\hline \\text { File Name } & \\text { Description } \\\\\n",
    "\\hline \\text { Height.QC.gz } & \\text { The post-QCed summary statistic } \\\\\n",
    "\\hline \\text { EUR.QC.bed } & \\text { The genotype file after performing some basic filtering } \\\\\n",
    "\\hline \\text { EUR.QC.bim } & \\text { This file contains the SNPs that passed the basic filtering } \\\\\n",
    "\\hline \\text { EUR.QC.fam } & \\text { This file contains the samples that passed the basic filtering } \\\\\n",
    "\\hline \\text { EUR.height } & \\text { This file contains the phenotype of the samples } \\\\\n",
    "\\hline \\text { EUR.cov } & \\text { This file contains the covariates of the samples } \\\\\n",
    "\\hline \\text { EUR.eigenvec } & \\text { This file contains the PCs of the samples } \\\\\n",
    "\\hline\n",
    "\\end{array}\n",
    "\n",
    "While we do provide a rough guide on how to **perform LDpred on bed files separated into individual chromosomes**, this script is untested and extra caution is required"
   ]
  },
  {
   "cell_type": "markdown",
   "metadata": {
    "kernel": "SoS"
   },
   "source": [
    "## Prepare workspace"
   ]
  },
  {
   "cell_type": "code",
   "execution_count": 1,
   "metadata": {
    "kernel": "R"
   },
   "outputs": [
    {
     "name": "stderr",
     "output_type": "stream",
     "text": [
      "Loading required package: bigstatsr\n",
      "\n"
     ]
    }
   ],
   "source": [
    "library(bigsnpr)\n",
    "# options(bigstatsr.check.parallel.blas = FALSE)\n",
    "# options(default.nproc.blas = NULL)"
   ]
  },
  {
   "cell_type": "code",
   "execution_count": 11,
   "metadata": {
    "kernel": "R"
   },
   "outputs": [],
   "source": [
    "library(data.table)\n",
    "library(magrittr)\n",
    "phenotype <- fread(\"post-qc/EUR.height\")\n",
    "covariate <- fread(\"post-qc/EUR.cov\")\n",
    "pcs <- fread(\"post-qc/EUR.eigenvec\") # principle components\n",
    "# rename columns\n",
    "colnames(pcs) <- c(\"FID\",\"IID\", paste0(\"PC\",1:6))\n",
    "# generate required table\n",
    "pheno <- merge(phenotype, covariate) %>%\n",
    "    merge(., pcs)"
   ]
  },
  {
   "cell_type": "code",
   "execution_count": null,
   "metadata": {
    "kernel": "R"
   },
   "outputs": [],
   "source": [
    "head(pheno)"
   ]
  },
  {
   "cell_type": "markdown",
   "metadata": {
    "kernel": "R"
   },
   "source": [
    "## obtain HapMap3 SNPs\n",
    "\n",
    "load HapMap3 SNPs"
   ]
  },
  {
   "cell_type": "code",
   "execution_count": 12,
   "metadata": {
    "kernel": "R"
   },
   "outputs": [],
   "source": [
    "info <- readRDS(url(\"https://github.com/privefl/bigsnpr/raw/master/data-raw/hm3_variants.rds\"))"
   ]
  },
  {
   "cell_type": "code",
   "execution_count": null,
   "metadata": {
    "kernel": "R"
   },
   "outputs": [],
   "source": [
    "head(info,10)"
   ]
  },
  {
   "cell_type": "markdown",
   "metadata": {
    "kernel": "R"
   },
   "source": [
    "## Load and transform the summary statistic file\n",
    "\n",
    "one must rename the columns according to their actual ordering"
   ]
  },
  {
   "cell_type": "code",
   "execution_count": 13,
   "metadata": {
    "kernel": "R"
   },
   "outputs": [],
   "source": [
    "# Read in the summary statistic file\n",
    "sumstats <- bigreadr::fread2(\"post-qc/Height.QC.gz\") \n",
    "# LDpred 2 require the header to follow the exact naming\n",
    "names(sumstats) <-\n",
    "    c(\"chr\",\n",
    "    \"pos\",\n",
    "    \"rsid\",\n",
    "    \"a1\",\n",
    "    \"a0\",\n",
    "    \"n_eff\",\n",
    "    \"beta_se\",\n",
    "    \"p\",\n",
    "    \"OR\",\n",
    "    \"INFO\",\n",
    "    \"MAF\")\n",
    "# Transform the OR into log(OR)\n",
    "sumstats$beta <- log(sumstats$OR)\n"
   ]
  },
  {
   "cell_type": "code",
   "execution_count": 14,
   "metadata": {
    "kernel": "R"
   },
   "outputs": [
    {
     "data": {
      "text/html": [
       "<table class=\"dataframe\">\n",
       "<caption>A data.frame: 6 × 12</caption>\n",
       "<thead>\n",
       "\t<tr><th></th><th scope=col>chr</th><th scope=col>pos</th><th scope=col>rsid</th><th scope=col>a1</th><th scope=col>a0</th><th scope=col>n_eff</th><th scope=col>beta_se</th><th scope=col>p</th><th scope=col>OR</th><th scope=col>INFO</th><th scope=col>MAF</th><th scope=col>beta</th></tr>\n",
       "\t<tr><th></th><th scope=col>&lt;int&gt;</th><th scope=col>&lt;int&gt;</th><th scope=col>&lt;chr&gt;</th><th scope=col>&lt;chr&gt;</th><th scope=col>&lt;chr&gt;</th><th scope=col>&lt;int&gt;</th><th scope=col>&lt;dbl&gt;</th><th scope=col>&lt;dbl&gt;</th><th scope=col>&lt;dbl&gt;</th><th scope=col>&lt;dbl&gt;</th><th scope=col>&lt;dbl&gt;</th><th scope=col>&lt;dbl&gt;</th></tr>\n",
       "</thead>\n",
       "<tbody>\n",
       "\t<tr><th scope=row>1</th><td>1</td><td>756604</td><td>rs3131962 </td><td>A</td><td>G</td><td>388028</td><td>0.00301666</td><td>0.483171</td><td>0.9978869</td><td>0.8905579</td><td>0.3693896</td><td>-0.00211532</td></tr>\n",
       "\t<tr><th scope=row>2</th><td>1</td><td>768448</td><td>rs12562034</td><td>A</td><td>G</td><td>388028</td><td>0.00329472</td><td>0.834808</td><td>1.0006873</td><td>0.8958935</td><td>0.3368458</td><td> 0.00068708</td></tr>\n",
       "\t<tr><th scope=row>3</th><td>1</td><td>779322</td><td>rs4040617 </td><td>G</td><td>A</td><td>388028</td><td>0.00303344</td><td>0.428970</td><td>0.9976036</td><td>0.8975083</td><td>0.3773680</td><td>-0.00239932</td></tr>\n",
       "\t<tr><th scope=row>4</th><td>1</td><td>801536</td><td>rs79373928</td><td>G</td><td>T</td><td>388028</td><td>0.00841324</td><td>0.808999</td><td>1.0020357</td><td>0.9089629</td><td>0.4832122</td><td> 0.00203363</td></tr>\n",
       "\t<tr><th scope=row>5</th><td>1</td><td>808631</td><td>rs11240779</td><td>G</td><td>A</td><td>388028</td><td>0.00242821</td><td>0.590265</td><td>1.0013083</td><td>0.8932125</td><td>0.4504096</td><td> 0.00130747</td></tr>\n",
       "\t<tr><th scope=row>6</th><td>1</td><td>809876</td><td>rs57181708</td><td>G</td><td>A</td><td>388028</td><td>0.00336785</td><td>0.714750</td><td>1.0012317</td><td>0.9235576</td><td>0.4997439</td><td> 0.00123090</td></tr>\n",
       "</tbody>\n",
       "</table>\n"
      ],
      "text/latex": [
       "A data.frame: 6 × 12\n",
       "\\begin{tabular}{r|llllllllllll}\n",
       "  & chr & pos & rsid & a1 & a0 & n\\_eff & beta\\_se & p & OR & INFO & MAF & beta\\\\\n",
       "  & <int> & <int> & <chr> & <chr> & <chr> & <int> & <dbl> & <dbl> & <dbl> & <dbl> & <dbl> & <dbl>\\\\\n",
       "\\hline\n",
       "\t1 & 1 & 756604 & rs3131962  & A & G & 388028 & 0.00301666 & 0.483171 & 0.9978869 & 0.8905579 & 0.3693896 & -0.00211532\\\\\n",
       "\t2 & 1 & 768448 & rs12562034 & A & G & 388028 & 0.00329472 & 0.834808 & 1.0006873 & 0.8958935 & 0.3368458 &  0.00068708\\\\\n",
       "\t3 & 1 & 779322 & rs4040617  & G & A & 388028 & 0.00303344 & 0.428970 & 0.9976036 & 0.8975083 & 0.3773680 & -0.00239932\\\\\n",
       "\t4 & 1 & 801536 & rs79373928 & G & T & 388028 & 0.00841324 & 0.808999 & 1.0020357 & 0.9089629 & 0.4832122 &  0.00203363\\\\\n",
       "\t5 & 1 & 808631 & rs11240779 & G & A & 388028 & 0.00242821 & 0.590265 & 1.0013083 & 0.8932125 & 0.4504096 &  0.00130747\\\\\n",
       "\t6 & 1 & 809876 & rs57181708 & G & A & 388028 & 0.00336785 & 0.714750 & 1.0012317 & 0.9235576 & 0.4997439 &  0.00123090\\\\\n",
       "\\end{tabular}\n"
      ],
      "text/markdown": [
       "\n",
       "A data.frame: 6 × 12\n",
       "\n",
       "| <!--/--> | chr &lt;int&gt; | pos &lt;int&gt; | rsid &lt;chr&gt; | a1 &lt;chr&gt; | a0 &lt;chr&gt; | n_eff &lt;int&gt; | beta_se &lt;dbl&gt; | p &lt;dbl&gt; | OR &lt;dbl&gt; | INFO &lt;dbl&gt; | MAF &lt;dbl&gt; | beta &lt;dbl&gt; |\n",
       "|---|---|---|---|---|---|---|---|---|---|---|---|---|\n",
       "| 1 | 1 | 756604 | rs3131962  | A | G | 388028 | 0.00301666 | 0.483171 | 0.9978869 | 0.8905579 | 0.3693896 | -0.00211532 |\n",
       "| 2 | 1 | 768448 | rs12562034 | A | G | 388028 | 0.00329472 | 0.834808 | 1.0006873 | 0.8958935 | 0.3368458 |  0.00068708 |\n",
       "| 3 | 1 | 779322 | rs4040617  | G | A | 388028 | 0.00303344 | 0.428970 | 0.9976036 | 0.8975083 | 0.3773680 | -0.00239932 |\n",
       "| 4 | 1 | 801536 | rs79373928 | G | T | 388028 | 0.00841324 | 0.808999 | 1.0020357 | 0.9089629 | 0.4832122 |  0.00203363 |\n",
       "| 5 | 1 | 808631 | rs11240779 | G | A | 388028 | 0.00242821 | 0.590265 | 1.0013083 | 0.8932125 | 0.4504096 |  0.00130747 |\n",
       "| 6 | 1 | 809876 | rs57181708 | G | A | 388028 | 0.00336785 | 0.714750 | 1.0012317 | 0.9235576 | 0.4997439 |  0.00123090 |\n",
       "\n"
      ],
      "text/plain": [
       "  chr pos    rsid       a1 a0 n_eff  beta_se    p        OR        INFO     \n",
       "1 1   756604 rs3131962  A  G  388028 0.00301666 0.483171 0.9978869 0.8905579\n",
       "2 1   768448 rs12562034 A  G  388028 0.00329472 0.834808 1.0006873 0.8958935\n",
       "3 1   779322 rs4040617  G  A  388028 0.00303344 0.428970 0.9976036 0.8975083\n",
       "4 1   801536 rs79373928 G  T  388028 0.00841324 0.808999 1.0020357 0.9089629\n",
       "5 1   808631 rs11240779 G  A  388028 0.00242821 0.590265 1.0013083 0.8932125\n",
       "6 1   809876 rs57181708 G  A  388028 0.00336785 0.714750 1.0012317 0.9235576\n",
       "  MAF       beta       \n",
       "1 0.3693896 -0.00211532\n",
       "2 0.3368458  0.00068708\n",
       "3 0.3773680 -0.00239932\n",
       "4 0.4832122  0.00203363\n",
       "5 0.4504096  0.00130747\n",
       "6 0.4997439  0.00123090"
      ]
     },
     "metadata": {},
     "output_type": "display_data"
    },
    {
     "data": {
      "text/html": [
       "499617"
      ],
      "text/latex": [
       "499617"
      ],
      "text/markdown": [
       "499617"
      ],
      "text/plain": [
       "[1] 499617"
      ]
     },
     "metadata": {},
     "output_type": "display_data"
    },
    {
     "data": {
      "text/html": [
       "<table class=\"dataframe\">\n",
       "<caption>A data.frame: 6 × 12</caption>\n",
       "<thead>\n",
       "\t<tr><th></th><th scope=col>chr</th><th scope=col>pos</th><th scope=col>rsid</th><th scope=col>a1</th><th scope=col>a0</th><th scope=col>n_eff</th><th scope=col>beta_se</th><th scope=col>p</th><th scope=col>OR</th><th scope=col>INFO</th><th scope=col>MAF</th><th scope=col>beta</th></tr>\n",
       "\t<tr><th></th><th scope=col>&lt;int&gt;</th><th scope=col>&lt;int&gt;</th><th scope=col>&lt;chr&gt;</th><th scope=col>&lt;chr&gt;</th><th scope=col>&lt;chr&gt;</th><th scope=col>&lt;int&gt;</th><th scope=col>&lt;dbl&gt;</th><th scope=col>&lt;dbl&gt;</th><th scope=col>&lt;dbl&gt;</th><th scope=col>&lt;dbl&gt;</th><th scope=col>&lt;dbl&gt;</th><th scope=col>&lt;dbl&gt;</th></tr>\n",
       "</thead>\n",
       "<tbody>\n",
       "\t<tr><th scope=row>2</th><td>1</td><td>768448</td><td>rs12562034</td><td>A</td><td>G</td><td>388028</td><td>0.00329472</td><td>0.834808000</td><td>1.0006873</td><td>0.8958935</td><td>0.3368458</td><td> 0.00068708</td></tr>\n",
       "\t<tr><th scope=row>3</th><td>1</td><td>779322</td><td>rs4040617 </td><td>G</td><td>A</td><td>388028</td><td>0.00303344</td><td>0.428970000</td><td>0.9976036</td><td>0.8975083</td><td>0.3773680</td><td>-0.00239932</td></tr>\n",
       "\t<tr><th scope=row>8</th><td>1</td><td>838555</td><td>rs4970383 </td><td>A</td><td>C</td><td>388028</td><td>0.00235773</td><td>0.150993000</td><td>0.9966199</td><td>0.9077165</td><td>0.3271640</td><td>-0.00338578</td></tr>\n",
       "\t<tr><th scope=row>18</th><td>1</td><td>873558</td><td>rs1110052 </td><td>G</td><td>T</td><td>388028</td><td>0.00225578</td><td>0.000285674</td><td>0.9918494</td><td>0.9004758</td><td>0.3680888</td><td>-0.00818396</td></tr>\n",
       "\t<tr><th scope=row>19</th><td>1</td><td>880238</td><td>rs3748592 </td><td>A</td><td>G</td><td>388028</td><td>0.00450310</td><td>0.488653000</td><td>1.0031231</td><td>0.8728364</td><td>0.4104163</td><td> 0.00311819</td></tr>\n",
       "\t<tr><th scope=row>20</th><td>1</td><td>880390</td><td>rs3748593 </td><td>A</td><td>C</td><td>388028</td><td>0.00635197</td><td>0.272881000</td><td>0.9930596</td><td>0.8992809</td><td>0.4930243</td><td>-0.00696463</td></tr>\n",
       "</tbody>\n",
       "</table>\n"
      ],
      "text/latex": [
       "A data.frame: 6 × 12\n",
       "\\begin{tabular}{r|llllllllllll}\n",
       "  & chr & pos & rsid & a1 & a0 & n\\_eff & beta\\_se & p & OR & INFO & MAF & beta\\\\\n",
       "  & <int> & <int> & <chr> & <chr> & <chr> & <int> & <dbl> & <dbl> & <dbl> & <dbl> & <dbl> & <dbl>\\\\\n",
       "\\hline\n",
       "\t2 & 1 & 768448 & rs12562034 & A & G & 388028 & 0.00329472 & 0.834808000 & 1.0006873 & 0.8958935 & 0.3368458 &  0.00068708\\\\\n",
       "\t3 & 1 & 779322 & rs4040617  & G & A & 388028 & 0.00303344 & 0.428970000 & 0.9976036 & 0.8975083 & 0.3773680 & -0.00239932\\\\\n",
       "\t8 & 1 & 838555 & rs4970383  & A & C & 388028 & 0.00235773 & 0.150993000 & 0.9966199 & 0.9077165 & 0.3271640 & -0.00338578\\\\\n",
       "\t18 & 1 & 873558 & rs1110052  & G & T & 388028 & 0.00225578 & 0.000285674 & 0.9918494 & 0.9004758 & 0.3680888 & -0.00818396\\\\\n",
       "\t19 & 1 & 880238 & rs3748592  & A & G & 388028 & 0.00450310 & 0.488653000 & 1.0031231 & 0.8728364 & 0.4104163 &  0.00311819\\\\\n",
       "\t20 & 1 & 880390 & rs3748593  & A & C & 388028 & 0.00635197 & 0.272881000 & 0.9930596 & 0.8992809 & 0.4930243 & -0.00696463\\\\\n",
       "\\end{tabular}\n"
      ],
      "text/markdown": [
       "\n",
       "A data.frame: 6 × 12\n",
       "\n",
       "| <!--/--> | chr &lt;int&gt; | pos &lt;int&gt; | rsid &lt;chr&gt; | a1 &lt;chr&gt; | a0 &lt;chr&gt; | n_eff &lt;int&gt; | beta_se &lt;dbl&gt; | p &lt;dbl&gt; | OR &lt;dbl&gt; | INFO &lt;dbl&gt; | MAF &lt;dbl&gt; | beta &lt;dbl&gt; |\n",
       "|---|---|---|---|---|---|---|---|---|---|---|---|---|\n",
       "| 2 | 1 | 768448 | rs12562034 | A | G | 388028 | 0.00329472 | 0.834808000 | 1.0006873 | 0.8958935 | 0.3368458 |  0.00068708 |\n",
       "| 3 | 1 | 779322 | rs4040617  | G | A | 388028 | 0.00303344 | 0.428970000 | 0.9976036 | 0.8975083 | 0.3773680 | -0.00239932 |\n",
       "| 8 | 1 | 838555 | rs4970383  | A | C | 388028 | 0.00235773 | 0.150993000 | 0.9966199 | 0.9077165 | 0.3271640 | -0.00338578 |\n",
       "| 18 | 1 | 873558 | rs1110052  | G | T | 388028 | 0.00225578 | 0.000285674 | 0.9918494 | 0.9004758 | 0.3680888 | -0.00818396 |\n",
       "| 19 | 1 | 880238 | rs3748592  | A | G | 388028 | 0.00450310 | 0.488653000 | 1.0031231 | 0.8728364 | 0.4104163 |  0.00311819 |\n",
       "| 20 | 1 | 880390 | rs3748593  | A | C | 388028 | 0.00635197 | 0.272881000 | 0.9930596 | 0.8992809 | 0.4930243 | -0.00696463 |\n",
       "\n"
      ],
      "text/plain": [
       "   chr pos    rsid       a1 a0 n_eff  beta_se    p           OR       \n",
       "2  1   768448 rs12562034 A  G  388028 0.00329472 0.834808000 1.0006873\n",
       "3  1   779322 rs4040617  G  A  388028 0.00303344 0.428970000 0.9976036\n",
       "8  1   838555 rs4970383  A  C  388028 0.00235773 0.150993000 0.9966199\n",
       "18 1   873558 rs1110052  G  T  388028 0.00225578 0.000285674 0.9918494\n",
       "19 1   880238 rs3748592  A  G  388028 0.00450310 0.488653000 1.0031231\n",
       "20 1   880390 rs3748593  A  C  388028 0.00635197 0.272881000 0.9930596\n",
       "   INFO      MAF       beta       \n",
       "2  0.8958935 0.3368458  0.00068708\n",
       "3  0.8975083 0.3773680 -0.00239932\n",
       "8  0.9077165 0.3271640 -0.00338578\n",
       "18 0.9004758 0.3680888 -0.00818396\n",
       "19 0.8728364 0.4104163  0.00311819\n",
       "20 0.8992809 0.4930243 -0.00696463"
      ]
     },
     "metadata": {},
     "output_type": "display_data"
    },
    {
     "data": {
      "text/html": [
       "136004"
      ],
      "text/latex": [
       "136004"
      ],
      "text/markdown": [
       "136004"
      ],
      "text/plain": [
       "[1] 136004"
      ]
     },
     "metadata": {},
     "output_type": "display_data"
    }
   ],
   "source": [
    "head(sumstats)\n",
    "nrow(sumstats)\n",
    "# Filter out hapmap SNPs\n",
    "sumstats <- sumstats[sumstats$rsid %in% info$rsid,]\n",
    "head(sumstats)\n",
    "nrow(sumstats)\n",
    "write.csv(sumstats, file = \"sumstats.csv\")\n",
    "\n"
   ]
  },
  {
   "cell_type": "markdown",
   "metadata": {
    "kernel": "R"
   },
   "source": [
    "##  Calculate the LD matrix\n",
    "\n",
    "Genome Wide bed file"
   ]
  },
  {
   "cell_type": "code",
   "execution_count": 15,
   "metadata": {
    "kernel": "R"
   },
   "outputs": [
    {
     "name": "stderr",
     "output_type": "stream",
     "text": [
      "Warning message in file.remove(paste0(tmp, \".sbk\")):\n",
      "\"cannot remove file 'tmp-dataset/file77a64f00af92.sbk', reason 'No such file or directory'\"\n",
      "136,004 variants to be matched.\n",
      "\n",
      "0 ambiguous SNPs have been removed.\n",
      "\n",
      "134,522 variants have been matched; 0 were flipped and 91 were reversed.\n",
      "\n",
      "Creating directory \"tmp-dataset\" which didn't exist..\n",
      "\n"
     ]
    }
   ],
   "source": [
    "# Get maximum amount of cores\n",
    "NCORES <- nb_cores()\n",
    "# Open a temporary file\n",
    "tmp <- tempfile(tmpdir = \"tmp-dataset\")\n",
    "on.exit(file.remove(paste0(tmp, \".sbk\")), add = TRUE)\n",
    "# Initialize variables for storing the LD score and LD matrix\n",
    "corr <- NULL\n",
    "ld <- NULL\n",
    "# We want to know the ordering of samples in the bed file \n",
    "fam.order <- NULL\n",
    "# preprocess the bed file (only need to do once for each data set)\n",
    "#snp_readBed(\"post-qc/EUR.QC.bed\")\n",
    "\n",
    "# now attach the genotype object\n",
    "obj.bigSNP <- snp_attach(\"post-qc/EUR.QC.rds\")\n",
    "\n",
    "# extract the SNP information from the genotype\n",
    "map <- obj.bigSNP$map[-3]\n",
    "names(map) <- c(\"chr\", \"rsid\", \"pos\", \"a1\", \"a0\")\n",
    "# perform SNP matching\n",
    "info_snp <- snp_match(sumstats, map)\n",
    "# Assign the genotype to a variable for easier downstream analysis\n",
    "genotype <- obj.bigSNP$genotypes\n",
    "# Rename the data structures\n",
    "CHR <- map$chr\n",
    "POS <- map$pos\n",
    "# get the CM information from 1000 Genome\n",
    "# will download the 1000G file to the current directory (\".\")\n",
    "POS2 <- snp_asGeneticPos(CHR, POS, dir = \".\")\n",
    "# calculate LD\n",
    "for (chr in 1:22) {\n",
    "    # Extract SNPs that are included in the chromosome\n",
    "    ind.chr <- which(info_snp$chr == chr)\n",
    "    ind.chr2 <- info_snp$`_NUM_ID_`[ind.chr]\n",
    "    # Calculate the LD\n",
    "    corr0 <- snp_cor(\n",
    "            genotype,\n",
    "            ind.col = ind.chr2,\n",
    "            ncores = NCORES,\n",
    "            infos.pos = POS2[ind.chr2],\n",
    "            size = 3 / 1000\n",
    "        )\n",
    "    if (chr == 1) {\n",
    "        ld <- Matrix::colSums(corr0^2)\n",
    "        corr <- as_SFBM(corr0, tmp)\n",
    "    } else {\n",
    "        ld <- c(ld, Matrix::colSums(corr0^2))\n",
    "        corr$add_columns(corr0, nrow(corr))\n",
    "    }\n",
    "}\n",
    "# We assume the fam order is the same across different chromosomes\n",
    "fam.order <- as.data.table(obj.bigSNP$fam)\n",
    "# Rename fam order\n",
    "setnames(fam.order,\n",
    "        c(\"family.ID\", \"sample.ID\"),\n",
    "        c(\"FID\", \"IID\"))\n"
   ]
  },
  {
   "cell_type": "markdown",
   "metadata": {
    "kernel": "R"
   },
   "source": [
    "# Perform LD score regression"
   ]
  },
  {
   "cell_type": "code",
   "execution_count": null,
   "metadata": {
    "kernel": "R"
   },
   "outputs": [],
   "source": [
    "df_beta <- info_snp[,c(\"beta\", \"beta_se\", \"n_eff\", \"_NUM_ID_\")]\n",
    "ldsc <- snp_ldsc(   ld, \n",
    "                    length(ld), \n",
    "                    chi2 = (df_beta$beta / df_beta$beta_se)^2,\n",
    "                    sample_size = df_beta$n_eff, \n",
    "                    blocks = NULL)\n",
    "h2_est <- ldsc[[\"h2\"]]\n",
    "h2_est"
   ]
  },
  {
   "cell_type": "markdown",
   "metadata": {
    "kernel": "R"
   },
   "source": [
    "# Estimate Beta"
   ]
  },
  {
   "cell_type": "markdown",
   "metadata": {
    "kernel": "R"
   },
   "source": [
    "## Infinitesimal Model"
   ]
  },
  {
   "cell_type": "code",
   "execution_count": null,
   "metadata": {
    "kernel": "R"
   },
   "outputs": [],
   "source": [
    "beta_inf <- snp_ldpred2_inf(corr, df_beta, h2 = h2_est)\n",
    "summary(beta_inf)"
   ]
  },
  {
   "cell_type": "markdown",
   "metadata": {
    "kernel": "R"
   },
   "source": [
    "## grid model"
   ]
  },
  {
   "cell_type": "code",
   "execution_count": null,
   "metadata": {
    "kernel": "R"
   },
   "outputs": [],
   "source": [
    "# Prepare data for grid model\n",
    "p_seq <- signif(seq_log(1e-4, 1, length.out = 17), 2)\n",
    "h2_seq <- round(h2_est * c(0.7, 1, 1.4), 4)\n",
    "grid.param <-\n",
    "    expand.grid(p = p_seq,\n",
    "            h2 = h2_seq,\n",
    "            sparse = c(FALSE, TRUE))\n",
    "# Get adjusted beta from grid model\n",
    "beta_grid <-\n",
    "    snp_ldpred2_grid(corr, df_beta, grid.param, ncores = NCORES)\n",
    "summary(beta_grid)"
   ]
  },
  {
   "cell_type": "markdown",
   "metadata": {
    "kernel": "R"
   },
   "source": [
    "## auto model"
   ]
  },
  {
   "cell_type": "code",
   "execution_count": null,
   "metadata": {
    "kernel": "R"
   },
   "outputs": [],
   "source": [
    "# Get adjusted beta from the auto model\n",
    "multi_auto <- snp_ldpred2_auto(\n",
    "    corr,\n",
    "    df_beta,\n",
    "    h2_init = h2_est,\n",
    "    vec_p_init = seq_log(1e-4, 0.9, length.out = NCORES),\n",
    "    ncores = NCORES\n",
    ")\n",
    "beta_auto <- sapply(multi_auto, function(auto)\n",
    "    auto$beta_est)\n",
    "summary(beta_auto)"
   ]
  },
  {
   "cell_type": "markdown",
   "metadata": {
    "kernel": "R"
   },
   "source": [
    "# Obtain model PRS"
   ]
  },
  {
   "cell_type": "markdown",
   "metadata": {
    "kernel": "R"
   },
   "source": [
    "## Infinitesimal Model"
   ]
  },
  {
   "cell_type": "code",
   "execution_count": null,
   "metadata": {
    "kernel": "R"
   },
   "outputs": [],
   "source": [
    "if(is.null(obj.bigSNP)){\n",
    "    obj.bigSNP <- snp_attach(\"EUR.QC.rds\")\n",
    "}\n",
    "genotype <- obj.bigSNP$genotypes\n",
    "# calculate PRS for all samples\n",
    "ind.test <- 1:nrow(genotype)\n",
    "pred_inf <- big_prodVec(    genotype,\n",
    "                            beta_inf,\n",
    "                            ind.row = ind.test,\n",
    "                            ind.col = info_snp$`_NUM_ID_`)\n",
    "hist(pred_inf)"
   ]
  },
  {
   "cell_type": "markdown",
   "metadata": {
    "kernel": "R"
   },
   "source": [
    "## Grid model"
   ]
  },
  {
   "cell_type": "code",
   "execution_count": null,
   "metadata": {
    "kernel": "R"
   },
   "outputs": [],
   "source": [
    "if(is.null(obj.bigSNP)){\n",
    "    obj.bigSNP <- snp_attach(\"EUR.QC.rds\")\n",
    "}\n",
    "genotype <- obj.bigSNP$genotypes\n",
    "# calculate PRS for all samples\n",
    "ind.test <- 1:nrow(genotype)\n",
    "pred_grid <- big_prodMat(   genotype, \n",
    "                            beta_grid, \n",
    "                            ind.col = info_snp$`_NUM_ID_`)\n",
    "hist(pred_grid)"
   ]
  },
  {
   "cell_type": "markdown",
   "metadata": {
    "kernel": "R"
   },
   "source": [
    "## Auto model"
   ]
  },
  {
   "cell_type": "code",
   "execution_count": null,
   "metadata": {
    "kernel": "R"
   },
   "outputs": [],
   "source": [
    "if(is.null(obj.bigSNP)){\n",
    "    obj.bigSNP <- snp_attach(\"EUR.QC.rds\")\n",
    "}\n",
    "genotype <- obj.bigSNP$genotypes\n",
    "# calculate PRS for all samples\n",
    "ind.test <- 1:nrow(genotype)\n",
    "pred_auto <-\n",
    "    big_prodMat(genotype,\n",
    "                beta_auto,\n",
    "                ind.row = ind.test,\n",
    "                ind.col = info_snp$`_NUM_ID_`)\n",
    "# scale the PRS generated from AUTO\n",
    "pred_scaled <- apply(pred_auto, 2, sd)\n",
    "final_beta_auto <-\n",
    "    rowMeans(beta_auto[,\n",
    "                abs(pred_scaled -\n",
    "                    median(pred_scaled)) <\n",
    "                    3 * mad(pred_scaled)])\n",
    "pred_auto <-\n",
    "    big_prodVec(genotype,\n",
    "        final_beta_auto,\n",
    "        ind.row = ind.test,\n",
    "        ind.col = info_snp$`_NUM_ID_`)\n",
    "hist(pred_auto)"
   ]
  },
  {
   "cell_type": "code",
   "execution_count": null,
   "metadata": {
    "kernel": "R"
   },
   "outputs": [],
   "source": []
  }
 ],
 "metadata": {
  "kernelspec": {
   "display_name": "R",
   "language": "R",
   "name": "ir"
  },
  "language_info": {
   "codemirror_mode": "r",
   "file_extension": ".r",
   "mimetype": "text/x-r-source",
   "name": "R",
   "pygments_lexer": "r",
   "version": "4.0.4"
  },
  "sos": {
   "kernels": [
    [
     "R",
     "ir",
     "R",
     "#DCDCDA",
     "r"
    ]
   ],
   "version": "0.22.4"
  },
  "toc-autonumbering": false
 },
 "nbformat": 4,
 "nbformat_minor": 4
}
