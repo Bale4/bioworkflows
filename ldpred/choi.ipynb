{
 "cells": [
  {
   "cell_type": "markdown",
   "metadata": {
    "kernel": "SoS"
   },
   "source": [
    " # LDpred-2\n",
    " \n",
    " Author: Shing Wan Choi"
   ]
  },
  {
   "cell_type": "markdown",
   "metadata": {
    "kernel": "SoS"
   },
   "source": [
    "## Required data and files\n",
    "\n",
    "[data link](https://drive.google.com/file/d/1x_G0Gxk9jFMY-PMqwtg6-vdEyUPp5p5u/view)\n",
    "\n",
    "\\begin{array}{c|c}\n",
    "\\hline \\text { File Name } & \\text { Description } \\\\\n",
    "\\hline \\text { Height.QC.gz } & \\text { The post-QCed summary statistic } \\\\\n",
    "\\hline \\text { EUR.QC.bed } & \\text { The genotype file after performing some basic filtering } \\\\\n",
    "\\hline \\text { EUR.QC.bim } & \\text { This file contains the SNPs that passed the basic filtering } \\\\\n",
    "\\hline \\text { EUR.QC.fam } & \\text { This file contains the samples that passed the basic filtering } \\\\\n",
    "\\hline \\text { EUR.height } & \\text { This file contains the phenotype of the samples } \\\\\n",
    "\\hline \\text { EUR.cov } & \\text { This file contains the covariates of the samples } \\\\\n",
    "\\hline \\text { EUR.eigenvec } & \\text { This file contains the PCs of the samples } \\\\\n",
    "\\hline\n",
    "\\end{array}\n",
    "\n",
    "While we do provide a rough guide on how to **perform LDpred on bed files separated into individual chromosomes**, this script is untested and extra caution is required"
   ]
  },
  {
   "cell_type": "markdown",
   "metadata": {
    "kernel": "SoS"
   },
   "source": [
    "## Prepare workspace"
   ]
  },
  {
   "cell_type": "code",
   "execution_count": 3,
   "metadata": {
    "kernel": "R"
   },
   "outputs": [
    {
     "name": "stderr",
     "output_type": "stream",
     "text": [
      "Loading required package: bigstatsr\n",
      "\n"
     ]
    }
   ],
   "source": [
    "library(bigsnpr)\n",
    "# options(bigstatsr.check.parallel.blas = FALSE)\n",
    "# options(default.nproc.blas = NULL)"
   ]
  },
  {
   "cell_type": "code",
   "execution_count": 4,
   "metadata": {
    "kernel": "R"
   },
   "outputs": [],
   "source": [
    "library(data.table)\n",
    "library(magrittr)\n",
    "phenotype <- fread(\"post-qc/EUR.height\")\n",
    "covariate <- fread(\"post-qc/EUR.cov\")\n",
    "pcs <- fread(\"post-qc/EUR.eigenvec\") # principle components\n",
    "# rename columns\n",
    "colnames(pcs) <- c(\"FID\",\"IID\", paste0(\"PC\",1:6))\n",
    "# generate required table\n",
    "pheno <- merge(phenotype, covariate) %>%\n",
    "    merge(., pcs)"
   ]
  },
  {
   "cell_type": "code",
   "execution_count": 8,
   "metadata": {
    "kernel": "R"
   },
   "outputs": [
    {
     "data": {
      "text/html": [
       "<table class=\"dataframe\">\n",
       "<caption>A data.table: 6 × 10</caption>\n",
       "<thead>\n",
       "\t<tr><th scope=col>FID</th><th scope=col>IID</th><th scope=col>Height</th><th scope=col>Sex</th><th scope=col>PC1</th><th scope=col>PC2</th><th scope=col>PC3</th><th scope=col>PC4</th><th scope=col>PC5</th><th scope=col>PC6</th></tr>\n",
       "\t<tr><th scope=col>&lt;chr&gt;</th><th scope=col>&lt;chr&gt;</th><th scope=col>&lt;dbl&gt;</th><th scope=col>&lt;int&gt;</th><th scope=col>&lt;dbl&gt;</th><th scope=col>&lt;dbl&gt;</th><th scope=col>&lt;dbl&gt;</th><th scope=col>&lt;dbl&gt;</th><th scope=col>&lt;dbl&gt;</th><th scope=col>&lt;dbl&gt;</th></tr>\n",
       "</thead>\n",
       "<tbody>\n",
       "\t<tr><td>HG00096</td><td>HG00096</td><td>169.1322</td><td>1</td><td> 0.000643305</td><td>0.0664323</td><td>-1.47374e-02</td><td>-0.03599560</td><td>-0.0163573</td><td>-0.02093710</td></tr>\n",
       "\t<tr><td>HG00097</td><td>HG00097</td><td>171.2563</td><td>2</td><td> 0.001413780</td><td>0.0736016</td><td> 8.81567e-03</td><td>-0.02058210</td><td>-0.0116844</td><td> 0.02240870</td></tr>\n",
       "\t<tr><td>HG00099</td><td>HG00099</td><td>171.5344</td><td>2</td><td> 0.002646810</td><td>0.0717702</td><td>-2.09757e-02</td><td>-0.00608687</td><td>-0.0141427</td><td>-0.00713368</td></tr>\n",
       "\t<tr><td>HG00101</td><td>HG00101</td><td>169.8502</td><td>1</td><td> 0.001697520</td><td>0.0854445</td><td>-1.56991e-02</td><td>-0.00289015</td><td>-0.0335167</td><td>-0.01411770</td></tr>\n",
       "\t<tr><td>HG00102</td><td>HG00102</td><td>172.7884</td><td>2</td><td> 0.004411350</td><td>0.0696362</td><td> 1.75584e-06</td><td>-0.02643000</td><td>-0.0477571</td><td>-0.03144630</td></tr>\n",
       "\t<tr><td>HG00103</td><td>HG00103</td><td>169.8630</td><td>1</td><td>-0.004312160</td><td>0.0571794</td><td>-8.19476e-03</td><td>-0.01349190</td><td> 0.0159968</td><td>-0.01206940</td></tr>\n",
       "</tbody>\n",
       "</table>\n"
      ],
      "text/latex": [
       "A data.table: 6 × 10\n",
       "\\begin{tabular}{llllllllll}\n",
       " FID & IID & Height & Sex & PC1 & PC2 & PC3 & PC4 & PC5 & PC6\\\\\n",
       " <chr> & <chr> & <dbl> & <int> & <dbl> & <dbl> & <dbl> & <dbl> & <dbl> & <dbl>\\\\\n",
       "\\hline\n",
       "\t HG00096 & HG00096 & 169.1322 & 1 &  0.000643305 & 0.0664323 & -1.47374e-02 & -0.03599560 & -0.0163573 & -0.02093710\\\\\n",
       "\t HG00097 & HG00097 & 171.2563 & 2 &  0.001413780 & 0.0736016 &  8.81567e-03 & -0.02058210 & -0.0116844 &  0.02240870\\\\\n",
       "\t HG00099 & HG00099 & 171.5344 & 2 &  0.002646810 & 0.0717702 & -2.09757e-02 & -0.00608687 & -0.0141427 & -0.00713368\\\\\n",
       "\t HG00101 & HG00101 & 169.8502 & 1 &  0.001697520 & 0.0854445 & -1.56991e-02 & -0.00289015 & -0.0335167 & -0.01411770\\\\\n",
       "\t HG00102 & HG00102 & 172.7884 & 2 &  0.004411350 & 0.0696362 &  1.75584e-06 & -0.02643000 & -0.0477571 & -0.03144630\\\\\n",
       "\t HG00103 & HG00103 & 169.8630 & 1 & -0.004312160 & 0.0571794 & -8.19476e-03 & -0.01349190 &  0.0159968 & -0.01206940\\\\\n",
       "\\end{tabular}\n"
      ],
      "text/markdown": [
       "\n",
       "A data.table: 6 × 10\n",
       "\n",
       "| FID &lt;chr&gt; | IID &lt;chr&gt; | Height &lt;dbl&gt; | Sex &lt;int&gt; | PC1 &lt;dbl&gt; | PC2 &lt;dbl&gt; | PC3 &lt;dbl&gt; | PC4 &lt;dbl&gt; | PC5 &lt;dbl&gt; | PC6 &lt;dbl&gt; |\n",
       "|---|---|---|---|---|---|---|---|---|---|\n",
       "| HG00096 | HG00096 | 169.1322 | 1 |  0.000643305 | 0.0664323 | -1.47374e-02 | -0.03599560 | -0.0163573 | -0.02093710 |\n",
       "| HG00097 | HG00097 | 171.2563 | 2 |  0.001413780 | 0.0736016 |  8.81567e-03 | -0.02058210 | -0.0116844 |  0.02240870 |\n",
       "| HG00099 | HG00099 | 171.5344 | 2 |  0.002646810 | 0.0717702 | -2.09757e-02 | -0.00608687 | -0.0141427 | -0.00713368 |\n",
       "| HG00101 | HG00101 | 169.8502 | 1 |  0.001697520 | 0.0854445 | -1.56991e-02 | -0.00289015 | -0.0335167 | -0.01411770 |\n",
       "| HG00102 | HG00102 | 172.7884 | 2 |  0.004411350 | 0.0696362 |  1.75584e-06 | -0.02643000 | -0.0477571 | -0.03144630 |\n",
       "| HG00103 | HG00103 | 169.8630 | 1 | -0.004312160 | 0.0571794 | -8.19476e-03 | -0.01349190 |  0.0159968 | -0.01206940 |\n",
       "\n"
      ],
      "text/plain": [
       "  FID     IID     Height   Sex PC1          PC2       PC3          PC4        \n",
       "1 HG00096 HG00096 169.1322 1    0.000643305 0.0664323 -1.47374e-02 -0.03599560\n",
       "2 HG00097 HG00097 171.2563 2    0.001413780 0.0736016  8.81567e-03 -0.02058210\n",
       "3 HG00099 HG00099 171.5344 2    0.002646810 0.0717702 -2.09757e-02 -0.00608687\n",
       "4 HG00101 HG00101 169.8502 1    0.001697520 0.0854445 -1.56991e-02 -0.00289015\n",
       "5 HG00102 HG00102 172.7884 2    0.004411350 0.0696362  1.75584e-06 -0.02643000\n",
       "6 HG00103 HG00103 169.8630 1   -0.004312160 0.0571794 -8.19476e-03 -0.01349190\n",
       "  PC5        PC6        \n",
       "1 -0.0163573 -0.02093710\n",
       "2 -0.0116844  0.02240870\n",
       "3 -0.0141427 -0.00713368\n",
       "4 -0.0335167 -0.01411770\n",
       "5 -0.0477571 -0.03144630\n",
       "6  0.0159968 -0.01206940"
      ]
     },
     "metadata": {},
     "output_type": "display_data"
    },
    {
     "data": {
      "text/html": [
       "<style>\n",
       ".list-inline {list-style: none; margin:0; padding: 0}\n",
       ".list-inline>li {display: inline-block}\n",
       ".list-inline>li:not(:last-child)::after {content: \"\\00b7\"; padding: 0 .5ex}\n",
       "</style>\n",
       "<ol class=list-inline><li>472</li><li>10</li></ol>\n"
      ],
      "text/latex": [
       "\\begin{enumerate*}\n",
       "\\item 472\n",
       "\\item 10\n",
       "\\end{enumerate*}\n"
      ],
      "text/markdown": [
       "1. 472\n",
       "2. 10\n",
       "\n",
       "\n"
      ],
      "text/plain": [
       "[1] 472  10"
      ]
     },
     "metadata": {},
     "output_type": "display_data"
    }
   ],
   "source": [
    "head(pheno)\n",
    "dim(pheno)"
   ]
  },
  {
   "cell_type": "markdown",
   "metadata": {
    "kernel": "R"
   },
   "source": [
    "## obtain HapMap3 SNPs\n",
    "\n",
    "load HapMap3 SNPs"
   ]
  },
  {
   "cell_type": "code",
   "execution_count": 5,
   "metadata": {
    "kernel": "R"
   },
   "outputs": [],
   "source": [
    "info <- readRDS(url(\"https://github.com/privefl/bigsnpr/raw/master/data-raw/hm3_variants.rds\"))"
   ]
  },
  {
   "cell_type": "code",
   "execution_count": 5,
   "metadata": {
    "kernel": "R"
   },
   "outputs": [
    {
     "ename": "ERROR",
     "evalue": "Error in head(info, 10): object 'info' not found\n",
     "output_type": "error",
     "traceback": [
      "Error in head(info, 10): object 'info' not found\nTraceback:\n",
      "1. head(info, 10)"
     ]
    }
   ],
   "source": [
    "head(info,10)\n"
   ]
  },
  {
   "cell_type": "markdown",
   "metadata": {
    "kernel": "R"
   },
   "source": [
    "## Load and transform the summary statistic file\n",
    "\n",
    "one must rename the columns according to their actual ordering"
   ]
  },
  {
   "cell_type": "code",
   "execution_count": 6,
   "metadata": {
    "kernel": "R"
   },
   "outputs": [],
   "source": [
    "# Read in the summary statistic file\n",
    "sumstats <- bigreadr::fread2(\"post-qc/Height.QC.gz\") \n",
    "# LDpred 2 require the header to follow the exact naming\n",
    "names(sumstats) <-\n",
    "    c(\"chr\",\n",
    "    \"pos\",\n",
    "    \"rsid\",\n",
    "    \"a1\",\n",
    "    \"a0\",\n",
    "    \"n_eff\",\n",
    "    \"beta_se\",\n",
    "    \"p\",\n",
    "    \"OR\",\n",
    "    \"INFO\",\n",
    "    \"MAF\")\n",
    "# Transform the OR into log(OR)\n",
    "sumstats$beta <- log(sumstats$OR)\n"
   ]
  },
  {
   "cell_type": "code",
   "execution_count": 11,
   "metadata": {
    "kernel": "R"
   },
   "outputs": [
    {
     "data": {
      "text/html": [
       "<table class=\"dataframe\">\n",
       "<caption>A data.frame: 6 × 12</caption>\n",
       "<thead>\n",
       "\t<tr><th></th><th scope=col>chr</th><th scope=col>pos</th><th scope=col>rsid</th><th scope=col>a1</th><th scope=col>a0</th><th scope=col>n_eff</th><th scope=col>beta_se</th><th scope=col>p</th><th scope=col>OR</th><th scope=col>INFO</th><th scope=col>MAF</th><th scope=col>beta</th></tr>\n",
       "\t<tr><th></th><th scope=col>&lt;int&gt;</th><th scope=col>&lt;int&gt;</th><th scope=col>&lt;chr&gt;</th><th scope=col>&lt;chr&gt;</th><th scope=col>&lt;chr&gt;</th><th scope=col>&lt;int&gt;</th><th scope=col>&lt;dbl&gt;</th><th scope=col>&lt;dbl&gt;</th><th scope=col>&lt;dbl&gt;</th><th scope=col>&lt;dbl&gt;</th><th scope=col>&lt;dbl&gt;</th><th scope=col>&lt;dbl&gt;</th></tr>\n",
       "</thead>\n",
       "<tbody>\n",
       "\t<tr><th scope=row>1</th><td>1</td><td>756604</td><td>rs3131962 </td><td>A</td><td>G</td><td>388028</td><td>0.00301666</td><td>0.483171</td><td>0.9978869</td><td>0.8905579</td><td>0.3693896</td><td>-0.00211532</td></tr>\n",
       "\t<tr><th scope=row>2</th><td>1</td><td>768448</td><td>rs12562034</td><td>A</td><td>G</td><td>388028</td><td>0.00329472</td><td>0.834808</td><td>1.0006873</td><td>0.8958935</td><td>0.3368458</td><td> 0.00068708</td></tr>\n",
       "\t<tr><th scope=row>3</th><td>1</td><td>779322</td><td>rs4040617 </td><td>G</td><td>A</td><td>388028</td><td>0.00303344</td><td>0.428970</td><td>0.9976036</td><td>0.8975083</td><td>0.3773680</td><td>-0.00239932</td></tr>\n",
       "\t<tr><th scope=row>4</th><td>1</td><td>801536</td><td>rs79373928</td><td>G</td><td>T</td><td>388028</td><td>0.00841324</td><td>0.808999</td><td>1.0020357</td><td>0.9089629</td><td>0.4832122</td><td> 0.00203363</td></tr>\n",
       "\t<tr><th scope=row>5</th><td>1</td><td>808631</td><td>rs11240779</td><td>G</td><td>A</td><td>388028</td><td>0.00242821</td><td>0.590265</td><td>1.0013083</td><td>0.8932125</td><td>0.4504096</td><td> 0.00130747</td></tr>\n",
       "\t<tr><th scope=row>6</th><td>1</td><td>809876</td><td>rs57181708</td><td>G</td><td>A</td><td>388028</td><td>0.00336785</td><td>0.714750</td><td>1.0012317</td><td>0.9235576</td><td>0.4997439</td><td> 0.00123090</td></tr>\n",
       "</tbody>\n",
       "</table>\n"
      ],
      "text/latex": [
       "A data.frame: 6 × 12\n",
       "\\begin{tabular}{r|llllllllllll}\n",
       "  & chr & pos & rsid & a1 & a0 & n\\_eff & beta\\_se & p & OR & INFO & MAF & beta\\\\\n",
       "  & <int> & <int> & <chr> & <chr> & <chr> & <int> & <dbl> & <dbl> & <dbl> & <dbl> & <dbl> & <dbl>\\\\\n",
       "\\hline\n",
       "\t1 & 1 & 756604 & rs3131962  & A & G & 388028 & 0.00301666 & 0.483171 & 0.9978869 & 0.8905579 & 0.3693896 & -0.00211532\\\\\n",
       "\t2 & 1 & 768448 & rs12562034 & A & G & 388028 & 0.00329472 & 0.834808 & 1.0006873 & 0.8958935 & 0.3368458 &  0.00068708\\\\\n",
       "\t3 & 1 & 779322 & rs4040617  & G & A & 388028 & 0.00303344 & 0.428970 & 0.9976036 & 0.8975083 & 0.3773680 & -0.00239932\\\\\n",
       "\t4 & 1 & 801536 & rs79373928 & G & T & 388028 & 0.00841324 & 0.808999 & 1.0020357 & 0.9089629 & 0.4832122 &  0.00203363\\\\\n",
       "\t5 & 1 & 808631 & rs11240779 & G & A & 388028 & 0.00242821 & 0.590265 & 1.0013083 & 0.8932125 & 0.4504096 &  0.00130747\\\\\n",
       "\t6 & 1 & 809876 & rs57181708 & G & A & 388028 & 0.00336785 & 0.714750 & 1.0012317 & 0.9235576 & 0.4997439 &  0.00123090\\\\\n",
       "\\end{tabular}\n"
      ],
      "text/markdown": [
       "\n",
       "A data.frame: 6 × 12\n",
       "\n",
       "| <!--/--> | chr &lt;int&gt; | pos &lt;int&gt; | rsid &lt;chr&gt; | a1 &lt;chr&gt; | a0 &lt;chr&gt; | n_eff &lt;int&gt; | beta_se &lt;dbl&gt; | p &lt;dbl&gt; | OR &lt;dbl&gt; | INFO &lt;dbl&gt; | MAF &lt;dbl&gt; | beta &lt;dbl&gt; |\n",
       "|---|---|---|---|---|---|---|---|---|---|---|---|---|\n",
       "| 1 | 1 | 756604 | rs3131962  | A | G | 388028 | 0.00301666 | 0.483171 | 0.9978869 | 0.8905579 | 0.3693896 | -0.00211532 |\n",
       "| 2 | 1 | 768448 | rs12562034 | A | G | 388028 | 0.00329472 | 0.834808 | 1.0006873 | 0.8958935 | 0.3368458 |  0.00068708 |\n",
       "| 3 | 1 | 779322 | rs4040617  | G | A | 388028 | 0.00303344 | 0.428970 | 0.9976036 | 0.8975083 | 0.3773680 | -0.00239932 |\n",
       "| 4 | 1 | 801536 | rs79373928 | G | T | 388028 | 0.00841324 | 0.808999 | 1.0020357 | 0.9089629 | 0.4832122 |  0.00203363 |\n",
       "| 5 | 1 | 808631 | rs11240779 | G | A | 388028 | 0.00242821 | 0.590265 | 1.0013083 | 0.8932125 | 0.4504096 |  0.00130747 |\n",
       "| 6 | 1 | 809876 | rs57181708 | G | A | 388028 | 0.00336785 | 0.714750 | 1.0012317 | 0.9235576 | 0.4997439 |  0.00123090 |\n",
       "\n"
      ],
      "text/plain": [
       "  chr pos    rsid       a1 a0 n_eff  beta_se    p        OR        INFO     \n",
       "1 1   756604 rs3131962  A  G  388028 0.00301666 0.483171 0.9978869 0.8905579\n",
       "2 1   768448 rs12562034 A  G  388028 0.00329472 0.834808 1.0006873 0.8958935\n",
       "3 1   779322 rs4040617  G  A  388028 0.00303344 0.428970 0.9976036 0.8975083\n",
       "4 1   801536 rs79373928 G  T  388028 0.00841324 0.808999 1.0020357 0.9089629\n",
       "5 1   808631 rs11240779 G  A  388028 0.00242821 0.590265 1.0013083 0.8932125\n",
       "6 1   809876 rs57181708 G  A  388028 0.00336785 0.714750 1.0012317 0.9235576\n",
       "  MAF       beta       \n",
       "1 0.3693896 -0.00211532\n",
       "2 0.3368458  0.00068708\n",
       "3 0.3773680 -0.00239932\n",
       "4 0.4832122  0.00203363\n",
       "5 0.4504096  0.00130747\n",
       "6 0.4997439  0.00123090"
      ]
     },
     "metadata": {},
     "output_type": "display_data"
    },
    {
     "data": {
      "text/html": [
       "499617"
      ],
      "text/latex": [
       "499617"
      ],
      "text/markdown": [
       "499617"
      ],
      "text/plain": [
       "[1] 499617"
      ]
     },
     "metadata": {},
     "output_type": "display_data"
    },
    {
     "data": {
      "text/html": [
       "<table class=\"dataframe\">\n",
       "<caption>A data.frame: 6 × 12</caption>\n",
       "<thead>\n",
       "\t<tr><th></th><th scope=col>chr</th><th scope=col>pos</th><th scope=col>rsid</th><th scope=col>a1</th><th scope=col>a0</th><th scope=col>n_eff</th><th scope=col>beta_se</th><th scope=col>p</th><th scope=col>OR</th><th scope=col>INFO</th><th scope=col>MAF</th><th scope=col>beta</th></tr>\n",
       "\t<tr><th></th><th scope=col>&lt;int&gt;</th><th scope=col>&lt;int&gt;</th><th scope=col>&lt;chr&gt;</th><th scope=col>&lt;chr&gt;</th><th scope=col>&lt;chr&gt;</th><th scope=col>&lt;int&gt;</th><th scope=col>&lt;dbl&gt;</th><th scope=col>&lt;dbl&gt;</th><th scope=col>&lt;dbl&gt;</th><th scope=col>&lt;dbl&gt;</th><th scope=col>&lt;dbl&gt;</th><th scope=col>&lt;dbl&gt;</th></tr>\n",
       "</thead>\n",
       "<tbody>\n",
       "\t<tr><th scope=row>2</th><td>1</td><td>768448</td><td>rs12562034</td><td>A</td><td>G</td><td>388028</td><td>0.00329472</td><td>0.834808000</td><td>1.0006873</td><td>0.8958935</td><td>0.3368458</td><td> 0.00068708</td></tr>\n",
       "\t<tr><th scope=row>3</th><td>1</td><td>779322</td><td>rs4040617 </td><td>G</td><td>A</td><td>388028</td><td>0.00303344</td><td>0.428970000</td><td>0.9976036</td><td>0.8975083</td><td>0.3773680</td><td>-0.00239932</td></tr>\n",
       "\t<tr><th scope=row>8</th><td>1</td><td>838555</td><td>rs4970383 </td><td>A</td><td>C</td><td>388028</td><td>0.00235773</td><td>0.150993000</td><td>0.9966199</td><td>0.9077165</td><td>0.3271640</td><td>-0.00338578</td></tr>\n",
       "\t<tr><th scope=row>18</th><td>1</td><td>873558</td><td>rs1110052 </td><td>G</td><td>T</td><td>388028</td><td>0.00225578</td><td>0.000285674</td><td>0.9918494</td><td>0.9004758</td><td>0.3680888</td><td>-0.00818396</td></tr>\n",
       "\t<tr><th scope=row>19</th><td>1</td><td>880238</td><td>rs3748592 </td><td>A</td><td>G</td><td>388028</td><td>0.00450310</td><td>0.488653000</td><td>1.0031231</td><td>0.8728364</td><td>0.4104163</td><td> 0.00311819</td></tr>\n",
       "\t<tr><th scope=row>20</th><td>1</td><td>880390</td><td>rs3748593 </td><td>A</td><td>C</td><td>388028</td><td>0.00635197</td><td>0.272881000</td><td>0.9930596</td><td>0.8992809</td><td>0.4930243</td><td>-0.00696463</td></tr>\n",
       "</tbody>\n",
       "</table>\n"
      ],
      "text/latex": [
       "A data.frame: 6 × 12\n",
       "\\begin{tabular}{r|llllllllllll}\n",
       "  & chr & pos & rsid & a1 & a0 & n\\_eff & beta\\_se & p & OR & INFO & MAF & beta\\\\\n",
       "  & <int> & <int> & <chr> & <chr> & <chr> & <int> & <dbl> & <dbl> & <dbl> & <dbl> & <dbl> & <dbl>\\\\\n",
       "\\hline\n",
       "\t2 & 1 & 768448 & rs12562034 & A & G & 388028 & 0.00329472 & 0.834808000 & 1.0006873 & 0.8958935 & 0.3368458 &  0.00068708\\\\\n",
       "\t3 & 1 & 779322 & rs4040617  & G & A & 388028 & 0.00303344 & 0.428970000 & 0.9976036 & 0.8975083 & 0.3773680 & -0.00239932\\\\\n",
       "\t8 & 1 & 838555 & rs4970383  & A & C & 388028 & 0.00235773 & 0.150993000 & 0.9966199 & 0.9077165 & 0.3271640 & -0.00338578\\\\\n",
       "\t18 & 1 & 873558 & rs1110052  & G & T & 388028 & 0.00225578 & 0.000285674 & 0.9918494 & 0.9004758 & 0.3680888 & -0.00818396\\\\\n",
       "\t19 & 1 & 880238 & rs3748592  & A & G & 388028 & 0.00450310 & 0.488653000 & 1.0031231 & 0.8728364 & 0.4104163 &  0.00311819\\\\\n",
       "\t20 & 1 & 880390 & rs3748593  & A & C & 388028 & 0.00635197 & 0.272881000 & 0.9930596 & 0.8992809 & 0.4930243 & -0.00696463\\\\\n",
       "\\end{tabular}\n"
      ],
      "text/markdown": [
       "\n",
       "A data.frame: 6 × 12\n",
       "\n",
       "| <!--/--> | chr &lt;int&gt; | pos &lt;int&gt; | rsid &lt;chr&gt; | a1 &lt;chr&gt; | a0 &lt;chr&gt; | n_eff &lt;int&gt; | beta_se &lt;dbl&gt; | p &lt;dbl&gt; | OR &lt;dbl&gt; | INFO &lt;dbl&gt; | MAF &lt;dbl&gt; | beta &lt;dbl&gt; |\n",
       "|---|---|---|---|---|---|---|---|---|---|---|---|---|\n",
       "| 2 | 1 | 768448 | rs12562034 | A | G | 388028 | 0.00329472 | 0.834808000 | 1.0006873 | 0.8958935 | 0.3368458 |  0.00068708 |\n",
       "| 3 | 1 | 779322 | rs4040617  | G | A | 388028 | 0.00303344 | 0.428970000 | 0.9976036 | 0.8975083 | 0.3773680 | -0.00239932 |\n",
       "| 8 | 1 | 838555 | rs4970383  | A | C | 388028 | 0.00235773 | 0.150993000 | 0.9966199 | 0.9077165 | 0.3271640 | -0.00338578 |\n",
       "| 18 | 1 | 873558 | rs1110052  | G | T | 388028 | 0.00225578 | 0.000285674 | 0.9918494 | 0.9004758 | 0.3680888 | -0.00818396 |\n",
       "| 19 | 1 | 880238 | rs3748592  | A | G | 388028 | 0.00450310 | 0.488653000 | 1.0031231 | 0.8728364 | 0.4104163 |  0.00311819 |\n",
       "| 20 | 1 | 880390 | rs3748593  | A | C | 388028 | 0.00635197 | 0.272881000 | 0.9930596 | 0.8992809 | 0.4930243 | -0.00696463 |\n",
       "\n"
      ],
      "text/plain": [
       "   chr pos    rsid       a1 a0 n_eff  beta_se    p           OR       \n",
       "2  1   768448 rs12562034 A  G  388028 0.00329472 0.834808000 1.0006873\n",
       "3  1   779322 rs4040617  G  A  388028 0.00303344 0.428970000 0.9976036\n",
       "8  1   838555 rs4970383  A  C  388028 0.00235773 0.150993000 0.9966199\n",
       "18 1   873558 rs1110052  G  T  388028 0.00225578 0.000285674 0.9918494\n",
       "19 1   880238 rs3748592  A  G  388028 0.00450310 0.488653000 1.0031231\n",
       "20 1   880390 rs3748593  A  C  388028 0.00635197 0.272881000 0.9930596\n",
       "   INFO      MAF       beta       \n",
       "2  0.8958935 0.3368458  0.00068708\n",
       "3  0.8975083 0.3773680 -0.00239932\n",
       "8  0.9077165 0.3271640 -0.00338578\n",
       "18 0.9004758 0.3680888 -0.00818396\n",
       "19 0.8728364 0.4104163  0.00311819\n",
       "20 0.8992809 0.4930243 -0.00696463"
      ]
     },
     "metadata": {},
     "output_type": "display_data"
    },
    {
     "data": {
      "text/html": [
       "136004"
      ],
      "text/latex": [
       "136004"
      ],
      "text/markdown": [
       "136004"
      ],
      "text/plain": [
       "[1] 136004"
      ]
     },
     "metadata": {},
     "output_type": "display_data"
    }
   ],
   "source": [
    "head(sumstats)\n",
    "nrow(sumstats)\n",
    "# Filter out hapmap SNPs\n",
    "sumstats <- sumstats[sumstats$rsid %in% info$rsid,]\n",
    "head(sumstats)\n",
    "nrow(sumstats)\n",
    "write.csv(sumstats, file = \"sumstats.csv\")\n",
    "\n"
   ]
  },
  {
   "cell_type": "markdown",
   "metadata": {
    "kernel": "R"
   },
   "source": [
    "##  Calculate the LD matrix\n",
    "\n",
    "Genome Wide bed file"
   ]
  },
  {
   "cell_type": "code",
   "execution_count": 7,
   "metadata": {
    "kernel": "R"
   },
   "outputs": [
    {
     "name": "stderr",
     "output_type": "stream",
     "text": [
      "Warning message in file.remove(paste0(tmp, \".sbk\")):\n",
      "\"cannot remove file 'tmp-dataset/filecc01c58cf74.sbk', reason 'No such file or directory'\"\n",
      "499,617 variants to be matched.\n",
      "\n",
      "0 ambiguous SNPs have been removed.\n",
      "\n",
      "489,805 variants have been matched; 0 were flipped and 178 were reversed.\n",
      "\n"
     ]
    }
   ],
   "source": [
    "# Get maximum amount of cores\n",
    "NCORES <- nb_cores()\n",
    "# Open a temporary file\n",
    "tmp <- tempfile(tmpdir = \"tmp-dataset\")\n",
    "on.exit(file.remove(paste0(tmp, \".sbk\")), add = TRUE)\n",
    "# Initialize variables for storing the LD score and LD matrix\n",
    "corr <- NULL\n",
    "ld <- NULL\n",
    "# We want to know the ordering of samples in the bed file \n",
    "fam.order <- NULL\n",
    "# preprocess the bed file (only need to do once for each data set)\n",
    "#snp_readBed(\"post-qc/EUR.QC.bed\")\n",
    "\n",
    "# now attach the genotype object\n",
    "obj.bigSNP <- snp_attach(\"post-qc/EUR.QC.rds\")\n",
    "\n",
    "# extract the SNP information from the genotype\n",
    "map <- obj.bigSNP$map[-3]\n",
    "names(map) <- c(\"chr\", \"rsid\", \"pos\", \"a1\", \"a0\")\n",
    "# perform SNP matching\n",
    "info_snp <- snp_match(sumstats, map)\n",
    "# Assign the genotype to a variable for easier downstream analysis\n",
    "genotype <- obj.bigSNP$genotypes\n",
    "# Rename the data structures\n",
    "CHR <- map$chr\n",
    "POS <- map$pos\n",
    "# get the CM information from 1000 Genome\n",
    "# will download the 1000G file to the current directory (\".\")\n",
    "POS2 <- snp_asGeneticPos(CHR, POS, dir = \".\")\n",
    "# calculate LD\n",
    "for (chr in 1:22) {\n",
    "    # Extract SNPs that are included in the chromosome\n",
    "    ind.chr <- which(info_snp$chr == chr)\n",
    "    ind.chr2 <- info_snp$`_NUM_ID_`[ind.chr]\n",
    "    # Calculate the LD\n",
    "    corr0 <- snp_cor(\n",
    "            genotype,\n",
    "            ind.col = ind.chr2,\n",
    "            ncores = NCORES,\n",
    "            infos.pos = POS2[ind.chr2],\n",
    "            size = 3 / 1000\n",
    "        )\n",
    "    if (chr == 1) {\n",
    "        ld <- Matrix::colSums(corr0^2)\n",
    "        corr <- as_SFBM(corr0, tmp)\n",
    "    } else {\n",
    "        ld <- c(ld, Matrix::colSums(corr0^2))\n",
    "        corr$add_columns(corr0, nrow(corr))\n",
    "    }\n",
    "}\n",
    "# We assume the fam order is the same across different chromosomes\n",
    "fam.order <- as.data.table(obj.bigSNP$fam)\n",
    "# Rename fam order\n",
    "setnames(fam.order,\n",
    "        c(\"family.ID\", \"sample.ID\"),\n",
    "        c(\"FID\", \"IID\"))\n",
    "\n"
   ]
  },
  {
   "cell_type": "code",
   "execution_count": 13,
   "metadata": {},
   "outputs": [
    {
     "data": {
      "text/html": [
       "<style>\n",
       ".list-inline {list-style: none; margin:0; padding: 0}\n",
       ".list-inline>li {display: inline-block}\n",
       ".list-inline>li:not(:last-child)::after {content: \"\\00b7\"; padding: 0 .5ex}\n",
       "</style>\n",
       "<ol class=list-inline><li>'genotypes'</li><li>'fam'</li><li>'map'</li></ol>\n"
      ],
      "text/latex": [
       "\\begin{enumerate*}\n",
       "\\item 'genotypes'\n",
       "\\item 'fam'\n",
       "\\item 'map'\n",
       "\\end{enumerate*}\n"
      ],
      "text/markdown": [
       "1. 'genotypes'\n",
       "2. 'fam'\n",
       "3. 'map'\n",
       "\n",
       "\n"
      ],
      "text/plain": [
       "[1] \"genotypes\" \"fam\"       \"map\"      "
      ]
     },
     "metadata": {},
     "output_type": "display_data"
    },
    {
     "data": {
      "text/html": [
       "<table class=\"dataframe\">\n",
       "<caption>A matrix: 6 × 489805 of type dbl</caption>\n",
       "<tbody>\n",
       "\t<tr><td>1</td><td>1</td><td>0</td><td>1</td><td>0</td><td>0</td><td>0</td><td>1</td><td>1</td><td>1</td><td>⋯</td><td>1</td><td>0</td><td>0</td><td>0</td><td>0</td><td>0</td><td>0</td><td>0</td><td>0</td><td>0</td></tr>\n",
       "\t<tr><td>0</td><td>0</td><td>0</td><td>1</td><td>0</td><td>1</td><td>1</td><td>2</td><td>1</td><td>2</td><td>⋯</td><td>0</td><td>0</td><td>0</td><td>0</td><td>0</td><td>0</td><td>0</td><td>0</td><td>0</td><td>0</td></tr>\n",
       "\t<tr><td>1</td><td>1</td><td>0</td><td>1</td><td>0</td><td>1</td><td>0</td><td>1</td><td>0</td><td>0</td><td>⋯</td><td>0</td><td>0</td><td>1</td><td>0</td><td>0</td><td>1</td><td>0</td><td>1</td><td>0</td><td>1</td></tr>\n",
       "\t<tr><td>0</td><td>0</td><td>0</td><td>0</td><td>0</td><td>1</td><td>1</td><td>0</td><td>0</td><td>0</td><td>⋯</td><td>1</td><td>0</td><td>1</td><td>0</td><td>0</td><td>0</td><td>0</td><td>1</td><td>0</td><td>1</td></tr>\n",
       "\t<tr><td>0</td><td>0</td><td>0</td><td>0</td><td>0</td><td>0</td><td>0</td><td>1</td><td>0</td><td>0</td><td>⋯</td><td>1</td><td>0</td><td>0</td><td>0</td><td>0</td><td>0</td><td>0</td><td>2</td><td>0</td><td>0</td></tr>\n",
       "\t<tr><td>0</td><td>0</td><td>0</td><td>0</td><td>0</td><td>0</td><td>0</td><td>0</td><td>1</td><td>1</td><td>⋯</td><td>0</td><td>0</td><td>0</td><td>0</td><td>0</td><td>0</td><td>1</td><td>1</td><td>0</td><td>0</td></tr>\n",
       "</tbody>\n",
       "</table>\n"
      ],
      "text/latex": [
       "A matrix: 6 × 489805 of type dbl\n",
       "\\begin{tabular}{lllllllllllllllllllll}\n",
       "\t 1 & 1 & 0 & 1 & 0 & 0 & 0 & 1 & 1 & 1 & ⋯ & 1 & 0 & 0 & 0 & 0 & 0 & 0 & 0 & 0 & 0\\\\\n",
       "\t 0 & 0 & 0 & 1 & 0 & 1 & 1 & 2 & 1 & 2 & ⋯ & 0 & 0 & 0 & 0 & 0 & 0 & 0 & 0 & 0 & 0\\\\\n",
       "\t 1 & 1 & 0 & 1 & 0 & 1 & 0 & 1 & 0 & 0 & ⋯ & 0 & 0 & 1 & 0 & 0 & 1 & 0 & 1 & 0 & 1\\\\\n",
       "\t 0 & 0 & 0 & 0 & 0 & 1 & 1 & 0 & 0 & 0 & ⋯ & 1 & 0 & 1 & 0 & 0 & 0 & 0 & 1 & 0 & 1\\\\\n",
       "\t 0 & 0 & 0 & 0 & 0 & 0 & 0 & 1 & 0 & 0 & ⋯ & 1 & 0 & 0 & 0 & 0 & 0 & 0 & 2 & 0 & 0\\\\\n",
       "\t 0 & 0 & 0 & 0 & 0 & 0 & 0 & 0 & 1 & 1 & ⋯ & 0 & 0 & 0 & 0 & 0 & 0 & 1 & 1 & 0 & 0\\\\\n",
       "\\end{tabular}\n"
      ],
      "text/markdown": [
       "\n",
       "A matrix: 6 × 489805 of type dbl\n",
       "\n",
       "| 1 | 1 | 0 | 1 | 0 | 0 | 0 | 1 | 1 | 1 | ⋯ | 1 | 0 | 0 | 0 | 0 | 0 | 0 | 0 | 0 | 0 |\n",
       "| 0 | 0 | 0 | 1 | 0 | 1 | 1 | 2 | 1 | 2 | ⋯ | 0 | 0 | 0 | 0 | 0 | 0 | 0 | 0 | 0 | 0 |\n",
       "| 1 | 1 | 0 | 1 | 0 | 1 | 0 | 1 | 0 | 0 | ⋯ | 0 | 0 | 1 | 0 | 0 | 1 | 0 | 1 | 0 | 1 |\n",
       "| 0 | 0 | 0 | 0 | 0 | 1 | 1 | 0 | 0 | 0 | ⋯ | 1 | 0 | 1 | 0 | 0 | 0 | 0 | 1 | 0 | 1 |\n",
       "| 0 | 0 | 0 | 0 | 0 | 0 | 0 | 1 | 0 | 0 | ⋯ | 1 | 0 | 0 | 0 | 0 | 0 | 0 | 2 | 0 | 0 |\n",
       "| 0 | 0 | 0 | 0 | 0 | 0 | 0 | 0 | 1 | 1 | ⋯ | 0 | 0 | 0 | 0 | 0 | 0 | 1 | 1 | 0 | 0 |\n",
       "\n"
      ],
      "text/plain": [
       "     [,1] [,2] [,3] [,4] [,5] [,6] [,7] [,8] [,9] [,10] [,11]  [,12] [,13]\n",
       "[1,] 1    1    0    1    0    0    0    1    1    1     <U+22EF> 1     0    \n",
       "[2,] 0    0    0    1    0    1    1    2    1    2     <U+22EF> 0     0    \n",
       "[3,] 1    1    0    1    0    1    0    1    0    0     <U+22EF> 0     0    \n",
       "[4,] 0    0    0    0    0    1    1    0    0    0     <U+22EF> 1     0    \n",
       "[5,] 0    0    0    0    0    0    0    1    0    0     <U+22EF> 1     0    \n",
       "[6,] 0    0    0    0    0    0    0    0    1    1     <U+22EF> 0     0    \n",
       "     [,14] [,15] [,16] [,17] [,18] [,19] [,20] [,21]\n",
       "[1,] 0     0     0     0     0     0     0     0    \n",
       "[2,] 0     0     0     0     0     0     0     0    \n",
       "[3,] 1     0     0     1     0     1     0     1    \n",
       "[4,] 1     0     0     0     0     1     0     1    \n",
       "[5,] 0     0     0     0     0     2     0     0    \n",
       "[6,] 0     0     0     0     1     1     0     0    "
      ]
     },
     "metadata": {},
     "output_type": "display_data"
    },
    {
     "data": {
      "text/html": [
       "<style>\n",
       ".list-inline {list-style: none; margin:0; padding: 0}\n",
       ".list-inline>li {display: inline-block}\n",
       ".list-inline>li:not(:last-child)::after {content: \"\\00b7\"; padding: 0 .5ex}\n",
       "</style>\n",
       "<ol class=list-inline><li>483</li><li>489805</li></ol>\n"
      ],
      "text/latex": [
       "\\begin{enumerate*}\n",
       "\\item 483\n",
       "\\item 489805\n",
       "\\end{enumerate*}\n"
      ],
      "text/markdown": [
       "1. 483\n",
       "2. 489805\n",
       "\n",
       "\n"
      ],
      "text/plain": [
       "[1]    483 489805"
      ]
     },
     "metadata": {},
     "output_type": "display_data"
    },
    {
     "ename": "ERROR",
     "evalue": "Error in obj.bigSNP$genotypes == 0: comparison (1) is possible only for atomic and list types\n",
     "output_type": "error",
     "traceback": [
      "Error in obj.bigSNP$genotypes == 0: comparison (1) is possible only for atomic and list types\nTraceback:\n",
      "1. which(obj.bigSNP$genotypes == 0)"
     ]
    }
   ],
   "source": [
    "names(obj.bigSNP)\n",
    "head(obj.bigSNP$genotypes)\n",
    "dim(obj.bigSNP$genotypes)"
   ]
  },
  {
   "cell_type": "code",
   "execution_count": 9,
   "metadata": {},
   "outputs": [
    {
     "data": {
      "text/html": [
       "<table class=\"dataframe\">\n",
       "<caption>A data.frame: 6 × 6</caption>\n",
       "<thead>\n",
       "\t<tr><th></th><th scope=col>family.ID</th><th scope=col>sample.ID</th><th scope=col>paternal.ID</th><th scope=col>maternal.ID</th><th scope=col>sex</th><th scope=col>affection</th></tr>\n",
       "\t<tr><th></th><th scope=col>&lt;chr&gt;</th><th scope=col>&lt;chr&gt;</th><th scope=col>&lt;int&gt;</th><th scope=col>&lt;int&gt;</th><th scope=col>&lt;int&gt;</th><th scope=col>&lt;int&gt;</th></tr>\n",
       "</thead>\n",
       "<tbody>\n",
       "\t<tr><th scope=row>1</th><td>HG00096</td><td>HG00096</td><td>0</td><td>0</td><td>1</td><td>-9</td></tr>\n",
       "\t<tr><th scope=row>2</th><td>HG00097</td><td>HG00097</td><td>0</td><td>0</td><td>2</td><td>-9</td></tr>\n",
       "\t<tr><th scope=row>3</th><td>HG00099</td><td>HG00099</td><td>0</td><td>0</td><td>2</td><td>-9</td></tr>\n",
       "\t<tr><th scope=row>4</th><td>HG00101</td><td>HG00101</td><td>0</td><td>0</td><td>1</td><td>-9</td></tr>\n",
       "\t<tr><th scope=row>5</th><td>HG00102</td><td>HG00102</td><td>0</td><td>0</td><td>2</td><td>-9</td></tr>\n",
       "\t<tr><th scope=row>6</th><td>HG00103</td><td>HG00103</td><td>0</td><td>0</td><td>1</td><td>-9</td></tr>\n",
       "</tbody>\n",
       "</table>\n"
      ],
      "text/latex": [
       "A data.frame: 6 × 6\n",
       "\\begin{tabular}{r|llllll}\n",
       "  & family.ID & sample.ID & paternal.ID & maternal.ID & sex & affection\\\\\n",
       "  & <chr> & <chr> & <int> & <int> & <int> & <int>\\\\\n",
       "\\hline\n",
       "\t1 & HG00096 & HG00096 & 0 & 0 & 1 & -9\\\\\n",
       "\t2 & HG00097 & HG00097 & 0 & 0 & 2 & -9\\\\\n",
       "\t3 & HG00099 & HG00099 & 0 & 0 & 2 & -9\\\\\n",
       "\t4 & HG00101 & HG00101 & 0 & 0 & 1 & -9\\\\\n",
       "\t5 & HG00102 & HG00102 & 0 & 0 & 2 & -9\\\\\n",
       "\t6 & HG00103 & HG00103 & 0 & 0 & 1 & -9\\\\\n",
       "\\end{tabular}\n"
      ],
      "text/markdown": [
       "\n",
       "A data.frame: 6 × 6\n",
       "\n",
       "| <!--/--> | family.ID &lt;chr&gt; | sample.ID &lt;chr&gt; | paternal.ID &lt;int&gt; | maternal.ID &lt;int&gt; | sex &lt;int&gt; | affection &lt;int&gt; |\n",
       "|---|---|---|---|---|---|---|\n",
       "| 1 | HG00096 | HG00096 | 0 | 0 | 1 | -9 |\n",
       "| 2 | HG00097 | HG00097 | 0 | 0 | 2 | -9 |\n",
       "| 3 | HG00099 | HG00099 | 0 | 0 | 2 | -9 |\n",
       "| 4 | HG00101 | HG00101 | 0 | 0 | 1 | -9 |\n",
       "| 5 | HG00102 | HG00102 | 0 | 0 | 2 | -9 |\n",
       "| 6 | HG00103 | HG00103 | 0 | 0 | 1 | -9 |\n",
       "\n"
      ],
      "text/plain": [
       "  family.ID sample.ID paternal.ID maternal.ID sex affection\n",
       "1 HG00096   HG00096   0           0           1   -9       \n",
       "2 HG00097   HG00097   0           0           2   -9       \n",
       "3 HG00099   HG00099   0           0           2   -9       \n",
       "4 HG00101   HG00101   0           0           1   -9       \n",
       "5 HG00102   HG00102   0           0           2   -9       \n",
       "6 HG00103   HG00103   0           0           1   -9       "
      ]
     },
     "metadata": {},
     "output_type": "display_data"
    },
    {
     "data": {
      "text/html": [
       "<style>\n",
       ".list-inline {list-style: none; margin:0; padding: 0}\n",
       ".list-inline>li {display: inline-block}\n",
       ".list-inline>li:not(:last-child)::after {content: \"\\00b7\"; padding: 0 .5ex}\n",
       "</style>\n",
       "<ol class=list-inline><li>483</li><li>6</li></ol>\n"
      ],
      "text/latex": [
       "\\begin{enumerate*}\n",
       "\\item 483\n",
       "\\item 6\n",
       "\\end{enumerate*}\n"
      ],
      "text/markdown": [
       "1. 483\n",
       "2. 6\n",
       "\n",
       "\n"
      ],
      "text/plain": [
       "[1] 483   6"
      ]
     },
     "metadata": {},
     "output_type": "display_data"
    }
   ],
   "source": [
    "head(obj.bigSNP$fam)\n",
    "dim(obj.bigSNP$fam)"
   ]
  },
  {
   "cell_type": "code",
   "execution_count": 22,
   "metadata": {},
   "outputs": [
    {
     "data": {
      "text/html": [
       "<table class=\"dataframe\">\n",
       "<caption>A data.frame: 6 × 6</caption>\n",
       "<thead>\n",
       "\t<tr><th></th><th scope=col>chromosome</th><th scope=col>marker.ID</th><th scope=col>genetic.dist</th><th scope=col>physical.pos</th><th scope=col>allele1</th><th scope=col>allele2</th></tr>\n",
       "\t<tr><th></th><th scope=col>&lt;int&gt;</th><th scope=col>&lt;chr&gt;</th><th scope=col>&lt;dbl&gt;</th><th scope=col>&lt;int&gt;</th><th scope=col>&lt;chr&gt;</th><th scope=col>&lt;chr&gt;</th></tr>\n",
       "</thead>\n",
       "<tbody>\n",
       "\t<tr><th scope=row>1</th><td>1</td><td>rs3131962 </td><td>0.490722</td><td>756604</td><td>A</td><td>G</td></tr>\n",
       "\t<tr><th scope=row>2</th><td>1</td><td>rs4040617 </td><td>0.500708</td><td>779322</td><td>G</td><td>A</td></tr>\n",
       "\t<tr><th scope=row>3</th><td>1</td><td>rs79373928</td><td>0.587220</td><td>801536</td><td>G</td><td>T</td></tr>\n",
       "\t<tr><th scope=row>4</th><td>1</td><td>rs11240779</td><td>0.620827</td><td>808631</td><td>G</td><td>A</td></tr>\n",
       "\t<tr><th scope=row>5</th><td>1</td><td>rs57181708</td><td>0.620827</td><td>809876</td><td>G</td><td>A</td></tr>\n",
       "\t<tr><th scope=row>6</th><td>1</td><td>rs4422948 </td><td>0.620827</td><td>835499</td><td>G</td><td>A</td></tr>\n",
       "</tbody>\n",
       "</table>\n"
      ],
      "text/latex": [
       "A data.frame: 6 × 6\n",
       "\\begin{tabular}{r|llllll}\n",
       "  & chromosome & marker.ID & genetic.dist & physical.pos & allele1 & allele2\\\\\n",
       "  & <int> & <chr> & <dbl> & <int> & <chr> & <chr>\\\\\n",
       "\\hline\n",
       "\t1 & 1 & rs3131962  & 0.490722 & 756604 & A & G\\\\\n",
       "\t2 & 1 & rs4040617  & 0.500708 & 779322 & G & A\\\\\n",
       "\t3 & 1 & rs79373928 & 0.587220 & 801536 & G & T\\\\\n",
       "\t4 & 1 & rs11240779 & 0.620827 & 808631 & G & A\\\\\n",
       "\t5 & 1 & rs57181708 & 0.620827 & 809876 & G & A\\\\\n",
       "\t6 & 1 & rs4422948  & 0.620827 & 835499 & G & A\\\\\n",
       "\\end{tabular}\n"
      ],
      "text/markdown": [
       "\n",
       "A data.frame: 6 × 6\n",
       "\n",
       "| <!--/--> | chromosome &lt;int&gt; | marker.ID &lt;chr&gt; | genetic.dist &lt;dbl&gt; | physical.pos &lt;int&gt; | allele1 &lt;chr&gt; | allele2 &lt;chr&gt; |\n",
       "|---|---|---|---|---|---|---|\n",
       "| 1 | 1 | rs3131962  | 0.490722 | 756604 | A | G |\n",
       "| 2 | 1 | rs4040617  | 0.500708 | 779322 | G | A |\n",
       "| 3 | 1 | rs79373928 | 0.587220 | 801536 | G | T |\n",
       "| 4 | 1 | rs11240779 | 0.620827 | 808631 | G | A |\n",
       "| 5 | 1 | rs57181708 | 0.620827 | 809876 | G | A |\n",
       "| 6 | 1 | rs4422948  | 0.620827 | 835499 | G | A |\n",
       "\n"
      ],
      "text/plain": [
       "  chromosome marker.ID  genetic.dist physical.pos allele1 allele2\n",
       "1 1          rs3131962  0.490722     756604       A       G      \n",
       "2 1          rs4040617  0.500708     779322       G       A      \n",
       "3 1          rs79373928 0.587220     801536       G       T      \n",
       "4 1          rs11240779 0.620827     808631       G       A      \n",
       "5 1          rs57181708 0.620827     809876       G       A      \n",
       "6 1          rs4422948  0.620827     835499       G       A      "
      ]
     },
     "metadata": {},
     "output_type": "display_data"
    },
    {
     "data": {
      "text/html": [
       "<style>\n",
       ".list-inline {list-style: none; margin:0; padding: 0}\n",
       ".list-inline>li {display: inline-block}\n",
       ".list-inline>li:not(:last-child)::after {content: \"\\00b7\"; padding: 0 .5ex}\n",
       "</style>\n",
       "<ol class=list-inline><li>489805</li><li>6</li></ol>\n"
      ],
      "text/latex": [
       "\\begin{enumerate*}\n",
       "\\item 489805\n",
       "\\item 6\n",
       "\\end{enumerate*}\n"
      ],
      "text/markdown": [
       "1. 489805\n",
       "2. 6\n",
       "\n",
       "\n"
      ],
      "text/plain": [
       "[1] 489805      6"
      ]
     },
     "metadata": {},
     "output_type": "display_data"
    }
   ],
   "source": [
    "head(obj.bigSNP$map)\n",
    "dim(obj.bigSNP$map)"
   ]
  },
  {
   "cell_type": "markdown",
   "metadata": {
    "kernel": "R"
   },
   "source": [
    "# Perform LD score regression"
   ]
  },
  {
   "cell_type": "code",
   "execution_count": null,
   "metadata": {
    "kernel": "R"
   },
   "outputs": [],
   "source": [
    "df_beta <- info_snp[,c(\"beta\", \"beta_se\", \"n_eff\", \"_NUM_ID_\")]\n",
    "ldsc <- snp_ldsc(   ld, \n",
    "                    length(ld), \n",
    "                    chi2 = (df_beta$beta / df_beta$beta_se)^2,\n",
    "                    sample_size = df_beta$n_eff, \n",
    "                    blocks = NULL)\n",
    "h2_est <- ldsc[[\"h2\"]]\n",
    "h2_est"
   ]
  },
  {
   "cell_type": "markdown",
   "metadata": {
    "kernel": "R"
   },
   "source": [
    "# Estimate Beta"
   ]
  },
  {
   "cell_type": "markdown",
   "metadata": {
    "kernel": "R"
   },
   "source": [
    "## Infinitesimal Model"
   ]
  },
  {
   "cell_type": "code",
   "execution_count": null,
   "metadata": {
    "kernel": "R"
   },
   "outputs": [],
   "source": [
    "beta_inf <- snp_ldpred2_inf(corr, df_beta, h2 = h2_est)\n",
    "summary(beta_inf)"
   ]
  },
  {
   "cell_type": "markdown",
   "metadata": {
    "kernel": "R"
   },
   "source": [
    "## grid model"
   ]
  },
  {
   "cell_type": "code",
   "execution_count": null,
   "metadata": {
    "kernel": "R"
   },
   "outputs": [],
   "source": [
    "# Prepare data for grid model\n",
    "p_seq <- signif(seq_log(1e-4, 1, length.out = 17), 2)\n",
    "h2_seq <- round(h2_est * c(0.7, 1, 1.4), 4)\n",
    "grid.param <-\n",
    "    expand.grid(p = p_seq,\n",
    "            h2 = h2_seq,\n",
    "            sparse = c(FALSE, TRUE))\n",
    "# Get adjusted beta from grid model\n",
    "beta_grid <-\n",
    "    snp_ldpred2_grid(corr, df_beta, grid.param, ncores = NCORES)\n",
    "summary(beta_grid)"
   ]
  },
  {
   "cell_type": "markdown",
   "metadata": {
    "kernel": "R"
   },
   "source": [
    "## auto model"
   ]
  },
  {
   "cell_type": "code",
   "execution_count": null,
   "metadata": {
    "kernel": "R"
   },
   "outputs": [],
   "source": [
    "# Get adjusted beta from the auto model\n",
    "multi_auto <- snp_ldpred2_auto(\n",
    "    corr,\n",
    "    df_beta,\n",
    "    h2_init = h2_est,\n",
    "    vec_p_init = seq_log(1e-4, 0.9, length.out = NCORES),\n",
    "    ncores = NCORES\n",
    ")\n",
    "beta_auto <- sapply(multi_auto, function(auto)\n",
    "    auto$beta_est)\n",
    "summary(beta_auto)"
   ]
  },
  {
   "cell_type": "markdown",
   "metadata": {
    "kernel": "R"
   },
   "source": [
    "# Obtain model PRS"
   ]
  },
  {
   "cell_type": "markdown",
   "metadata": {
    "kernel": "R"
   },
   "source": [
    "## Infinitesimal Model"
   ]
  },
  {
   "cell_type": "code",
   "execution_count": null,
   "metadata": {
    "kernel": "R"
   },
   "outputs": [],
   "source": [
    "if(is.null(obj.bigSNP)){\n",
    "    obj.bigSNP <- snp_attach(\"EUR.QC.rds\")\n",
    "}\n",
    "genotype <- obj.bigSNP$genotypes\n",
    "# calculate PRS for all samples\n",
    "ind.test <- 1:nrow(genotype)\n",
    "pred_inf <- big_prodVec(    genotype,\n",
    "                            beta_inf,\n",
    "                            ind.row = ind.test,\n",
    "                            ind.col = info_snp$`_NUM_ID_`)\n",
    "hist(pred_inf)"
   ]
  },
  {
   "cell_type": "markdown",
   "metadata": {
    "kernel": "R"
   },
   "source": [
    "## Grid model"
   ]
  },
  {
   "cell_type": "code",
   "execution_count": null,
   "metadata": {
    "kernel": "R"
   },
   "outputs": [],
   "source": [
    "if(is.null(obj.bigSNP)){\n",
    "    obj.bigSNP <- snp_attach(\"EUR.QC.rds\")\n",
    "}\n",
    "genotype <- obj.bigSNP$genotypes\n",
    "# calculate PRS for all samples\n",
    "ind.test <- 1:nrow(genotype)\n",
    "pred_grid <- big_prodMat(   genotype, \n",
    "                            beta_grid, \n",
    "                            ind.col = info_snp$`_NUM_ID_`)\n",
    "hist(pred_grid)"
   ]
  },
  {
   "cell_type": "markdown",
   "metadata": {
    "kernel": "R"
   },
   "source": [
    "## Auto model"
   ]
  },
  {
   "cell_type": "code",
   "execution_count": null,
   "metadata": {
    "kernel": "R"
   },
   "outputs": [],
   "source": [
    "if(is.null(obj.bigSNP)){\n",
    "    obj.bigSNP <- snp_attach(\"EUR.QC.rds\")\n",
    "}\n",
    "genotype <- obj.bigSNP$genotypes\n",
    "# calculate PRS for all samples\n",
    "ind.test <- 1:nrow(genotype)\n",
    "pred_auto <-\n",
    "    big_prodMat(genotype,\n",
    "                beta_auto,\n",
    "                ind.row = ind.test,\n",
    "                ind.col = info_snp$`_NUM_ID_`)\n",
    "# scale the PRS generated from AUTO\n",
    "pred_scaled <- apply(pred_auto, 2, sd)\n",
    "final_beta_auto <-\n",
    "    rowMeans(beta_auto[,\n",
    "                abs(pred_scaled -\n",
    "                    median(pred_scaled)) <\n",
    "                    3 * mad(pred_scaled)])\n",
    "pred_auto <-\n",
    "    big_prodVec(genotype,\n",
    "        final_beta_auto,\n",
    "        ind.row = ind.test,\n",
    "        ind.col = info_snp$`_NUM_ID_`)\n",
    "hist(pred_auto)"
   ]
  },
  {
   "cell_type": "code",
   "execution_count": null,
   "metadata": {
    "kernel": "R"
   },
   "outputs": [],
   "source": []
  }
 ],
 "metadata": {
  "kernelspec": {
   "display_name": "R",
   "language": "R",
   "name": "ir"
  },
  "language_info": {
   "codemirror_mode": "r",
   "file_extension": ".r",
   "mimetype": "text/x-r-source",
   "name": "R",
   "pygments_lexer": "r",
   "version": "4.0.4"
  },
  "sos": {
   "kernels": [
    [
     "R",
     "ir",
     "R",
     "#DCDCDA",
     "r"
    ]
   ],
   "version": "0.22.4"
  },
  "toc-autonumbering": false
 },
 "nbformat": 4,
 "nbformat_minor": 4
}
