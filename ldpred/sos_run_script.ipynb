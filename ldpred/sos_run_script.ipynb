{
 "cells": [
  {
   "cell_type": "markdown",
   "id": "magnetic-brush",
   "metadata": {
    "kernel": "SoS"
   },
   "source": [
    "## Note\n",
    "\n",
    "* All results are saved in folder res-data\n",
    "\n",
    "* Parameter `response`: 1 as continuous phenotypes, 2 as binary phenotypes"
   ]
  },
  {
   "cell_type": "markdown",
   "id": "equal-delaware",
   "metadata": {
    "kernel": "SoS"
   },
   "source": [
    "## Infinitesimal model\n",
    "\n",
    "### Delete previous outputs"
   ]
  },
  {
   "cell_type": "code",
   "execution_count": 3,
   "id": "consolidated-edwards",
   "metadata": {
    "kernel": "Bash"
   },
   "outputs": [
    {
     "name": "stdout",
     "output_type": "stream",
     "text": [
      "\u001b[?2004h"
     ]
    },
    {
     "ename": "",
     "evalue": "1",
     "output_type": "error",
     "traceback": []
    }
   ],
   "source": [
    "rm -r res-data"
   ]
  },
  {
   "cell_type": "markdown",
   "id": "musical-partition",
   "metadata": {
    "kernel": "Bash"
   },
   "source": [
    "### Run SoS"
   ]
  },
  {
   "cell_type": "code",
   "execution_count": 4,
   "id": "behind-worth",
   "metadata": {
    "kernel": "Bash"
   },
   "outputs": [
    {
     "name": "stdout",
     "output_type": "stream",
     "text": [
      "INFO: Running \u001b[32minf_10\u001b[0m: l\u001b[?2004l\u001b[?2004l\u001b[?2004l\u001b[?2004l\u001b[?2004l\u001b[?2004l\u001b[?2004l\u001b[?2004l\u001b[?2004l\u001b[?2004l\u001b[?2004l\u001b[?2004l\u001b[?2004l\u001b[?2004l\u001b[?2004l\u001b[?2004l\u001b[?2004l\u001b[?2004l\u001b[?2004l\u001b[?2004l\u001b[?2004l\u001b[?2004l\u001b[?2004l\u001b[?2004l\u001b[?2004l\u001b[?2004l\u001b[?2004l\u001b[?2004l\u001b[?2004l\u001b[?2004l\n",
      "During startup - Warning messages:\n",
      "1: Setting LC_COLLATE failed, using \"C\" \n",
      "2: Setting LC_TIME failed, using \"C\" \n",
      "3: Setting LC_MESSAGES failed, using \"C\" \n",
      "4: Setting LC_MONETARY failed, using \"C\" \n",
      "INFO: \u001b[32minf_10\u001b[0m is \u001b[32mcompleted\u001b[0m.\n",
      "INFO: Running \u001b[32minf_20\u001b[0m: \n",
      "During startup - Warning messages:\n",
      "1: Setting LC_COLLATE failed, using \"C\" \n",
      "2: Setting LC_TIME failed, using \"C\" \n",
      "3: Setting LC_MESSAGES failed, using \"C\" \n",
      "4: Setting LC_MONETARY failed, using \"C\" \n",
      "INFO: \u001b[32minf_20\u001b[0m is \u001b[32mcompleted\u001b[0m.\n",
      "INFO: \u001b[32minf_20\u001b[0m output:   \u001b[32mres-data/SumStats.RData\u001b[0m\n",
      "INFO: Running \u001b[32minf_25\u001b[0m: \n",
      "During startup - Warning messages:\n",
      "1: Setting LC_COLLATE failed, using \"C\" \n",
      "2: Setting LC_TIME failed, using \"C\" \n",
      "3: Setting LC_MESSAGES failed, using \"C\" \n",
      "4: Setting LC_MONETARY failed, using \"C\" \n",
      "INFO: \u001b[32minf_25\u001b[0m is \u001b[32mcompleted\u001b[0m.\n",
      "INFO: \u001b[32minf_25\u001b[0m output:   \u001b[32mres-data/PhenoOut.RData\u001b[0m\n",
      "INFO: Running \u001b[32minf_30\u001b[0m: \n",
      "During startup - Warning messages:\n",
      "1: Setting LC_COLLATE failed, using \"C\" \n",
      "2: Setting LC_TIME failed, using \"C\" \n",
      "3: Setting LC_MESSAGES failed, using \"C\" \n",
      "4: Setting LC_MONETARY failed, using \"C\" \n",
      "Loading required package: bigstatsr\n",
      "Error : File 'post-qc/EUR.QC.bk' already exists.\n",
      "INFO: \u001b[32minf_30\u001b[0m is \u001b[32mcompleted\u001b[0m.\n",
      "INFO: Running \u001b[32minf_31\u001b[0m: \n",
      "During startup - Warning messages:\n",
      "1: Setting LC_COLLATE failed, using \"C\" \n",
      "2: Setting LC_TIME failed, using \"C\" \n",
      "3: Setting LC_MESSAGES failed, using \"C\" \n",
      "4: Setting LC_MONETARY failed, using \"C\" \n",
      "Loading required package: bigstatsr\n",
      "136,004 variants to be matched.\n",
      "0 ambiguous SNPs have been removed.\n",
      "134,522 variants have been matched; 0 were flipped and 91 were reversed.\n",
      "INFO: \u001b[32minf_31\u001b[0m is \u001b[32mcompleted\u001b[0m.\n",
      "INFO: \u001b[32minf_31\u001b[0m output:   \u001b[32mres-data/QcInput.RData\u001b[0m\n",
      "INFO: Running \u001b[32minf_33\u001b[0m: \n",
      "During startup - Warning messages:\n",
      "1: Setting LC_COLLATE failed, using \"C\" \n",
      "2: Setting LC_TIME failed, using \"C\" \n",
      "3: Setting LC_MESSAGES failed, using \"C\" \n",
      "4: Setting LC_MONETARY failed, using \"C\" \n",
      "Loading required package: bigstatsr\n",
      "During startup - Warning messages:\n",
      "1: Setting LC_COLLATE failed, using \"C\" \n",
      "2: Setting LC_TIME failed, using \"C\" \n",
      "3: Setting LC_MESSAGES failed, using \"C\" \n",
      "4: Setting LC_MONETARY failed, using \"C\" \n",
      "During startup - Warning messages:\n",
      "1: Setting LC_COLLATE failed, using \"C\" \n",
      "2: Setting LC_TIME failed, using \"C\" \n",
      "3: Setting LC_MESSAGES failed, using \"C\" \n",
      "4: Setting LC_MONETARY failed, using \"C\" \n",
      "During startup - Warning messages:\n",
      "1: Setting LC_COLLATE failed, using \"C\" \n",
      "2: Setting LC_TIME failed, using \"C\" \n",
      "3: Setting LC_MESSAGES failed, using \"C\" \n",
      "4: Setting LC_MONETARY failed, using \"C\" \n",
      "   user  system elapsed \n",
      "  0.136   0.024   2.165 \n",
      "INFO: \u001b[32minf_33\u001b[0m is \u001b[32mcompleted\u001b[0m.\n",
      "INFO: \u001b[32minf_33\u001b[0m output:   \u001b[32mres-data/sd.rds res-data/LdInput.RData... (3 items)\u001b[0m\n",
      "INFO: Running \u001b[32minf_35\u001b[0m: \n",
      "During startup - Warning messages:\n",
      "1: Setting LC_COLLATE failed, using \"C\" \n",
      "2: Setting LC_TIME failed, using \"C\" \n",
      "3: Setting LC_MESSAGES failed, using \"C\" \n",
      "4: Setting LC_MONETARY failed, using \"C\" \n",
      "Loading required package: bigstatsr\n",
      "During startup - Warning messages:\n",
      "1: Setting LC_COLLATE failed, using \"C\" \n",
      "2: Setting LC_TIME failed, using \"C\" \n",
      "3: Setting LC_MESSAGES failed, using \"C\" \n",
      "4: Setting LC_MONETARY failed, using \"C\" \n",
      "Warning message:\n",
      "In file.remove(paste0(tmp, \".sbk\")) :\n",
      "  cannot remove file './res-data/filea901a76d74f.sbk', reason 'No such file or directory'\n",
      "INFO: \u001b[32minf_35\u001b[0m is \u001b[32mcompleted\u001b[0m.\n",
      "INFO: \u001b[32minf_35\u001b[0m output:   \u001b[32mres-data/LdOutput.RData\u001b[0m\n",
      "INFO: Running \u001b[32minf_40\u001b[0m: \n",
      "During startup - Warning messages:\n",
      "1: Setting LC_COLLATE failed, using \"C\" \n",
      "2: Setting LC_TIME failed, using \"C\" \n",
      "3: Setting LC_MESSAGES failed, using \"C\" \n",
      "4: Setting LC_MONETARY failed, using \"C\" \n",
      "Loading required package: bigstatsr\n",
      "INFO: \u001b[32minf_40\u001b[0m is \u001b[32mcompleted\u001b[0m.\n",
      "INFO: \u001b[32minf_40\u001b[0m output:   \u001b[32mres-data/LdRegOut.RData\u001b[0m\n",
      "INFO: Running \u001b[32minf_50\u001b[0m: \n",
      "During startup - Warning messages:\n",
      "1: Setting LC_COLLATE failed, using \"C\" \n",
      "2: Setting LC_TIME failed, using \"C\" \n",
      "3: Setting LC_MESSAGES failed, using \"C\" \n",
      "4: Setting LC_MONETARY failed, using \"C\" \n",
      "Loading required package: bigstatsr\n",
      "INFO: \u001b[32minf_50\u001b[0m is \u001b[32mcompleted\u001b[0m.\n",
      "INFO: \u001b[32minf_50\u001b[0m output:   \u001b[32mres-data/InfBeta.RData\u001b[0m\n",
      "INFO: Running \u001b[32minf_60\u001b[0m: \n",
      "During startup - Warning messages:\n",
      "1: Setting LC_COLLATE failed, using \"C\" \n",
      "2: Setting LC_TIME failed, using \"C\" \n",
      "3: Setting LC_MESSAGES failed, using \"C\" \n",
      "4: Setting LC_MONETARY failed, using \"C\" \n",
      "Loading required package: bigstatsr\n",
      "INFO: \u001b[32minf_60\u001b[0m is \u001b[32mcompleted\u001b[0m.\n",
      "INFO: \u001b[32minf_60\u001b[0m output:   \u001b[32mres-data/InfPrs.RData\u001b[0m\n",
      "INFO: Running \u001b[32minf_70\u001b[0m: \n",
      "During startup - Warning messages:\n",
      "1: Setting LC_COLLATE failed, using \"C\" \n",
      "2: Setting LC_TIME failed, using \"C\" \n",
      "3: Setting LC_MESSAGES failed, using \"C\" \n",
      "4: Setting LC_MONETARY failed, using \"C\" \n",
      "Loading required package: bigstatsr\n",
      "INFO: \u001b[32minf_70\u001b[0m is \u001b[32mcompleted\u001b[0m.\n",
      "INFO: \u001b[32minf_70\u001b[0m output:   \u001b[32mres-data/NullR2.RData\u001b[0m\n",
      "INFO: Running \u001b[32minf_80\u001b[0m: \n",
      "During startup - Warning messages:\n",
      "1: Setting LC_COLLATE failed, using \"C\" \n",
      "2: Setting LC_TIME failed, using \"C\" \n",
      "3: Setting LC_MESSAGES failed, using \"C\" \n",
      "4: Setting LC_MONETARY failed, using \"C\" \n",
      "Loading required package: bigstatsr\n",
      "INFO: \u001b[32minf_80\u001b[0m is \u001b[32mcompleted\u001b[0m.\n",
      "INFO: \u001b[32minf_80\u001b[0m output:   \u001b[32mres-data/InfMod.RData\u001b[0m\n",
      "INFO: Workflow inf (ID=w5af38276acd52531) is executed successfully with 12 completed steps.\n",
      "\u001b[?2004h"
     ]
    },
    {
     "ename": "",
     "evalue": "1",
     "output_type": "error",
     "traceback": []
    }
   ],
   "source": [
    "sos run ldpred.ipynb inf \\\n",
    "    --datafolder post-qc \\\n",
    "    --summstats_file post-qc/Height.QC.gz \\\n",
    "    --hapmap3 post-qc/hm3_variants.rds \\\n",
    "    --bed_file  post-qc/EUR.QC.bed \\\n",
    "    --geno_file post-qc/EUR.QC.rds \\\n",
    "    --pheno_file post-qc/EUR.height \\\n",
    "    --covariate_file post-qc/EUR.cov \\\n",
    "    --pcs_file post-qc/EUR.eigenvec \\\n",
    "    --pheno_out './res-data/PhenoOut.RData' \\\n",
    "    --summary_stat './res-data/SumStats.RData' \\\n",
    "    --qc_in './res-data/QcInput.RData' \\\n",
    "    --qc_plot './res-data/QcPlot.png' \\\n",
    "    --ld_in './res-data/LdInput.RData' \\\n",
    "    --sd_out './res-data/sd.rds' \\\n",
    "    --ld_out './res-data/LdOutput.RData' \\\n",
    "    --ldreg_out './res-data/LdRegOut.RData' \\\n",
    "    --inf_beta './res-data/InfBeta.RData' \\\n",
    "    --grid_beta './res-data/GridBeta.RData' \\\n",
    "    --auto_beta './res-data/AutoBeta.RData' \\\n",
    "    --inf_prs './res-data/InfPrs.RData' \\\n",
    "    --grid_prs './res-data/GridPrs.RData' \\\n",
    "    --auto_prs './res-data/AutoPrs.RData' \\\n",
    "    --null_r2 './res-data/NullR2.RData' \\\n",
    "    --inf_mod './res-data/InfMod.RData' \\\n",
    "    --grid_mod './res-data/GridMod.RData' \\\n",
    "    --auto_mod './res-data/AutoMod.RData' \\\n",
    "    --inf_pheno_pred './res-data/InfPhenoPred.RData' \\\n",
    "    --grid_pheno_pred './res-data/GridPhenoPred.RData' \\\n",
    "    --auto_pheno_pred './res-data/AutoPhenoPred.RData' \\\n",
    "    --inf_ldpred_res './res-data/InfLdpredRes.RData' \\\n",
    "    --grid_ldpred_res './res-data/GridLdpredRes.RData' \\\n",
    "    --auto_ldpred_res './res-data/AutoLdpredRes.RData' \\\n",
    "    --response 1\n",
    "    "
   ]
  },
  {
   "cell_type": "markdown",
   "id": "protecting-least",
   "metadata": {
    "kernel": "Bash"
   },
   "source": [
    "### List all outputs in res-data folder"
   ]
  },
  {
   "cell_type": "code",
   "execution_count": 5,
   "id": "destroyed-threat",
   "metadata": {
    "kernel": "Bash"
   },
   "outputs": [
    {
     "name": "stdout",
     "output_type": "stream",
     "text": [
      "InfBeta.RData       LdOutput.RData      QcInput.RData       sd.rds\n",
      "InfMod.RData        LdRegOut.RData      QcPlot.png\n",
      "InfPrs.RData        NullR2.RData        SumStats.RData\n",
      "LdInput.RData       PhenoOut.RData      filea901a76d74f.sbk\n",
      "\u001b[?2004h"
     ]
    },
    {
     "ename": "",
     "evalue": "1",
     "output_type": "error",
     "traceback": []
    }
   ],
   "source": [
    "ls res-data"
   ]
  },
  {
   "cell_type": "markdown",
   "id": "right-celebration",
   "metadata": {
    "kernel": "Bash"
   },
   "source": [
    "### The model of phenotype against covariates and PRS, and their R-squared"
   ]
  },
  {
   "cell_type": "code",
   "execution_count": 6,
   "id": "inclusive-performance",
   "metadata": {
    "kernel": "R"
   },
   "outputs": [
    {
     "data": {
      "text/plain": [
       "\n",
       "Call:\n",
       "lm(formula = reg.formula, data = reg.dat)\n",
       "\n",
       "Residuals:\n",
       "     Min       1Q   Median       3Q      Max \n",
       "-2.16590 -0.57829 -0.03314  0.54153  2.66938 \n",
       "\n",
       "Coefficients:\n",
       "              Estimate Std. Error  t value Pr(>|t|)    \n",
       "(Intercept)  1.686e+02  1.685e-01 1000.752   <2e-16 ***\n",
       "PRS          5.824e-04  3.105e-04    1.876   0.0614 .  \n",
       "Sex          8.661e-01  7.748e-02   11.178   <2e-16 ***\n",
       "PC1         -8.339e-01  8.466e-01   -0.985   0.3252    \n",
       "PC2         -2.510e+00  8.553e-01   -2.935   0.0035 ** \n",
       "PC3         -3.577e-01  8.432e-01   -0.424   0.6716    \n",
       "PC4         -4.452e-02  1.570e+00   -0.028   0.9774    \n",
       "PC5         -4.395e-02  9.288e-01   -0.047   0.9623    \n",
       "PC6         -9.853e-03  8.858e-01   -0.011   0.9911    \n",
       "---\n",
       "Signif. codes:  0 ‘***’ 0.001 ‘**’ 0.01 ‘*’ 0.05 ‘.’ 0.1 ‘ ’ 1\n",
       "\n",
       "Residual standard error: 0.8355 on 463 degrees of freedom\n",
       "  (11 observations deleted due to missingness)\n",
       "Multiple R-squared:  0.2312,\tAdjusted R-squared:  0.2179 \n",
       "F-statistic:  17.4 on 8 and 463 DF,  p-value: < 2.2e-16\n"
      ]
     },
     "metadata": {},
     "output_type": "display_data"
    },
    {
     "data": {
      "text/html": [
       "<table class=\"dataframe\">\n",
       "<caption>A data.table: 1 × 2</caption>\n",
       "<thead>\n",
       "\t<tr><th scope=col>infinitesimal</th><th scope=col>null</th></tr>\n",
       "\t<tr><th scope=col>&lt;dbl&gt;</th><th scope=col>&lt;dbl&gt;</th></tr>\n",
       "</thead>\n",
       "<tbody>\n",
       "\t<tr><td>0.2311903</td><td>0.2253494</td></tr>\n",
       "</tbody>\n",
       "</table>\n"
      ],
      "text/latex": [
       "A data.table: 1 × 2\n",
       "\\begin{tabular}{ll}\n",
       " infinitesimal & null\\\\\n",
       " <dbl> & <dbl>\\\\\n",
       "\\hline\n",
       "\t 0.2311903 & 0.2253494\\\\\n",
       "\\end{tabular}\n"
      ],
      "text/markdown": [
       "\n",
       "A data.table: 1 × 2\n",
       "\n",
       "| infinitesimal &lt;dbl&gt; | null &lt;dbl&gt; |\n",
       "|---|---|\n",
       "| 0.2311903 | 0.2253494 |\n",
       "\n"
      ],
      "text/plain": [
       "  infinitesimal null     \n",
       "1 0.2311903     0.2253494"
      ]
     },
     "metadata": {},
     "output_type": "display_data"
    }
   ],
   "source": [
    "load(\"./res-data/InfMod.RData\")\n",
    "summary(inf_model)\n",
    "result"
   ]
  },
  {
   "cell_type": "markdown",
   "id": "balanced-detroit",
   "metadata": {
    "kernel": "R"
   },
   "source": [
    "## Non-infinitesimal model"
   ]
  },
  {
   "cell_type": "code",
   "execution_count": null,
   "id": "lovely-connectivity",
   "metadata": {
    "kernel": "Bash"
   },
   "outputs": [],
   "source": [
    "sos run ldpred.ipynb grid \\\n",
    "    --datafolder post-qc \\\n",
    "    --summstats_file post-qc/Height.QC.gz \\\n",
    "    --hapmap3 post-qc/hm3_variants.rds \\\n",
    "    --bed_file  post-qc/EUR.QC.bed \\\n",
    "    --geno_file post-qc/EUR.QC.rds \\\n",
    "    --pheno_file post-qc/EUR.height \\\n",
    "    --covariate_file post-qc/EUR.cov \\\n",
    "    --pcs_file post-qc/EUR.eigenvec \\\n",
    "    --pheno_out './res-data-gird/PhenoOut.RData' \\\n",
    "    --summary_stat './res-data-gird/SumStats.RData' \\\n",
    "    --ld_in './res-data-gird/LdInput.RData' \\\n",
    "    --ld_out './res-data-gird/LdOutput.RData' \\\n",
    "    --ldreg_out './res-data-gird/LdRegOut.RData' \\\n",
    "    --inf_beta './res-data-gird/InfBeta.RData' \\\n",
    "    --grid_beta './res-data-gird/GridBeta.RData' \\\n",
    "    --auto_beta './res-data-gird/AutoBeta.RData' \\\n",
    "    --inf_prs './res-data-gird/InfPrs.RData' \\\n",
    "    --grid_prs './res-data-gird/GridPrs.RData' \\\n",
    "    --auto_prs './res-data-gird/AutoPrs.RData' \\\n",
    "    --null_r2 './res-data-gird/NullR2.RData' \\\n",
    "    --inf_mod './res-data-gird/InfMod.RData' \\\n",
    "    --grid_mod './res-data-gird/GridMod.RData' \\\n",
    "    --auto_mod './res-data-gird/AutoMod.RData' \\\n",
    "    --inf_pheno_pred './res-data-gird/InfPhenoPred.RData' \\\n",
    "    --grid_pheno_pred './res-data-gird/GridPhenoPred.RData' \\\n",
    "    --auto_pheno_pred './res-data-gird/AutoPhenoPred.RData' \\\n",
    "    --inf_ldpred_res './res-data-gird/InfLdpredRes.RData' \\\n",
    "    --grid_ldpred_res './res-data-gird/GridLdpredRes.RData' \\\n",
    "    --auto_ldpred_res './res-data-gird/AutoLdpredRes.RData' \\\n",
    "    --response 1"
   ]
  }
 ],
 "metadata": {
  "kernelspec": {
   "display_name": "SoS",
   "language": "sos",
   "name": "sos"
  },
  "language_info": {
   "codemirror_mode": "sos",
   "file_extension": ".sos",
   "mimetype": "text/x-sos",
   "name": "sos",
   "nbconvert_exporter": "sos_notebook.converter.SoS_Exporter",
   "pygments_lexer": "sos"
  },
  "sos": {
   "kernels": [
    [
     "Bash",
     "bash",
     "Bash",
     "#E6EEFF",
     "shell"
    ],
    [
     "R",
     "ir",
     "R",
     "#DCDCDA",
     ""
    ]
   ],
   "version": "0.22.4"
  },
  "toc-autonumbering": false
 },
 "nbformat": 4,
 "nbformat_minor": 5
}
