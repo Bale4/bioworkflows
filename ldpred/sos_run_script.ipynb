{
 "cells": [
  {
   "cell_type": "markdown",
   "id": "appreciated-tobago",
   "metadata": {
    "kernel": "SoS"
   },
   "source": [
    "inf_31 was blocked"
   ]
  },
  {
   "cell_type": "code",
   "execution_count": 1,
   "id": "artistic-inspector",
   "metadata": {
    "kernel": "Bash"
   },
   "outputs": [
    {
     "name": "stdout",
     "output_type": "stream",
     "text": [
      "\u001b[?2004h"
     ]
    },
    {
     "ename": "",
     "evalue": "1",
     "output_type": "error",
     "traceback": []
    }
   ],
   "source": [
    "rm -r res-data"
   ]
  },
  {
   "cell_type": "code",
   "execution_count": 3,
   "id": "systematic-couple",
   "metadata": {
    "kernel": "Bash"
   },
   "outputs": [
    {
     "name": "stdout",
     "output_type": "stream",
     "text": [
      "INFO: Running \u001b[32minf_10\u001b[0m: l\u001b[?2004l\u001b[?2004l\u001b[?2004l\u001b[?2004l\u001b[?2004l\u001b[?2004l\u001b[?2004l\u001b[?2004l\u001b[?2004l\u001b[?2004l\u001b[?2004l\u001b[?2004l\u001b[?2004l\u001b[?2004l\u001b[?2004l\u001b[?2004l\u001b[?2004l\u001b[?2004l\u001b[?2004l\u001b[?2004l\u001b[?2004l\u001b[?2004l\u001b[?2004l\u001b[?2004l\u001b[?2004l\u001b[?2004l\u001b[?2004l\n",
      "During startup - Warning messages:\n",
      "1: Setting LC_COLLATE failed, using \"C\" \n",
      "2: Setting LC_TIME failed, using \"C\" \n",
      "3: Setting LC_MESSAGES failed, using \"C\" \n",
      "4: Setting LC_MONETARY failed, using \"C\" \n",
      "INFO: \u001b[32minf_10\u001b[0m is \u001b[32mcompleted\u001b[0m.\n",
      "INFO: Running \u001b[32minf_20\u001b[0m: \n",
      "During startup - Warning messages:\n",
      "1: Setting LC_COLLATE failed, using \"C\" \n",
      "2: Setting LC_TIME failed, using \"C\" \n",
      "3: Setting LC_MESSAGES failed, using \"C\" \n",
      "4: Setting LC_MONETARY failed, using \"C\" \n",
      "INFO: \u001b[32minf_20\u001b[0m is \u001b[32mcompleted\u001b[0m.\n",
      "INFO: \u001b[32minf_20\u001b[0m output:   \u001b[32mres-data/SumStats.RData\u001b[0m\n",
      "INFO: Running \u001b[32minf_25\u001b[0m: \n",
      "During startup - Warning messages:\n",
      "1: Setting LC_COLLATE failed, using \"C\" \n",
      "2: Setting LC_TIME failed, using \"C\" \n",
      "3: Setting LC_MESSAGES failed, using \"C\" \n",
      "4: Setting LC_MONETARY failed, using \"C\" \n",
      "INFO: \u001b[32minf_25\u001b[0m is \u001b[32mcompleted\u001b[0m.\n",
      "INFO: \u001b[32minf_25\u001b[0m output:   \u001b[32mres-data/PhenoOut.RData\u001b[0m\n",
      "INFO: Running \u001b[32minf_30\u001b[0m: \n",
      "During startup - Warning messages:\n",
      "1: Setting LC_COLLATE failed, using \"C\" \n",
      "2: Setting LC_TIME failed, using \"C\" \n",
      "3: Setting LC_MESSAGES failed, using \"C\" \n",
      "4: Setting LC_MONETARY failed, using \"C\" \n",
      "Loading required package: bigstatsr\n",
      "Error : File 'post-qc/EUR.QC.bk' already exists.\n",
      "INFO: \u001b[32minf_30\u001b[0m is \u001b[32mcompleted\u001b[0m.\n",
      "INFO: Running \u001b[32minf_31\u001b[0m: \n",
      "During startup - Warning messages:\n",
      "1: Setting LC_COLLATE failed, using \"C\" \n",
      "2: Setting LC_TIME failed, using \"C\" \n",
      "3: Setting LC_MESSAGES failed, using \"C\" \n",
      "4: Setting LC_MONETARY failed, using \"C\" \n",
      "Loading required package: bigstatsr\n",
      "136,004 variants to be matched.\n",
      "0 ambiguous SNPs have been removed.\n",
      "134,522 variants have been matched; 0 were flipped and 91 were reversed.\n",
      "INFO: \u001b[32minf_31\u001b[0m is \u001b[32mcompleted\u001b[0m.\n",
      "INFO: \u001b[32minf_31\u001b[0m output:   \u001b[32mres-data/LdInput.RData\u001b[0m\n",
      "INFO: Running \u001b[32minf_32\u001b[0m: \n",
      "During startup - Warning messages:\n",
      "1: Setting LC_COLLATE failed, using \"C\" \n",
      "2: Setting LC_TIME failed, using \"C\" \n",
      "3: Setting LC_MESSAGES failed, using \"C\" \n",
      "4: Setting LC_MONETARY failed, using \"C\" \n",
      "Loading required package: bigstatsr\n",
      "During startup - Warning messages:\n",
      "1: Setting LC_COLLATE failed, using \"C\" \n",
      "2: Setting LC_TIME failed, using \"C\" \n",
      "3: Setting LC_MESSAGES failed, using \"C\" \n",
      "4: Setting LC_MONETARY failed, using \"C\" \n",
      "Warning message:\n",
      "In file.remove(paste0(tmp, \".sbk\")) :\n",
      "  cannot remove file './res-data/file17925430bee7.sbk', reason 'No such file or directory'\n",
      "INFO: \u001b[32minf_32\u001b[0m is \u001b[32mcompleted\u001b[0m.\n",
      "INFO: \u001b[32minf_32\u001b[0m output:   \u001b[32mres-data/LdOutput.RData\u001b[0m\n",
      "INFO: Running \u001b[32minf_40\u001b[0m: \n",
      "During startup - Warning messages:\n",
      "1: Setting LC_COLLATE failed, using \"C\" \n",
      "2: Setting LC_TIME failed, using \"C\" \n",
      "3: Setting LC_MESSAGES failed, using \"C\" \n",
      "4: Setting LC_MONETARY failed, using \"C\" \n",
      "Loading required package: bigstatsr\n",
      "INFO: \u001b[32minf_40\u001b[0m is \u001b[32mcompleted\u001b[0m.\n",
      "INFO: \u001b[32minf_40\u001b[0m output:   \u001b[32mres-data/LdRegOut.RData\u001b[0m\n",
      "INFO: Running \u001b[32minf_50\u001b[0m: \n",
      "During startup - Warning messages:\n",
      "1: Setting LC_COLLATE failed, using \"C\" \n",
      "2: Setting LC_TIME failed, using \"C\" \n",
      "3: Setting LC_MESSAGES failed, using \"C\" \n",
      "4: Setting LC_MONETARY failed, using \"C\" \n",
      "Loading required package: bigstatsr\n",
      "INFO: \u001b[32minf_50\u001b[0m is \u001b[32mcompleted\u001b[0m.\n",
      "INFO: \u001b[32minf_50\u001b[0m output:   \u001b[32mres-data/InfBeta.RData\u001b[0m\n",
      "INFO: Running \u001b[32minf_60\u001b[0m: \n",
      "During startup - Warning messages:\n",
      "1: Setting LC_COLLATE failed, using \"C\" \n",
      "2: Setting LC_TIME failed, using \"C\" \n",
      "3: Setting LC_MESSAGES failed, using \"C\" \n",
      "4: Setting LC_MONETARY failed, using \"C\" \n",
      "Loading required package: bigstatsr\n",
      "INFO: \u001b[32minf_60\u001b[0m is \u001b[32mcompleted\u001b[0m.\n",
      "INFO: \u001b[32minf_60\u001b[0m output:   \u001b[32mres-data/InfPrs.RData\u001b[0m\n",
      "INFO: Running \u001b[32minf_70\u001b[0m: \n",
      "During startup - Warning messages:\n",
      "1: Setting LC_COLLATE failed, using \"C\" \n",
      "2: Setting LC_TIME failed, using \"C\" \n",
      "3: Setting LC_MESSAGES failed, using \"C\" \n",
      "4: Setting LC_MONETARY failed, using \"C\" \n",
      "Loading required package: bigstatsr\n",
      "INFO: \u001b[32minf_70\u001b[0m is \u001b[32mcompleted\u001b[0m.\n",
      "INFO: \u001b[32minf_70\u001b[0m output:   \u001b[32mres-data/NullR2.RData\u001b[0m\n",
      "INFO: Running \u001b[32minf_80\u001b[0m: \n",
      "During startup - Warning messages:\n",
      "1: Setting LC_COLLATE failed, using \"C\" \n",
      "2: Setting LC_TIME failed, using \"C\" \n",
      "3: Setting LC_MESSAGES failed, using \"C\" \n",
      "4: Setting LC_MONETARY failed, using \"C\" \n",
      "Loading required package: bigstatsr\n",
      "INFO: \u001b[32minf_80\u001b[0m is \u001b[32mcompleted\u001b[0m.\n",
      "INFO: \u001b[32minf_80\u001b[0m output:   \u001b[32mres-data/InfMod.RData\u001b[0m\n",
      "INFO: Workflow inf (ID=w9d5e6f5e68bf6622) is executed successfully with 11 completed steps.\n",
      "\u001b[?2004h"
     ]
    },
    {
     "ename": "",
     "evalue": "1",
     "output_type": "error",
     "traceback": []
    }
   ],
   "source": [
    "sos run ldpred.ipynb inf \\\n",
    "    --datafolder post-qc \\\n",
    "    --summstats_file post-qc/Height.QC.gz \\\n",
    "    --hapmap3 post-qc/hm3_variants.rds \\\n",
    "    --bed_file  post-qc/EUR.QC.bed \\\n",
    "    --geno_file post-qc/EUR.QC.rds \\\n",
    "    --pheno_file post-qc/EUR.height \\\n",
    "    --covariate_file post-qc/EUR.cov \\\n",
    "    --pcs_file post-qc/EUR.eigenvec \\\n",
    "    --pheno_out './res-data/PhenoOut.RData' \\\n",
    "    --summary_stat './res-data/SumStats.RData' \\\n",
    "    --ld_in './res-data/LdInput.RData' \\\n",
    "    --ld_out './res-data/LdOutput.RData' \\\n",
    "    --ldreg_out './res-data/LdRegOut.RData' \\\n",
    "    --inf_beta './res-data/InfBeta.RData' \\\n",
    "    --grid_beta './res-data/GridBeta.RData' \\\n",
    "    --auto_beta './res-data/AutoBeta.RData' \\\n",
    "    --inf_prs './res-data/InfPrs.RData' \\\n",
    "    --grid_prs './res-data/GridPrs.RData' \\\n",
    "    --auto_prs './res-data/AutoPrs.RData' \\\n",
    "    --null_r2 './res-data/NullR2.RData' \\\n",
    "    --inf_mod './res-data/InfMod.RData' \\\n",
    "    --grid_mod './res-data/GridMod.RData' \\\n",
    "    --auto_mod './res-data/AutoMod.RData' \\\n",
    "    --inf_pheno_pred './res-data/InfPhenoPred.RData' \\\n",
    "    --grid_pheno_pred './res-data/GridPhenoPred.RData' \\\n",
    "    --auto_pheno_pred './res-data/AutoPhenoPred.RData' \\\n",
    "    --inf_ldpred_res './res-data/InfLdpredRes.RData' \\\n",
    "    --grid_ldpred_res './res-data/GridLdpredRes.RData' \\\n",
    "    --auto_ldpred_res './res-data/AutoLdpredRes.RData' \\\n",
    "    --response 1\n",
    "    "
   ]
  },
  {
   "cell_type": "code",
   "execution_count": 6,
   "id": "hearing-intersection",
   "metadata": {
    "kernel": "Bash"
   },
   "outputs": [
    {
     "name": "stdout",
     "output_type": "stream",
     "text": [
      "InfBeta.RData       LdInput.RData       NullR2.RData        file114fd826e87.sbk\n",
      "InfMod.RData        LdOutput.RData      PhenoOut.RData\n",
      "InfPrs.RData        LdRegOut.RData      SumStats.RData\n",
      "\u001b[?2004h"
     ]
    },
    {
     "ename": "",
     "evalue": "1",
     "output_type": "error",
     "traceback": []
    }
   ],
   "source": [
    "ls res-data"
   ]
  },
  {
   "cell_type": "code",
   "execution_count": 10,
   "id": "pursuant-tanzania",
   "metadata": {
    "kernel": "R"
   },
   "outputs": [
    {
     "data": {
      "text/plain": [
       "\n",
       "Call:\n",
       "lm(formula = reg.formula, data = reg.dat)\n",
       "\n",
       "Residuals:\n",
       "     Min       1Q   Median       3Q      Max \n",
       "-2.15604 -0.57766 -0.02601  0.55520  2.66424 \n",
       "\n",
       "Coefficients:\n",
       "              Estimate Std. Error t value Pr(>|t|)    \n",
       "(Intercept) 168.513617   0.178292 945.153  < 2e-16 ***\n",
       "PRS           0.008770   0.003557   2.466  0.01404 *  \n",
       "Sex           0.867276   0.077272  11.224  < 2e-16 ***\n",
       "PC1          -0.864703   0.843652  -1.025  0.30592    \n",
       "PC2          -2.486957   0.853009  -2.916  0.00372 ** \n",
       "PC3          -0.349921   0.840880  -0.416  0.67750    \n",
       "PC4          -0.009484   1.565579  -0.006  0.99517    \n",
       "PC5          -0.109093   0.926583  -0.118  0.90633    \n",
       "PC6          -0.015722   0.883349  -0.018  0.98581    \n",
       "---\n",
       "Signif. codes:  0 ‘***’ 0.001 ‘**’ 0.01 ‘*’ 0.05 ‘.’ 0.1 ‘ ’ 1\n",
       "\n",
       "Residual standard error: 0.8333 on 463 degrees of freedom\n",
       "  (11 observations deleted due to missingness)\n",
       "Multiple R-squared:  0.2354,\tAdjusted R-squared:  0.2222 \n",
       "F-statistic: 17.82 on 8 and 463 DF,  p-value: < 2.2e-16\n"
      ]
     },
     "metadata": {},
     "output_type": "display_data"
    },
    {
     "data": {
      "text/html": [
       "<table class=\"dataframe\">\n",
       "<caption>A data.table: 1 × 2</caption>\n",
       "<thead>\n",
       "\t<tr><th scope=col>infinitesimal</th><th scope=col>null</th></tr>\n",
       "\t<tr><th scope=col>&lt;dbl&gt;</th><th scope=col>&lt;dbl&gt;</th></tr>\n",
       "</thead>\n",
       "<tbody>\n",
       "\t<tr><td>0.01004026</td><td>0.2253494</td></tr>\n",
       "</tbody>\n",
       "</table>\n"
      ],
      "text/latex": [
       "A data.table: 1 × 2\n",
       "\\begin{tabular}{ll}\n",
       " infinitesimal & null\\\\\n",
       " <dbl> & <dbl>\\\\\n",
       "\\hline\n",
       "\t 0.01004026 & 0.2253494\\\\\n",
       "\\end{tabular}\n"
      ],
      "text/markdown": [
       "\n",
       "A data.table: 1 × 2\n",
       "\n",
       "| infinitesimal &lt;dbl&gt; | null &lt;dbl&gt; |\n",
       "|---|---|\n",
       "| 0.01004026 | 0.2253494 |\n",
       "\n"
      ],
      "text/plain": [
       "  infinitesimal null     \n",
       "1 0.01004026    0.2253494"
      ]
     },
     "metadata": {},
     "output_type": "display_data"
    }
   ],
   "source": [
    "load(\"./res-data/InfMod.RData\")\n",
    "summary(inf_model)\n",
    "result"
   ]
  },
  {
   "cell_type": "code",
   "execution_count": null,
   "id": "collectible-egypt",
   "metadata": {
    "kernel": "Bash"
   },
   "outputs": [
    {
     "name": "stdout",
     "output_type": "stream",
     "text": [
      "INFO: Running \u001b[32mgrid_10\u001b[0m: \u001b[?2004l\u001b[?2004l\u001b[?2004l\u001b[?2004l\u001b[?2004l\u001b[?2004l\u001b[?2004l\u001b[?2004l\u001b[?2004l\u001b[?2004l\u001b[?2004l\u001b[?2004l\u001b[?2004l\u001b[?2004l\u001b[?2004l\u001b[?2004l\u001b[?2004l\u001b[?2004l\u001b[?2004l\u001b[?2004l\u001b[?2004l\u001b[?2004l\u001b[?2004l\u001b[?2004l\u001b[?2004l\u001b[?2004l\u001b[?2004l\n",
      "During startup - Warning messages:\n",
      "1: Setting LC_COLLATE failed, using \"C\" \n",
      "2: Setting LC_TIME failed, using \"C\" \n",
      "3: Setting LC_MESSAGES failed, using \"C\" \n",
      "4: Setting LC_MONETARY failed, using \"C\" \n",
      "INFO: \u001b[32mgrid_10\u001b[0m is \u001b[32mcompleted\u001b[0m.\n",
      "INFO: Running \u001b[32mgrid_20\u001b[0m: \n",
      "During startup - Warning messages:\n",
      "1: Setting LC_COLLATE failed, using \"C\" \n",
      "2: Setting LC_TIME failed, using \"C\" \n",
      "3: Setting LC_MESSAGES failed, using \"C\" \n",
      "4: Setting LC_MONETARY failed, using \"C\" \n",
      "INFO: \u001b[32mgrid_20\u001b[0m is \u001b[32mcompleted\u001b[0m.\n",
      "INFO: \u001b[32mgrid_20\u001b[0m output:   \u001b[32mres-data-gird/SumStats.RData\u001b[0m\n",
      "INFO: Running \u001b[32mgrid_25\u001b[0m: \n",
      "During startup - Warning messages:\n",
      "1: Setting LC_COLLATE failed, using \"C\" \n",
      "2: Setting LC_TIME failed, using \"C\" \n",
      "3: Setting LC_MESSAGES failed, using \"C\" \n",
      "4: Setting LC_MONETARY failed, using \"C\" \n",
      "INFO: \u001b[32mgrid_25\u001b[0m is \u001b[32mcompleted\u001b[0m.\n",
      "INFO: \u001b[32mgrid_25\u001b[0m output:   \u001b[32mres-data-gird/PhenoOut.RData\u001b[0m\n",
      "INFO: Running \u001b[32mgrid_30\u001b[0m: \n",
      "During startup - Warning messages:\n",
      "1: Setting LC_COLLATE failed, using \"C\" \n",
      "2: Setting LC_TIME failed, using \"C\" \n",
      "3: Setting LC_MESSAGES failed, using \"C\" \n",
      "4: Setting LC_MONETARY failed, using \"C\" \n",
      "Loading required package: bigstatsr\n",
      "Error : File 'post-qc/EUR.QC.bk' already exists.\n",
      "INFO: \u001b[32mgrid_30\u001b[0m is \u001b[32mcompleted\u001b[0m.\n",
      "INFO: Running \u001b[32mgrid_31\u001b[0m: \n",
      "During startup - Warning messages:\n",
      "1: Setting LC_COLLATE failed, using \"C\" \n",
      "2: Setting LC_TIME failed, using \"C\" \n",
      "3: Setting LC_MESSAGES failed, using \"C\" \n",
      "4: Setting LC_MONETARY failed, using \"C\" \n",
      "Loading required package: bigstatsr\n",
      "136,004 variants to be matched.\n",
      "0 ambiguous SNPs have been removed.\n",
      "134,522 variants have been matched; 0 were flipped and 91 were reversed.\n",
      "INFO: \u001b[32mgrid_31\u001b[0m is \u001b[32mcompleted\u001b[0m.\n",
      "INFO: \u001b[32mgrid_31\u001b[0m output:   \u001b[32mres-data-gird/LdInput.RData\u001b[0m\n",
      "INFO: Running \u001b[32mgrid_32\u001b[0m: \n",
      "During startup - Warning messages:\n",
      "1: Setting LC_COLLATE failed, using \"C\" \n",
      "2: Setting LC_TIME failed, using \"C\" \n",
      "3: Setting LC_MESSAGES failed, using \"C\" \n",
      "4: Setting LC_MONETARY failed, using \"C\" \n",
      "Loading required package: bigstatsr\n",
      "During startup - Warning messages:\n",
      "1: Setting LC_COLLATE failed, using \"C\" \n",
      "2: Setting LC_TIME failed, using \"C\" \n",
      "3: Setting LC_MESSAGES failed, using \"C\" \n",
      "4: Setting LC_MONETARY failed, using \"C\" \n",
      "Warning message:\n",
      "In file.remove(paste0(tmp, \".sbk\")) :\n",
      "  cannot remove file './res-data/file125d1826b8f9.sbk', reason 'No such file or directory'\n",
      "INFO: \u001b[32mgrid_32\u001b[0m is \u001b[32mcompleted\u001b[0m.\n",
      "INFO: \u001b[32mgrid_32\u001b[0m output:   \u001b[32mres-data-gird/LdOutput.RData\u001b[0m\n",
      "INFO: Running \u001b[32mgrid_40\u001b[0m: \n",
      "During startup - Warning messages:\n",
      "1: Setting LC_COLLATE failed, using \"C\" \n",
      "2: Setting LC_TIME failed, using \"C\" \n",
      "3: Setting LC_MESSAGES failed, using \"C\" \n",
      "4: Setting LC_MONETARY failed, using \"C\" \n",
      "Loading required package: bigstatsr\n",
      "INFO: \u001b[32mgrid_40\u001b[0m is \u001b[32mcompleted\u001b[0m.\n",
      "INFO: \u001b[32mgrid_40\u001b[0m output:   \u001b[32mres-data-gird/LdRegOut.RData\u001b[0m\n",
      "INFO: Running \u001b[32mgrid_50\u001b[0m: \n",
      "During startup - Warning messages:\n",
      "1: Setting LC_COLLATE failed, using \"C\" \n",
      "2: Setting LC_TIME failed, using \"C\" \n",
      "3: Setting LC_MESSAGES failed, using \"C\" \n",
      "4: Setting LC_MONETARY failed, using \"C\" \n",
      "Loading required package: bigstatsr\n",
      "During startup - Warning messages:\n",
      "1: Setting LC_COLLATE failed, using \"C\" \n",
      "2: Setting LC_TIME failed, using \"C\" \n",
      "3: Setting LC_MESSAGES failed, using \"C\" \n",
      "4: Setting LC_MONETARY failed, using \"C\" \n"
     ]
    }
   ],
   "source": [
    "sos run ldpred.ipynb grid \\\n",
    "    --datafolder post-qc \\\n",
    "    --summstats_file post-qc/Height.QC.gz \\\n",
    "    --hapmap3 post-qc/hm3_variants.rds \\\n",
    "    --bed_file  post-qc/EUR.QC.bed \\\n",
    "    --geno_file post-qc/EUR.QC.rds \\\n",
    "    --pheno_file post-qc/EUR.height \\\n",
    "    --covariate_file post-qc/EUR.cov \\\n",
    "    --pcs_file post-qc/EUR.eigenvec \\\n",
    "    --pheno_out './res-data-gird/PhenoOut.RData' \\\n",
    "    --summary_stat './res-data-gird/SumStats.RData' \\\n",
    "    --ld_in './res-data-gird/LdInput.RData' \\\n",
    "    --ld_out './res-data-gird/LdOutput.RData' \\\n",
    "    --ldreg_out './res-data-gird/LdRegOut.RData' \\\n",
    "    --inf_beta './res-data-gird/InfBeta.RData' \\\n",
    "    --grid_beta './res-data-gird/GridBeta.RData' \\\n",
    "    --auto_beta './res-data-gird/AutoBeta.RData' \\\n",
    "    --inf_prs './res-data-gird/InfPrs.RData' \\\n",
    "    --grid_prs './res-data-gird/GridPrs.RData' \\\n",
    "    --auto_prs './res-data-gird/AutoPrs.RData' \\\n",
    "    --null_r2 './res-data-gird/NullR2.RData' \\\n",
    "    --inf_mod './res-data-gird/InfMod.RData' \\\n",
    "    --grid_mod './res-data-gird/GridMod.RData' \\\n",
    "    --auto_mod './res-data-gird/AutoMod.RData' \\\n",
    "    --inf_pheno_pred './res-data-gird/InfPhenoPred.RData' \\\n",
    "    --grid_pheno_pred './res-data-gird/GridPhenoPred.RData' \\\n",
    "    --auto_pheno_pred './res-data-gird/AutoPhenoPred.RData' \\\n",
    "    --inf_ldpred_res './res-data-gird/InfLdpredRes.RData' \\\n",
    "    --grid_ldpred_res './res-data-gird/GridLdpredRes.RData' \\\n",
    "    --auto_ldpred_res './res-data-gird/AutoLdpredRes.RData' \\\n",
    "    --response 1"
   ]
  },
  {
   "cell_type": "code",
   "execution_count": null,
   "id": "cultural-alberta",
   "metadata": {
    "kernel": "R"
   },
   "outputs": [],
   "source": [
    "load(\"./res-data/GridMod.RData\")\n",
    "summary(grid_model)\n",
    "result"
   ]
  }
 ],
 "metadata": {
  "kernelspec": {
   "display_name": "SoS",
   "language": "sos",
   "name": "sos"
  },
  "language_info": {
   "codemirror_mode": "sos",
   "file_extension": ".sos",
   "mimetype": "text/x-sos",
   "name": "sos",
   "nbconvert_exporter": "sos_notebook.converter.SoS_Exporter",
   "pygments_lexer": "sos"
  },
  "sos": {
   "kernels": [
    [
     "Bash",
     "bash",
     "Bash",
     "#E6EEFF",
     "shell"
    ],
    [
     "R",
     "ir",
     "R",
     "#DCDCDA",
     ""
    ]
   ],
   "version": "0.22.4"
  }
 },
 "nbformat": 4,
 "nbformat_minor": 5
}
