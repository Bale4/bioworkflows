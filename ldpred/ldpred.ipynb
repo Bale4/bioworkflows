{
 "cells": [
  {
   "cell_type": "markdown",
   "metadata": {
    "kernel": "SoS"
   },
   "source": [
    "# LDpred2 Pipeline for Polygenic Risk Score Prediction\n",
    "\n",
    "This notebook shows the pipepline for genome-wide PRS prediction using R package `bigsnpr`. "
   ]
  },
  {
   "cell_type": "markdown",
   "metadata": {
    "kernel": "SoS"
   },
   "source": [
    "## Aim\n",
    "\n",
    "The pipeple was developed to predict PRS using infinitesimal, grid and auto model to estimate effect size. "
   ]
  },
  {
   "cell_type": "markdown",
   "metadata": {
    "kernel": "SoS"
   },
   "source": [
    "## Method"
   ]
  },
  {
   "cell_type": "markdown",
   "metadata": {
    "kernel": "SoS"
   },
   "source": [
    "### LDpred\n",
    "\n",
    "Usually phenotype $Y$ is modeled as a linear combination of $M$ genetic effects, $P$ covaritates and an independent random noise. Idealy, The (marginal) least-squares estimate of an individual marker effect is $\\hat\\beta_j=X_j^\\prime Y/N$\n",
    "\n",
    "$$\n",
    "Y = \\sum_{i=j}^{M} X_{j} \\beta_{j} + \\sum_{j=1}^{P} Z_{j} \\alpha_{j} + \\varepsilon \\tag{1}\n",
    "$$\n",
    "\n",
    "Ldpred is LDpred is a Bayesian PRS that account for the effects of linkage disequilibrium (LD). It estimates posterior mean causaul effect sizes from GWAS summary statistics by assuming **genetic *architecture* prior** and **LD information from a reference panel**. \n",
    "\n"
   ]
  },
  {
   "cell_type": "markdown",
   "metadata": {
    "kernel": "SoS"
   },
   "source": [
    "#### LD information from a reference panel (?????)\n",
    "\n",
    "Correlation among variants can be calculated from reference panel. “LD structure should ideally be similar to the training data for which the summary statistics are calculated.” The reference panel applied in the pipeline is 1000 genomes project (phase 3) data including 2490 (mostly unrelated) individuals and ~1.7M SNPs in common with either HapMap3 or the UK Biobank.\n",
    "\n",
    "Both 1000 genomes project and hapmap3 has individuals from all populations. The intersection of 1000G and hapmap3 can be general reference panel."
   ]
  },
  {
   "cell_type": "markdown",
   "metadata": {
    "kernel": "SoS"
   },
   "source": [
    "#### Genetic architecture prior\n",
    "\n",
    "The **prior for effect sizes** is a point-normal mixture distribution, has 2 hyper-parameters: \n",
    "\n",
    "* **Heritability (parameter) explained by the genotypes** $h_g^2$\n",
    "\n",
    "The heritability is estimated from LD score regression and is used as initial parameter for LDpred2.\n",
    "\n",
    "* **the fraction of causal markers** (i.e., the fraction of markers with non-zero effects) $p$\n",
    "\n",
    "The distribution of effect size for variant $j$ is given as\n",
    "\n",
    "$$\n",
    "\\beta_{j}  \\sim\\left\\{\\begin{array}{ll}\n",
    "\\mathcal{N}\\left(0, \\frac{h_g^{2}}{M p}\\right) & \\text { with probability } \\mathrm{p} \\\\\n",
    "0 & \\text { otherwise }\n",
    "\\end{array}\\right. \\tag{2}\n",
    "$$\n",
    "\n",
    "    (a) LDpred-inf (infinitesimal model)\n",
    "    \n",
    "In this case, all markers are **causal** ($p$=1), and effect drawn from a Gaussian distribution, i.e., $\\beta_{ij} \\sim_{i i d} N\\left(0,\\left(h_{g}^{2} / M\\right)\\right)$. The posterior mean can be derived analytically\n",
    "\n",
    "$$\n",
    "E(\\beta_j \\mid \\tilde{\\beta}_j, D) \\approx\\left(\\frac{M}{N h_{g}^{2}} I+D\\right)^{-1} \\tilde{\\beta}_j \\tag{3}\n",
    "$$\n",
    "\n",
    "where $\\tilde{\\beta}_{j}$ denotes a vector of marginally estimated least-squares estimates obtained from the GWAS summary statistics. $D$ denotes the LD matrix between the markers in the training data.\n",
    "    \n",
    "    (b) LDpred-grid/auto (non-infinitesimal model)\n",
    "\n",
    "Without considering LD, the posterior mean of effect size can be derived as \n",
    "\n",
    "$$\n",
    "\\mathrm{E}\\left(\\beta_{j} \\mid \\tilde{\\beta}_{j}\\right)=\\left(\\frac{ h_{g}^{2}}{h_{g}^{2}+\\frac{M p}{N}}\\right) \\bar{p}_{j} \\tilde{\\beta}_{j} \\tag{4}\n",
    "$$\n",
    "\n",
    "where $\\bar p_j$ is the posterior probability that the $j^{th}$ marker is causal.\n",
    "\n",
    "However, it is very difficult to derive a analytical expression for the posterior mean under a non-infinitesimal Gaussian mixture prior. Therefore, LDpred approximates it numerically by using an approximate MCMC Gibbs sampler. Once posterior mean effect sizes are estimated, they will be applied to genotype data to obtain **PRSs**. \n"
   ]
  },
  {
   "cell_type": "markdown",
   "metadata": {
    "kernel": "SoS"
   },
   "source": [
    "### LDpred2\n",
    "\n",
    "LDpred2 is LDpred 2.0. It can estimate effect size without using validation data to tunning hyper-parameters. Plus, it provides better predictive performance when the causal varients in long-range LD regions and sparse.\n",
    "\n",
    "LDpred2 algorithm relies on an assumption that \n",
    "\n",
    "$$\n",
    "\\operatorname{sd}\\left(G_{j}\\right) \\approx \\frac{\\operatorname{sd}(Y)}{\\operatorname{se}\\left(\\hat{\\gamma}_{j}\\right) \\sqrt{n}} \\tag{5}\n",
    "$$\n",
    "\n",
    "where $G_j$ the genotype vector for variant $j$, and $\\hat{\\gamma}_{j}$ is marginal effect of vairant $j$. For binary traits with logistic model, the approximation is \n",
    "\n",
    "$$\n",
    "\\operatorname{sd}\\left(G_{j}\\right) \\approx \\frac{2}{\\operatorname{se}\\left(\\hat{\\gamma}_{j}\\right) \\sqrt{n_{\\mathrm{eff}}}} \\tag{6}\n",
    "$$\n",
    "\n",
    "where\n",
    "\n",
    "$$\n",
    "n_{\\mathrm{eff}}=\\frac{4}{1 / n_{\\text {case }}+1 / n_{\\text {control }}} \\tag{7}\n",
    "$$\n",
    "\n",
    "To ensure the validity of the assumption, quality control on summary statistics is highly recommanded, like removing variants. Removing criteria would be $SD_{ss} < 0.5\\times SD_{val}$ or $SD_{ss} > 0.1 + SD_{val}$ or $SD_{ss} < 0.1$ or $SD_{val} < 0.05$. $SD_{ss}$ is the standard deviations derived from the summary statistics (right-hand side of equation). $SD_{val}$ is the standard deviations of genotypes of individuals in the validation set (training set) (left-hand side)."
   ]
  },
  {
   "cell_type": "markdown",
   "metadata": {
    "kernel": "SoS"
   },
   "source": [
    "## Input\n",
    "\n",
    "1. Reference panel for LD matrix and correlation calculation `(.bed/.bim/.fam)`\n",
    "    - `--bed_file=path`\n",
    "2. Reference panel data from bed file `(.rds)`\n",
    "    - `--ref_file=path`\n",
    "3. Genotype data `.rds`\n",
    "    - `--geno_file=path`\n",
    "4. Summary statistics data `(.rds)`\n",
    "    - `--summstats_file=path`\n",
    "5. Sample size for estimate the effect size in summary statistics data\n",
    "    - `--n_eff=2000000`\n",
    "   "
   ]
  },
  {
   "cell_type": "markdown",
   "metadata": {
    "kernel": "SoS"
   },
   "source": [
    "### Data preparation"
   ]
  },
  {
   "cell_type": "markdown",
   "metadata": {
    "kernel": "SoS"
   },
   "source": [
    "* Summary statistics data ($n\\times 8$)\n",
    "\n",
    "Column: \"chr\", \"pos\", \"rsid\", \"a1\", \"a0\", \"beta\", \"beta_se\", \"p\"\n",
    "\n",
    "* refence panel (bigSNP class)\n",
    "\n",
    "    - genotypes ($n\\times \\text{# of varients}$):\n",
    "    \n",
    "    matrix that contains 0,1,2\n",
    "    \n",
    "    - fam ($n \\times 6$):\n",
    "    \n",
    "    \"family.ID\", \"sample.ID\", \"paternal.ID\", \"maternal.ID\", \"sex\", \"affection\"\n",
    "\n",
    "    - map ($n\\times6$):\n",
    "    \n",
    "    \"chromosome\", \"marker.ID\", \"genetic.dist\", \"physical.pos\", \"allele1\", \"allele2\"\n",
    "\n"
   ]
  },
  {
   "cell_type": "markdown",
   "metadata": {
    "kernel": "SoS"
   },
   "source": [
    "## Output\n",
    "\n",
    "The pipeline save the results from every steps.\n",
    "\n",
    "* QCplot for quality control\n",
    "    - `--qc_plot='path/QcPlot.png'`\n",
    "* LD matrix and correlation matrix.\n",
    "    - `--ld_out='path/LdOutput.RData'`\n",
    "* SNP heritability $h^2$\n",
    "    - `--ldreg_out='path/LdRegOut.RData'`\n",
    "* Estimated effect size (inf/grid/auto)\n",
    "    - `xxx_beta ='path/xxxBeta.RData'`\n",
    "* Predicted PRS (inf/grid/auto) and convergence plot of proportion of causal variants $p$ and heritability $h^2$\n",
    "    - `xxx_prs = 'path/xxxPrs.RData'`\n",
    "    - `conv_plot = 'path/ConvPlot.png'`"
   ]
  },
  {
   "cell_type": "markdown",
   "metadata": {
    "kernel": "SoS"
   },
   "source": [
    "## General workflow\n",
    "\n",
    "### Step 1: load data\n",
    "\n",
    "* Convert reference panal from PLINK format to R format. Read from (bed/bim/fam), it generates `.bk`and `.rds` files. Read in data as `bigSNP` class. \n",
    "\n",
    "* Perform SNP matching using `snp_match(sumstats, map)`. Match alleles between summary statistics `sumstats` and SNP information from `map` in `bigSNP` class object.\n",
    "\n",
    "```\n",
    "sos run ldpred.ipynb load_data \\\n",
    "    --summstats_file <sumstats.rds> \\\n",
    "    --bed_file  <ref_panal.bed>> \\\n",
    "    --ref_file <ref_panal.rds> \\\n",
    "    --geno_file <new_genotype.rds> \\\n",
    "    --new_geno <NewGeno.RData> \\\n",
    "    --summary_stat <SumStats.RData> \\\n",
    "    --qc_in <QcInput.RData> \\\n",
    "    --n_eff 200000\n",
    "```\n",
    "\n",
    "### Step 2: quality control\n",
    "\n",
    "```\n",
    "sos run ldpred.ipynb QControl \\\n",
    "    --qc_in <QcInput.RData> \\\n",
    "    --qc_plot <QcPlot.png> \\\n",
    "    --ld_in <LdInput.RData> \\\n",
    "    --sd_out <sd.rds>\n",
    "```\n",
    "\n",
    "### Step 3: calculate LD matrix for 22 chromosomes and correlation\n",
    "\n",
    "Calculate LD correlation using `snp_cor(Gna, size, infos.pos)`\n",
    "* size: for one SNP, window size around this SNP to compute correlations. Window size of 3 cM is applied in this pipeline which is recommanded by the developer.\n",
    "* infos.pos: specifying the physical position on a chromosome (in base pairs) of each SNP. \n",
    "\n",
    "```\n",
    "sos run ldpred.ipynb LD_corr \\\n",
    "    --ld_in <LdInput.RData> \\\n",
    "    --ld_out <LdOutput.RData>\n",
    "```\n",
    "\n",
    "### Step 4: LD score regression\n",
    "\n",
    "Perform LD score regression using funciton `snp_ldsc()` and obtain SNP heritability $h^2$ . \n",
    "\n",
    "```\n",
    "sos run ldpred.ipynb LD_reg \\\n",
    "    --ld_out <LdOutput.RData> \\\n",
    "    --ldreg_out <LdRegOut.RData>\n",
    "```\n",
    "\n",
    "### Step 5: predict PRS\n",
    "\n",
    "Three models can be applied to predict PRS which are infinitesimal, grid and auto models. \n",
    "\n",
    "* Estimate effect size \n",
    "\n",
    "    - Infinitesimal model: `snp_ldpred2_inf(corr, df_beta, h2)`\n",
    "    - Grid model: `snp_ldpred2_grid(corr, df_beta, grid_param)`\n",
    "        \n",
    "        gird_param: hyper parameters $p$ and $h^2$\n",
    "        \n",
    "    - Auto model: `snp_ldpred2_auto(corr, df_beta, h2_init, vec_p_init)`\n",
    "    \n",
    "        vec_p_init: with 30 different initial values for p. Ranges from 0 to 0.9.\n",
    "        \n",
    "* Predict PRS\n",
    "\n",
    "For grid and auto model, the best combination of p and $h^2$ was selected based on largest t score and 3 times of median absolute deviation of predicted PRS.\n",
    "\n",
    "Note: xxx stands for inf/grid/auto.\n",
    "\n",
    "```\n",
    "sos run ldpred.ipynb xxx \\\n",
    "    --ldreg_out <LdRegOut.RData> \\\n",
    "    --new_geno <NewGeno.RData> \\\n",
    "    --xxx_beta <xxxBeta.RData> \\\n",
    "    --xxx_prs <xxxPrs.RData>\n",
    "\n",
    "```\n",
    "\n",
    "### Step 6: predict phenotype"
   ]
  },
  {
   "cell_type": "markdown",
   "metadata": {
    "kernel": "SoS"
   },
   "source": [
    "## Example command\n",
    "\n",
    "```\n",
    "sos run ldpred.ipynb data_load+QControl+LD_corr+LD_reg+auto \\\n",
    "    --summstats_file sumstats.rds \\\n",
    "    --bed_file  1000G.bed \\\n",
    "    --ref_file 1000G.rds \\\n",
    "    --geno_file new_genotype.rds \\\n",
    "    --new_geno './res-data/NewGeno.RData' \\\n",
    "    --summary_stat './res-data/SumStats.RData' \\\n",
    "    --qc_in './res-data/QcInput.RData' \\\n",
    "    --qc_plot './res-data/QcPlot.png' \\\n",
    "    --conv-plot './res-data/ConvPlot.png' \\\n",
    "    --ld_in './res-data/LdInput.RData' \\\n",
    "    --sd_out './res-data/sd.rds' \\\n",
    "    --ld_out './res-data/LdOutput.RData' \\\n",
    "    --ldreg_out './res-data/LdRegOut.RData' \\\n",
    "    --inf_beta './res-data/InfBeta.RData' \\\n",
    "    --grid_beta './res-data/GridBeta.RData' \\\n",
    "    --auto_beta './res-data/AutoBeta.RData' \\\n",
    "    --inf_prs './res-data/InfPrs.RData' \\\n",
    "    --grid_prs './res-data/GridPrs.RData' \\\n",
    "    --auto_prs './res-data/AutoPrs.RData' \\\n",
    "    --response 1 \\\n",
    "    --n_eff 200000\n",
    "```\n"
   ]
  },
  {
   "cell_type": "markdown",
   "metadata": {
    "kernel": "SoS"
   },
   "source": [
    "## Reference\n",
    "\n",
    "1. Publication [Modeling Linkage Disequilibrium\n",
    "Increases Accuracy of Polygenic Risk Scores](https://www.ncbi.nlm.nih.gov/pmc/articles/PMC4596916/pdf/main.pdf)\n",
    "2. Publication [LDpred2: better, faster, stronger](https://www.biorxiv.org/content/10.1101/2020.04.28.066720v3.full.pdf)\n",
    "3. R package [bigsnpr](https://cran.rstudio.com/web/packages/bigsnpr/bigsnpr.pdf)\n",
    "4. [Tutorial](https://privefl.github.io/bigsnpr/articles/LDpred2.html)  for LDpred2"
   ]
  },
  {
   "cell_type": "markdown",
   "metadata": {
    "kernel": "SoS"
   },
   "source": [
    "## Command Interface"
   ]
  },
  {
   "cell_type": "code",
   "execution_count": 3,
   "metadata": {
    "kernel": "Bash"
   },
   "outputs": [
    {
     "name": "stdout",
     "output_type": "stream",
     "text": [
      "usage: sos run ldpred.ipynb [workflow_name | -t targets] [options] [workflow_options]\n",
      "  workflow_name:        Single or combined workflows defined in this script\n",
      "  targets:              One or more targets to generate\n",
      "  options:              Single-hyphen sos parameters (see \"sos run -h\" for details)\n",
      "  workflow_options:     Double-hyphen workflow-specific parameters\n",
      "\n",
      "Workflows:\n",
      "  data_load\n",
      "  QControl\n",
      "  LD_corr\n",
      "  LD_reg\n",
      "  inf\n",
      "  grid\n",
      "  auto\n",
      "  phenopred\n",
      "\n",
      "Global Workflow Options:\n",
      "  --summstats-file VAL (as path, required)\n",
      "                        path to summary statistics files, genotypes, phenotypes\n",
      "                        and covaraites data \"*.rds\"\n",
      "  --bed-file VAL (as path, required)\n",
      "                        \"*.bed\"\n",
      "  --ref-file VAL (as path, required)\n",
      "                        \"*.rds\"\n",
      "  --geno-file VAL (as path, required)\n",
      "                        \"*.rds\"\n",
      "  --n-eff 2000000 (as int)\n",
      "                        parameter: tmpdir_ = \"tmp-dataset\"\n",
      "  --summary-stat 'path/SumStats.RData'\n",
      "                        Predict PRS\n",
      "  --new-geno 'path/NewGeno.RData'\n",
      "  --qc-in 'path/QcInput.RData'\n",
      "  --qc-plot 'path/QcPlot.png'\n",
      "  --conv-plot 'path/ConvPlot.png'\n",
      "  --sd-out 'path/sd.rds'\n",
      "  --ld-in 'path/LdInput.RData'\n",
      "  --ld-out 'path/LdOutput.RData'\n",
      "  --ldreg-out 'path/LdRegOut.RData'\n",
      "  --inf-beta 'path/InfBeta.RData'\n",
      "  --grid-beta 'path/GridBeta.RData'\n",
      "  --auto-beta 'path/AutoBeta.RData'\n",
      "  --inf-prs 'path/InfPrs.RData'\n",
      "  --grid-prs 'path/GridPrs.RData'\n",
      "  --auto-prs 'path/AutoPrs.RData'\n",
      "  --response 1 (as int)\n",
      "                        Binary or continuous phenotype\n",
      "\n",
      "Sections\n",
      "  data_load_10:\n",
      "  data_load_20:\n",
      "  data_load_30:\n",
      "  data_load_40:\n",
      "  QControl:\n",
      "  LD_corr:\n",
      "  LD_reg:\n",
      "  inf_10:\n",
      "  grid_10:\n",
      "  auto_10:\n",
      "  inf_20:\n",
      "  grid_20:\n",
      "  auto_20:\n",
      "  phenopred_10:\n",
      "\u001b[?2004h"
     ]
    },
    {
     "ename": "",
     "evalue": "1",
     "output_type": "error",
     "traceback": []
    }
   ],
   "source": [
    "sos run ldpred.ipynb -h"
   ]
  },
  {
   "cell_type": "markdown",
   "metadata": {
    "kernel": "SoS"
   },
   "source": [
    "## Global Parameter Setting"
   ]
  },
  {
   "cell_type": "code",
   "execution_count": null,
   "metadata": {
    "kernel": "SoS"
   },
   "outputs": [],
   "source": [
    "[global]\n",
    "\n",
    "### Data preparation\n",
    "\n",
    "# path to summary statistics files, genotypes, phenotypes and covaraites data\n",
    "# \"*.rds\"\n",
    "parameter: summstats_file =  path\n",
    "# \"*.bed\"\n",
    "parameter: bed_file =  path\n",
    "# \"*.rds\"\n",
    "parameter: ref_file = path\n",
    "# \"*.rds\"\n",
    "parameter: geno_file = path\n",
    "\n",
    "#parameter: tmpdir_ = \"tmp-dataset\"\n",
    "parameter: n_eff = 2000000\n",
    "\n",
    "# Predict PRS\n",
    "parameter: summary_stat = 'path/SumStats.RData'\n",
    "parameter: new_geno = 'path/NewGeno.RData'\n",
    "parameter: qc_in = 'path/QcInput.RData'\n",
    "parameter: qc_plot = 'path/QcPlot.png'\n",
    "parameter: conv_plot = 'path/ConvPlot.png'\n",
    "parameter: sd_out = 'path/sd.rds'\n",
    "parameter: ld_in = 'path/LdInput.RData'\n",
    "parameter: ld_out = 'path/LdOutput.RData'\n",
    "parameter: ldreg_out = 'path/LdRegOut.RData'\n",
    "parameter: inf_beta = 'path/InfBeta.RData'\n",
    "parameter: grid_beta = 'path/GridBeta.RData'\n",
    "parameter: auto_beta = 'path/AutoBeta.RData'\n",
    "parameter: inf_prs = 'path/InfPrs.RData'\n",
    "parameter: grid_prs = 'path/GridPrs.RData'\n",
    "parameter: auto_prs = 'path/AutoPrs.RData'\n",
    "\n",
    "# Predict Phenotype\n",
    "\n",
    "\n",
    "# Binary or continuous phenotype\n",
    "parameter: response = 1"
   ]
  },
  {
   "cell_type": "markdown",
   "metadata": {
    "kernel": "Bash"
   },
   "source": [
    "## Workflow\n",
    "\n"
   ]
  },
  {
   "cell_type": "markdown",
   "metadata": {
    "kernel": "SoS"
   },
   "source": [
    "### Predict PRS "
   ]
  },
  {
   "cell_type": "markdown",
   "metadata": {
    "kernel": "SoS"
   },
   "source": [
    "#### Process bed file"
   ]
  },
  {
   "cell_type": "code",
   "execution_count": null,
   "metadata": {
    "kernel": "SoS"
   },
   "outputs": [],
   "source": [
    "[data_load_10]\n",
    "\n",
    "input: bed_file\n",
    "\n",
    "R: expand=True \n",
    "    library(bigsnpr)\n",
    "    try(snp_readBed(\"{_input}\"))"
   ]
  },
  {
   "cell_type": "markdown",
   "metadata": {
    "kernel": "SoS"
   },
   "source": [
    "#### Load reference panel and summary statistics\n",
    "\n",
    "save `sumstats` as `SumStats.RData`"
   ]
  },
  {
   "cell_type": "code",
   "execution_count": null,
   "metadata": {
    "kernel": "SoS"
   },
   "outputs": [],
   "source": [
    "[data_load_20]\n",
    "\n",
    "input: summstats_file\n",
    "output: summary_stat\n",
    "\n",
    "R: expand=True\n",
    "    # Read in the summary statistic file\n",
    "    sumstats <- readRDS(\"{_input}\") \n",
    "    sumstats$n_eff = {n_eff}\n",
    "    save(sumstats, file = \"{_output}\")"
   ]
  },
  {
   "cell_type": "markdown",
   "metadata": {
    "kernel": "SoS"
   },
   "source": [
    "#### SNP matching and get the CM information from 1000 Genome"
   ]
  },
  {
   "cell_type": "code",
   "execution_count": null,
   "metadata": {
    "kernel": "SoS"
   },
   "outputs": [],
   "source": [
    "[data_load_30]\n",
    "\n",
    "input: geno = ref_file, sums = summary_stat\n",
    "output: qc_in\n",
    " \n",
    "R: expand=True \n",
    "    library(bigsnpr)\n",
    "    load(\"{_input[\"sums\"]}\")\n",
    "    # now attach the genotype object\n",
    "    obj.bigSNP <- snp_attach(\"{_input[\"geno\"]}\")\n",
    "    \n",
    "    # Assign the genotype to a variable for easier downstream analysis\n",
    "    genotype <- obj.bigSNP$genotypes\n",
    "    \n",
    "    # extract the SNP information from the genotype\n",
    "    map <- obj.bigSNP$map[-(2:3)]\n",
    "    names(map) <- c(\"chr\", \"pos\", \"a1\", \"a0\")  \n",
    "    \n",
    "    # Rename the data structures\n",
    "    CHR <- map$chr\n",
    "    POS <- map$pos   \n",
    "\n",
    "    # perform SNP matching\n",
    "    info_snp <- snp_match(sumstats, map)\n",
    "    \n",
    "    # get the CM information from 1000 Genome\n",
    "    # will download the 1000G file to the current directory (\".\")\n",
    "    POS2 <- snp_asGeneticPos(CHR, POS, dir = \".\")\n",
    "   \n",
    "    \n",
    "    # save data to Rdata file\n",
    "    save(obj.bigSNP, genotype, map, CHR, POS, info_snp, POS2, file = \"{_output}\")\n",
    "    "
   ]
  },
  {
   "cell_type": "markdown",
   "metadata": {
    "kernel": "SoS"
   },
   "source": [
    "#### Load genotype data (UK Biobank)\n",
    "\n",
    "For PRS calculation and phenotype comparison."
   ]
  },
  {
   "cell_type": "code",
   "execution_count": null,
   "metadata": {
    "kernel": "SoS"
   },
   "outputs": [],
   "source": [
    "[data_load_40]\n",
    "\n",
    "input: geno_file\n",
    "output: new_geno\n",
    "\n",
    "R: expand=True\n",
    "    # new_geno = \n",
    "    # y = \n",
    "    # save(new_geno, y, file = \"{_output}\")"
   ]
  },
  {
   "cell_type": "markdown",
   "metadata": {
    "kernel": "SoS"
   },
   "source": [
    "#### Quality Control"
   ]
  },
  {
   "cell_type": "code",
   "execution_count": 1,
   "metadata": {
    "kernel": "SoS"
   },
   "outputs": [],
   "source": [
    "[QControl]\n",
    "\n",
    "input: qc_in\n",
    "output: sdout = sd_out, ldin = ld_in, qcplot = qc_plot\n",
    "\n",
    "\n",
    "R: expand=True\n",
    "    library(bigsnpr)\n",
    "    suppressMessages(library(tidyverse))\n",
    "    load(\"{_input}\")\n",
    "    NCORES = nb_cores()\n",
    "    ind.val = 1:nrow(genotype)\n",
    "    sd <- runonce::save_run(\n",
    "      sqrt(big_colstats(genotype, ind.val, ncores = NCORES)$var),\n",
    "      file = \"{_output[\"sdout\"]}\"\n",
    "    )\n",
    "\n",
    "    sd_val <- sd[info_snp$`_NUM_ID_`]\n",
    "\n",
    "    sd_ss <- with(info_snp, 2 / sqrt(n_eff * beta_se^2))\n",
    "\n",
    "    is_bad <- sd_ss < (0.5 * sd_val) | \n",
    "            sd_ss > (sd_val + 0.1) |  ##### fixme>\n",
    "            sd_ss < 0.1 | \n",
    "            sd_val < 0.05\n",
    "      \n",
    "    qplot(sd_val, sd_ss, color = is_bad, alpha = I(0.5)) +\n",
    "      theme_bigstatsr() +\n",
    "      coord_equal() +\n",
    "      scale_color_viridis_d(direction = -1) +\n",
    "      geom_abline(linetype = 2, color = \"red\") +\n",
    "      labs(x = \"Standard deviations in the validation set\",\n",
    "           y = \"Standard deviations derived from the summary statistics\",\n",
    "           color = \"Removed?\")\n",
    "    ggsave(\"{_output[\"qcplot\"]}\")      \n",
    "      \n",
    "    n = nrow(info_snp)\n",
    "    print(paste0(length(which(is_bad==\"TRUE\")), \" over \", n, \" was removed in Quality Control.\"))\n",
    "           \n",
    "    info_snp = info_snp[!is_bad, ]\n",
    "           \n",
    "    save(obj.bigSNP, genotype, map, CHR, POS, info_snp, POS2, file = \"{_output[\"ldin\"]}\")"
   ]
  },
  {
   "cell_type": "markdown",
   "metadata": {
    "kernel": "SoS"
   },
   "source": [
    "#### Calculate LD"
   ]
  },
  {
   "cell_type": "code",
   "execution_count": null,
   "metadata": {
    "kernel": "SoS"
   },
   "outputs": [],
   "source": [
    "[LD_corr]\n",
    "input: ldin = ld_in\n",
    "output: ld_out\n",
    "\n",
    "R: expand = True\n",
    "    library(bigsnpr)\n",
    "    library(data.table)\n",
    "    library(bigsparser)\n",
    "    load(\"{_input[\"ldin\"]}\") \n",
    "    source(\"rcode/LD_corr.R\")\n",
    "    save(info_snp, ld, fam.order, corr, NCORES, genotype, file = \"{_output}\")"
   ]
  },
  {
   "cell_type": "markdown",
   "metadata": {
    "kernel": "SoS"
   },
   "source": [
    "#### Perform LD score regression "
   ]
  },
  {
   "cell_type": "code",
   "execution_count": null,
   "metadata": {
    "kernel": "SoS"
   },
   "outputs": [],
   "source": [
    "[LD_reg]\n",
    "\n",
    "input: ld_out\n",
    "output: ldreg_out\n",
    "\n",
    "R: expand=True\n",
    "    library(bigsnpr)\n",
    "    suppressMessages(library(tidyverse))\n",
    "    library(data.table)\n",
    "    load(\"{_input}\")\n",
    "    df_beta <- info_snp[,c(\"beta\", \"beta_se\", \"n_eff\", \"_NUM_ID_\")]\n",
    "    ldsc <- snp_ldsc(ld, \n",
    "                    length(ld), \n",
    "                    chi2 = (df_beta$beta / df_beta$beta_se)^2,\n",
    "                    sample_size = df_beta$n_eff, \n",
    "                    blocks = NULL)\n",
    "    h2_est <- ldsc[[\"h2\"]]\n",
    "    save(h2_est, df_beta, corr, NCORES, info_snp, genotype,file = \"{_output}\")"
   ]
  },
  {
   "cell_type": "markdown",
   "metadata": {
    "kernel": "SoS"
   },
   "source": [
    "#### Get adjusted betas\n",
    "\n",
    "##### Infinitesimal model"
   ]
  },
  {
   "cell_type": "code",
   "execution_count": null,
   "metadata": {
    "kernel": "SoS"
   },
   "outputs": [],
   "source": [
    "[inf_10]\n",
    "\n",
    "input: ldreg_out\n",
    "output: inf_beta\n",
    "\n",
    "R: expand=True\n",
    "    library(bigsnpr)\n",
    "    library(data.table)\n",
    "    load(\"{_input}\")\n",
    "    ## adjusted beta ##\n",
    "    beta_inf <- snp_ldpred2_inf(corr, df_beta, h2 = h2_est)\n",
    "    # save data\n",
    "    save(beta_inf, df_beta, corr, NCORES,info_snp, genotype, file = \"{_output}\")"
   ]
  },
  {
   "cell_type": "markdown",
   "metadata": {
    "kernel": "SoS"
   },
   "source": [
    "##### Grid model"
   ]
  },
  {
   "cell_type": "code",
   "execution_count": null,
   "metadata": {
    "kernel": "SoS"
   },
   "outputs": [],
   "source": [
    "[grid_10]\n",
    "\n",
    "input: ldreg_out\n",
    "output: grid_beta\n",
    "\n",
    "R: expand=True\n",
    "    library(bigsnpr)\n",
    "    library(data.table)\n",
    "    load(\"{_input}\")\n",
    "    # Prepare data for grid model\n",
    "    p_seq <- signif(seq_log(1e-4, 1, length.out = 17), 2)\n",
    "    h2_seq <- round(h2_est * c(0.7, 1, 1.4), 4)\n",
    "    grid.param <-\n",
    "        expand.grid(p = p_seq,\n",
    "                h2 = h2_seq,\n",
    "                sparse = c(FALSE, TRUE))\n",
    "    \n",
    "    # Get adjusted beta from grid model\n",
    "    beta_grid <- snp_ldpred2_grid(corr, df_beta, grid.param, ncores = NCORES)\n",
    "    # save data\n",
    "    save(beta_grid, df_beta, corr, NCORES,info_snp, genotype,grid.param, file = \"{_output}\")"
   ]
  },
  {
   "cell_type": "markdown",
   "metadata": {
    "kernel": "SoS"
   },
   "source": [
    "##### Auto model"
   ]
  },
  {
   "cell_type": "code",
   "execution_count": null,
   "metadata": {
    "kernel": "SoS"
   },
   "outputs": [],
   "source": [
    "[auto_10]\n",
    "\n",
    "input: ldreg_out\n",
    "output: auto_beta\n",
    "\n",
    "R: expand=True\n",
    "    library(bigsnpr)\n",
    "    library(data.table)\n",
    "    load(\"{_input}\")\n",
    "    # Get adjusted beta from the auto model\n",
    "    multi_auto <- snp_ldpred2_auto(\n",
    "        corr,\n",
    "        df_beta,\n",
    "        h2_init = h2_est,\n",
    "        vec_p_init = seq_log(1e-4, 0.9, length.out = 30),\n",
    "        ncores = NCORES\n",
    "    )\n",
    "    beta_auto <- sapply(multi_auto, function(auto)\n",
    "        auto$beta_est)\n",
    "    # save data\n",
    "    save(beta_auto, df_beta,multi_auto, corr, NCORES,info_snp, genotype, file = \"{_output}\")"
   ]
  },
  {
   "cell_type": "markdown",
   "metadata": {
    "kernel": "SoS"
   },
   "source": [
    "#### Get PRS"
   ]
  },
  {
   "cell_type": "markdown",
   "metadata": {
    "kernel": "SoS"
   },
   "source": [
    "##### Infinitesimal model"
   ]
  },
  {
   "cell_type": "code",
   "execution_count": null,
   "metadata": {
    "kernel": "SoS"
   },
   "outputs": [],
   "source": [
    "[inf_20]\n",
    "\n",
    "input: infbeta = inf_beta, newgeno = new_geno\n",
    "output: inf_prs\n",
    "\n",
    "R: expand=True\n",
    "    library(bigsnpr)\n",
    "    library(data.table)\n",
    "    load(\"{_input[\"infbeta\"]}\")\n",
    "    load(\"{_input[\"newgeno\"]}\")\n",
    "\n",
    "    # calculate PRS for all samples\n",
    "    ind.test <- 1:nrow(new_geno)\n",
    "    pred_inf <- big_prodVec(    new_geno,\n",
    "                                beta_inf,\n",
    "                                ind.row = ind.test,\n",
    "                                ind.col = info_snp$`_NUM_ID_`)\n",
    "    save(pred_inf, file = \"{_output}\")"
   ]
  },
  {
   "cell_type": "markdown",
   "metadata": {
    "kernel": "SoS"
   },
   "source": [
    "##### Grid model"
   ]
  },
  {
   "cell_type": "code",
   "execution_count": 5,
   "metadata": {
    "kernel": "SoS"
   },
   "outputs": [],
   "source": [
    "[grid_20]\n",
    "\n",
    "input: gridbeta = grid_beta, newgeno = new_geno\n",
    "output: grid_prs\n",
    "\n",
    "R: expand=True\n",
    "    library(bigsnpr)\n",
    "    library(data.table)\n",
    "    load(\"{_input[\"gridbeta\"]}\")\n",
    "    load(\"{_input[\"newgeno\"]}\")\n",
    "\n",
    "    ind.test <- 1:nrow(new_geno)\n",
    "    pred_grid <- big_prodMat(   new_geno, \n",
    "                                beta_grid, \n",
    "                                ind.col = info_snp$`_NUM_ID_`)\n",
    "                                \n",
    "    grid.params$score <- big_univLinReg(as_FBM(pred_grid), y)$score   \n",
    "    \n",
    "    best_grid <- grid.params %>%\n",
    "         mutate(id = row_number()) %>%\n",
    "         arrange(desc(score)) %>%\n",
    "         slice(1) %>%\n",
    "         pull(id) %>%\n",
    "         beta_grid[, .]\n",
    "\n",
    "    pred_grid_best <- big_prodVec(new_geno, best_grid_nosp, ind.col = info_snp$`_NUM_ID_`)\n",
    "\n",
    "    \n",
    "    save(pred_grid_best, file = \"{_output}\")"
   ]
  },
  {
   "cell_type": "markdown",
   "metadata": {
    "kernel": "SoS"
   },
   "source": [
    "##### Auto model"
   ]
  },
  {
   "cell_type": "code",
   "execution_count": null,
   "metadata": {
    "kernel": "SoS"
   },
   "outputs": [],
   "source": [
    "[auto_20]\n",
    "\n",
    "input: autobeta = auto_beta, newgeno = new_geno\n",
    "output: autoprs = auto_prs, convplot = conv_plot \n",
    "\n",
    "R: expand=True\n",
    "    library(bigsnpr)\n",
    "    library(data.table)\n",
    "    library(ggplot2)\n",
    "    load(\"{_input[\"autobeta\"]}\")\n",
    "    load(\"{_input[\"newgeno\"]}\")\n",
    "\n",
    "    \n",
    "    ## calculate PRS for all samples\n",
    "    #ind.test <- 1:nrow(new_geno)\n",
    "    #pred_auto <-\n",
    "    #    big_prodMat(new_geno,\n",
    "    #                beta_auto,\n",
    "    #                ind.row = ind.test,\n",
    "    #                ind.col = info_snp$`_NUM_ID_`)\n",
    "    ## scale the PRS generated from AUTO\n",
    "    #pred_scaled <- apply(pred_auto, 2, sd)\n",
    "    #final_beta_auto <-\n",
    "    #    rowMeans(beta_auto[,\n",
    "    #                abs(pred_scaled -\n",
    "    #                    median(pred_scaled)) <\n",
    "    #                    3 * mad(pred_scaled)])\n",
    "    #pred_auto <-\n",
    "    #    big_prodVec(new_geno,\n",
    "    #        final_beta_auto,\n",
    "    #        ind.row = ind.test,\n",
    "    #        ind.col = info_snp$`_NUM_ID_`)\n",
    "    #        \n",
    "    #ind = abs(pred_scaled - median(pred_scaled)) < 3 * mad(pred_scaled)\n",
    "    #ind = which(ind==\"TRUE\")\n",
    "                        \n",
    "    auto <- multi_auto[[ind]]\n",
    "    plot_grid(\n",
    "      qplot(y = auto$path_p_est) +\n",
    "        theme_bigstatsr() +\n",
    "        geom_hline(yintercept = auto$p_est, col = \"blue\") +\n",
    "        scale_y_log10() +\n",
    "        labs(y = \"p\"),\n",
    "      qplot(y = auto$path_h2_est) +\n",
    "        theme_bigstatsr() +\n",
    "        geom_hline(yintercept = auto$h2_est, col = \"blue\") +\n",
    "        labs(y = \"h2\"),\n",
    "      ncol = 1, align = \"hv\"\n",
    "    )\n",
    "    ggsave(\"{_output[\"convplot\"]}\", width = 10, height = 7)\n",
    "    # save(pred_auto, file = \"{_output[\"autoprs\"]}\")"
   ]
  },
  {
   "cell_type": "markdown",
   "metadata": {
    "kernel": "SoS"
   },
   "source": [
    "### Predict phenotype"
   ]
  },
  {
   "cell_type": "code",
   "execution_count": 4,
   "metadata": {
    "kernel": "SoS"
   },
   "outputs": [],
   "source": [
    "[phenopred_10]"
   ]
  }
 ],
 "metadata": {
  "kernelspec": {
   "display_name": "SoS",
   "language": "sos",
   "name": "sos"
  },
  "language_info": {
   "codemirror_mode": "sos",
   "file_extension": ".sos",
   "mimetype": "text/x-sos",
   "name": "sos",
   "nbconvert_exporter": "sos_notebook.converter.SoS_Exporter",
   "pygments_lexer": "sos"
  },
  "sos": {
   "kernels": [
    [
     "Bash",
     "bash",
     "Bash",
     "#E6EEFF",
     "shell"
    ],
    [
     "SoS",
     "sos",
     "",
     "",
     "sos"
    ]
   ],
   "version": "0.22.4"
  },
  "toc-autonumbering": true,
  "toc-showmarkdowntxt": true
 },
 "nbformat": 4,
 "nbformat_minor": 4
}
