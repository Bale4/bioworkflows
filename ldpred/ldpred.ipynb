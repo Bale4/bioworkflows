{
 "cells": [
  {
   "cell_type": "markdown",
   "metadata": {
    "kernel": "SoS"
   },
   "source": [
    "# Notes"
   ]
  },
  {
   "cell_type": "markdown",
   "metadata": {
    "kernel": "SoS"
   },
   "source": [
    "Ultimate goal: Predict phenotype\n",
    "\n",
    "Q1: How to predict phenotype?\n",
    "\n",
    "A1: linear model + covariates (testset) + PRS (testset)\n",
    "\n",
    "Q2: Where is PRS come from?\n",
    "\n",
    "A2: \n",
    " \n",
    "    genotype + ref_panel (infos.pos) -> LD matrix + correlation matrix\n",
    "   \n",
    "    LD matrix + sumstats(raw beta) -> heritability (consistency, flip)\n",
    "    \n",
    "    correlation matrix + heritability + sumstats -> adjusted betas\n",
    "   \n",
    "    adjusted betas * genotype (trainset) -> PRS (trainset)\n",
    "    \n",
    "\n",
    "Q3: Where is linear model comes from?\n",
    "\n",
    "A3: Modeling on the `trainset`\n",
    "   \n",
    "    pheno (trainset) ~ covariates (trainset) + PRS (trainset)"
   ]
  },
  {
   "cell_type": "markdown",
   "metadata": {
    "kernel": "SoS"
   },
   "source": [
    "# Command Interface"
   ]
  },
  {
   "cell_type": "code",
   "execution_count": 4,
   "metadata": {
    "kernel": "Bash"
   },
   "outputs": [
    {
     "name": "stdout",
     "output_type": "stream",
     "text": [
      "usage: sos run ldpred.ipynb [workflow_name | -t targets] [options] [workflow_options]\n",
      "  workflow_name:        Single or combined workflows defined in this script\n",
      "  targets:              One or more targets to generate\n",
      "  options:              Single-hyphen sos parameters (see \"sos run -h\" for details)\n",
      "  workflow_options:     Double-hyphen workflow-specific parameters\n",
      "\n",
      "Workflows:\n",
      "  inf\n",
      "  auto\n",
      "  grid\n",
      "\n",
      "Global Workflow Options:\n",
      "  --datafolder 'pathname/for/data'\n",
      "                        Data preparation folder that data is saved in # post-qc\n",
      "  --hapmap3 'https://github.com/privefl/bigsnpr/raw/master/data-raw/hm3_variants.rds'\n",
      "                        hapmap3 is used to filter out the SNPs in hapmap3\n",
      "  --summstats-file 'path/to/sumstats/file'\n",
      "                        path to summary statistics files, genotypes, phenotypes\n",
      "                        and covaraites data \"post-qc/Height.QC.gz\"\n",
      "  --bed-file 'path/to/bed/file'\n",
      "                        \"post-qc/EUR.QC.bed\"\n",
      "  --geno-file 'path/to/geno/file'\n",
      "                        \"post-qc/EUR.QC.rds\"\n",
      "  --pheno-file 'path/to/pheno/data'\n",
      "                        \"post-qc/EUR.height\"\n",
      "  --covariate-file 'path/to/cov/data'\n",
      "                        \"post-qc/EUR.cov\",\"post-qc/EUR.eigenvec\"\n",
      "  --pcs-file 'path/to/pc/data'\n",
      "                        this need to be generalized, fix this\n",
      "  --tmpdir 'tmp-dataset'\n",
      "  --newgeno 'path/to/new/genodata'\n",
      "                        new data for predict PRS\n",
      "  --newcov 'path/to/new/covariates/data'\n",
      "  --pheno-out 'path/PhenoOut.RData'\n",
      "                        parameters that dave\n",
      "  --summary-stat 'path/SumStats.RData'\n",
      "  --ld-in 'path/LdInput.RData'\n",
      "  --ld-out 'path/LdOutput.RData'\n",
      "  --ldreg-out 'path/LdRegOut.RData'\n",
      "  --inf-beta 'path/InfBeta.RData'\n",
      "  --grid-beta 'path/GridBeta.RData'\n",
      "  --auto-beta 'path/AutoBeta.RData'\n",
      "  --inf-prs 'path/InfPrs.RData'\n",
      "  --grid-prs 'path/GridPrs.RData'\n",
      "  --auto-prs 'path/AutoPrs.RData'\n",
      "  --null-r2 'path/NullR2.RData'\n",
      "  --inf-mod 'path/InfMod.RData'\n",
      "  --grid-mod 'path/GridMod.RData'\n",
      "  --auto-mod 'path/AutoMod.RData'\n",
      "  --inf-pheno-pred 'path/InfPhenoPred.RData'\n",
      "  --grid-pheno-pred 'path/GridPhenoPred.RData'\n",
      "  --auto-pheno-pred 'path/AutoPhenoPred.RData'\n",
      "\n",
      "Sections\n",
      "  inf_10, auto_10, grid_10:\n",
      "  inf_20, auto_20, grid_20:\n",
      "  inf_25, auto_25, grid_25:\n",
      "  inf_30, auto_30, grid_30:\n",
      "  inf_31, auto_31, grid_31:\n",
      "  inf_32, auto_32, grid_32:\n",
      "  inf_40, auto_40, grid_40:\n",
      "  inf_50:\n",
      "  grid_50:\n",
      "  auto_50:\n",
      "  inf_60:\n",
      "  grid_60:\n",
      "  auto_60:\n",
      "  inf_70, auto_70, grid_70:\n",
      "  inf_80:\n",
      "  grid_80:\n",
      "  auto_80:\n",
      "  inf_90:\n",
      "  grid_90:\n",
      "  auto_90:\n",
      "  inf_100:\n",
      "  grid_100:\n",
      "  auto_100:\n",
      "\u001b[?2004h"
     ]
    },
    {
     "ename": "",
     "evalue": "1",
     "output_type": "error",
     "traceback": []
    }
   ],
   "source": [
    "sos run ldpred.ipynb -h"
   ]
  },
  {
   "cell_type": "markdown",
   "metadata": {
    "kernel": "SoS"
   },
   "source": [
    "# Global Parameter Setting"
   ]
  },
  {
   "cell_type": "code",
   "execution_count": null,
   "metadata": {
    "kernel": "SoS"
   },
   "outputs": [],
   "source": [
    "[global]\n",
    "\n",
    "### Data preparation\n",
    "# folder that data is saved in\n",
    "# # post-qc\n",
    "parameter: datafolder = \"pathname/for/data\" \n",
    "# hapmap3 is used to filter out the SNPs in hapmap3\n",
    "parameter: hapmap3 = \"https://github.com/privefl/bigsnpr/raw/master/data-raw/hm3_variants.rds\"\n",
    "# path to summary statistics files, genotypes, phenotypes and covaraites data\n",
    "# \"post-qc/Height.QC.gz\"\n",
    "parameter: summstats_file =  \"path/to/sumstats/file\" \n",
    "# \"post-qc/EUR.QC.bed\"\n",
    "parameter: bed_file =  \"path/to/bed/file\" \n",
    "# \"post-qc/EUR.QC.rds\"\n",
    "parameter: geno_file = \"path/to/geno/file\" \n",
    "# \"post-qc/EUR.height\"\n",
    "parameter: pheno_file = \"path/to/pheno/data\"\n",
    "# \"post-qc/EUR.cov\",\"post-qc/EUR.eigenvec\"\n",
    "parameter: covariate_file = \"path/to/cov/data\"\n",
    "# this need to be generalized, fix this\n",
    "parameter: pcs_file = \"path/to/pc/data\"\n",
    "parameter: tmpdir = \"tmp-dataset\"\n",
    "\n",
    "# new data for predict PRS\n",
    "parameter: newgeno = \"path/to/new/genodata\" ##  contains genotype data \n",
    "parameter: newcov = \"path/to/new/covariates/data\" ##  contains covariates (sex and PC in this case)\n",
    "\n",
    "# parameters that dave\n",
    "parameter: pheno_out = 'path/PhenoOut.RData'\n",
    "parameter: summary_stat = 'path/SumStats.RData'\n",
    "parameter: ld_in = 'path/LdInput.RData'\n",
    "parameter: ld_out = 'path/LdOutput.RData'\n",
    "parameter: ldreg_out = 'path/LdRegOut.RData'\n",
    "parameter: inf_beta = 'path/InfBeta.RData'\n",
    "parameter: grid_beta = 'path/GridBeta.RData'\n",
    "parameter: auto_beta = 'path/AutoBeta.RData'\n",
    "parameter: inf_prs = 'path/InfPrs.RData'\n",
    "parameter: grid_prs = 'path/GridPrs.RData'\n",
    "parameter: auto_prs = 'path/AutoPrs.RData'\n",
    "parameter: null_r2 = 'path/NullR2.RData'\n",
    "parameter: inf_mod = 'path/InfMod.RData'\n",
    "parameter: grid_mod = 'path/GridMod.RData'\n",
    "parameter: auto_mod = 'path/AutoMod.RData'\n",
    "parameter: inf_pheno_pred = 'path/InfPhenoPred.RData'\n",
    "parameter: grid_pheno_pred = 'path/GridPhenoPred.RData'\n",
    "parameter: auto_pheno_pred = 'path/AutoPhenoPred.RData'\n",
    "\n",
    "\n",
    "\n",
    "\n",
    "# Initialize variables for storing the LD score and LD matrix\n",
    "corr = NULL\n",
    "ld = NULL\n",
    "# We want to know the ordering of samples in the bed file \n",
    "fam.order = NULL\n"
   ]
  },
  {
   "cell_type": "markdown",
   "metadata": {
    "kernel": "Bash"
   },
   "source": [
    "# Workflow\n",
    "\n",
    "## Prepare workflows"
   ]
  },
  {
   "cell_type": "code",
   "execution_count": null,
   "metadata": {
    "kernel": "SoS"
   },
   "outputs": [],
   "source": [
    "[inf_10, auto_10, grid_10]\n",
    "\n",
    "R: expand=True\n",
    "    ## prepare workplace ##\n",
    "    library(bigsnpr)\n",
    "    # options(bigstatsr.check.parallel.blas = FALSE)\n",
    "    # options(default.nproc.blas = NULL)\n",
    "    library(data.table)\n",
    "    library(magrittr)"
   ]
  },
  {
   "cell_type": "markdown",
   "metadata": {
    "kernel": "SoS"
   },
   "source": [
    "## Load reference panel and summary statistics\n",
    "\n",
    "save `sumstats` as `SumStats.RData`"
   ]
  },
  {
   "cell_type": "code",
   "execution_count": null,
   "metadata": {
    "kernel": "SoS"
   },
   "outputs": [],
   "source": [
    "[inf_20, auto_20, grid_20]\n",
    "\n",
    "input: hapmap = hapmap3, sum = summstats_file\n",
    "output: summary_stat\n",
    "\n",
    "R: expand=True\n",
    "    ## Prep data ##\n",
    "    info <- readRDS(url(\"{_input[\"hapmap\"]}\"))\n",
    "    # Read in the summary statistic file\n",
    "    sumstats <- bigreadr::fread2(\"{_input[\"sum\"]}\") \n",
    "    # LDpred 2 require the header to follow the exact naming\n",
    "    names(sumstats) <-\n",
    "        c(\"chr\",\n",
    "        \"pos\",\n",
    "        \"rsid\",\n",
    "        \"a1\",\n",
    "        \"a0\",\n",
    "        \"n_eff\",\n",
    "        \"beta_se\",\n",
    "        \"p\",\n",
    "        \"OR\",\n",
    "        \"INFO\",\n",
    "        \"MAF\")\n",
    "    # Transform the OR into log(OR)\n",
    "    sumstats$beta <- log(sumstats$OR)\n",
    "    # Filter out hapmap SNPs\n",
    "    sumstats <- sumstats[sumstats$rsid %in% info$rsid,]\n",
    "    save(sumstats, file = \"{_output}\")"
   ]
  },
  {
   "cell_type": "markdown",
   "metadata": {
    "kernel": "SoS"
   },
   "source": [
    "## Read in phenotype and covariate files\n",
    "\n",
    "save `pheno` as `PhenoOut.RData`"
   ]
  },
  {
   "cell_type": "code",
   "execution_count": null,
   "metadata": {
    "kernel": "SoS"
   },
   "outputs": [],
   "source": [
    "[inf_25, auto_25, grid_25]\n",
    "\n",
    "\n",
    "output: pheno_out\n",
    "\n",
    "R: expand=True\n",
    "\n",
    "    phenotype <- fread(\"{pheno_file}\")\n",
    "    covariate <- fread(\"{covariate_file}\")\n",
    "    pcs <- fread(\"{pcs_file}\")\n",
    "    # rename columns\n",
    "    colnames(pcs) <- c(\"FID\",\"IID\", paste0(\"PC\",1:6))\n",
    "    # generate required table\n",
    "    pheno <- merge(phenotype, covariate) %>%\n",
    "        merge(., pcs)\n",
    "    save(pheno, file = \"{_output}\")"
   ]
  },
  {
   "cell_type": "markdown",
   "metadata": {
    "kernel": "SoS"
   },
   "source": [
    "## Preprocess the bed file"
   ]
  },
  {
   "cell_type": "code",
   "execution_count": null,
   "metadata": {
    "kernel": "SoS"
   },
   "outputs": [],
   "source": [
    "[inf_30, auto_30, grid_30]\n",
    "\n",
    "input: bed_file\n",
    "\n",
    "# what is the output for snp_readBed \n",
    "\n",
    "R: expand=True \n",
    "    if(length(list.files(path = datafolder, pattern = \"\\\\.bk$\")) = 0){\n",
    "    # preprocess the bed file (only need to do once for each data set)\n",
    "    snp_readBed(\"{_input}\")\n",
    "    }\n"
   ]
  },
  {
   "cell_type": "markdown",
   "metadata": {
    "kernel": "SoS"
   },
   "source": [
    "## SNP matching and get the CM information from 1000 Genome"
   ]
  },
  {
   "cell_type": "markdown",
   "metadata": {
    "kernel": "SoS"
   },
   "source": [
    "* Perform SNP matching `snp_match(sumstats, map)` to get `info_snp`\n",
    "\n",
    "Mathch alleles between summary statistics `sumstats` and SNP information from `obj.bigSNP`.\n",
    "\n",
    "* CM information from 1000 Genome `snp_asGeneticPos(CHR, POS, dir = \".\")`\n",
    "\n",
    "Use genetic maps available at https://github.com/joepickrell/1000-genomes-genetic-maps/ to interpolate physical positions (in bp) to genetic positions (in cM).\n",
    "\n",
    "\n",
    "save `obj.bigSNP`, `genotype`, `map`, `CHR`, `POS`, `info_snp` and `POS2` as `LdInput.RData`"
   ]
  },
  {
   "cell_type": "code",
   "execution_count": null,
   "metadata": {
    "kernel": "SoS"
   },
   "outputs": [],
   "source": [
    "[inf_31, auto_31, grid_31]\n",
    "\n",
    "input: geno = geno_file, sums = summary_stat\n",
    "output: ld_in\n",
    " \n",
    "R: expand=True \n",
    "\n",
    "    load(\"{_input[\"sums\"]}\")\n",
    "    # now attach the genotype object\n",
    "    obj.bigSNP <- snp_attach(\"{_input[\"geno\"]}\")\n",
    "    \n",
    "    # Assign the genotype to a variable for easier downstream analysis\n",
    "    genotype <- obj.bigSNP$genotypes\n",
    "    \n",
    "    # extract the SNP information from the genotype\n",
    "    map <- obj.bigSNP$map[-3]\n",
    "    names(map) <- c(\"chr\", \"rsid\", \"pos\", \"a1\", \"a0\")  \n",
    "    \n",
    "    # Rename the data structures\n",
    "    CHR <- map$chr\n",
    "    POS <- map$pos   \n",
    "\n",
    "    # perform SNP matching\n",
    "    info_snp <- snp_match(sumstats, map)\n",
    "    \n",
    "    # get the CM information from 1000 Genome\n",
    "    # will download the 1000G file to the current directory (\".\")\n",
    "    POS2 <- snp_asGeneticPos(CHR, POS, dir = \".\")\n",
    "    \n",
    "    # save data to Rdata file\n",
    "    save(obj.bigSNP, genotype, map, CHR, POS, info_snp, POS2, file = \"{_output}\")"
   ]
  },
  {
   "cell_type": "markdown",
   "metadata": {
    "kernel": "SoS"
   },
   "source": [
    "## Calculate LD"
   ]
  },
  {
   "cell_type": "markdown",
   "metadata": {
    "kernel": "SoS"
   },
   "source": [
    "* calculate LD using genotype from `obj.bigSNP` and CM information (distance)\n",
    "\n",
    "save `info_snp`, `ld`, `fam.order`, `corr`, `NCORES`, `genotype` as `LdOutput.RData`"
   ]
  },
  {
   "cell_type": "code",
   "execution_count": null,
   "metadata": {
    "kernel": "SoS"
   },
   "outputs": [],
   "source": [
    "[inf_32, auto_32, grid_32]\n",
    "\n",
    "input: ld_in\n",
    "output: ld_out\n",
    "\n",
    "R: expand = True\n",
    "    load(\"{_input}\")\n",
    "    # calculate LD\n",
    "    # Get maximum amount of cores\n",
    "    NCORES <- nb_cores()  \n",
    "    # Open a temporary file\n",
    "    tmp <- tempfile(tmpdir = tmpdir)\n",
    "    on.exit(file.remove(paste0(tmp, \".sbk\")), add = TRUE)\n",
    "    for (chr in 1:22) {\n",
    "        # Extract SNPs that are included in the chromosome\n",
    "        ind.chr <- which(info_snp$chr == chr)\n",
    "        ind.chr2 <- info_snp$`_NUM_ID_`[ind.chr]\n",
    "        # Calculate the LD\n",
    "        corr0 <- snp_cor(\n",
    "                genotype,\n",
    "                ind.col = ind.chr2,\n",
    "                ncores = NCORES,\n",
    "                infos.pos = POS2[ind.chr2],\n",
    "                size = 3 / 1000\n",
    "            )\n",
    "        if (chr == 1) {\n",
    "            ld <- Matrix::colSums(corr0^2)\n",
    "            corr <- as_SFBM(corr0, tmp)\n",
    "        } else {\n",
    "            ld <- c(ld, Matrix::colSums(corr0^2))\n",
    "            corr$add_columns(corr0, nrow(corr))\n",
    "        }\n",
    "    }\n",
    "    # We assume the fam order is the same across different chromosomes\n",
    "    fam.order <- as.data.table(obj.bigSNP$fam)\n",
    "    # Rename fam order\n",
    "    setnames(fam.order,\n",
    "            c(\"family.ID\", \"sample.ID\"),\n",
    "            c(\"FID\", \"IID\"))\n",
    "    # save results\n",
    "    save(info_snp, ld, fam.order, corr, NCORES, genotype, file = \"{_output}\")"
   ]
  },
  {
   "cell_type": "markdown",
   "metadata": {
    "kernel": "SoS"
   },
   "source": [
    "## Perform LD score regression "
   ]
  },
  {
   "cell_type": "markdown",
   "metadata": {
    "kernel": "SoS"
   },
   "source": [
    "Using funciton `snp_ldsc()` to obtain $h^2$ the (SNP) heritability\n",
    "\n",
    "save `h2_est`, `df_beta`, `corr`, `NCORES`, `info_snp`, `genotype` as `LdRegOut.RData` "
   ]
  },
  {
   "cell_type": "code",
   "execution_count": null,
   "metadata": {
    "kernel": "SoS"
   },
   "outputs": [],
   "source": [
    "[inf_40, auto_40, grid_40]\n",
    "\n",
    "input: ld_out\n",
    "output: ldreg_out\n",
    "\n",
    "R: expand=True\n",
    "    load(\"{_input}\")\n",
    "    df_beta <- info_snp[,c(\"beta\", \"beta_se\", \"n_eff\", \"_NUM_ID_\")]\n",
    "    ldsc <- snp_ldsc(   ld, \n",
    "                    length(ld), \n",
    "                    chi2 = (df_beta$beta / df_beta$beta_se)^2,\n",
    "                    sample_size = df_beta$n_eff, \n",
    "                    blocks = NULL)\n",
    "    h2_est <- ldsc[[\"h2\"]]\n",
    "    save(h2_est, df_beta, corr, NCORES, info_snp, genotype,file = \"{_output}\")"
   ]
  },
  {
   "cell_type": "markdown",
   "metadata": {
    "kernel": "SoS"
   },
   "source": [
    "## Get adjusted betas"
   ]
  },
  {
   "cell_type": "markdown",
   "metadata": {
    "kernel": "SoS"
   },
   "source": [
    "### Infinitesimal model\n",
    "\n",
    "save `beta_inf`, `df_beta`, `corr`, `NCORES`,`info_snp`, `genotype` as `InfBeta.RData`"
   ]
  },
  {
   "cell_type": "code",
   "execution_count": null,
   "metadata": {
    "kernel": "SoS"
   },
   "outputs": [],
   "source": [
    "[inf_50]\n",
    "\n",
    "input: ldreg_out\n",
    "output: inf_beta\n",
    "\n",
    "R: expand=True\n",
    "    load(\"{_input}\")\n",
    "    ## adjusted beta ##\n",
    "    beta_inf <- snp_ldpred2_inf(corr, df_beta, h2 = h2_est)\n",
    "    # save data\n",
    "    save(beta_inf, df_beta, corr, NCORES,info_snp, genotype, file = \"{_output}\")"
   ]
  },
  {
   "cell_type": "markdown",
   "metadata": {
    "kernel": "SoS"
   },
   "source": [
    "### Grid model\n",
    "\n",
    "save `beta_grid`, `df_beta`, `corr`, `NCORES`,`info_snp`, `genotype` as `GridBeta.Rdata`"
   ]
  },
  {
   "cell_type": "code",
   "execution_count": null,
   "metadata": {
    "kernel": "SoS"
   },
   "outputs": [],
   "source": [
    "[grid_50]\n",
    "\n",
    "input: ldreg_out\n",
    "output: grid_beta\n",
    "\n",
    "R: expand=True\n",
    "    load(\"{_input}\")\n",
    "    # Prepare data for grid model\n",
    "    p_seq <- signif(seq_log(1e-4, 1, length.out = 17), 2)\n",
    "    h2_seq <- round(h2_est * c(0.7, 1, 1.4), 4)\n",
    "    grid.param <-\n",
    "        expand.grid(p = p_seq,\n",
    "                h2 = h2_seq,\n",
    "                sparse = c(FALSE, TRUE))\n",
    "    # Get adjusted beta from grid model\n",
    "    beta_grid <- snp_ldpred2_grid(corr, df_beta, grid.param, ncores = NCORES)\n",
    "    # save data\n",
    "    save(beta_grid, df_beta, corr, NCORES,info_snp, genotype, file = \"{_output}\")"
   ]
  },
  {
   "cell_type": "markdown",
   "metadata": {
    "kernel": "SoS"
   },
   "source": [
    "### Auto model\n",
    "\n",
    "save `beta_auto`, `df_beta`, `corr`, `NCORES`,`info_snp`, `genotype` as `AutoBeta.Rdata`"
   ]
  },
  {
   "cell_type": "code",
   "execution_count": null,
   "metadata": {
    "kernel": "SoS"
   },
   "outputs": [],
   "source": [
    "[auto_50]\n",
    "\n",
    "input: ldreg_out\n",
    "output: auto_beta\n",
    "\n",
    "R: expand=True\n",
    "\n",
    "    load(\"{_input}\")\n",
    "    # Get adjusted beta from the auto model\n",
    "    multi_auto <- snp_ldpred2_auto(\n",
    "        corr,\n",
    "        df_beta,\n",
    "        h2_init = h2_est,\n",
    "        vec_p_init = seq_log(1e-4, 0.9, length.out = NCORES),\n",
    "        ncores = NCORES\n",
    "    )\n",
    "    beta_auto <- sapply(multi_auto, function(auto)\n",
    "        auto$beta_est)\n",
    "    # save data\n",
    "    save(beta_auto, df_beta, corr, NCORES,info_snp, genotype, file = \"{_output}\")"
   ]
  },
  {
   "cell_type": "markdown",
   "metadata": {
    "kernel": "SoS"
   },
   "source": [
    "## Get PRS"
   ]
  },
  {
   "cell_type": "markdown",
   "metadata": {
    "kernel": "SoS"
   },
   "source": [
    "### Infinitesimal model\n",
    "\n",
    "save `pred_inf` as `InfPrs.RData`"
   ]
  },
  {
   "cell_type": "code",
   "execution_count": null,
   "metadata": {
    "kernel": "SoS"
   },
   "outputs": [],
   "source": [
    "[inf_60]\n",
    "\n",
    "input: inf_beta\n",
    "output: inf_prs\n",
    "\n",
    "R: expand=True\n",
    "    \n",
    "    load(\"{_input}\")\n",
    "    # calculate PRS for all samples\n",
    "    ind.test <- 1:nrow(genotype)\n",
    "    pred_inf <- big_prodVec(    genotype,\n",
    "                                beta_inf,\n",
    "                                ind.row = ind.test,\n",
    "                                ind.col = info_snp$`_NUM_ID_`)\n",
    "    save(pred_inf, file = \"{_output}\")"
   ]
  },
  {
   "cell_type": "markdown",
   "metadata": {
    "kernel": "SoS"
   },
   "source": [
    "### Grid model\n",
    "save `pred_grid` as `GridPrs.RData`"
   ]
  },
  {
   "cell_type": "code",
   "execution_count": null,
   "metadata": {
    "kernel": "SoS"
   },
   "outputs": [],
   "source": [
    "[grid_60]\n",
    "\n",
    "input: grid_beta\n",
    "output: grid_prs\n",
    "\n",
    "R: expand=True\n",
    "\n",
    "    load(\"{_input}\")\n",
    "    ind.test <- 1:nrow(genotype)\n",
    "    pred_grid <- big_prodMat(   genotype, \n",
    "                                beta_grid, \n",
    "                                ind.col = info_snp$`_NUM_ID_`)\n",
    "    save(pred_grid, file = \"{_output}\")"
   ]
  },
  {
   "cell_type": "markdown",
   "metadata": {
    "kernel": "SoS"
   },
   "source": [
    "### Auto model\n",
    "\n",
    "save `pred_auto` as `AutoPrs.RData`"
   ]
  },
  {
   "cell_type": "code",
   "execution_count": null,
   "metadata": {
    "kernel": "SoS"
   },
   "outputs": [],
   "source": [
    "[auto_60]\n",
    "\n",
    "input: auto_beta\n",
    "output: auto_prs\n",
    "\n",
    "R: expand=True\n",
    "    \n",
    "    load(\"{_input}\")\n",
    "    # calculate PRS for all samples\n",
    "    ind.test <- 1:nrow(genotype)\n",
    "    pred_auto <-\n",
    "        big_prodMat(genotype,\n",
    "                    beta_auto,\n",
    "                    ind.row = ind.test,\n",
    "                    ind.col = info_snp$`_NUM_ID_`)\n",
    "    # scale the PRS generated from AUTO\n",
    "    pred_scaled <- apply(pred_auto, 2, sd)\n",
    "    final_beta_auto <-\n",
    "        rowMeans(beta_auto[,\n",
    "                    abs(pred_scaled -\n",
    "                        median(pred_scaled)) <\n",
    "                        3 * mad(pred_scaled)])\n",
    "    pred_auto <-\n",
    "        big_prodVec(genotype,\n",
    "            final_beta_auto,\n",
    "            ind.row = ind.test,\n",
    "            ind.col = info_snp$`_NUM_ID_`)\n",
    "    save(pred_auto, file = \"{_output}\")"
   ]
  },
  {
   "cell_type": "markdown",
   "metadata": {
    "kernel": "SoS"
   },
   "source": [
    "## Performance of LDpred model"
   ]
  },
  {
   "cell_type": "markdown",
   "metadata": {
    "kernel": "SoS"
   },
   "source": [
    "### Calculate null $R^2$\n",
    "\n",
    "save `null.r2` ,`y` as `NullR2.RData`"
   ]
  },
  {
   "cell_type": "code",
   "execution_count": null,
   "metadata": {
    "kernel": "SoS"
   },
   "outputs": [],
   "source": [
    "[inf_70, auto_70, grid_70]\n",
    " \n",
    "input: pheno_out\n",
    "output: null_r2\n",
    "\n",
    "R: expand=True\n",
    "\n",
    "    load(\"{_input}\")\n",
    "    # Reformat the phenotype file such that y is of the same order as the \n",
    "    # sample ordering in the genotype file\n",
    "    y <- pheno[fam.order, on = c(\"FID\", \"IID\")]\n",
    "    # Calculate the null R2\n",
    "    # use glm for binary trait \n",
    "    # (will also need the fmsb package to calculate the pseudo R2)\n",
    "    null.model <- paste(\"PC\", 1:6, sep = \"\", collapse = \"+\") %>%\n",
    "        paste0(\"Height~Sex+\", .) %>%\n",
    "        as.formula %>%\n",
    "        lm(., data = y) %>%\n",
    "        summary\n",
    "    null.r2 <- null.model$r.squared\n",
    "    save(null.r2,y, file = \"{_output}\")"
   ]
  },
  {
   "cell_type": "markdown",
   "metadata": {
    "kernel": "SoS"
   },
   "source": [
    "### calculate model $R^2$"
   ]
  },
  {
   "cell_type": "markdown",
   "metadata": {
    "kernel": "SoS"
   },
   "source": [
    "#### Infinitesimal model\n",
    "\n",
    "save `inf.model`, `result` (R2) as `InfMod.Rdata`"
   ]
  },
  {
   "cell_type": "code",
   "execution_count": null,
   "metadata": {
    "kernel": "SoS"
   },
   "outputs": [],
   "source": [
    "[inf_80]\n",
    "\n",
    "input: r2 = null_r2, prs = inf_prs\n",
    "output: inf_mod\n",
    "\n",
    "R: expand=True\n",
    "    load(\"{_input[\"r2\"]}\")\n",
    "    load(\"{_input[\"prs\"]}\")\n",
    "    reg.formula <- paste(\"PC\", 1:6, sep = \"\", collapse = \"+\") %>%\n",
    "        paste0(\"Height~PRS+Sex+\", .) %>%\n",
    "        as.formula\n",
    "    reg.dat <- y\n",
    "    reg.dat$PRS <- pred_inf\n",
    "    inf.model <- lm(reg.formula, dat=reg.dat)\n",
    "    result <- data.table(\n",
    "        infinitesimal = inf.model$r.squared - null.r2,\n",
    "        null = null.r2)\n",
    "    save(inf.model,result, file = \"{_output}\")"
   ]
  },
  {
   "cell_type": "markdown",
   "metadata": {
    "kernel": "SoS"
   },
   "source": [
    "#### Grid model\n",
    "\n",
    "save `grid.model`, `result` (R2) as `GridMod.Rdata`"
   ]
  },
  {
   "cell_type": "code",
   "execution_count": null,
   "metadata": {
    "kernel": "SoS"
   },
   "outputs": [],
   "source": [
    "[grid_80]\n",
    "\n",
    "input: r2 = null_r2, prs = inf_prs\n",
    "output: grid_mod\n",
    "\n",
    "R: expand=True\n",
    "\n",
    "    load(\"{_input[\"r2\"]}\")\n",
    "    load(\"{_input[\"prs\"]}\")\n",
    "    reg.formula <- paste(\"PC\", 1:6, sep = \"\", collapse = \"+\") %>%\n",
    "        paste0(\"Height~PRS+Sex+\", .) %>%\n",
    "        as.formula\n",
    "    reg.dat <- y\n",
    "    max.r2 <- 0\n",
    "    for(i in 1:ncol(pred_grid)){\n",
    "        reg.dat$PRS <- pred_grid[,i]\n",
    "        grid.model <- lm(reg.formula, dat=reg.dat)\n",
    "        if(max.r2 < grid.model$r.squared){\n",
    "            max.r2 <- grid.model$r.squared\n",
    "        }\n",
    "    }\n",
    "    result <- data.table(\n",
    "    grid = max.r2 - null.r2,\n",
    "    null = null.r2)\n",
    "    save(grid.model,result, file = \"{_output}\")"
   ]
  },
  {
   "cell_type": "markdown",
   "metadata": {
    "kernel": "SoS"
   },
   "source": [
    "#### Auto model\n",
    "\n",
    "save `auto.model`, `result` (R2) as `AutoMod.Rdata`"
   ]
  },
  {
   "cell_type": "code",
   "execution_count": null,
   "metadata": {
    "kernel": "SoS"
   },
   "outputs": [],
   "source": [
    "[auto_80]\n",
    "\n",
    "input: r2 = null_r2, prs = inf_prs\n",
    "output: auto_mod\n",
    "\n",
    "R: expand=True\n",
    "\n",
    "    load(\"{_input[\"r2\"]}\")\n",
    "    load(\"{_input[\"prs\"]}\")\n",
    "    reg.formula <- paste(\"PC\", 1:6, sep = \"\", collapse = \"+\") %>%\n",
    "        paste0(\"Height~PRS+Sex+\", .) %>%\n",
    "        as.formula\n",
    "    reg.dat <- y\n",
    "    reg.dat$PRS <- pred_auto\n",
    "    auto.model <- lm(reg.formula, dat=reg.dat)\n",
    "    result <- data.table(\n",
    "            auto = auto.model$r.squared - null.r2,\n",
    "            null = null.r2)\n",
    "    save(auto.model,result, file = \"{_output}\")"
   ]
  },
  {
   "cell_type": "markdown",
   "metadata": {
    "kernel": "SoS"
   },
   "source": [
    "## Predict phenotype"
   ]
  },
  {
   "cell_type": "markdown",
   "metadata": {
    "kernel": "SoS"
   },
   "source": [
    "fix this. xxx stands for different model"
   ]
  },
  {
   "cell_type": "code",
   "execution_count": null,
   "metadata": {
    "kernel": "SoS"
   },
   "outputs": [],
   "source": [
    "[inf_90]\n",
    "\n",
    "input: model = inf_mod, ngeno = newgeno,nconv = newcov, adjbeta = inf_beta\n",
    "output: inf_pheno_pred\n",
    "\n",
    "R: expend = True\n",
    "    load(\"{_input[\"model\"]}\")\n",
    "    new_geno = fread(\"{_input[\"ngeno\"]}\")\n",
    "    new_cov = fread(\"{_input[\"ncov\"]}\")\n",
    "    # predict prs\n",
    "    ind.test <- 1:nrow(new_geno)\n",
    "    prs_pred <- big_prodVec(new_geno,\n",
    "                            beta_inf,\n",
    "                            ind.row = ind.test,\n",
    "                            ind.col = info_snp$`_NUM_ID_`)\n",
    "    new_cov$PRS = prs_pred\n",
    "    pheno_pred = predict(inf.model,newdata = new_cov)\n",
    "    save(prs_pred,pheno_pred, file = \"{_output}\")"
   ]
  },
  {
   "cell_type": "code",
   "execution_count": null,
   "metadata": {
    "kernel": "SoS"
   },
   "outputs": [],
   "source": [
    "[grid_90]\n",
    "\n",
    "input: model = grid_mod, ngeno = newgeno,nconv = newcov, adjbeta = grid_beta\n",
    "output: grid_pheno_pred\n",
    "\n",
    "R: expend = True\n",
    "    load(\"{_input[\"model\"]}\")\n",
    "    new_geno = fread(\"{_input[\"ngeno\"]}\")\n",
    "    new_cov = fread(\"{_input[\"ncov\"]}\")\n",
    "    # predict prs\n",
    "    ind.test <- 1:nrow(new_geno)\n",
    "    prs_pred <- big_prodVec(new_geno,\n",
    "                            beta_grid,\n",
    "                            ind.row = ind.test,\n",
    "                            ind.col = info_snp$`_NUM_ID_`)\n",
    "    new_cov$PRS = prs_pred\n",
    "    pheno_pred = predict(inf.model,newdata = new_cov)\n",
    "    save(prs_pred,pheno_pred, file = \"{_output}\")"
   ]
  },
  {
   "cell_type": "code",
   "execution_count": null,
   "metadata": {
    "kernel": "SoS"
   },
   "outputs": [],
   "source": [
    "[auto_90]\n",
    "\n",
    "input: model = auto_mod, ngeno = newgeno,nconv = newcov, adjbeta = auto_beta\n",
    "output: auto_pheno_pred\n",
    "\n",
    "R: expend = True\n",
    "    load(\"{_input[\"model\"]}\")\n",
    "    new_geno = fread(\"{_input[\"ngeno\"]}\")\n",
    "    new_cov = fread(\"{_input[\"ncov\"]}\")\n",
    "    # predict prs\n",
    "    ind.test <- 1:nrow(new_geno)\n",
    "    prs_pred <- big_prodVec(new_geno,\n",
    "                            beta_auto,\n",
    "                            ind.row = ind.test,\n",
    "                            ind.col = info_snp$`_NUM_ID_`)\n",
    "    new_cov$PRS = prs_pred\n",
    "    pheno_pred = predict(inf.model,newdata = new_cov)\n",
    "    save(prs_pred, pheno_pred, file = \"{_output}\")"
   ]
  },
  {
   "cell_type": "markdown",
   "metadata": {
    "kernel": "SoS"
   },
   "source": [
    "## Model fitting and prediction results\n",
    "\n",
    "Return fitted model, adjusted beta, predicted PRS and predicted phenotype"
   ]
  },
  {
   "cell_type": "code",
   "execution_count": null,
   "metadata": {
    "kernel": "SoS"
   },
   "outputs": [],
   "source": [
    "[inf_100]\n",
    "\n",
    "input: mod = inf_mod, beta = inf_beta, pred = inf_pheno_pred\n",
    "output: inf_ldpred_res\n",
    "\n",
    "R: expend = True\n",
    "    load(\"{_input[\"mod\"]}\")\n",
    "    load(\"{_input[\"beta\"]}\")\n",
    "    load(\"{_input[\"pred\"]}\")\n",
    "    ldpred_res = list(model = inf.model, \n",
    "                      R2 = result,\n",
    "                      adj_beta = beta_inf,\n",
    "                      pred_prs = prs_pred,\n",
    "                      pred_pheno = pheno_pred)\n",
    "    save(ldpred_res, file = \"{_output}\")"
   ]
  },
  {
   "cell_type": "code",
   "execution_count": null,
   "metadata": {
    "kernel": "SoS"
   },
   "outputs": [],
   "source": [
    "[grid_100]\n",
    "\n",
    "input: mod = grid_mod, beta = grid_beta, pred = grid_pheno_pred\n",
    "output: grid_ldpred_res\n",
    "\n",
    "R: expend = True\n",
    "    load(\"{_input[\"mod\"]}\")\n",
    "    load(\"{_input[\"beta\"]}\")\n",
    "    load(\"{_input[\"pred\"]}\")\n",
    "    ldpred_res = list(model = grid.model, \n",
    "                      R2 = result,\n",
    "                      adj_beta = beta_grid,\n",
    "                      pred_prs = prs_pred,\n",
    "                      pred_pheno = pheno_pred)\n",
    "    save(ldpred_res, file = \"{_output}\")"
   ]
  },
  {
   "cell_type": "code",
   "execution_count": null,
   "metadata": {
    "kernel": "SoS"
   },
   "outputs": [],
   "source": [
    "[auto_100]\n",
    "\n",
    "input: mod = auto_mod, beta = auto_beta, pred = auto_pheno_pred\n",
    "output: auto_ldpred_res\n",
    "\n",
    "R: expend = True\n",
    "    load(\"{_input[\"mod\"]}\")\n",
    "    load(\"{_input[\"beta\"]}\")\n",
    "    load(\"{_input[\"pred\"]}\")\n",
    "    ldpred_res = list(model = auto.model, \n",
    "                      R2 = result,\n",
    "                      adj_beta = beta_auto,\n",
    "                      pred_prs = prs_pred,\n",
    "                      pred_pheno = pheno_pred)\n",
    "    save(ldpred_res, file = \"{_output}\")"
   ]
  }
 ],
 "metadata": {
  "kernelspec": {
   "display_name": "SoS",
   "language": "sos",
   "name": "sos"
  },
  "language_info": {
   "codemirror_mode": "sos",
   "file_extension": ".sos",
   "mimetype": "text/x-sos",
   "name": "sos",
   "nbconvert_exporter": "sos_notebook.converter.SoS_Exporter",
   "pygments_lexer": "sos"
  },
  "sos": {
   "kernels": [
    [
     "Bash",
     "bash",
     "Bash",
     "#E6EEFF",
     "shell"
    ],
    [
     "R",
     "ir",
     "R",
     "#DCDCDA",
     ""
    ],
    [
     "SoS",
     "sos",
     "",
     "",
     "sos"
    ]
   ],
   "version": "0.22.4"
  },
  "toc-autonumbering": true,
  "toc-showmarkdowntxt": false
 },
 "nbformat": 4,
 "nbformat_minor": 4
}
