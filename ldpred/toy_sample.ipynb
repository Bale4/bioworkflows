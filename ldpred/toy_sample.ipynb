{
 "cells": [
  {
   "cell_type": "markdown",
   "metadata": {
    "kernel": "SoS"
   },
   "source": [
    "# Computing polygenic scores using LDpred2 (LDpred2 genome-wide)"
   ]
  },
  {
   "cell_type": "markdown",
   "metadata": {
    "kernel": "R"
   },
   "source": [
    "* variants: HapMap3 variants used in PRS-CS **for what???????**\n",
    "\n",
    "* LD reference: We provide an LD reference for European ancestry to be used by researchers who cannot compute their own. We use the 362 320 UKBB individuals as used here, with some further quality control based on allele frequencies. \n",
    "\n",
    "Information about these variants:"
   ]
  },
  {
   "cell_type": "code",
   "execution_count": 33,
   "metadata": {
    "kernel": "R"
   },
   "outputs": [
    {
     "name": "stdout",
     "output_type": "stream",
     "text": [
      "tibble [1,054,330 × 10] (S3: tbl_df/tbl/data.frame)\n",
      " $ chr     : int [1:1054330] 1 1 1 1 1 1 1 1 1 1 ...\n",
      " $ pos     : int [1:1054330] 752721 754182 760912 768448 779322 838555 846808 853954 854250 864938 ...\n",
      " $ a0      : chr [1:1054330] \"A\" \"A\" \"C\" \"G\" ...\n",
      " $ a1      : chr [1:1054330] \"G\" \"G\" \"T\" \"A\" ...\n",
      " $ rsid    : chr [1:1054330] \"rs3131972\" \"rs3131969\" \"rs1048488\" \"rs12562034\" ...\n",
      " $ af_UKBB : num [1:1054330] 0.841 0.87 0.84 0.106 0.128 ...\n",
      " $ ld      : num [1:1054330] 3.69 3.73 3.69 1.4 3.68 ...\n",
      " $ pos_hg17: int [1:1054330] 792584 794045 800775 808311 819185 878418 886671 893817 894113 904801 ...\n",
      " $ pos_hg18: int [1:1054330] 742584 744045 750775 758311 769185 828418 836671 843817 844113 854801 ...\n",
      " $ pos_hg38: int [1:1054330] 817341 818802 825532 833068 843942 903175 911428 918574 918870 929558 ...\n"
     ]
    }
   ],
   "source": [
    "# $pos is in build GRCh37 / hg19, but we provide positions in 3 other builds \n",
    "info <- readRDS(url(\"https://ndownloader.figshare.com/files/25503788\"))\n",
    "str(info)"
   ]
  },
  {
   "cell_type": "markdown",
   "metadata": {
    "kernel": "R"
   },
   "source": [
    "## Downloading genotype data and summary statistics"
   ]
  },
  {
   "cell_type": "code",
   "execution_count": 34,
   "metadata": {
    "kernel": "R"
   },
   "outputs": [],
   "source": [
    "library(bigsnpr)"
   ]
  },
  {
   "cell_type": "markdown",
   "metadata": {
    "kernel": "R"
   },
   "source": [
    "### Read from bed/bim/fam, it generates .bk and .rds files."
   ]
  },
  {
   "cell_type": "code",
   "execution_count": 37,
   "metadata": {
    "kernel": "R"
   },
   "outputs": [
    {
     "ename": "ERROR",
     "evalue": "Error: File 'tmp-data/public-data.bk' already exists.\n",
     "output_type": "error",
     "traceback": [
      "Error: File 'tmp-data/public-data.bk' already exists.\nTraceback:\n",
      "1. snp_readBed(\"tmp-data/public-data.bed\")",
      "2. assert_noexist(paste0(backingfile, \".bk\"))",
      "3. stop2(\"File '%s' already exists.\", file)",
      "4. stop(sprintf(...), call. = FALSE)"
     ]
    }
   ],
   "source": [
    "snp_readBed(\"tmp-data/public-data.bed\")"
   ]
  },
  {
   "cell_type": "markdown",
   "metadata": {
    "kernel": "R"
   },
   "source": [
    "### Attach the \"bigSNP\" object in R session\n",
    "\n",
    "559 patients and 130816 genes?"
   ]
  },
  {
   "cell_type": "code",
   "execution_count": 38,
   "metadata": {
    "kernel": "R"
   },
   "outputs": [
    {
     "name": "stdout",
     "output_type": "stream",
     "text": [
      "List of 3\n",
      " $ genotypes:Reference class 'FBM.code256' [package \"bigstatsr\"] with 15 fields\n",
      "  ..and 26 methods, of which 12 are  possibly relevant:\n",
      "  ..  add_columns, as.FBM, bm, bm.desc, check_dimensions,\n",
      "  ..  check_write_permissions, copy#envRefClass, initialize, initialize#FBM,\n",
      "  ..  save, show#FBM, show#envRefClass\n",
      " $ fam      :'data.frame':\t559 obs. of  6 variables:\n",
      "  ..$ family.ID  : chr [1:559] \"EUR_GBR\" \"EUR_GBR\" \"EUR_GBR\" \"EUR_GBR\" ...\n",
      "  ..$ sample.ID  : chr [1:559] \"HG00096\" \"HG00097\" \"HG00099\" \"HG00100\" ...\n",
      "  ..$ paternal.ID: int [1:559] 0 0 0 0 0 0 0 0 0 0 ...\n",
      "  ..$ maternal.ID: int [1:559] 0 0 0 0 0 0 0 0 0 0 ...\n",
      "  ..$ sex        : int [1:559] 1 2 2 2 1 2 1 2 2 1 ...\n",
      "  ..$ affection  : int [1:559] 1 2 1 1 1 1 2 1 2 1 ...\n",
      " $ map      :'data.frame':\t130816 obs. of  6 variables:\n",
      "  ..$ chromosome  : int [1:130816] 2 2 2 2 2 2 2 2 2 2 ...\n",
      "  ..$ marker.ID   : chr [1:130816] \"rs13400442\" \"rs7594567\" \"rs7597758\" \"rs13\"..\n",
      "  ..$ genetic.dist: int [1:130816] 0 0 0 0 0 0 0 0 0 0 ...\n",
      "  ..$ physical.pos: int [1:130816] 18506 21833 22398 28228 32003 32005 36787 5..\n",
      "  ..$ allele1     : chr [1:130816] \"C\" \"G\" \"T\" \"A\" ...\n",
      "  ..$ allele2     : chr [1:130816] \"T\" \"C\" \"C\" \"G\" ...\n",
      " - attr(*, \"class\")= chr \"bigSNP\"\n"
     ]
    }
   ],
   "source": [
    "obj.bigSNP <- snp_attach(\"tmp-data/public-data.rds\")\n",
    "# See how the file looks like\n",
    "str(obj.bigSNP, max.level = 2, strict.width = \"cut\")\n",
    "#130816/559"
   ]
  },
  {
   "cell_type": "markdown",
   "metadata": {
    "kernel": "R"
   },
   "source": [
    "### looking into the data `obj.bigSNP`"
   ]
  },
  {
   "cell_type": "code",
   "execution_count": 39,
   "metadata": {
    "kernel": "R"
   },
   "outputs": [
    {
     "data": {
      "text/html": [
       "<table>\n",
       "<caption>A matrix: 6 × 130816 of type dbl</caption>\n",
       "<tbody>\n",
       "\t<tr><td>0</td><td>0</td><td>0</td><td>0</td><td>0</td><td>0</td><td>0</td><td>0</td><td>0</td><td>0</td><td>⋯</td><td>0</td><td>0</td><td>1</td><td>0</td><td>0</td><td>0</td><td>0</td><td>0</td><td>0</td><td>0</td></tr>\n",
       "\t<tr><td>0</td><td>0</td><td>0</td><td>0</td><td>0</td><td>0</td><td>0</td><td>0</td><td>0</td><td>0</td><td>⋯</td><td>1</td><td>1</td><td>0</td><td>1</td><td>1</td><td>0</td><td>1</td><td>0</td><td>1</td><td>1</td></tr>\n",
       "\t<tr><td>0</td><td>0</td><td>0</td><td>0</td><td>0</td><td>0</td><td>0</td><td>0</td><td>0</td><td>0</td><td>⋯</td><td>1</td><td>1</td><td>0</td><td>1</td><td>1</td><td>0</td><td>2</td><td>0</td><td>1</td><td>1</td></tr>\n",
       "\t<tr><td>0</td><td>0</td><td>0</td><td>0</td><td>0</td><td>1</td><td>0</td><td>0</td><td>0</td><td>0</td><td>⋯</td><td>0</td><td>0</td><td>1</td><td>0</td><td>0</td><td>0</td><td>0</td><td>0</td><td>0</td><td>0</td></tr>\n",
       "\t<tr><td>0</td><td>0</td><td>0</td><td>0</td><td>0</td><td>0</td><td>0</td><td>0</td><td>0</td><td>0</td><td>⋯</td><td>0</td><td>0</td><td>0</td><td>0</td><td>0</td><td>0</td><td>0</td><td>0</td><td>0</td><td>0</td></tr>\n",
       "\t<tr><td>1</td><td>0</td><td>0</td><td>0</td><td>0</td><td>0</td><td>0</td><td>0</td><td>0</td><td>0</td><td>⋯</td><td>0</td><td>0</td><td>0</td><td>0</td><td>0</td><td>0</td><td>1</td><td>1</td><td>1</td><td>0</td></tr>\n",
       "</tbody>\n",
       "</table>\n"
      ],
      "text/latex": [
       "A matrix: 6 × 130816 of type dbl\n",
       "\\begin{tabular}{lllllllllllllllllllll}\n",
       "\t 0 & 0 & 0 & 0 & 0 & 0 & 0 & 0 & 0 & 0 & ⋯ & 0 & 0 & 1 & 0 & 0 & 0 & 0 & 0 & 0 & 0\\\\\n",
       "\t 0 & 0 & 0 & 0 & 0 & 0 & 0 & 0 & 0 & 0 & ⋯ & 1 & 1 & 0 & 1 & 1 & 0 & 1 & 0 & 1 & 1\\\\\n",
       "\t 0 & 0 & 0 & 0 & 0 & 0 & 0 & 0 & 0 & 0 & ⋯ & 1 & 1 & 0 & 1 & 1 & 0 & 2 & 0 & 1 & 1\\\\\n",
       "\t 0 & 0 & 0 & 0 & 0 & 1 & 0 & 0 & 0 & 0 & ⋯ & 0 & 0 & 1 & 0 & 0 & 0 & 0 & 0 & 0 & 0\\\\\n",
       "\t 0 & 0 & 0 & 0 & 0 & 0 & 0 & 0 & 0 & 0 & ⋯ & 0 & 0 & 0 & 0 & 0 & 0 & 0 & 0 & 0 & 0\\\\\n",
       "\t 1 & 0 & 0 & 0 & 0 & 0 & 0 & 0 & 0 & 0 & ⋯ & 0 & 0 & 0 & 0 & 0 & 0 & 1 & 1 & 1 & 0\\\\\n",
       "\\end{tabular}\n"
      ],
      "text/markdown": [
       "\n",
       "A matrix: 6 × 130816 of type dbl\n",
       "\n",
       "| 0 | 0 | 0 | 0 | 0 | 0 | 0 | 0 | 0 | 0 | ⋯ | 0 | 0 | 1 | 0 | 0 | 0 | 0 | 0 | 0 | 0 |\n",
       "| 0 | 0 | 0 | 0 | 0 | 0 | 0 | 0 | 0 | 0 | ⋯ | 1 | 1 | 0 | 1 | 1 | 0 | 1 | 0 | 1 | 1 |\n",
       "| 0 | 0 | 0 | 0 | 0 | 0 | 0 | 0 | 0 | 0 | ⋯ | 1 | 1 | 0 | 1 | 1 | 0 | 2 | 0 | 1 | 1 |\n",
       "| 0 | 0 | 0 | 0 | 0 | 1 | 0 | 0 | 0 | 0 | ⋯ | 0 | 0 | 1 | 0 | 0 | 0 | 0 | 0 | 0 | 0 |\n",
       "| 0 | 0 | 0 | 0 | 0 | 0 | 0 | 0 | 0 | 0 | ⋯ | 0 | 0 | 0 | 0 | 0 | 0 | 0 | 0 | 0 | 0 |\n",
       "| 1 | 0 | 0 | 0 | 0 | 0 | 0 | 0 | 0 | 0 | ⋯ | 0 | 0 | 0 | 0 | 0 | 0 | 1 | 1 | 1 | 0 |\n",
       "\n"
      ],
      "text/plain": [
       "     [,1] [,2] [,3] [,4] [,5] [,6] [,7] [,8] [,9] [,10] [,11] [,12] [,13] [,14]\n",
       "[1,] 0    0    0    0    0    0    0    0    0    0     ⋯     0     0     1    \n",
       "[2,] 0    0    0    0    0    0    0    0    0    0     ⋯     1     1     0    \n",
       "[3,] 0    0    0    0    0    0    0    0    0    0     ⋯     1     1     0    \n",
       "[4,] 0    0    0    0    0    1    0    0    0    0     ⋯     0     0     1    \n",
       "[5,] 0    0    0    0    0    0    0    0    0    0     ⋯     0     0     0    \n",
       "[6,] 1    0    0    0    0    0    0    0    0    0     ⋯     0     0     0    \n",
       "     [,15] [,16] [,17] [,18] [,19] [,20] [,21]\n",
       "[1,] 0     0     0     0     0     0     0    \n",
       "[2,] 1     1     0     1     0     1     1    \n",
       "[3,] 1     1     0     2     0     1     1    \n",
       "[4,] 0     0     0     0     0     0     0    \n",
       "[5,] 0     0     0     0     0     0     0    \n",
       "[6,] 0     0     0     1     1     1     0    "
      ]
     },
     "metadata": {},
     "output_type": "display_data"
    }
   ],
   "source": [
    "# genotypes\n",
    "head(obj.bigSNP$genotypes)"
   ]
  },
  {
   "cell_type": "code",
   "execution_count": 40,
   "metadata": {
    "kernel": "R"
   },
   "outputs": [
    {
     "data": {
      "text/html": [
       "<table>\n",
       "<caption>A data.frame: 6 × 6</caption>\n",
       "<thead>\n",
       "\t<tr><th></th><th scope=col>family.ID</th><th scope=col>sample.ID</th><th scope=col>paternal.ID</th><th scope=col>maternal.ID</th><th scope=col>sex</th><th scope=col>affection</th></tr>\n",
       "\t<tr><th></th><th scope=col>&lt;chr&gt;</th><th scope=col>&lt;chr&gt;</th><th scope=col>&lt;int&gt;</th><th scope=col>&lt;int&gt;</th><th scope=col>&lt;int&gt;</th><th scope=col>&lt;int&gt;</th></tr>\n",
       "</thead>\n",
       "<tbody>\n",
       "\t<tr><th scope=row>1</th><td>EUR_GBR</td><td>HG00096</td><td>0</td><td>0</td><td>1</td><td>1</td></tr>\n",
       "\t<tr><th scope=row>2</th><td>EUR_GBR</td><td>HG00097</td><td>0</td><td>0</td><td>2</td><td>2</td></tr>\n",
       "\t<tr><th scope=row>3</th><td>EUR_GBR</td><td>HG00099</td><td>0</td><td>0</td><td>2</td><td>1</td></tr>\n",
       "\t<tr><th scope=row>4</th><td>EUR_GBR</td><td>HG00100</td><td>0</td><td>0</td><td>2</td><td>1</td></tr>\n",
       "\t<tr><th scope=row>5</th><td>EUR_GBR</td><td>HG00101</td><td>0</td><td>0</td><td>1</td><td>1</td></tr>\n",
       "\t<tr><th scope=row>6</th><td>EUR_GBR</td><td>HG00102</td><td>0</td><td>0</td><td>2</td><td>1</td></tr>\n",
       "</tbody>\n",
       "</table>\n"
      ],
      "text/latex": [
       "A data.frame: 6 × 6\n",
       "\\begin{tabular}{r|llllll}\n",
       "  & family.ID & sample.ID & paternal.ID & maternal.ID & sex & affection\\\\\n",
       "  & <chr> & <chr> & <int> & <int> & <int> & <int>\\\\\n",
       "\\hline\n",
       "\t1 & EUR\\_GBR & HG00096 & 0 & 0 & 1 & 1\\\\\n",
       "\t2 & EUR\\_GBR & HG00097 & 0 & 0 & 2 & 2\\\\\n",
       "\t3 & EUR\\_GBR & HG00099 & 0 & 0 & 2 & 1\\\\\n",
       "\t4 & EUR\\_GBR & HG00100 & 0 & 0 & 2 & 1\\\\\n",
       "\t5 & EUR\\_GBR & HG00101 & 0 & 0 & 1 & 1\\\\\n",
       "\t6 & EUR\\_GBR & HG00102 & 0 & 0 & 2 & 1\\\\\n",
       "\\end{tabular}\n"
      ],
      "text/markdown": [
       "\n",
       "A data.frame: 6 × 6\n",
       "\n",
       "| <!--/--> | family.ID &lt;chr&gt; | sample.ID &lt;chr&gt; | paternal.ID &lt;int&gt; | maternal.ID &lt;int&gt; | sex &lt;int&gt; | affection &lt;int&gt; |\n",
       "|---|---|---|---|---|---|---|\n",
       "| 1 | EUR_GBR | HG00096 | 0 | 0 | 1 | 1 |\n",
       "| 2 | EUR_GBR | HG00097 | 0 | 0 | 2 | 2 |\n",
       "| 3 | EUR_GBR | HG00099 | 0 | 0 | 2 | 1 |\n",
       "| 4 | EUR_GBR | HG00100 | 0 | 0 | 2 | 1 |\n",
       "| 5 | EUR_GBR | HG00101 | 0 | 0 | 1 | 1 |\n",
       "| 6 | EUR_GBR | HG00102 | 0 | 0 | 2 | 1 |\n",
       "\n"
      ],
      "text/plain": [
       "  family.ID sample.ID paternal.ID maternal.ID sex affection\n",
       "1 EUR_GBR   HG00096   0           0           1   1        \n",
       "2 EUR_GBR   HG00097   0           0           2   2        \n",
       "3 EUR_GBR   HG00099   0           0           2   1        \n",
       "4 EUR_GBR   HG00100   0           0           2   1        \n",
       "5 EUR_GBR   HG00101   0           0           1   1        \n",
       "6 EUR_GBR   HG00102   0           0           2   1        "
      ]
     },
     "metadata": {},
     "output_type": "display_data"
    }
   ],
   "source": [
    "# family\n",
    "head(obj.bigSNP$fam)"
   ]
  },
  {
   "cell_type": "code",
   "execution_count": 41,
   "metadata": {
    "kernel": "R"
   },
   "outputs": [
    {
     "data": {
      "text/html": [
       "<table>\n",
       "<caption>A data.frame: 6 × 6</caption>\n",
       "<thead>\n",
       "\t<tr><th></th><th scope=col>chromosome</th><th scope=col>marker.ID</th><th scope=col>genetic.dist</th><th scope=col>physical.pos</th><th scope=col>allele1</th><th scope=col>allele2</th></tr>\n",
       "\t<tr><th></th><th scope=col>&lt;int&gt;</th><th scope=col>&lt;chr&gt;</th><th scope=col>&lt;int&gt;</th><th scope=col>&lt;int&gt;</th><th scope=col>&lt;chr&gt;</th><th scope=col>&lt;chr&gt;</th></tr>\n",
       "</thead>\n",
       "<tbody>\n",
       "\t<tr><th scope=row>1</th><td>2</td><td>rs13400442 </td><td>0</td><td>18506</td><td>C  </td><td>T</td></tr>\n",
       "\t<tr><th scope=row>2</th><td>2</td><td>rs7594567  </td><td>0</td><td>21833</td><td>G  </td><td>C</td></tr>\n",
       "\t<tr><th scope=row>3</th><td>2</td><td>rs7597758  </td><td>0</td><td>22398</td><td>T  </td><td>C</td></tr>\n",
       "\t<tr><th scope=row>4</th><td>2</td><td>rs13383216 </td><td>0</td><td>28228</td><td>A  </td><td>G</td></tr>\n",
       "\t<tr><th scope=row>5</th><td>2</td><td>rs148885999</td><td>0</td><td>32003</td><td>GTA</td><td>G</td></tr>\n",
       "\t<tr><th scope=row>6</th><td>2</td><td>rs73138586 </td><td>0</td><td>32005</td><td>A  </td><td>G</td></tr>\n",
       "</tbody>\n",
       "</table>\n"
      ],
      "text/latex": [
       "A data.frame: 6 × 6\n",
       "\\begin{tabular}{r|llllll}\n",
       "  & chromosome & marker.ID & genetic.dist & physical.pos & allele1 & allele2\\\\\n",
       "  & <int> & <chr> & <int> & <int> & <chr> & <chr>\\\\\n",
       "\\hline\n",
       "\t1 & 2 & rs13400442  & 0 & 18506 & C   & T\\\\\n",
       "\t2 & 2 & rs7594567   & 0 & 21833 & G   & C\\\\\n",
       "\t3 & 2 & rs7597758   & 0 & 22398 & T   & C\\\\\n",
       "\t4 & 2 & rs13383216  & 0 & 28228 & A   & G\\\\\n",
       "\t5 & 2 & rs148885999 & 0 & 32003 & GTA & G\\\\\n",
       "\t6 & 2 & rs73138586  & 0 & 32005 & A   & G\\\\\n",
       "\\end{tabular}\n"
      ],
      "text/markdown": [
       "\n",
       "A data.frame: 6 × 6\n",
       "\n",
       "| <!--/--> | chromosome &lt;int&gt; | marker.ID &lt;chr&gt; | genetic.dist &lt;int&gt; | physical.pos &lt;int&gt; | allele1 &lt;chr&gt; | allele2 &lt;chr&gt; |\n",
       "|---|---|---|---|---|---|---|\n",
       "| 1 | 2 | rs13400442  | 0 | 18506 | C   | T |\n",
       "| 2 | 2 | rs7594567   | 0 | 21833 | G   | C |\n",
       "| 3 | 2 | rs7597758   | 0 | 22398 | T   | C |\n",
       "| 4 | 2 | rs13383216  | 0 | 28228 | A   | G |\n",
       "| 5 | 2 | rs148885999 | 0 | 32003 | GTA | G |\n",
       "| 6 | 2 | rs73138586  | 0 | 32005 | A   | G |\n",
       "\n"
      ],
      "text/plain": [
       "  chromosome marker.ID   genetic.dist physical.pos allele1 allele2\n",
       "1 2          rs13400442  0            18506        C       T      \n",
       "2 2          rs7594567   0            21833        G       C      \n",
       "3 2          rs7597758   0            22398        T       C      \n",
       "4 2          rs13383216  0            28228        A       G      \n",
       "5 2          rs148885999 0            32003        GTA     G      \n",
       "6 2          rs73138586  0            32005        A       G      "
      ]
     },
     "metadata": {},
     "output_type": "display_data"
    }
   ],
   "source": [
    "# map\n",
    "head(obj.bigSNP$map)"
   ]
  },
  {
   "cell_type": "markdown",
   "metadata": {
    "kernel": "R"
   },
   "source": [
    "### Get aliases for useful slots"
   ]
  },
  {
   "cell_type": "code",
   "execution_count": 53,
   "metadata": {
    "kernel": "R"
   },
   "outputs": [
    {
     "data": {
      "text/html": [
       "<style>\n",
       ".list-inline {list-style: none; margin:0; padding: 0}\n",
       ".list-inline>li {display: inline-block}\n",
       ".list-inline>li:not(:last-child)::after {content: \"\\00b7\"; padding: 0 .5ex}\n",
       "</style>\n",
       "<ol class=list-inline><li>559</li><li>130816</li></ol>\n"
      ],
      "text/latex": [
       "\\begin{enumerate*}\n",
       "\\item 559\n",
       "\\item 130816\n",
       "\\end{enumerate*}\n"
      ],
      "text/markdown": [
       "1. 559\n",
       "2. 130816\n",
       "\n",
       "\n"
      ],
      "text/plain": [
       "[1]    559 130816"
      ]
     },
     "metadata": {},
     "output_type": "display_data"
    },
    {
     "data": {
      "text/plain": [
       "   Min. 1st Qu.  Median    Mean 3rd Qu.    Max. \n",
       "  2.000   2.000   6.000   4.927   8.000   8.000 "
      ]
     },
     "metadata": {},
     "output_type": "display_data"
    },
    {
     "data": {
      "text/plain": [
       "     Min.   1st Qu.    Median      Mean   3rd Qu.      Max. \n",
       "    18506  36813389  85844183  93681844 138864818 243164462 "
      ]
     },
     "metadata": {},
     "output_type": "display_data"
    },
    {
     "data": {
      "text/plain": [
       "   Min. 1st Qu.  Median    Mean 3rd Qu.    Max. \n",
       " 0.0000  0.0000  0.0000  0.2809  1.0000  1.0000 "
      ]
     },
     "metadata": {},
     "output_type": "display_data"
    },
    {
     "data": {
      "text/plain": [
       "   Min. 1st Qu.  Median    Mean 3rd Qu.    Max. \n",
       "      2       2       2       2       2       2 "
      ]
     },
     "metadata": {},
     "output_type": "display_data"
    }
   ],
   "source": [
    "G   <- obj.bigSNP$genotypes\n",
    "CHR <- obj.bigSNP$map$chromosome       # chromosome number\n",
    "POS <- obj.bigSNP$map$physical.pos     # genetic position （ascending）\n",
    "y   <- obj.bigSNP$fam$affection - 1    # family affection? outcome\n",
    "NCORES <- nb_cores()\n",
    "dim(G)\n",
    "summary(CHR)\n",
    "summary(POS)\n",
    "summary(y)\n"
   ]
  },
  {
   "cell_type": "markdown",
   "metadata": {
    "kernel": "R"
   },
   "source": [
    "### Read external summary statistics\n",
    "cases: 157, controls: 402"
   ]
  },
  {
   "cell_type": "code",
   "execution_count": 43,
   "metadata": {
    "kernel": "R"
   },
   "outputs": [
    {
     "name": "stdout",
     "output_type": "stream",
     "text": [
      "'data.frame':\t130816 obs. of  10 variables:\n",
      " $ chromosome  : int  2 2 2 2 2 2 2 2 2 2 ...\n",
      " $ marker.ID   : chr  \"rs13400442\" \"rs7594567\" \"rs7597758\" \"rs13383216\" ...\n",
      " $ physical.pos: int  18506 21833 22398 28228 32003 32005 36787 55237 56916 61687 ...\n",
      " $ allele1     : chr  \"C\" \"G\" \"T\" \"A\" ...\n",
      " $ allele2     : chr  \"T\" \"C\" \"C\" \"G\" ...\n",
      " $ beta        : num  -0.073 0.0439 -0.3325 -0.5445 -0.4881 ...\n",
      " $ beta_se     : num  0.277 0.248 0.192 0.247 0.242 ...\n",
      " $ n_case      : int  157 157 157 157 157 157 157 157 157 157 ...\n",
      " $ n_control   : int  402 402 402 402 402 402 402 402 402 402 ...\n",
      " $ p           : num  0.7925 0.8593 0.0846 0.028 0.0439 ...\n"
     ]
    },
    {
     "data": {
      "text/html": [
       "<table>\n",
       "<caption>A data.frame: 10 × 10</caption>\n",
       "<thead>\n",
       "\t<tr><th></th><th scope=col>chromosome</th><th scope=col>marker.ID</th><th scope=col>physical.pos</th><th scope=col>allele1</th><th scope=col>allele2</th><th scope=col>beta</th><th scope=col>beta_se</th><th scope=col>n_case</th><th scope=col>n_control</th><th scope=col>p</th></tr>\n",
       "\t<tr><th></th><th scope=col>&lt;int&gt;</th><th scope=col>&lt;chr&gt;</th><th scope=col>&lt;int&gt;</th><th scope=col>&lt;chr&gt;</th><th scope=col>&lt;chr&gt;</th><th scope=col>&lt;dbl&gt;</th><th scope=col>&lt;dbl&gt;</th><th scope=col>&lt;int&gt;</th><th scope=col>&lt;int&gt;</th><th scope=col>&lt;dbl&gt;</th></tr>\n",
       "</thead>\n",
       "<tbody>\n",
       "\t<tr><th scope=row>1</th><td>2</td><td>rs13400442 </td><td>18506</td><td>C  </td><td>T</td><td>-0.07295006</td><td>0.2772155</td><td>157</td><td>402</td><td>0.792531845</td></tr>\n",
       "\t<tr><th scope=row>2</th><td>2</td><td>rs7594567  </td><td>21833</td><td>G  </td><td>C</td><td> 0.04391055</td><td>0.2476724</td><td>157</td><td>402</td><td>0.859343963</td></tr>\n",
       "\t<tr><th scope=row>3</th><td>2</td><td>rs7597758  </td><td>22398</td><td>T  </td><td>C</td><td>-0.33245302</td><td>0.1924414</td><td>157</td><td>402</td><td>0.084632598</td></tr>\n",
       "\t<tr><th scope=row>4</th><td>2</td><td>rs13383216 </td><td>28228</td><td>A  </td><td>G</td><td>-0.54447405</td><td>0.2471637</td><td>157</td><td>402</td><td>0.028018845</td></tr>\n",
       "\t<tr><th scope=row>5</th><td>2</td><td>rs148885999</td><td>32003</td><td>GTA</td><td>G</td><td>-0.48808613</td><td>0.2416836</td><td>157</td><td>402</td><td>0.043919800</td></tr>\n",
       "\t<tr><th scope=row>6</th><td>2</td><td>rs73138586 </td><td>32005</td><td>A  </td><td>G</td><td>-0.05095579</td><td>0.2069469</td><td>157</td><td>402</td><td>0.805599345</td></tr>\n",
       "\t<tr><th scope=row>7</th><td>2</td><td>rs11900053 </td><td>36787</td><td>T  </td><td>C</td><td>-0.25153251</td><td>0.1791844</td><td>157</td><td>402</td><td>0.160956743</td></tr>\n",
       "\t<tr><th scope=row>8</th><td>2</td><td>rs10188860 </td><td>55237</td><td>C  </td><td>T</td><td>-0.41199798</td><td>0.1843832</td><td>157</td><td>402</td><td>0.025855550</td></tr>\n",
       "\t<tr><th scope=row>9</th><td>2</td><td>rs10206578 </td><td>56916</td><td>C  </td><td>G</td><td>-0.61921212</td><td>0.2385241</td><td>157</td><td>402</td><td>0.009684652</td></tr>\n",
       "\t<tr><th scope=row>10</th><td>2</td><td>rs10197241 </td><td>61687</td><td>T  </td><td>A</td><td>-0.45331964</td><td>0.1858534</td><td>157</td><td>402</td><td>0.015039744</td></tr>\n",
       "</tbody>\n",
       "</table>\n"
      ],
      "text/latex": [
       "A data.frame: 10 × 10\n",
       "\\begin{tabular}{r|llllllllll}\n",
       "  & chromosome & marker.ID & physical.pos & allele1 & allele2 & beta & beta\\_se & n\\_case & n\\_control & p\\\\\n",
       "  & <int> & <chr> & <int> & <chr> & <chr> & <dbl> & <dbl> & <int> & <int> & <dbl>\\\\\n",
       "\\hline\n",
       "\t1 & 2 & rs13400442  & 18506 & C   & T & -0.07295006 & 0.2772155 & 157 & 402 & 0.792531845\\\\\n",
       "\t2 & 2 & rs7594567   & 21833 & G   & C &  0.04391055 & 0.2476724 & 157 & 402 & 0.859343963\\\\\n",
       "\t3 & 2 & rs7597758   & 22398 & T   & C & -0.33245302 & 0.1924414 & 157 & 402 & 0.084632598\\\\\n",
       "\t4 & 2 & rs13383216  & 28228 & A   & G & -0.54447405 & 0.2471637 & 157 & 402 & 0.028018845\\\\\n",
       "\t5 & 2 & rs148885999 & 32003 & GTA & G & -0.48808613 & 0.2416836 & 157 & 402 & 0.043919800\\\\\n",
       "\t6 & 2 & rs73138586  & 32005 & A   & G & -0.05095579 & 0.2069469 & 157 & 402 & 0.805599345\\\\\n",
       "\t7 & 2 & rs11900053  & 36787 & T   & C & -0.25153251 & 0.1791844 & 157 & 402 & 0.160956743\\\\\n",
       "\t8 & 2 & rs10188860  & 55237 & C   & T & -0.41199798 & 0.1843832 & 157 & 402 & 0.025855550\\\\\n",
       "\t9 & 2 & rs10206578  & 56916 & C   & G & -0.61921212 & 0.2385241 & 157 & 402 & 0.009684652\\\\\n",
       "\t10 & 2 & rs10197241  & 61687 & T   & A & -0.45331964 & 0.1858534 & 157 & 402 & 0.015039744\\\\\n",
       "\\end{tabular}\n"
      ],
      "text/markdown": [
       "\n",
       "A data.frame: 10 × 10\n",
       "\n",
       "| <!--/--> | chromosome &lt;int&gt; | marker.ID &lt;chr&gt; | physical.pos &lt;int&gt; | allele1 &lt;chr&gt; | allele2 &lt;chr&gt; | beta &lt;dbl&gt; | beta_se &lt;dbl&gt; | n_case &lt;int&gt; | n_control &lt;int&gt; | p &lt;dbl&gt; |\n",
       "|---|---|---|---|---|---|---|---|---|---|---|\n",
       "| 1 | 2 | rs13400442  | 18506 | C   | T | -0.07295006 | 0.2772155 | 157 | 402 | 0.792531845 |\n",
       "| 2 | 2 | rs7594567   | 21833 | G   | C |  0.04391055 | 0.2476724 | 157 | 402 | 0.859343963 |\n",
       "| 3 | 2 | rs7597758   | 22398 | T   | C | -0.33245302 | 0.1924414 | 157 | 402 | 0.084632598 |\n",
       "| 4 | 2 | rs13383216  | 28228 | A   | G | -0.54447405 | 0.2471637 | 157 | 402 | 0.028018845 |\n",
       "| 5 | 2 | rs148885999 | 32003 | GTA | G | -0.48808613 | 0.2416836 | 157 | 402 | 0.043919800 |\n",
       "| 6 | 2 | rs73138586  | 32005 | A   | G | -0.05095579 | 0.2069469 | 157 | 402 | 0.805599345 |\n",
       "| 7 | 2 | rs11900053  | 36787 | T   | C | -0.25153251 | 0.1791844 | 157 | 402 | 0.160956743 |\n",
       "| 8 | 2 | rs10188860  | 55237 | C   | T | -0.41199798 | 0.1843832 | 157 | 402 | 0.025855550 |\n",
       "| 9 | 2 | rs10206578  | 56916 | C   | G | -0.61921212 | 0.2385241 | 157 | 402 | 0.009684652 |\n",
       "| 10 | 2 | rs10197241  | 61687 | T   | A | -0.45331964 | 0.1858534 | 157 | 402 | 0.015039744 |\n",
       "\n"
      ],
      "text/plain": [
       "   chromosome marker.ID   physical.pos allele1 allele2 beta        beta_se  \n",
       "1  2          rs13400442  18506        C       T       -0.07295006 0.2772155\n",
       "2  2          rs7594567   21833        G       C        0.04391055 0.2476724\n",
       "3  2          rs7597758   22398        T       C       -0.33245302 0.1924414\n",
       "4  2          rs13383216  28228        A       G       -0.54447405 0.2471637\n",
       "5  2          rs148885999 32003        GTA     G       -0.48808613 0.2416836\n",
       "6  2          rs73138586  32005        A       G       -0.05095579 0.2069469\n",
       "7  2          rs11900053  36787        T       C       -0.25153251 0.1791844\n",
       "8  2          rs10188860  55237        C       T       -0.41199798 0.1843832\n",
       "9  2          rs10206578  56916        C       G       -0.61921212 0.2385241\n",
       "10 2          rs10197241  61687        T       A       -0.45331964 0.1858534\n",
       "   n_case n_control p          \n",
       "1  157    402       0.792531845\n",
       "2  157    402       0.859343963\n",
       "3  157    402       0.084632598\n",
       "4  157    402       0.028018845\n",
       "5  157    402       0.043919800\n",
       "6  157    402       0.805599345\n",
       "7  157    402       0.160956743\n",
       "8  157    402       0.025855550\n",
       "9  157    402       0.009684652\n",
       "10 157    402       0.015039744"
      ]
     },
     "metadata": {},
     "output_type": "display_data"
    }
   ],
   "source": [
    "sumstats <- bigreadr::fread2(\"tmp-data/public-data-sumstats.txt\")\n",
    "str(sumstats)\n",
    "head(sumstats,10)\n",
    "### allele1: reference allele, allele2: derived allele???"
   ]
  },
  {
   "cell_type": "markdown",
   "metadata": {
    "kernel": "R"
   },
   "source": [
    "### Split data to trainset and testset\n",
    "\n",
    "There are 400 individuals to be used as validation set to tune hyper-parameters for LDpred2-grid. The other 159 individuals are used as test set to evaluate the final models."
   ]
  },
  {
   "cell_type": "code",
   "execution_count": 44,
   "metadata": {
    "kernel": "R"
   },
   "outputs": [],
   "source": [
    "set.seed(1)\n",
    "ind.val <- sample(nrow(G), 400)\n",
    "ind.test <- setdiff(rows_along(G), ind.val)"
   ]
  },
  {
   "cell_type": "markdown",
   "metadata": {
    "kernel": "R"
   },
   "source": [
    "## Matching variants between genotype data and summary statistics\n",
    "\n",
    "These 4 variables are used to match variants between the two data frames."
   ]
  },
  {
   "cell_type": "code",
   "execution_count": 45,
   "metadata": {
    "kernel": "R"
   },
   "outputs": [
    {
     "name": "stderr",
     "output_type": "stream",
     "text": [
      "130,816 variants to be matched.\n",
      "\n",
      "18,932 ambiguous SNPs have been removed.\n",
      "\n",
      "Some duplicates were removed.\n",
      "\n",
      "111,866 variants have been matched; 0 were flipped and 0 were reversed.\n",
      "\n"
     ]
    }
   ],
   "source": [
    "sumstats$n_eff <- 4 / (1 / sumstats$n_case + 1 / sumstats$n_control)\n",
    "sumstats$n_case <- sumstats$n_control <- NULL\n",
    "names(sumstats) <- c(\"chr\", \"rsid\", \"pos\", \"a0\", \"a1\", \"beta\", \"beta_se\", \"p\", \"n_eff\")\n",
    "map <- obj.bigSNP$map[-(2:3)]\n",
    "names(map) <- c(\"chr\", \"pos\", \"a0\", \"a1\")\n",
    "info_snp <- snp_match(sumstats, map)"
   ]
  },
  {
   "cell_type": "markdown",
   "metadata": {
    "kernel": "R"
   },
   "source": [
    "**Q: \"a0\" (reference allele) and \"a1\" (derived allele) ?????**"
   ]
  },
  {
   "cell_type": "code",
   "execution_count": 47,
   "metadata": {
    "kernel": "R"
   },
   "outputs": [
    {
     "data": {
      "text/html": [
       "<table>\n",
       "<caption>A data.frame: 15 × 11</caption>\n",
       "<thead>\n",
       "\t<tr><th></th><th scope=col>chr</th><th scope=col>pos</th><th scope=col>a0</th><th scope=col>a1</th><th scope=col>rsid</th><th scope=col>beta</th><th scope=col>beta_se</th><th scope=col>p</th><th scope=col>n_eff</th><th scope=col>_NUM_ID_.ss</th><th scope=col>_NUM_ID_</th></tr>\n",
       "\t<tr><th></th><th scope=col>&lt;int&gt;</th><th scope=col>&lt;int&gt;</th><th scope=col>&lt;chr&gt;</th><th scope=col>&lt;chr&gt;</th><th scope=col>&lt;chr&gt;</th><th scope=col>&lt;dbl&gt;</th><th scope=col>&lt;dbl&gt;</th><th scope=col>&lt;dbl&gt;</th><th scope=col>&lt;dbl&gt;</th><th scope=col>&lt;int&gt;</th><th scope=col>&lt;int&gt;</th></tr>\n",
       "</thead>\n",
       "<tbody>\n",
       "\t<tr><th scope=row>1</th><td>2</td><td>18506</td><td>C  </td><td>T</td><td>rs13400442 </td><td>-0.072950062</td><td>0.2772155</td><td>0.79253185</td><td>451.6208</td><td> 1</td><td> 1</td></tr>\n",
       "\t<tr><th scope=row>2</th><td>2</td><td>22398</td><td>T  </td><td>C</td><td>rs7597758  </td><td>-0.332453022</td><td>0.1924414</td><td>0.08463260</td><td>451.6208</td><td> 3</td><td> 3</td></tr>\n",
       "\t<tr><th scope=row>3</th><td>2</td><td>28228</td><td>A  </td><td>G</td><td>rs13383216 </td><td>-0.544474054</td><td>0.2471637</td><td>0.02801885</td><td>451.6208</td><td> 4</td><td> 4</td></tr>\n",
       "\t<tr><th scope=row>4</th><td>2</td><td>32003</td><td>GTA</td><td>G</td><td>rs148885999</td><td>-0.488086130</td><td>0.2416836</td><td>0.04391980</td><td>451.6208</td><td> 5</td><td> 5</td></tr>\n",
       "\t<tr><th scope=row>5</th><td>2</td><td>32005</td><td>A  </td><td>G</td><td>rs73138586 </td><td>-0.050955787</td><td>0.2069469</td><td>0.80559934</td><td>451.6208</td><td> 6</td><td> 6</td></tr>\n",
       "\t<tr><th scope=row>6</th><td>2</td><td>36787</td><td>T  </td><td>C</td><td>rs11900053 </td><td>-0.251532509</td><td>0.1791844</td><td>0.16095674</td><td>451.6208</td><td> 7</td><td> 7</td></tr>\n",
       "\t<tr><th scope=row>7</th><td>2</td><td>55237</td><td>C  </td><td>T</td><td>rs10188860 </td><td>-0.411997979</td><td>0.1843832</td><td>0.02585555</td><td>451.6208</td><td> 8</td><td> 8</td></tr>\n",
       "\t<tr><th scope=row>8</th><td>2</td><td>63452</td><td>G  </td><td>T</td><td>rs957298   </td><td> 0.005241966</td><td>0.2797547</td><td>0.98505717</td><td>451.6208</td><td>11</td><td>11</td></tr>\n",
       "\t<tr><th scope=row>9</th><td>2</td><td>65914</td><td>C  </td><td>T</td><td>rs62116664 </td><td> 0.126174598</td><td>0.2676700</td><td>0.63755648</td><td>451.6208</td><td>12</td><td>12</td></tr>\n",
       "\t<tr><th scope=row>10</th><td>2</td><td>66731</td><td>G  </td><td>A</td><td>rs62116667 </td><td> 0.009097149</td><td>0.2714570</td><td>0.97327828</td><td>451.6208</td><td>13</td><td>13</td></tr>\n",
       "\t<tr><th scope=row>11</th><td>2</td><td>68351</td><td>C  </td><td>T</td><td>rs300763   </td><td>-0.543327115</td><td>0.2102013</td><td>0.01000151</td><td>451.6208</td><td>14</td><td>14</td></tr>\n",
       "\t<tr><th scope=row>12</th><td>2</td><td>68449</td><td>T  </td><td>C</td><td>rs115719856</td><td> 0.047265983</td><td>0.2743672</td><td>0.86328686</td><td>451.6208</td><td>15</td><td>15</td></tr>\n",
       "\t<tr><th scope=row>13</th><td>2</td><td>72515</td><td>A  </td><td>G</td><td>rs300757   </td><td>-0.622230160</td><td>0.2491567</td><td>0.01280551</td><td>451.6208</td><td>17</td><td>17</td></tr>\n",
       "\t<tr><th scope=row>14</th><td>2</td><td>74483</td><td>T  </td><td>C</td><td>rs62116673 </td><td> 0.119688982</td><td>0.2972938</td><td>0.68740351</td><td>451.6208</td><td>18</td><td>18</td></tr>\n",
       "\t<tr><th scope=row>15</th><td>2</td><td>76420</td><td>T  </td><td>G</td><td>rs34191766 </td><td> 0.103298383</td><td>0.1411395</td><td>0.46454990</td><td>451.6208</td><td>19</td><td>19</td></tr>\n",
       "</tbody>\n",
       "</table>\n"
      ],
      "text/latex": [
       "A data.frame: 15 × 11\n",
       "\\begin{tabular}{r|lllllllllll}\n",
       "  & chr & pos & a0 & a1 & rsid & beta & beta\\_se & p & n\\_eff & \\_NUM\\_ID\\_.ss & \\_NUM\\_ID\\_\\\\\n",
       "  & <int> & <int> & <chr> & <chr> & <chr> & <dbl> & <dbl> & <dbl> & <dbl> & <int> & <int>\\\\\n",
       "\\hline\n",
       "\t1 & 2 & 18506 & C   & T & rs13400442  & -0.072950062 & 0.2772155 & 0.79253185 & 451.6208 &  1 &  1\\\\\n",
       "\t2 & 2 & 22398 & T   & C & rs7597758   & -0.332453022 & 0.1924414 & 0.08463260 & 451.6208 &  3 &  3\\\\\n",
       "\t3 & 2 & 28228 & A   & G & rs13383216  & -0.544474054 & 0.2471637 & 0.02801885 & 451.6208 &  4 &  4\\\\\n",
       "\t4 & 2 & 32003 & GTA & G & rs148885999 & -0.488086130 & 0.2416836 & 0.04391980 & 451.6208 &  5 &  5\\\\\n",
       "\t5 & 2 & 32005 & A   & G & rs73138586  & -0.050955787 & 0.2069469 & 0.80559934 & 451.6208 &  6 &  6\\\\\n",
       "\t6 & 2 & 36787 & T   & C & rs11900053  & -0.251532509 & 0.1791844 & 0.16095674 & 451.6208 &  7 &  7\\\\\n",
       "\t7 & 2 & 55237 & C   & T & rs10188860  & -0.411997979 & 0.1843832 & 0.02585555 & 451.6208 &  8 &  8\\\\\n",
       "\t8 & 2 & 63452 & G   & T & rs957298    &  0.005241966 & 0.2797547 & 0.98505717 & 451.6208 & 11 & 11\\\\\n",
       "\t9 & 2 & 65914 & C   & T & rs62116664  &  0.126174598 & 0.2676700 & 0.63755648 & 451.6208 & 12 & 12\\\\\n",
       "\t10 & 2 & 66731 & G   & A & rs62116667  &  0.009097149 & 0.2714570 & 0.97327828 & 451.6208 & 13 & 13\\\\\n",
       "\t11 & 2 & 68351 & C   & T & rs300763    & -0.543327115 & 0.2102013 & 0.01000151 & 451.6208 & 14 & 14\\\\\n",
       "\t12 & 2 & 68449 & T   & C & rs115719856 &  0.047265983 & 0.2743672 & 0.86328686 & 451.6208 & 15 & 15\\\\\n",
       "\t13 & 2 & 72515 & A   & G & rs300757    & -0.622230160 & 0.2491567 & 0.01280551 & 451.6208 & 17 & 17\\\\\n",
       "\t14 & 2 & 74483 & T   & C & rs62116673  &  0.119688982 & 0.2972938 & 0.68740351 & 451.6208 & 18 & 18\\\\\n",
       "\t15 & 2 & 76420 & T   & G & rs34191766  &  0.103298383 & 0.1411395 & 0.46454990 & 451.6208 & 19 & 19\\\\\n",
       "\\end{tabular}\n"
      ],
      "text/markdown": [
       "\n",
       "A data.frame: 15 × 11\n",
       "\n",
       "| <!--/--> | chr &lt;int&gt; | pos &lt;int&gt; | a0 &lt;chr&gt; | a1 &lt;chr&gt; | rsid &lt;chr&gt; | beta &lt;dbl&gt; | beta_se &lt;dbl&gt; | p &lt;dbl&gt; | n_eff &lt;dbl&gt; | _NUM_ID_.ss &lt;int&gt; | _NUM_ID_ &lt;int&gt; |\n",
       "|---|---|---|---|---|---|---|---|---|---|---|---|\n",
       "| 1 | 2 | 18506 | C   | T | rs13400442  | -0.072950062 | 0.2772155 | 0.79253185 | 451.6208 |  1 |  1 |\n",
       "| 2 | 2 | 22398 | T   | C | rs7597758   | -0.332453022 | 0.1924414 | 0.08463260 | 451.6208 |  3 |  3 |\n",
       "| 3 | 2 | 28228 | A   | G | rs13383216  | -0.544474054 | 0.2471637 | 0.02801885 | 451.6208 |  4 |  4 |\n",
       "| 4 | 2 | 32003 | GTA | G | rs148885999 | -0.488086130 | 0.2416836 | 0.04391980 | 451.6208 |  5 |  5 |\n",
       "| 5 | 2 | 32005 | A   | G | rs73138586  | -0.050955787 | 0.2069469 | 0.80559934 | 451.6208 |  6 |  6 |\n",
       "| 6 | 2 | 36787 | T   | C | rs11900053  | -0.251532509 | 0.1791844 | 0.16095674 | 451.6208 |  7 |  7 |\n",
       "| 7 | 2 | 55237 | C   | T | rs10188860  | -0.411997979 | 0.1843832 | 0.02585555 | 451.6208 |  8 |  8 |\n",
       "| 8 | 2 | 63452 | G   | T | rs957298    |  0.005241966 | 0.2797547 | 0.98505717 | 451.6208 | 11 | 11 |\n",
       "| 9 | 2 | 65914 | C   | T | rs62116664  |  0.126174598 | 0.2676700 | 0.63755648 | 451.6208 | 12 | 12 |\n",
       "| 10 | 2 | 66731 | G   | A | rs62116667  |  0.009097149 | 0.2714570 | 0.97327828 | 451.6208 | 13 | 13 |\n",
       "| 11 | 2 | 68351 | C   | T | rs300763    | -0.543327115 | 0.2102013 | 0.01000151 | 451.6208 | 14 | 14 |\n",
       "| 12 | 2 | 68449 | T   | C | rs115719856 |  0.047265983 | 0.2743672 | 0.86328686 | 451.6208 | 15 | 15 |\n",
       "| 13 | 2 | 72515 | A   | G | rs300757    | -0.622230160 | 0.2491567 | 0.01280551 | 451.6208 | 17 | 17 |\n",
       "| 14 | 2 | 74483 | T   | C | rs62116673  |  0.119688982 | 0.2972938 | 0.68740351 | 451.6208 | 18 | 18 |\n",
       "| 15 | 2 | 76420 | T   | G | rs34191766  |  0.103298383 | 0.1411395 | 0.46454990 | 451.6208 | 19 | 19 |\n",
       "\n"
      ],
      "text/plain": [
       "   chr pos   a0  a1 rsid        beta         beta_se   p          n_eff   \n",
       "1  2   18506 C   T  rs13400442  -0.072950062 0.2772155 0.79253185 451.6208\n",
       "2  2   22398 T   C  rs7597758   -0.332453022 0.1924414 0.08463260 451.6208\n",
       "3  2   28228 A   G  rs13383216  -0.544474054 0.2471637 0.02801885 451.6208\n",
       "4  2   32003 GTA G  rs148885999 -0.488086130 0.2416836 0.04391980 451.6208\n",
       "5  2   32005 A   G  rs73138586  -0.050955787 0.2069469 0.80559934 451.6208\n",
       "6  2   36787 T   C  rs11900053  -0.251532509 0.1791844 0.16095674 451.6208\n",
       "7  2   55237 C   T  rs10188860  -0.411997979 0.1843832 0.02585555 451.6208\n",
       "8  2   63452 G   T  rs957298     0.005241966 0.2797547 0.98505717 451.6208\n",
       "9  2   65914 C   T  rs62116664   0.126174598 0.2676700 0.63755648 451.6208\n",
       "10 2   66731 G   A  rs62116667   0.009097149 0.2714570 0.97327828 451.6208\n",
       "11 2   68351 C   T  rs300763    -0.543327115 0.2102013 0.01000151 451.6208\n",
       "12 2   68449 T   C  rs115719856  0.047265983 0.2743672 0.86328686 451.6208\n",
       "13 2   72515 A   G  rs300757    -0.622230160 0.2491567 0.01280551 451.6208\n",
       "14 2   74483 T   C  rs62116673   0.119688982 0.2972938 0.68740351 451.6208\n",
       "15 2   76420 T   G  rs34191766   0.103298383 0.1411395 0.46454990 451.6208\n",
       "   _NUM_ID_.ss _NUM_ID_\n",
       "1   1           1      \n",
       "2   3           3      \n",
       "3   4           4      \n",
       "4   5           5      \n",
       "5   6           6      \n",
       "6   7           7      \n",
       "7   8           8      \n",
       "8  11          11      \n",
       "9  12          12      \n",
       "10 13          13      \n",
       "11 14          14      \n",
       "12 15          15      \n",
       "13 17          17      \n",
       "14 18          18      \n",
       "15 19          19      "
      ]
     },
     "metadata": {},
     "output_type": "display_data"
    }
   ],
   "source": [
    "head(info_snp,15)"
   ]
  },
  {
   "cell_type": "markdown",
   "metadata": {
    "kernel": "R"
   },
   "source": [
    "If no or few variants are actually flipped (????), you might want to disable the strand flipping option. Here, these are simulated data so all variants use the same strand and the same reference."
   ]
  },
  {
   "cell_type": "code",
   "execution_count": 48,
   "metadata": {
    "kernel": "R"
   },
   "outputs": [
    {
     "name": "stderr",
     "output_type": "stream",
     "text": [
      "130,816 variants to be matched.\n",
      "\n",
      "Some duplicates were removed.\n",
      "\n",
      "130,792 variants have been matched; 0 were flipped and 0 were reversed.\n",
      "\n"
     ]
    }
   ],
   "source": [
    "info_snp <- snp_match(sumstats, map, strand_flip = FALSE)"
   ]
  },
  {
   "cell_type": "code",
   "execution_count": 63,
   "metadata": {
    "kernel": "R"
   },
   "outputs": [
    {
     "data": {
      "text/html": [
       "<table>\n",
       "<caption>A data.frame: 6 × 11</caption>\n",
       "<thead>\n",
       "\t<tr><th></th><th scope=col>chr</th><th scope=col>pos</th><th scope=col>a0</th><th scope=col>a1</th><th scope=col>rsid</th><th scope=col>beta</th><th scope=col>beta_se</th><th scope=col>p</th><th scope=col>n_eff</th><th scope=col>_NUM_ID_.ss</th><th scope=col>_NUM_ID_</th></tr>\n",
       "\t<tr><th></th><th scope=col>&lt;int&gt;</th><th scope=col>&lt;int&gt;</th><th scope=col>&lt;chr&gt;</th><th scope=col>&lt;chr&gt;</th><th scope=col>&lt;chr&gt;</th><th scope=col>&lt;dbl&gt;</th><th scope=col>&lt;dbl&gt;</th><th scope=col>&lt;dbl&gt;</th><th scope=col>&lt;dbl&gt;</th><th scope=col>&lt;int&gt;</th><th scope=col>&lt;int&gt;</th></tr>\n",
       "</thead>\n",
       "<tbody>\n",
       "\t<tr><th scope=row>1</th><td>2</td><td>18506</td><td>C  </td><td>T</td><td>rs13400442 </td><td>-0.07295006</td><td>0.2772155</td><td>0.79253185</td><td>451.6208</td><td>1</td><td>1</td></tr>\n",
       "\t<tr><th scope=row>2</th><td>2</td><td>21833</td><td>G  </td><td>C</td><td>rs7594567  </td><td> 0.04391055</td><td>0.2476724</td><td>0.85934396</td><td>451.6208</td><td>2</td><td>2</td></tr>\n",
       "\t<tr><th scope=row>3</th><td>2</td><td>22398</td><td>T  </td><td>C</td><td>rs7597758  </td><td>-0.33245302</td><td>0.1924414</td><td>0.08463260</td><td>451.6208</td><td>3</td><td>3</td></tr>\n",
       "\t<tr><th scope=row>4</th><td>2</td><td>28228</td><td>A  </td><td>G</td><td>rs13383216 </td><td>-0.54447405</td><td>0.2471637</td><td>0.02801885</td><td>451.6208</td><td>4</td><td>4</td></tr>\n",
       "\t<tr><th scope=row>5</th><td>2</td><td>32003</td><td>GTA</td><td>G</td><td>rs148885999</td><td>-0.48808613</td><td>0.2416836</td><td>0.04391980</td><td>451.6208</td><td>5</td><td>5</td></tr>\n",
       "\t<tr><th scope=row>6</th><td>2</td><td>32005</td><td>A  </td><td>G</td><td>rs73138586 </td><td>-0.05095579</td><td>0.2069469</td><td>0.80559934</td><td>451.6208</td><td>6</td><td>6</td></tr>\n",
       "</tbody>\n",
       "</table>\n"
      ],
      "text/latex": [
       "A data.frame: 6 × 11\n",
       "\\begin{tabular}{r|lllllllllll}\n",
       "  & chr & pos & a0 & a1 & rsid & beta & beta\\_se & p & n\\_eff & \\_NUM\\_ID\\_.ss & \\_NUM\\_ID\\_\\\\\n",
       "  & <int> & <int> & <chr> & <chr> & <chr> & <dbl> & <dbl> & <dbl> & <dbl> & <int> & <int>\\\\\n",
       "\\hline\n",
       "\t1 & 2 & 18506 & C   & T & rs13400442  & -0.07295006 & 0.2772155 & 0.79253185 & 451.6208 & 1 & 1\\\\\n",
       "\t2 & 2 & 21833 & G   & C & rs7594567   &  0.04391055 & 0.2476724 & 0.85934396 & 451.6208 & 2 & 2\\\\\n",
       "\t3 & 2 & 22398 & T   & C & rs7597758   & -0.33245302 & 0.1924414 & 0.08463260 & 451.6208 & 3 & 3\\\\\n",
       "\t4 & 2 & 28228 & A   & G & rs13383216  & -0.54447405 & 0.2471637 & 0.02801885 & 451.6208 & 4 & 4\\\\\n",
       "\t5 & 2 & 32003 & GTA & G & rs148885999 & -0.48808613 & 0.2416836 & 0.04391980 & 451.6208 & 5 & 5\\\\\n",
       "\t6 & 2 & 32005 & A   & G & rs73138586  & -0.05095579 & 0.2069469 & 0.80559934 & 451.6208 & 6 & 6\\\\\n",
       "\\end{tabular}\n"
      ],
      "text/markdown": [
       "\n",
       "A data.frame: 6 × 11\n",
       "\n",
       "| <!--/--> | chr &lt;int&gt; | pos &lt;int&gt; | a0 &lt;chr&gt; | a1 &lt;chr&gt; | rsid &lt;chr&gt; | beta &lt;dbl&gt; | beta_se &lt;dbl&gt; | p &lt;dbl&gt; | n_eff &lt;dbl&gt; | _NUM_ID_.ss &lt;int&gt; | _NUM_ID_ &lt;int&gt; |\n",
       "|---|---|---|---|---|---|---|---|---|---|---|---|\n",
       "| 1 | 2 | 18506 | C   | T | rs13400442  | -0.07295006 | 0.2772155 | 0.79253185 | 451.6208 | 1 | 1 |\n",
       "| 2 | 2 | 21833 | G   | C | rs7594567   |  0.04391055 | 0.2476724 | 0.85934396 | 451.6208 | 2 | 2 |\n",
       "| 3 | 2 | 22398 | T   | C | rs7597758   | -0.33245302 | 0.1924414 | 0.08463260 | 451.6208 | 3 | 3 |\n",
       "| 4 | 2 | 28228 | A   | G | rs13383216  | -0.54447405 | 0.2471637 | 0.02801885 | 451.6208 | 4 | 4 |\n",
       "| 5 | 2 | 32003 | GTA | G | rs148885999 | -0.48808613 | 0.2416836 | 0.04391980 | 451.6208 | 5 | 5 |\n",
       "| 6 | 2 | 32005 | A   | G | rs73138586  | -0.05095579 | 0.2069469 | 0.80559934 | 451.6208 | 6 | 6 |\n",
       "\n"
      ],
      "text/plain": [
       "  chr pos   a0  a1 rsid        beta        beta_se   p          n_eff   \n",
       "1 2   18506 C   T  rs13400442  -0.07295006 0.2772155 0.79253185 451.6208\n",
       "2 2   21833 G   C  rs7594567    0.04391055 0.2476724 0.85934396 451.6208\n",
       "3 2   22398 T   C  rs7597758   -0.33245302 0.1924414 0.08463260 451.6208\n",
       "4 2   28228 A   G  rs13383216  -0.54447405 0.2471637 0.02801885 451.6208\n",
       "5 2   32003 GTA G  rs148885999 -0.48808613 0.2416836 0.04391980 451.6208\n",
       "6 2   32005 A   G  rs73138586  -0.05095579 0.2069469 0.80559934 451.6208\n",
       "  _NUM_ID_.ss _NUM_ID_\n",
       "1 1           1       \n",
       "2 2           2       \n",
       "3 3           3       \n",
       "4 4           4       \n",
       "5 5           5       \n",
       "6 6           6       "
      ]
     },
     "metadata": {},
     "output_type": "display_data"
    }
   ],
   "source": [
    "head(info_snp)"
   ]
  },
  {
   "cell_type": "markdown",
   "metadata": {
    "kernel": "R"
   },
   "source": [
    "## Computing LDpred2 scores for one chromosome \n",
    "\n",
    "Some **quality control** on summary statistics is highly recommended (see paper). [check the code here](https://github.com/privefl/paper-ldpred2/blob/master/code/prepare-sumstats.R)"
   ]
  },
  {
   "cell_type": "markdown",
   "metadata": {
    "kernel": "R"
   },
   "source": [
    "### Correlation\n",
    "\n",
    "Compute correlations between variants. We recommend to use a window size of 3 cM. Here, we have built the LD matrix using variants from one chromosome only. "
   ]
  },
  {
   "cell_type": "code",
   "execution_count": 50,
   "metadata": {
    "kernel": "R"
   },
   "outputs": [],
   "source": [
    "POS2 <- snp_asGeneticPos(CHR, POS, dir = \"tmp-data\", ncores = NCORES)"
   ]
  },
  {
   "cell_type": "code",
   "execution_count": 59,
   "metadata": {
    "kernel": "R"
   },
   "outputs": [],
   "source": [
    "## indices in info_snp\n",
    "ind.chr <- which(info_snp$chr == 2)\n",
    "df_beta <- info_snp[ind.chr, c(\"beta\", \"beta_se\", \"n_eff\")]"
   ]
  },
  {
   "cell_type": "code",
   "execution_count": 60,
   "metadata": {
    "kernel": "R"
   },
   "outputs": [],
   "source": [
    "## indices in G\n",
    "ind.chr2 <- info_snp$`_NUM_ID_`[ind.chr]\n",
    "corr0 <- snp_cor(G, ind.col = ind.chr2, ncores = NCORES,\n",
    "                 infos.pos = POS2[ind.chr2], size = 3 / 1000)"
   ]
  },
  {
   "cell_type": "code",
   "execution_count": 69,
   "metadata": {
    "kernel": "R"
   },
   "outputs": [],
   "source": [
    "tmp <- tempfile(tmpdir = \"tmp-data\")\n",
    "if (packageVersion(\"bigsnpr\") >= package_version(\"1.4.9\") &&\n",
    "    packageVersion(\"bigsparser\") >= package_version(\"0.4.0\")) {\n",
    "  corr <- as_SFBM(corr0, tmp)\n",
    "} else {\n",
    "  corr <- bigsparser::as_SFBM(as(corr0, \"dgCMatrix\"), tmp)\n",
    "}"
   ]
  },
  {
   "cell_type": "markdown",
   "metadata": {
    "kernel": "R"
   },
   "source": [
    "In practice, build LD matrix for variants from all chromosomes. Please look at the [code](https://github.com/privefl/paper-ldpred2/blob/master/code/prepare-corr-spmat.R#L1-L26) linked at the beginning. Code:"
   ]
  },
  {
   "cell_type": "raw",
   "metadata": {
    "kernel": "R"
   },
   "source": [
    "#library(bigsnpr)\n",
    "ukb <- snp_attach(\"data/UKBB_imp_HM3.rds\")\n",
    "G <- ukb$genotypes\n",
    "CHR <- as.integer(ukb$map$chromosome)\n",
    "POS <- ukb$map$physical.pos\n",
    "\n",
    "load(\"data/ind_val_test.RData\")\n",
    "\n",
    "(NCORES <- as.integer(Sys.getenv(\"SLURM_JOB_CPUS_PER_NODE\")) - 1L)\n",
    "POS2 <- snp_asGeneticPos(CHR, POS, dir = \"tmp-data\", ncores = NCORES)\n",
    "\n",
    "bigassertr::assert_dir(\"data/corr\")\n",
    "\n",
    "for (chr in 1:22) {\n",
    "\n",
    "  ind.chr <- which(CHR == chr)\n",
    "\n",
    "  runonce::save_run(\n",
    "    snp_cor(\n",
    "      G, ind.row = ind.val, ind.col = ind.chr,\n",
    "      alpha = 1, infos.pos = POS2[ind.chr], size = 3 / 1000,\n",
    "      ncores = NCORES\n",
    "    ),\n",
    "    file = paste0(\"data/corr/chr\", chr, \".rds\")\n",
    "  )\n",
    "}\n",
    "## On a node with 16 cores and 128 GB RAM:\n",
    "#     user   system  elapsed\n",
    "# 6737.315   31.980  650.724\n",
    "# 6929.821   40.563  665.379\n",
    "# 7321.282   39.027  644.371\n",
    "# 5373.981   32.860  486.469\n",
    "# 5638.935 1368.178  632.483\n",
    "# 7840.772   52.543  693.595\n",
    "# 4477.675   34.834  424.483\n",
    "# 4875.977   37.007  448.571\n",
    "# 3611.675   26.642  325.730\n",
    "# 4434.387  542.683  445.706\n",
    "# 4250.445   32.365  383.651\n",
    "# 4057.731  801.579  424.581\n",
    "# 3038.082   19.844  265.982\n",
    "# 2445.123   17.932  220.284\n",
    "# 2182.027   15.725  193.493\n",
    "# 1982.660   16.003  182.821\n",
    "# 1632.852   15.099  147.933\n",
    "# 2177.030  372.233  216.424\n",
    "#  857.160    7.769   80.343\n",
    "# 1803.857   13.320  154.808\n",
    "#  788.966    6.565   70.550\n",
    "#  861.304    6.443   72.679\n",
    "# -> 2.2H in total\n",
    "\n",
    "sum(file.size(paste0(\"data/corr/chr\", 1:22, \".rds\"))) / 1024^3\n",
    "# -> 9.5 GB total"
   ]
  },
  {
   "cell_type": "markdown",
   "metadata": {
    "kernel": "R"
   },
   "source": [
    "### Infinitesimal model"
   ]
  },
  {
   "cell_type": "code",
   "execution_count": 66,
   "metadata": {
    "kernel": "R"
   },
   "outputs": [
    {
     "data": {
      "text/html": [
       "<style>\n",
       ".dl-inline {width: auto; margin:0; padding: 0}\n",
       ".dl-inline>dt, .dl-inline>dd {float: none; width: auto; display: inline-block}\n",
       ".dl-inline>dt::after {content: \":\\0020\"; padding-right: .5ex}\n",
       ".dl-inline>dt:not(:first-of-type) {padding-left: .5ex}\n",
       "</style><dl class=dl-inline><dt>int</dt><dd>1</dd><dt>h2</dt><dd>0.114634874063683</dd></dl>\n"
      ],
      "text/latex": [
       "\\begin{description*}\n",
       "\\item[int] 1\n",
       "\\item[h2] 0.114634874063683\n",
       "\\end{description*}\n"
      ],
      "text/markdown": [
       "int\n",
       ":   1h2\n",
       ":   0.114634874063683\n",
       "\n"
      ],
      "text/plain": [
       "      int        h2 \n",
       "1.0000000 0.1146349 "
      ]
     },
     "metadata": {},
     "output_type": "display_data"
    }
   ],
   "source": [
    "ldsc <- snp_ldsc2(corr0, df_beta)\n",
    "ldsc"
   ]
  },
  {
   "cell_type": "code",
   "execution_count": 70,
   "metadata": {
    "kernel": "R"
   },
   "outputs": [],
   "source": [
    "h2_est <- ldsc[[\"h2\"]]\n",
    "beta_inf <- snp_ldpred2_inf(corr, df_beta, h2 = h2_est)\n",
    "pred_inf <- big_prodVec(G, beta_inf, ind.row = ind.test, ind.col = ind.chr2)"
   ]
  },
  {
   "cell_type": "code",
   "execution_count": 71,
   "metadata": {
    "kernel": "R"
   },
   "outputs": [
    {
     "data": {
      "text/html": [
       "<style>\n",
       ".dl-inline {width: auto; margin:0; padding: 0}\n",
       ".dl-inline>dt, .dl-inline>dd {float: none; width: auto; display: inline-block}\n",
       ".dl-inline>dt::after {content: \":\\0020\"; padding-right: .5ex}\n",
       ".dl-inline>dt:not(:first-of-type) {padding-left: .5ex}\n",
       "</style><dl class=dl-inline><dt>Mean</dt><dd>0.663471453398404</dd><dt>2.5%</dt><dd>0.567391102144257</dd><dt>97.5%</dt><dd>0.753411907946661</dd><dt>Sd</dt><dd>0.0478447422282201</dd></dl>\n"
      ],
      "text/latex": [
       "\\begin{description*}\n",
       "\\item[Mean] 0.663471453398404\n",
       "\\item[2.5\\textbackslash{}\\%] 0.567391102144257\n",
       "\\item[97.5\\textbackslash{}\\%] 0.753411907946661\n",
       "\\item[Sd] 0.0478447422282201\n",
       "\\end{description*}\n"
      ],
      "text/markdown": [
       "Mean\n",
       ":   0.6634714533984042.5%\n",
       ":   0.56739110214425797.5%\n",
       ":   0.753411907946661Sd\n",
       ":   0.0478447422282201\n",
       "\n"
      ],
      "text/plain": [
       "      Mean       2.5%      97.5%         Sd \n",
       "0.66347145 0.56739110 0.75341191 0.04784474 "
      ]
     },
     "metadata": {},
     "output_type": "display_data"
    }
   ],
   "source": [
    "AUCBoot(pred_inf, y[ind.test])"
   ]
  },
  {
   "cell_type": "markdown",
   "metadata": {
    "kernel": "R"
   },
   "source": [
    "### Grid of models\n",
    "\n",
    "In practice, we recommend to test multiple values for h2 and p. "
   ]
  },
  {
   "cell_type": "code",
   "execution_count": 72,
   "metadata": {
    "kernel": "R"
   },
   "outputs": [
    {
     "data": {
      "text/html": [
       "<style>\n",
       ".list-inline {list-style: none; margin:0; padding: 0}\n",
       ".list-inline>li {display: inline-block}\n",
       ".list-inline>li:not(:last-child)::after {content: \"\\00b7\"; padding: 0 .5ex}\n",
       "</style>\n",
       "<ol class=list-inline><li>0.0802</li><li>0.1146</li><li>0.1605</li></ol>\n"
      ],
      "text/latex": [
       "\\begin{enumerate*}\n",
       "\\item 0.0802\n",
       "\\item 0.1146\n",
       "\\item 0.1605\n",
       "\\end{enumerate*}\n"
      ],
      "text/markdown": [
       "1. 0.0802\n",
       "2. 0.1146\n",
       "3. 0.1605\n",
       "\n",
       "\n"
      ],
      "text/plain": [
       "[1] 0.0802 0.1146 0.1605"
      ]
     },
     "metadata": {},
     "output_type": "display_data"
    },
    {
     "data": {
      "text/html": [
       "<style>\n",
       ".list-inline {list-style: none; margin:0; padding: 0}\n",
       ".list-inline>li {display: inline-block}\n",
       ".list-inline>li:not(:last-child)::after {content: \"\\00b7\"; padding: 0 .5ex}\n",
       "</style>\n",
       "<ol class=list-inline><li>1e-04</li><li>0.00018</li><li>0.00032</li><li>0.00056</li><li>0.001</li><li>0.0018</li><li>0.0032</li><li>0.0056</li><li>0.01</li><li>0.018</li><li>0.032</li><li>0.056</li><li>0.1</li><li>0.18</li><li>0.32</li><li>0.56</li><li>1</li></ol>\n"
      ],
      "text/latex": [
       "\\begin{enumerate*}\n",
       "\\item 1e-04\n",
       "\\item 0.00018\n",
       "\\item 0.00032\n",
       "\\item 0.00056\n",
       "\\item 0.001\n",
       "\\item 0.0018\n",
       "\\item 0.0032\n",
       "\\item 0.0056\n",
       "\\item 0.01\n",
       "\\item 0.018\n",
       "\\item 0.032\n",
       "\\item 0.056\n",
       "\\item 0.1\n",
       "\\item 0.18\n",
       "\\item 0.32\n",
       "\\item 0.56\n",
       "\\item 1\n",
       "\\end{enumerate*}\n"
      ],
      "text/markdown": [
       "1. 1e-04\n",
       "2. 0.00018\n",
       "3. 0.00032\n",
       "4. 0.00056\n",
       "5. 0.001\n",
       "6. 0.0018\n",
       "7. 0.0032\n",
       "8. 0.0056\n",
       "9. 0.01\n",
       "10. 0.018\n",
       "11. 0.032\n",
       "12. 0.056\n",
       "13. 0.1\n",
       "14. 0.18\n",
       "15. 0.32\n",
       "16. 0.56\n",
       "17. 1\n",
       "\n",
       "\n"
      ],
      "text/plain": [
       " [1] 0.00010 0.00018 0.00032 0.00056 0.00100 0.00180 0.00320 0.00560 0.01000\n",
       "[10] 0.01800 0.03200 0.05600 0.10000 0.18000 0.32000 0.56000 1.00000"
      ]
     },
     "metadata": {},
     "output_type": "display_data"
    },
    {
     "data": {
      "text/html": [
       "<table>\n",
       "<caption>A data.frame: 102 × 3</caption>\n",
       "<thead>\n",
       "\t<tr><th scope=col>p</th><th scope=col>h2</th><th scope=col>sparse</th></tr>\n",
       "\t<tr><th scope=col>&lt;dbl&gt;</th><th scope=col>&lt;dbl&gt;</th><th scope=col>&lt;lgl&gt;</th></tr>\n",
       "</thead>\n",
       "<tbody>\n",
       "\t<tr><td>0.00010</td><td>0.0802</td><td>FALSE</td></tr>\n",
       "\t<tr><td>0.00018</td><td>0.0802</td><td>FALSE</td></tr>\n",
       "\t<tr><td>0.00032</td><td>0.0802</td><td>FALSE</td></tr>\n",
       "\t<tr><td>0.00056</td><td>0.0802</td><td>FALSE</td></tr>\n",
       "\t<tr><td>0.00100</td><td>0.0802</td><td>FALSE</td></tr>\n",
       "\t<tr><td>0.00180</td><td>0.0802</td><td>FALSE</td></tr>\n",
       "\t<tr><td>0.00320</td><td>0.0802</td><td>FALSE</td></tr>\n",
       "\t<tr><td>0.00560</td><td>0.0802</td><td>FALSE</td></tr>\n",
       "\t<tr><td>0.01000</td><td>0.0802</td><td>FALSE</td></tr>\n",
       "\t<tr><td>0.01800</td><td>0.0802</td><td>FALSE</td></tr>\n",
       "\t<tr><td>0.03200</td><td>0.0802</td><td>FALSE</td></tr>\n",
       "\t<tr><td>0.05600</td><td>0.0802</td><td>FALSE</td></tr>\n",
       "\t<tr><td>0.10000</td><td>0.0802</td><td>FALSE</td></tr>\n",
       "\t<tr><td>0.18000</td><td>0.0802</td><td>FALSE</td></tr>\n",
       "\t<tr><td>0.32000</td><td>0.0802</td><td>FALSE</td></tr>\n",
       "\t<tr><td>0.56000</td><td>0.0802</td><td>FALSE</td></tr>\n",
       "\t<tr><td>1.00000</td><td>0.0802</td><td>FALSE</td></tr>\n",
       "\t<tr><td>0.00010</td><td>0.1146</td><td>FALSE</td></tr>\n",
       "\t<tr><td>0.00018</td><td>0.1146</td><td>FALSE</td></tr>\n",
       "\t<tr><td>0.00032</td><td>0.1146</td><td>FALSE</td></tr>\n",
       "\t<tr><td>0.00056</td><td>0.1146</td><td>FALSE</td></tr>\n",
       "\t<tr><td>0.00100</td><td>0.1146</td><td>FALSE</td></tr>\n",
       "\t<tr><td>0.00180</td><td>0.1146</td><td>FALSE</td></tr>\n",
       "\t<tr><td>0.00320</td><td>0.1146</td><td>FALSE</td></tr>\n",
       "\t<tr><td>0.00560</td><td>0.1146</td><td>FALSE</td></tr>\n",
       "\t<tr><td>0.01000</td><td>0.1146</td><td>FALSE</td></tr>\n",
       "\t<tr><td>0.01800</td><td>0.1146</td><td>FALSE</td></tr>\n",
       "\t<tr><td>0.03200</td><td>0.1146</td><td>FALSE</td></tr>\n",
       "\t<tr><td>0.05600</td><td>0.1146</td><td>FALSE</td></tr>\n",
       "\t<tr><td>0.10000</td><td>0.1146</td><td>FALSE</td></tr>\n",
       "\t<tr><td>⋮</td><td>⋮</td><td>⋮</td></tr>\n",
       "\t<tr><td>0.00100</td><td>0.1146</td><td>TRUE</td></tr>\n",
       "\t<tr><td>0.00180</td><td>0.1146</td><td>TRUE</td></tr>\n",
       "\t<tr><td>0.00320</td><td>0.1146</td><td>TRUE</td></tr>\n",
       "\t<tr><td>0.00560</td><td>0.1146</td><td>TRUE</td></tr>\n",
       "\t<tr><td>0.01000</td><td>0.1146</td><td>TRUE</td></tr>\n",
       "\t<tr><td>0.01800</td><td>0.1146</td><td>TRUE</td></tr>\n",
       "\t<tr><td>0.03200</td><td>0.1146</td><td>TRUE</td></tr>\n",
       "\t<tr><td>0.05600</td><td>0.1146</td><td>TRUE</td></tr>\n",
       "\t<tr><td>0.10000</td><td>0.1146</td><td>TRUE</td></tr>\n",
       "\t<tr><td>0.18000</td><td>0.1146</td><td>TRUE</td></tr>\n",
       "\t<tr><td>0.32000</td><td>0.1146</td><td>TRUE</td></tr>\n",
       "\t<tr><td>0.56000</td><td>0.1146</td><td>TRUE</td></tr>\n",
       "\t<tr><td>1.00000</td><td>0.1146</td><td>TRUE</td></tr>\n",
       "\t<tr><td>0.00010</td><td>0.1605</td><td>TRUE</td></tr>\n",
       "\t<tr><td>0.00018</td><td>0.1605</td><td>TRUE</td></tr>\n",
       "\t<tr><td>0.00032</td><td>0.1605</td><td>TRUE</td></tr>\n",
       "\t<tr><td>0.00056</td><td>0.1605</td><td>TRUE</td></tr>\n",
       "\t<tr><td>0.00100</td><td>0.1605</td><td>TRUE</td></tr>\n",
       "\t<tr><td>0.00180</td><td>0.1605</td><td>TRUE</td></tr>\n",
       "\t<tr><td>0.00320</td><td>0.1605</td><td>TRUE</td></tr>\n",
       "\t<tr><td>0.00560</td><td>0.1605</td><td>TRUE</td></tr>\n",
       "\t<tr><td>0.01000</td><td>0.1605</td><td>TRUE</td></tr>\n",
       "\t<tr><td>0.01800</td><td>0.1605</td><td>TRUE</td></tr>\n",
       "\t<tr><td>0.03200</td><td>0.1605</td><td>TRUE</td></tr>\n",
       "\t<tr><td>0.05600</td><td>0.1605</td><td>TRUE</td></tr>\n",
       "\t<tr><td>0.10000</td><td>0.1605</td><td>TRUE</td></tr>\n",
       "\t<tr><td>0.18000</td><td>0.1605</td><td>TRUE</td></tr>\n",
       "\t<tr><td>0.32000</td><td>0.1605</td><td>TRUE</td></tr>\n",
       "\t<tr><td>0.56000</td><td>0.1605</td><td>TRUE</td></tr>\n",
       "\t<tr><td>1.00000</td><td>0.1605</td><td>TRUE</td></tr>\n",
       "</tbody>\n",
       "</table>\n"
      ],
      "text/latex": [
       "A data.frame: 102 × 3\n",
       "\\begin{tabular}{lll}\n",
       " p & h2 & sparse\\\\\n",
       " <dbl> & <dbl> & <lgl>\\\\\n",
       "\\hline\n",
       "\t 0.00010 & 0.0802 & FALSE\\\\\n",
       "\t 0.00018 & 0.0802 & FALSE\\\\\n",
       "\t 0.00032 & 0.0802 & FALSE\\\\\n",
       "\t 0.00056 & 0.0802 & FALSE\\\\\n",
       "\t 0.00100 & 0.0802 & FALSE\\\\\n",
       "\t 0.00180 & 0.0802 & FALSE\\\\\n",
       "\t 0.00320 & 0.0802 & FALSE\\\\\n",
       "\t 0.00560 & 0.0802 & FALSE\\\\\n",
       "\t 0.01000 & 0.0802 & FALSE\\\\\n",
       "\t 0.01800 & 0.0802 & FALSE\\\\\n",
       "\t 0.03200 & 0.0802 & FALSE\\\\\n",
       "\t 0.05600 & 0.0802 & FALSE\\\\\n",
       "\t 0.10000 & 0.0802 & FALSE\\\\\n",
       "\t 0.18000 & 0.0802 & FALSE\\\\\n",
       "\t 0.32000 & 0.0802 & FALSE\\\\\n",
       "\t 0.56000 & 0.0802 & FALSE\\\\\n",
       "\t 1.00000 & 0.0802 & FALSE\\\\\n",
       "\t 0.00010 & 0.1146 & FALSE\\\\\n",
       "\t 0.00018 & 0.1146 & FALSE\\\\\n",
       "\t 0.00032 & 0.1146 & FALSE\\\\\n",
       "\t 0.00056 & 0.1146 & FALSE\\\\\n",
       "\t 0.00100 & 0.1146 & FALSE\\\\\n",
       "\t 0.00180 & 0.1146 & FALSE\\\\\n",
       "\t 0.00320 & 0.1146 & FALSE\\\\\n",
       "\t 0.00560 & 0.1146 & FALSE\\\\\n",
       "\t 0.01000 & 0.1146 & FALSE\\\\\n",
       "\t 0.01800 & 0.1146 & FALSE\\\\\n",
       "\t 0.03200 & 0.1146 & FALSE\\\\\n",
       "\t 0.05600 & 0.1146 & FALSE\\\\\n",
       "\t 0.10000 & 0.1146 & FALSE\\\\\n",
       "\t ⋮ & ⋮ & ⋮\\\\\n",
       "\t 0.00100 & 0.1146 & TRUE\\\\\n",
       "\t 0.00180 & 0.1146 & TRUE\\\\\n",
       "\t 0.00320 & 0.1146 & TRUE\\\\\n",
       "\t 0.00560 & 0.1146 & TRUE\\\\\n",
       "\t 0.01000 & 0.1146 & TRUE\\\\\n",
       "\t 0.01800 & 0.1146 & TRUE\\\\\n",
       "\t 0.03200 & 0.1146 & TRUE\\\\\n",
       "\t 0.05600 & 0.1146 & TRUE\\\\\n",
       "\t 0.10000 & 0.1146 & TRUE\\\\\n",
       "\t 0.18000 & 0.1146 & TRUE\\\\\n",
       "\t 0.32000 & 0.1146 & TRUE\\\\\n",
       "\t 0.56000 & 0.1146 & TRUE\\\\\n",
       "\t 1.00000 & 0.1146 & TRUE\\\\\n",
       "\t 0.00010 & 0.1605 & TRUE\\\\\n",
       "\t 0.00018 & 0.1605 & TRUE\\\\\n",
       "\t 0.00032 & 0.1605 & TRUE\\\\\n",
       "\t 0.00056 & 0.1605 & TRUE\\\\\n",
       "\t 0.00100 & 0.1605 & TRUE\\\\\n",
       "\t 0.00180 & 0.1605 & TRUE\\\\\n",
       "\t 0.00320 & 0.1605 & TRUE\\\\\n",
       "\t 0.00560 & 0.1605 & TRUE\\\\\n",
       "\t 0.01000 & 0.1605 & TRUE\\\\\n",
       "\t 0.01800 & 0.1605 & TRUE\\\\\n",
       "\t 0.03200 & 0.1605 & TRUE\\\\\n",
       "\t 0.05600 & 0.1605 & TRUE\\\\\n",
       "\t 0.10000 & 0.1605 & TRUE\\\\\n",
       "\t 0.18000 & 0.1605 & TRUE\\\\\n",
       "\t 0.32000 & 0.1605 & TRUE\\\\\n",
       "\t 0.56000 & 0.1605 & TRUE\\\\\n",
       "\t 1.00000 & 0.1605 & TRUE\\\\\n",
       "\\end{tabular}\n"
      ],
      "text/markdown": [
       "\n",
       "A data.frame: 102 × 3\n",
       "\n",
       "| p &lt;dbl&gt; | h2 &lt;dbl&gt; | sparse &lt;lgl&gt; |\n",
       "|---|---|---|\n",
       "| 0.00010 | 0.0802 | FALSE |\n",
       "| 0.00018 | 0.0802 | FALSE |\n",
       "| 0.00032 | 0.0802 | FALSE |\n",
       "| 0.00056 | 0.0802 | FALSE |\n",
       "| 0.00100 | 0.0802 | FALSE |\n",
       "| 0.00180 | 0.0802 | FALSE |\n",
       "| 0.00320 | 0.0802 | FALSE |\n",
       "| 0.00560 | 0.0802 | FALSE |\n",
       "| 0.01000 | 0.0802 | FALSE |\n",
       "| 0.01800 | 0.0802 | FALSE |\n",
       "| 0.03200 | 0.0802 | FALSE |\n",
       "| 0.05600 | 0.0802 | FALSE |\n",
       "| 0.10000 | 0.0802 | FALSE |\n",
       "| 0.18000 | 0.0802 | FALSE |\n",
       "| 0.32000 | 0.0802 | FALSE |\n",
       "| 0.56000 | 0.0802 | FALSE |\n",
       "| 1.00000 | 0.0802 | FALSE |\n",
       "| 0.00010 | 0.1146 | FALSE |\n",
       "| 0.00018 | 0.1146 | FALSE |\n",
       "| 0.00032 | 0.1146 | FALSE |\n",
       "| 0.00056 | 0.1146 | FALSE |\n",
       "| 0.00100 | 0.1146 | FALSE |\n",
       "| 0.00180 | 0.1146 | FALSE |\n",
       "| 0.00320 | 0.1146 | FALSE |\n",
       "| 0.00560 | 0.1146 | FALSE |\n",
       "| 0.01000 | 0.1146 | FALSE |\n",
       "| 0.01800 | 0.1146 | FALSE |\n",
       "| 0.03200 | 0.1146 | FALSE |\n",
       "| 0.05600 | 0.1146 | FALSE |\n",
       "| 0.10000 | 0.1146 | FALSE |\n",
       "| ⋮ | ⋮ | ⋮ |\n",
       "| 0.00100 | 0.1146 | TRUE |\n",
       "| 0.00180 | 0.1146 | TRUE |\n",
       "| 0.00320 | 0.1146 | TRUE |\n",
       "| 0.00560 | 0.1146 | TRUE |\n",
       "| 0.01000 | 0.1146 | TRUE |\n",
       "| 0.01800 | 0.1146 | TRUE |\n",
       "| 0.03200 | 0.1146 | TRUE |\n",
       "| 0.05600 | 0.1146 | TRUE |\n",
       "| 0.10000 | 0.1146 | TRUE |\n",
       "| 0.18000 | 0.1146 | TRUE |\n",
       "| 0.32000 | 0.1146 | TRUE |\n",
       "| 0.56000 | 0.1146 | TRUE |\n",
       "| 1.00000 | 0.1146 | TRUE |\n",
       "| 0.00010 | 0.1605 | TRUE |\n",
       "| 0.00018 | 0.1605 | TRUE |\n",
       "| 0.00032 | 0.1605 | TRUE |\n",
       "| 0.00056 | 0.1605 | TRUE |\n",
       "| 0.00100 | 0.1605 | TRUE |\n",
       "| 0.00180 | 0.1605 | TRUE |\n",
       "| 0.00320 | 0.1605 | TRUE |\n",
       "| 0.00560 | 0.1605 | TRUE |\n",
       "| 0.01000 | 0.1605 | TRUE |\n",
       "| 0.01800 | 0.1605 | TRUE |\n",
       "| 0.03200 | 0.1605 | TRUE |\n",
       "| 0.05600 | 0.1605 | TRUE |\n",
       "| 0.10000 | 0.1605 | TRUE |\n",
       "| 0.18000 | 0.1605 | TRUE |\n",
       "| 0.32000 | 0.1605 | TRUE |\n",
       "| 0.56000 | 0.1605 | TRUE |\n",
       "| 1.00000 | 0.1605 | TRUE |\n",
       "\n"
      ],
      "text/plain": [
       "    p       h2     sparse\n",
       "1   0.00010 0.0802 FALSE \n",
       "2   0.00018 0.0802 FALSE \n",
       "3   0.00032 0.0802 FALSE \n",
       "4   0.00056 0.0802 FALSE \n",
       "5   0.00100 0.0802 FALSE \n",
       "6   0.00180 0.0802 FALSE \n",
       "7   0.00320 0.0802 FALSE \n",
       "8   0.00560 0.0802 FALSE \n",
       "9   0.01000 0.0802 FALSE \n",
       "10  0.01800 0.0802 FALSE \n",
       "11  0.03200 0.0802 FALSE \n",
       "12  0.05600 0.0802 FALSE \n",
       "13  0.10000 0.0802 FALSE \n",
       "14  0.18000 0.0802 FALSE \n",
       "15  0.32000 0.0802 FALSE \n",
       "16  0.56000 0.0802 FALSE \n",
       "17  1.00000 0.0802 FALSE \n",
       "18  0.00010 0.1146 FALSE \n",
       "19  0.00018 0.1146 FALSE \n",
       "20  0.00032 0.1146 FALSE \n",
       "21  0.00056 0.1146 FALSE \n",
       "22  0.00100 0.1146 FALSE \n",
       "23  0.00180 0.1146 FALSE \n",
       "24  0.00320 0.1146 FALSE \n",
       "25  0.00560 0.1146 FALSE \n",
       "26  0.01000 0.1146 FALSE \n",
       "27  0.01800 0.1146 FALSE \n",
       "28  0.03200 0.1146 FALSE \n",
       "29  0.05600 0.1146 FALSE \n",
       "30  0.10000 0.1146 FALSE \n",
       "⋮   ⋮       ⋮      ⋮     \n",
       "73  0.00100 0.1146 TRUE  \n",
       "74  0.00180 0.1146 TRUE  \n",
       "75  0.00320 0.1146 TRUE  \n",
       "76  0.00560 0.1146 TRUE  \n",
       "77  0.01000 0.1146 TRUE  \n",
       "78  0.01800 0.1146 TRUE  \n",
       "79  0.03200 0.1146 TRUE  \n",
       "80  0.05600 0.1146 TRUE  \n",
       "81  0.10000 0.1146 TRUE  \n",
       "82  0.18000 0.1146 TRUE  \n",
       "83  0.32000 0.1146 TRUE  \n",
       "84  0.56000 0.1146 TRUE  \n",
       "85  1.00000 0.1146 TRUE  \n",
       "86  0.00010 0.1605 TRUE  \n",
       "87  0.00018 0.1605 TRUE  \n",
       "88  0.00032 0.1605 TRUE  \n",
       "89  0.00056 0.1605 TRUE  \n",
       "90  0.00100 0.1605 TRUE  \n",
       "91  0.00180 0.1605 TRUE  \n",
       "92  0.00320 0.1605 TRUE  \n",
       "93  0.00560 0.1605 TRUE  \n",
       "94  0.01000 0.1605 TRUE  \n",
       "95  0.01800 0.1605 TRUE  \n",
       "96  0.03200 0.1605 TRUE  \n",
       "97  0.05600 0.1605 TRUE  \n",
       "98  0.10000 0.1605 TRUE  \n",
       "99  0.18000 0.1605 TRUE  \n",
       "100 0.32000 0.1605 TRUE  \n",
       "101 0.56000 0.1605 TRUE  \n",
       "102 1.00000 0.1605 TRUE  "
      ]
     },
     "metadata": {},
     "output_type": "display_data"
    }
   ],
   "source": [
    "(h2_seq <- round(h2_est * c(0.7, 1, 1.4), 4))\n",
    "(p_seq <- signif(seq_log(1e-4, 1, length.out = 17), 2))\n",
    "(params <- expand.grid(p = p_seq, h2 = h2_seq, sparse = c(FALSE, TRUE)))"
   ]
  },
  {
   "cell_type": "code",
   "execution_count": 73,
   "metadata": {
    "kernel": "R"
   },
   "outputs": [],
   "source": [
    "# takes several minutes if you do not have many cores\n",
    "beta_grid <- snp_ldpred2_grid(corr, df_beta, params, ncores = NCORES)\n",
    "pred_grid <- big_prodMat(G, beta_grid, ind.col = ind.chr2)\n",
    "params$score <- big_univLogReg(as_FBM(pred_grid[ind.val, ]), y[ind.val])$score"
   ]
  },
  {
   "cell_type": "code",
   "execution_count": 75,
   "metadata": {
    "kernel": "R"
   },
   "outputs": [
    {
     "data": {
      "image/png": "[encoded data removed]",
      "text/plain": [
       "plot without title"
      ]
     },
     "metadata": {
      "image/png": {
       "height": 420,
       "width": 420
      }
     },
     "output_type": "display_data"
    }
   ],
   "source": [
    "library(ggplot2)\n",
    "ggplot(params, aes(x = p, y = score, color = as.factor(h2))) +\n",
    "  theme_bigstatsr() +\n",
    "  geom_point() +\n",
    "  geom_line() +\n",
    "  scale_x_log10(breaks = 10^(-5:0), minor_breaks = params$p) +\n",
    "  facet_wrap(~ sparse, labeller = label_both) +\n",
    "  labs(y = \"GLM Z-Score\", color = \"h2\") +\n",
    "  theme(legend.position = \"top\", panel.spacing = unit(1, \"lines\"))"
   ]
  },
  {
   "cell_type": "code",
   "execution_count": 76,
   "metadata": {
    "kernel": "R"
   },
   "outputs": [
    {
     "name": "stderr",
     "output_type": "stream",
     "text": [
      "\n",
      "Attaching package: ‘dplyr’\n",
      "\n",
      "\n",
      "The following objects are masked from ‘package:stats’:\n",
      "\n",
      "    filter, lag\n",
      "\n",
      "\n",
      "The following objects are masked from ‘package:base’:\n",
      "\n",
      "    intersect, setdiff, setequal, union\n",
      "\n",
      "\n"
     ]
    },
    {
     "data": {
      "text/html": [
       "<table>\n",
       "<caption>A data.frame: 10 × 6</caption>\n",
       "<thead>\n",
       "\t<tr><th scope=col>p</th><th scope=col>h2</th><th scope=col>sparse</th><th scope=col>score</th><th scope=col>sparsity</th><th scope=col>id</th></tr>\n",
       "\t<tr><th scope=col>&lt;dbl&gt;</th><th scope=col>&lt;dbl&gt;</th><th scope=col>&lt;lgl&gt;</th><th scope=col>&lt;dbl&gt;</th><th scope=col>&lt;dbl&gt;</th><th scope=col>&lt;int&gt;</th></tr>\n",
       "</thead>\n",
       "<tbody>\n",
       "\t<tr><td>0.0018</td><td>0.1605</td><td> TRUE</td><td>4.376</td><td>0.560</td><td>91</td></tr>\n",
       "\t<tr><td>0.0032</td><td>0.1605</td><td> TRUE</td><td>4.372</td><td>0.541</td><td>92</td></tr>\n",
       "\t<tr><td>0.0018</td><td>0.1146</td><td> TRUE</td><td>4.371</td><td>0.573</td><td>74</td></tr>\n",
       "\t<tr><td>0.1000</td><td>0.1146</td><td> TRUE</td><td>4.367</td><td>0.573</td><td>81</td></tr>\n",
       "\t<tr><td>0.0010</td><td>0.1146</td><td> TRUE</td><td>4.364</td><td>0.591</td><td>73</td></tr>\n",
       "\t<tr><td>0.0056</td><td>0.1146</td><td> TRUE</td><td>4.362</td><td>0.565</td><td>76</td></tr>\n",
       "\t<tr><td>0.0320</td><td>0.0802</td><td> TRUE</td><td>4.359</td><td>0.585</td><td>62</td></tr>\n",
       "\t<tr><td>0.0056</td><td>0.0802</td><td> TRUE</td><td>4.358</td><td>0.581</td><td>59</td></tr>\n",
       "\t<tr><td>0.0032</td><td>0.1146</td><td>FALSE</td><td>4.357</td><td>0.000</td><td>24</td></tr>\n",
       "\t<tr><td>0.0032</td><td>0.1146</td><td> TRUE</td><td>4.355</td><td>0.565</td><td>75</td></tr>\n",
       "</tbody>\n",
       "</table>\n"
      ],
      "text/latex": [
       "A data.frame: 10 × 6\n",
       "\\begin{tabular}{llllll}\n",
       " p & h2 & sparse & score & sparsity & id\\\\\n",
       " <dbl> & <dbl> & <lgl> & <dbl> & <dbl> & <int>\\\\\n",
       "\\hline\n",
       "\t 0.0018 & 0.1605 &  TRUE & 4.376 & 0.560 & 91\\\\\n",
       "\t 0.0032 & 0.1605 &  TRUE & 4.372 & 0.541 & 92\\\\\n",
       "\t 0.0018 & 0.1146 &  TRUE & 4.371 & 0.573 & 74\\\\\n",
       "\t 0.1000 & 0.1146 &  TRUE & 4.367 & 0.573 & 81\\\\\n",
       "\t 0.0010 & 0.1146 &  TRUE & 4.364 & 0.591 & 73\\\\\n",
       "\t 0.0056 & 0.1146 &  TRUE & 4.362 & 0.565 & 76\\\\\n",
       "\t 0.0320 & 0.0802 &  TRUE & 4.359 & 0.585 & 62\\\\\n",
       "\t 0.0056 & 0.0802 &  TRUE & 4.358 & 0.581 & 59\\\\\n",
       "\t 0.0032 & 0.1146 & FALSE & 4.357 & 0.000 & 24\\\\\n",
       "\t 0.0032 & 0.1146 &  TRUE & 4.355 & 0.565 & 75\\\\\n",
       "\\end{tabular}\n"
      ],
      "text/markdown": [
       "\n",
       "A data.frame: 10 × 6\n",
       "\n",
       "| p &lt;dbl&gt; | h2 &lt;dbl&gt; | sparse &lt;lgl&gt; | score &lt;dbl&gt; | sparsity &lt;dbl&gt; | id &lt;int&gt; |\n",
       "|---|---|---|---|---|---|\n",
       "| 0.0018 | 0.1605 |  TRUE | 4.376 | 0.560 | 91 |\n",
       "| 0.0032 | 0.1605 |  TRUE | 4.372 | 0.541 | 92 |\n",
       "| 0.0018 | 0.1146 |  TRUE | 4.371 | 0.573 | 74 |\n",
       "| 0.1000 | 0.1146 |  TRUE | 4.367 | 0.573 | 81 |\n",
       "| 0.0010 | 0.1146 |  TRUE | 4.364 | 0.591 | 73 |\n",
       "| 0.0056 | 0.1146 |  TRUE | 4.362 | 0.565 | 76 |\n",
       "| 0.0320 | 0.0802 |  TRUE | 4.359 | 0.585 | 62 |\n",
       "| 0.0056 | 0.0802 |  TRUE | 4.358 | 0.581 | 59 |\n",
       "| 0.0032 | 0.1146 | FALSE | 4.357 | 0.000 | 24 |\n",
       "| 0.0032 | 0.1146 |  TRUE | 4.355 | 0.565 | 75 |\n",
       "\n"
      ],
      "text/plain": [
       "   p      h2     sparse score sparsity id\n",
       "1  0.0018 0.1605  TRUE  4.376 0.560    91\n",
       "2  0.0032 0.1605  TRUE  4.372 0.541    92\n",
       "3  0.0018 0.1146  TRUE  4.371 0.573    74\n",
       "4  0.1000 0.1146  TRUE  4.367 0.573    81\n",
       "5  0.0010 0.1146  TRUE  4.364 0.591    73\n",
       "6  0.0056 0.1146  TRUE  4.362 0.565    76\n",
       "7  0.0320 0.0802  TRUE  4.359 0.585    62\n",
       "8  0.0056 0.0802  TRUE  4.358 0.581    59\n",
       "9  0.0032 0.1146 FALSE  4.357 0.000    24\n",
       "10 0.0032 0.1146  TRUE  4.355 0.565    75"
      ]
     },
     "metadata": {},
     "output_type": "display_data"
    }
   ],
   "source": [
    "library(dplyr)\n",
    "params %>%\n",
    "  mutate(sparsity = colMeans(beta_grid == 0), id = row_number()) %>%\n",
    "  arrange(desc(score)) %>%\n",
    "  mutate_at(c(\"score\", \"sparsity\"), round, digits = 3) %>%\n",
    "  slice(1:10)"
   ]
  },
  {
   "cell_type": "markdown",
   "metadata": {
    "kernel": "R"
   },
   "source": [
    "You can then choose the best model according to your preferred criterion (e.g. max AUC). Here, we use the Z-Score from the regression of the phenotype by the Polygenic risk scores (PRS) since we have found it more robust than using the AUC. It also enables adjusting for covariates in this step (using parameter covar.train in big_univLogReg() or big_univLinReg()).\n",
    "\n",
    "Also note that we separate both sparse and non-sparse models here (and in the paper) to show that their predictive performance are similar. In practice, if you do not really care about sparsity, you could choose the best LDpred2-grid model among all sparse and non-sparse models."
   ]
  },
  {
   "cell_type": "code",
   "execution_count": 77,
   "metadata": {
    "kernel": "R"
   },
   "outputs": [
    {
     "data": {
      "text/html": [
       "<style>\n",
       ".dl-inline {width: auto; margin:0; padding: 0}\n",
       ".dl-inline>dt, .dl-inline>dd {float: none; width: auto; display: inline-block}\n",
       ".dl-inline>dt::after {content: \":\\0020\"; padding-right: .5ex}\n",
       ".dl-inline>dt:not(:first-of-type) {padding-left: .5ex}\n",
       "</style><dl class=dl-inline><dt>Mean</dt><dd>0.668729370869623</dd><dt>2.5%</dt><dd>0.571607131760925</dd><dt>97.5%</dt><dd>0.758825344952796</dd><dt>Sd</dt><dd>0.0478879052244425</dd></dl>\n"
      ],
      "text/latex": [
       "\\begin{description*}\n",
       "\\item[Mean] 0.668729370869623\n",
       "\\item[2.5\\textbackslash{}\\%] 0.571607131760925\n",
       "\\item[97.5\\textbackslash{}\\%] 0.758825344952796\n",
       "\\item[Sd] 0.0478879052244425\n",
       "\\end{description*}\n"
      ],
      "text/markdown": [
       "Mean\n",
       ":   0.6687293708696232.5%\n",
       ":   0.57160713176092597.5%\n",
       ":   0.758825344952796Sd\n",
       ":   0.0478879052244425\n",
       "\n"
      ],
      "text/plain": [
       "      Mean       2.5%      97.5%         Sd \n",
       "0.66872937 0.57160713 0.75882534 0.04788791 "
      ]
     },
     "metadata": {},
     "output_type": "display_data"
    }
   ],
   "source": [
    "best_grid_nosp <- params %>%\n",
    "  mutate(id = row_number()) %>%\n",
    "  filter(!sparse) %>%\n",
    "  arrange(desc(score)) %>%\n",
    "  slice(1) %>%\n",
    "  pull(id) %>%\n",
    "  beta_grid[, .]\n",
    "\n",
    "pred_nosp <- big_prodVec(G, best_grid_nosp, ind.row = ind.test, ind.col = ind.chr2)\n",
    "AUCBoot(pred_nosp, y[ind.test])"
   ]
  },
  {
   "cell_type": "code",
   "execution_count": 78,
   "metadata": {
    "kernel": "R"
   },
   "outputs": [
    {
     "data": {
      "text/html": [
       "<style>\n",
       ".dl-inline {width: auto; margin:0; padding: 0}\n",
       ".dl-inline>dt, .dl-inline>dd {float: none; width: auto; display: inline-block}\n",
       ".dl-inline>dt::after {content: \":\\0020\"; padding-right: .5ex}\n",
       ".dl-inline>dt:not(:first-of-type) {padding-left: .5ex}\n",
       "</style><dl class=dl-inline><dt>Mean</dt><dd>0.673154806874344</dd><dt>2.5%</dt><dd>0.570635600570503</dd><dt>97.5%</dt><dd>0.768276878437814</dd><dt>Sd</dt><dd>0.0503083090780352</dd></dl>\n"
      ],
      "text/latex": [
       "\\begin{description*}\n",
       "\\item[Mean] 0.673154806874344\n",
       "\\item[2.5\\textbackslash{}\\%] 0.570635600570503\n",
       "\\item[97.5\\textbackslash{}\\%] 0.768276878437814\n",
       "\\item[Sd] 0.0503083090780352\n",
       "\\end{description*}\n"
      ],
      "text/markdown": [
       "Mean\n",
       ":   0.6731548068743442.5%\n",
       ":   0.57063560057050397.5%\n",
       ":   0.768276878437814Sd\n",
       ":   0.0503083090780352\n",
       "\n"
      ],
      "text/plain": [
       "      Mean       2.5%      97.5%         Sd \n",
       "0.67315481 0.57063560 0.76827688 0.05030831 "
      ]
     },
     "metadata": {},
     "output_type": "display_data"
    }
   ],
   "source": [
    "best_grid_sp <- params %>%\n",
    "  mutate(id = row_number()) %>%\n",
    "  filter(sparse) %>%\n",
    "  arrange(desc(score)) %>%\n",
    "  slice(1) %>%\n",
    "  pull(id) %>%\n",
    "  beta_grid[, .]\n",
    "\n",
    "pred_sp <- big_prodVec(G, best_grid_sp, ind.row = ind.test, ind.col = ind.chr2)\n",
    "AUCBoot(pred_sp, y[ind.test])"
   ]
  },
  {
   "cell_type": "markdown",
   "metadata": {
    "kernel": "R"
   },
   "source": [
    "### Automatic model\n",
    "\n",
    "We recommend to run many of them in parallel with different initial values for p (e.g. length.out = 30)."
   ]
  },
  {
   "cell_type": "code",
   "execution_count": 79,
   "metadata": {
    "kernel": "R"
   },
   "outputs": [
    {
     "name": "stdout",
     "output_type": "stream",
     "text": [
      "List of 2\n",
      " $ :List of 8\n",
      "  ..$ beta_est   : num [1:52546] -6.52e-07 3.84e-07 -2.98e-06 -4.87e-06 -4.36e-06 ...\n",
      "  ..$ postp_est  : num [1:52546] 0.0224 0.0224 0.0224 0.0225 0.0225 ...\n",
      "  ..$ p_est      : num 0.0225\n",
      "  ..$ h2_est     : num 0.00105\n",
      "  ..$ path_p_est : num [1:1500] 2.32e-05 9.24e-06 6.16e-06 1.34e-04 2.43e-04 ...\n",
      "  ..$ path_h2_est: num [1:1500] 0.056355 0.004485 0.0001 0.000786 0.001005 ...\n",
      "  ..$ h2_init    : num 0.115\n",
      "  ..$ p_init     : num 1e-04\n",
      " $ :List of 8\n",
      "  ..$ beta_est   : num [1:52546] -2.41e-06 1.47e-06 -1.10e-05 -1.80e-05 -1.62e-05 ...\n",
      "  ..$ postp_est  : num [1:52546] 0.766 0.766 0.766 0.766 0.766 ...\n",
      "  ..$ p_est      : num 0.766\n",
      "  ..$ h2_est     : num 0.00385\n",
      "  ..$ path_p_est : num [1:1500] 0.898 0.892 0.893 0.89 0.888 ...\n",
      "  ..$ path_h2_est: num [1:1500] 0.113 0.114 0.11 0.114 0.108 ...\n",
      "  ..$ h2_init    : num 0.115\n",
      "  ..$ p_init     : num 0.9\n"
     ]
    }
   ],
   "source": [
    "# takes a few minutes\n",
    "multi_auto <- snp_ldpred2_auto(corr, df_beta, h2_init = h2_est,\n",
    "                               vec_p_init = seq_log(1e-4, 0.9, length.out = NCORES),\n",
    "                               ncores = NCORES)\n",
    "str(multi_auto)"
   ]
  },
  {
   "cell_type": "markdown",
   "metadata": {
    "kernel": "R"
   },
   "source": [
    "You should verify if the chains “converged”. You can look at the path of the chains, as shown below. In the paper, we propose an automatic way to filter bad chains by comparing the scale of the resulting predictions (see [this code](https://github.com/privefl/paper-ldpred2/blob/master/code/run-ldpred2-gwide.R#L108-L112), reproduced below).\n",
    "\n",
    "This is not the case here, which is probably because the data is so small."
   ]
  },
  {
   "cell_type": "code",
   "execution_count": 80,
   "metadata": {
    "kernel": "R"
   },
   "outputs": [
    {
     "data": {
      "image/png": "[encoded data removed]",
      "text/plain": [
       "plot without title"
      ]
     },
     "metadata": {
      "image/png": {
       "height": 420,
       "width": 420
      }
     },
     "output_type": "display_data"
    }
   ],
   "source": [
    "auto <- multi_auto[[1]]\n",
    "plot_grid(\n",
    "  qplot(y = auto$path_p_est) +\n",
    "    theme_bigstatsr() +\n",
    "    geom_hline(yintercept = auto$p_est, col = \"blue\") +\n",
    "    scale_y_log10() +\n",
    "    labs(y = \"p\"),\n",
    "  qplot(y = auto$path_h2_est) +\n",
    "    theme_bigstatsr() +\n",
    "    geom_hline(yintercept = auto$h2_est, col = \"blue\") +\n",
    "    labs(y = \"h2\"),\n",
    "  ncol = 1, align = \"hv\"\n",
    ")"
   ]
  },
  {
   "cell_type": "code",
   "execution_count": 81,
   "metadata": {
    "kernel": "R"
   },
   "outputs": [
    {
     "data": {
      "text/html": [
       "<style>\n",
       ".dl-inline {width: auto; margin:0; padding: 0}\n",
       ".dl-inline>dt, .dl-inline>dd {float: none; width: auto; display: inline-block}\n",
       ".dl-inline>dt::after {content: \":\\0020\"; padding-right: .5ex}\n",
       ".dl-inline>dt:not(:first-of-type) {padding-left: .5ex}\n",
       "</style><dl class=dl-inline><dt>Mean</dt><dd>0.663406373774301</dd><dt>2.5%</dt><dd>0.56758959742085</dd><dt>97.5%</dt><dd>0.754459916490929</dd><dt>Sd</dt><dd>0.0474915059080298</dd></dl>\n"
      ],
      "text/latex": [
       "\\begin{description*}\n",
       "\\item[Mean] 0.663406373774301\n",
       "\\item[2.5\\textbackslash{}\\%] 0.56758959742085\n",
       "\\item[97.5\\textbackslash{}\\%] 0.754459916490929\n",
       "\\item[Sd] 0.0474915059080298\n",
       "\\end{description*}\n"
      ],
      "text/markdown": [
       "Mean\n",
       ":   0.6634063737743012.5%\n",
       ":   0.5675895974208597.5%\n",
       ":   0.754459916490929Sd\n",
       ":   0.0474915059080298\n",
       "\n"
      ],
      "text/plain": [
       "      Mean       2.5%      97.5%         Sd \n",
       "0.66340637 0.56758960 0.75445992 0.04749151 "
      ]
     },
     "metadata": {},
     "output_type": "display_data"
    }
   ],
   "source": [
    "beta_auto <- sapply(multi_auto, function(auto) auto$beta_est)\n",
    "pred_auto <- big_prodMat(G, beta_auto, ind.row = ind.test, ind.col = ind.chr2)\n",
    "\n",
    "sc <- apply(pred_auto, 2, sd)\n",
    "keep <- abs(sc - median(sc)) < 3 * mad(sc)\n",
    "final_beta_auto <- rowMeans(beta_auto[, keep])\n",
    "final_pred_auto <- rowMeans(pred_auto[, keep])\n",
    "\n",
    "AUCBoot(final_pred_auto, y[ind.test])"
   ]
  },
  {
   "cell_type": "markdown",
   "metadata": {
    "kernel": "R"
   },
   "source": [
    "## Conclusions\n",
    "\n",
    "We have seen how to run 3 versions of LDpred2 (“-inf”, “-grid” and “-auto”) for one chromosome."
   ]
  },
  {
   "cell_type": "code",
   "execution_count": null,
   "metadata": {
    "kernel": "R"
   },
   "outputs": [],
   "source": []
  },
  {
   "cell_type": "code",
   "execution_count": null,
   "metadata": {
    "kernel": "R"
   },
   "outputs": [],
   "source": []
  },
  {
   "cell_type": "code",
   "execution_count": null,
   "metadata": {
    "kernel": "R"
   },
   "outputs": [],
   "source": []
  }
 ],
 "metadata": {
  "kernelspec": {
   "display_name": "SoS",
   "language": "sos",
   "name": "sos"
  },
  "language_info": {
   "codemirror_mode": "sos",
   "file_extension": ".sos",
   "mimetype": "text/x-sos",
   "name": "sos",
   "nbconvert_exporter": "sos_notebook.converter.SoS_Exporter",
   "pygments_lexer": "sos"
  },
  "sos": {
   "kernels": [
    [
     "R",
     "ir",
     "R",
     "#DCDCDA",
     "r"
    ]
   ],
   "version": "0.22.4"
  },
  "toc-autonumbering": true,
  "toc-showmarkdowntxt": false
 },
 "nbformat": 4,
 "nbformat_minor": 4
}
