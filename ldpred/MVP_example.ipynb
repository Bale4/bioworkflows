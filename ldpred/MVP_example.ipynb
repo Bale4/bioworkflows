{
 "cells": [
  {
   "cell_type": "markdown",
   "id": "vital-ivory",
   "metadata": {
    "kernel": "Bash"
   },
   "source": [
    "# HDL in MVP\n",
    "\n",
    "## Reference panel\n",
    "\n",
    "`download_1000G()` in `bigsnpr`\n",
    "\n",
    "Including 503 (mostly unrelated) European individuals and ~1.7M SNPs in common with either HapMap3 or the UK Biobank. Classification of European populstion can be found at [IGSR](https://www.internationalgenome.org/category/population/). European individuals ID are from [IGSR data portal](https://www.internationalgenome.org/data-portal/sample).\n",
    "\n",
    "## Base data: summary Statistics from MVP\n",
    "\n",
    "Posterior betas for traits HDL.\n",
    "\n",
    "## Target data: UK biobank\n",
    "\n",
    "covariates, phenotype related to HDL and genotypes of 2000 individuals `UKB.QC.fam`. \n",
    "\n",
    "## Model\n",
    "\n",
    "Auto model runs the algorithm for 30 different $p$ (the proportion of causal variants) values range from 10e-4 to 0.9, and heritability $h^2$ from LD score regression as initial value.\n",
    "\n",
    "Grid model tries a grid of parameters $p$, ranges from 0 to 1 and three $h^2$ which are 0.7/1/1.4 times of initial $h^2$ estimated by LD score regression.\n",
    "\n",
    "## Test genotype data preparation\n",
    "\n",
    "Use `awk` select columns in phenotypes file saved to traits file `UKB.hdl.cov` and covariate file `UKB.ind.cov`.\n"
   ]
  },
  {
   "cell_type": "code",
   "execution_count": null,
   "id": "raised-walter",
   "metadata": {
    "kernel": "R"
   },
   "outputs": [],
   "source": [
    "fam_UKB <- read.table(\"ukbiobank/UKB.fam\", header = F, stringsAsFactors = F)\n",
    "colnames(fam_UKB)=c(\"FID\",\"IID\",\"paternal.ID\",\"maternal.ID\",\"sex\",\"affection\")\n",
    "covariates <- read.table(\"ukbiobank/UKBCauc_cholesterolandbloodpressurefields_inverseranknorm_covariatesage_sex_alcohol_smokingpackyears_foranalysis\", header = T, stringsAsFactors = F)\n",
    "suppressMessages(library(tidyverse))\n",
    "\n",
    "set.seed(2021)\n",
    "covariate = covariates %>%\n",
    "    drop_na() %>%\n",
    "    filter(FID %in% sample(FID,2000))\n",
    "    \n",
    "covariate = covariate[order(covariate[,1]),]\n",
    "\n",
    "fam_UKB = fam_UKB %>% filter(FID %in% covariate$FID)\n",
    "fam_UKB = fam_UKB[order(covariate[,1]),]\n",
    "colnames(fam_UKB)<-NULL\n",
    "\n",
    "write.table(covariate, file = \"ukbiobank/UKB.cov\", sep = \" \", \n",
    "            row.names = F, col.names = T,)\n",
    "write.table(fam_UKB, file = \"ukbiobank/UKB.QC.fam\", sep = \" \", \n",
    "            row.names = FALSE, col.names = FALSE)"
   ]
  },
  {
   "cell_type": "code",
   "execution_count": null,
   "id": "optimum-excitement",
   "metadata": {
    "kernel": "Bash"
   },
   "outputs": [],
   "source": [
    "cd ukbiobank\n",
    "awk '{print $3, $4, $5, $6, $8, $9, $10, $11}' UKB.cov > UKB.ind.cov\n",
    "awk '{print $14}' UKB.cov > UKB.hdl.cov\n",
    "cd .."
   ]
  },
  {
   "cell_type": "markdown",
   "id": "attractive-latitude",
   "metadata": {
    "kernel": "SoS"
   },
   "source": [
    "## Summary statistics data preparation"
   ]
  },
  {
   "cell_type": "code",
   "execution_count": null,
   "id": "organized-details",
   "metadata": {
    "kernel": "R"
   },
   "outputs": [],
   "source": [
    "raw_beta = readRDS(\"./all_MVP_posteriors/raw_univariate_estimates/zmash_raw_univariate_MVP.rds\")\n",
    "raw_beta_se = bigreadr::fread2(\"./all_MVP_posteriors/raw_univariate_estimates/Merged_MVP_Full_se_raw.txt\")\n",
    "#chr_pos_allele2_lfsr = read.table(\"./all_MVP_posteriors/identifying_info/chr_pos_allele2_lfsr.txt\")"
   ]
  },
  {
   "cell_type": "code",
   "execution_count": null,
   "id": "necessary-cheese",
   "metadata": {
    "kernel": "R"
   },
   "outputs": [],
   "source": [
    "raw_beta_se = raw_beta_se %>% \n",
    "  data.frame() %>% \n",
    "  rename(marker = m.Marker)\n",
    "raw_beta = raw_beta %>% \n",
    "  data.frame() %>% \n",
    "  mutate(marker = rownames(raw_beta))\n",
    "\n",
    "sumstats = inner_join(raw_beta_se,raw_beta, by = 'marker') %>% \n",
    "  select(marker, hdl,HDLSe,ldl,LDLSe, tg, TGSe, tc, TCSe)\n",
    "\n",
    "head(sumstats)\n",
    "\n",
    "colnames(sumstats) = c(\"marker\", \"hdl\", \"hdl_se\", \"ldl\", \"ldl_se\", \"tg\", \"tg_se\", \"tc\", \"tc_se\")\n",
    "\n",
    "sumstats = sumstats %>%\n",
    "  extract(marker, into = c(\"chr\", \"pos\"), regex = \"([0-9]+)(\\\\:[0-9]+)\") %>% \n",
    "  mutate(chr = as.numeric(chr),\n",
    "         pos = as.numeric(str_replace(pos, \":\",\"\")))"
   ]
  },
  {
   "cell_type": "code",
   "execution_count": null,
   "id": "little-pacific",
   "metadata": {
    "kernel": "R"
   },
   "outputs": [],
   "source": [
    "chr_pos = bigreadr::fread2(\"./all_MVP_posteriors/identifying_info/chr_pos_allele2_lfsr.txt\")\n",
    "head(chr_pos)"
   ]
  },
  {
   "cell_type": "code",
   "execution_count": null,
   "id": "direct-enlargement",
   "metadata": {
    "kernel": "R"
   },
   "outputs": [],
   "source": [
    "chr_pos = chr_pos %>%\n",
    "  extract(V1, into = c(\"chr\", \"pos\"), regex = \"([0-9]+)(\\\\:[0-9]+)\") %>% \n",
    "  mutate(chr = as.numeric(chr),\n",
    "         pos = as.numeric(str_replace(pos, \":\",\"\"))) %>% \n",
    "  rename(a0 = Allele1,\n",
    "         a1 = Allele2,\n",
    "         rsid = rsID) %>% \n",
    "  select(chr,pos,rsid,a0,a1)"
   ]
  },
  {
   "cell_type": "code",
   "execution_count": null,
   "id": "pointed-handling",
   "metadata": {
    "kernel": "R"
   },
   "outputs": [],
   "source": [
    "sumstats = inner_join(sumstats, chr_pos, by = c(\"chr\",\"pos\")) %>% select(chr, pos, rsid, a0, a1, everything())\n",
    "sumstats = sumstats %>% \n",
    "  mutate(hdl_z = hdl/hdl_se,\n",
    "         hdl_p = 2*pnorm(-abs(hdl_z)),\n",
    "         ldl_z = ldl/ldl_se,\n",
    "         ldl_p = 2*pnorm(-abs(ldl_z)),\n",
    "         tc_z = tc/tc_se,\n",
    "         tc_p = 2*pnorm(-abs(tc_z)),\n",
    "         tg_z = tg/tg_se,\n",
    "         tg_p = 2*pnorm(-abs(tg_z))) %>% \n",
    "  select(-hdl_z,-ldl_z, -tc_z, -tg_z)\n",
    "\n",
    "head(sumstats)"
   ]
  },
  {
   "cell_type": "code",
   "execution_count": null,
   "id": "elementary-security",
   "metadata": {
    "kernel": "R"
   },
   "outputs": [],
   "source": [
    "sumstats_hdl  = sumstats %>% \n",
    "  select(chr, pos, rsid, a0,a1, hdl, hdl_se,hdl_p) %>% \n",
    "  rename(beta = hdl,\n",
    "         beta_se = hdl_se,\n",
    "         p = hdl_p)\n",
    "head(sumstats_hdl)\n",
    "\n",
    "sumstats_ldl  = sumstats %>% \n",
    "  select(chr, pos, rsid, a0, a1, ldl, ldl_se,ldl_p) %>% \n",
    "  rename(beta = ldl,\n",
    "         beta_se = ldl_se,\n",
    "         p = ldl_p)\n",
    "\n",
    "sumstats_tc  = sumstats %>% \n",
    "  select(chr, pos, rsid, a0,a1, tc, tc_se,tc_p) %>% \n",
    "  rename(beta = tc,\n",
    "         beta_se = tc_se,\n",
    "         p = tc_p)\n",
    "\n",
    "sumstats_tg  = sumstats %>% \n",
    "  select(chr, pos, rsid, a0,a1, tg, tg_se,tg_p) %>% \n",
    "  rename(beta = tg,\n",
    "         beta_se = tg_se,\n",
    "         p = tg_p)"
   ]
  },
  {
   "cell_type": "code",
   "execution_count": null,
   "id": "driving-bolivia",
   "metadata": {
    "kernel": "R"
   },
   "outputs": [],
   "source": [
    "saveRDS(sumstats_hdl, file = \"mvpdata/sumstats_hdl.rds\")\n",
    "saveRDS(sumstats_ldl, file = \"mvpdata/sumstats_ldl.rds\")\n",
    "saveRDS(sumstats_tc, file = \"mvpdata/sumstats_tc.rds\")\n",
    "saveRDS(sumstats_tg, file = \"mvpdata/sumstats_tg.rds\")\n",
    "head(sumstats_tg)"
   ]
  },
  {
   "cell_type": "code",
   "execution_count": null,
   "id": "frozen-discount",
   "metadata": {
    "kernel": "R"
   },
   "outputs": [],
   "source": [
    "pos_raw_beta = bigreadr::fread2(\"./all_MVP_posteriors/posterior_estimates/MVP_all_beta_posterior_beta.txt\")\n",
    "\n",
    "pos_raw_beta_se = bigreadr::fread2(\"./all_MVP_posteriors/posterior_estimates/posterior_beta_se.txt\")\n",
    "\n",
    "colnames(pos_raw_beta)=c(\"marker\", \"hdl\",\"ldl\",\"tg\",\"tc\")\n",
    "colnames(pos_raw_beta_se)=c(\"marker\", \"hdl_se\",\"ldl_se\",\"tg_se\",\"tc_se\")"
   ]
  },
  {
   "cell_type": "code",
   "execution_count": null,
   "id": "inclusive-tulsa",
   "metadata": {
    "kernel": "R"
   },
   "outputs": [],
   "source": [
    "head(pos_raw_beta)"
   ]
  },
  {
   "cell_type": "code",
   "execution_count": null,
   "id": "polish-highlight",
   "metadata": {
    "kernel": "R"
   },
   "outputs": [],
   "source": [
    "head(pos_raw_beta_se)"
   ]
  },
  {
   "cell_type": "code",
   "execution_count": null,
   "id": "juvenile-cloud",
   "metadata": {
    "kernel": "R"
   },
   "outputs": [],
   "source": [
    "pos_raw_beta_se = pos_raw_beta_se %>% \n",
    "  data.frame()\n",
    "pos_raw_beta = pos_raw_beta %>% \n",
    "  data.frame()"
   ]
  },
  {
   "cell_type": "code",
   "execution_count": null,
   "id": "aerial-shakespeare",
   "metadata": {
    "kernel": "R"
   },
   "outputs": [],
   "source": [
    "sumstats = inner_join(pos_raw_beta_se,pos_raw_beta, by = 'marker') %>% \n",
    "  select(marker, hdl,hdl_se,ldl,ldl_se, tg, tg_se, tc, tc_se)\n",
    "\n",
    "head(sumstats)\n",
    "\n",
    "colnames(sumstats) = c(\"marker\", \"hdl\", \"hdl_se\", \"ldl\", \"ldl_se\", \"tg\", \"tg_se\", \"tc\", \"tc_se\")\n",
    "\n",
    "sumstats = sumstats %>%\n",
    "  extract(marker, into = c(\"chr\", \"pos\"), regex = \"([0-9]+)(\\\\:[0-9]+)\") %>% \n",
    "  mutate(chr = as.numeric(chr),\n",
    "         pos = as.numeric(str_replace(pos, \":\",\"\")))"
   ]
  },
  {
   "cell_type": "code",
   "execution_count": null,
   "id": "ceramic-bracket",
   "metadata": {
    "kernel": "R"
   },
   "outputs": [],
   "source": [
    "chr_pos = bigreadr::fread2(\"./all_MVP_posteriors/identifying_info/chr_pos_allele2_lfsr.txt\")\n",
    "head(chr_pos)"
   ]
  },
  {
   "cell_type": "markdown",
   "id": "smooth-bernard",
   "metadata": {
    "kernel": "Bash"
   },
   "source": [
    "## Step 1: common snps"
   ]
  },
  {
   "cell_type": "code",
   "execution_count": null,
   "id": "unavailable-rebel",
   "metadata": {
    "kernel": "Bash"
   },
   "outputs": [],
   "source": [
    "sos run ldpred.ipynb extract_snp -v1 \\\n",
    "    --outpath res-data \\\n",
    "    --testpath ukbiobank \\\n",
    "    --ref_bed 1000G/1000G.EUR.bed \\\n",
    "    --test_bed ukbiobank/UKB.bed \\\n",
    "    --ref_snp 1000G/1000G.QC.snplist \\\n",
    "    --test_snp ukbiobank/UKB.QC.snplist \\\n",
    "    --summstats_file mvpdata/pos_sumstats_hdl.rds \\\n",
    "    --stat_snp mvpdata/pos_sumstats_hdl.snplist"
   ]
  },
  {
   "cell_type": "code",
   "execution_count": null,
   "id": "entire-amber",
   "metadata": {
    "kernel": "Bash"
   },
   "outputs": [],
   "source": [
    "sos run ldpred.ipynb common_snp \\\n",
    "    --outpath res-data \\\n",
    "    --testpath ukbiobank \\\n",
    "    --stat_snp mvpdata/pos_sumstats_hdl.snplist \\\n",
    "    --ref_snp 1000G/1000G.QC.snplist \\\n",
    "    --test_snp ukbiobank/UKB.QC.snplist \\\n",
    "    --summstats_file mvpdata/pos_sumstats_hdl.rds \\\n",
    "    --sub_stats mvpdata/pos_sumstats_hdl.SUB.rds"
   ]
  },
  {
   "cell_type": "markdown",
   "id": "signal-radius",
   "metadata": {
    "kernel": "Bash"
   },
   "source": [
    "## Step 2: subsetting reference panel"
   ]
  },
  {
   "cell_type": "code",
   "execution_count": null,
   "id": "preceding-knock",
   "metadata": {
    "kernel": "Bash"
   },
   "outputs": [],
   "source": [
    "sos run ldpred.ipynb subsets \\\n",
    "    --outpath res-data \\\n",
    "    --testpath ukbiobank \\\n",
    "    --bed_file 1000G/1000G.EUR.bed \\\n",
    "    --fam_file 1000G/1000G.EUR.fam \\\n",
    "    --snp_file res-data/common.snplist \\\n",
    "    --sub_bedfile 1000G/1000G.SUB.bed"
   ]
  },
  {
   "cell_type": "markdown",
   "id": "identical-chemistry",
   "metadata": {
    "kernel": "Bash"
   },
   "source": [
    "Totally 31566 varients"
   ]
  },
  {
   "cell_type": "markdown",
   "id": "protected-evans",
   "metadata": {
    "kernel": "Bash"
   },
   "source": [
    "    ./plink \\\n",
    "        --bfile 1000G/1000G.EUR \\\n",
    "        --keep 1000G/1000G.EUR.fam \\\n",
    "        --extract res-data/common.snplist \\\n",
    "        --make-bed \\\n",
    "        --out 1000G/1000G.SUB\n"
   ]
  },
  {
   "cell_type": "markdown",
   "id": "boxed-finland",
   "metadata": {
    "kernel": "Bash"
   },
   "source": [
    "## Step 3: SNP Matching\n"
   ]
  },
  {
   "cell_type": "code",
   "execution_count": null,
   "id": "essential-warner",
   "metadata": {
    "kernel": "Bash"
   },
   "outputs": [],
   "source": [
    "sos run ldpred.ipynb data_load \\\n",
    "    --outpath res-data \\\n",
    "    --testpath ukbiobank \\\n",
    "    --ref_bfile 1000G/1000G.SUB.bed \\\n",
    "    --ref_file 1000G/1000G.SUB.rds \\\n",
    "    --summstats_file mvpdata/pos_sumstats_hdl.SUB.rds \\\n",
    "    --n_eff 200000 \\\n",
    "    --test_snplist UKB.SUB.snplist"
   ]
  },
  {
   "cell_type": "markdown",
   "id": "noble-olive",
   "metadata": {
    "kernel": "Bash"
   },
   "source": [
    "## Step 4: Quality control (or do not)\n",
    "\n",
    "Greatly drop variants. "
   ]
  },
  {
   "cell_type": "code",
   "execution_count": null,
   "id": "noticed-stress",
   "metadata": {
    "kernel": "Bash"
   },
   "outputs": [],
   "source": [
    "sos run ldpred.ipynb QControl \\\n",
    "    --qc_in res-data/MatchedSnp.RData \\\n",
    "    --outpath res-data \\\n",
    "    --testpath ukbiobank \\\n",
    "    --test_snplist UKB.QC.SUB.snplist"
   ]
  },
  {
   "cell_type": "markdown",
   "id": "overall-venue",
   "metadata": {
    "kernel": "Bash"
   },
   "source": [
    "## Step 5: subsetting target data"
   ]
  },
  {
   "cell_type": "code",
   "execution_count": null,
   "id": "choice-singles",
   "metadata": {
    "kernel": "Bash"
   },
   "outputs": [],
   "source": [
    "sos run ldpred.ipynb subsets \\\n",
    "    --outpath res-data \\\n",
    "    --testpath ukbiobank \\\n",
    "    --bed_file ukbiobank/UKB.bed \\\n",
    "    --fam_file ukbiobank/UKB.QC.fam \\\n",
    "    --snp_file ukbiobank/UKB.QC.SUB.snplist \\\n",
    "    --sub_bedfile ukbiobank/UKB.SUB.bed"
   ]
  },
  {
   "cell_type": "markdown",
   "id": "arctic-pearl",
   "metadata": {
    "kernel": "Bash"
   },
   "source": [
    "## Step 6: Calculate LD matrix and correlation"
   ]
  },
  {
   "cell_type": "code",
   "execution_count": null,
   "id": "favorite-procedure",
   "metadata": {
    "kernel": "Bash"
   },
   "outputs": [],
   "source": [
    "sos run ldpred.ipynb LD \\\n",
    "    --outpath res-data \\\n",
    "    --testpath ukbiobank \\\n",
    "    --ld_in res-data/QcMatchedSnp.Rdata"
   ]
  },
  {
   "cell_type": "markdown",
   "id": "enabling-architecture",
   "metadata": {
    "kernel": "Bash"
   },
   "source": [
    "## Step 7: Estimate posterior effect sizes and PRS"
   ]
  },
  {
   "cell_type": "code",
   "execution_count": null,
   "id": "scientific-swimming",
   "metadata": {
    "kernel": "Bash"
   },
   "outputs": [],
   "source": [
    "sos run ldpred.ipynb load_testdata+inf_prs \\\n",
    "    --outpath res-data \\\n",
    "    --testpath ukbiobank \\\n",
    "    --inf_in res-data/LdMatrix.Rdata \\\n",
    "    --test_bfile ukbiobank/UKB.SUB.bed \\\n",
    "    --test_file ukbiobank/UKB.SUB.rds"
   ]
  },
  {
   "cell_type": "code",
   "execution_count": null,
   "id": "leading-handbook",
   "metadata": {
    "kernel": "Bash"
   },
   "outputs": [],
   "source": [
    "sos run ldpred.ipynb grid_prs \\\n",
    "    --outpath res-data \\\n",
    "    --testpath ukbiobank \\\n",
    "    --grid_in res-data/LdMatrix.Rdata \\\n",
    "    --test_bfile ukbiobank/UKB.SUB.bed \\\n",
    "    --cov_file ukbiobank/UKB.ind.cov \\\n",
    "    --trait_file ukbiobank/UKB.hdl.cov \\\n",
    "    --test_file ukbiobank/UKB.SUB.rds \\\n",
    "    --response continuous"
   ]
  },
  {
   "cell_type": "code",
   "execution_count": null,
   "id": "removed-level",
   "metadata": {
    "kernel": "Bash"
   },
   "outputs": [],
   "source": [
    "sos run ldpred.ipynb auto_prs \\\n",
    "    --outpath res-data \\\n",
    "    --testpath ukbiobank \\\n",
    "    --auto_in res-data/LdMatrix.Rdata \\\n",
    "    --test_bfile ukbiobank/UKB.SUB.bed \\\n",
    "    --test_file ukbiobank/UKB.SUB.rds"
   ]
  },
  {
   "cell_type": "markdown",
   "id": "relevant-medicine",
   "metadata": {
    "kernel": "Bash"
   },
   "source": [
    "## Step 8: predict phenotypes"
   ]
  },
  {
   "cell_type": "markdown",
   "id": "sitting-humidity",
   "metadata": {
    "kernel": "Bash"
   },
   "source": [
    "Null model: Traits ~ Sex + Age + Smoking + Alcohol"
   ]
  },
  {
   "cell_type": "code",
   "execution_count": null,
   "id": "handed-handle",
   "metadata": {
    "kernel": "Bash"
   },
   "outputs": [],
   "source": [
    "sos run ldpred.ipynb null_phenopred \\\n",
    "    --outpath res-data \\\n",
    "    --testpath ukbiobank \\\n",
    "    --cov_file ukbiobank/UKB.ind.cov \\\n",
    "    --trait_file ukbiobank/UKB.hdl.cov \\\n",
    "    --response continuous"
   ]
  },
  {
   "cell_type": "markdown",
   "id": "environmental-relations",
   "metadata": {
    "kernel": "Bash"
   },
   "source": [
    "Inf/grid/auto model: Traits ~ Sex + Age + Smoking + Alcohol + PRS"
   ]
  },
  {
   "cell_type": "code",
   "execution_count": null,
   "id": "loaded-paraguay",
   "metadata": {
    "kernel": "Bash"
   },
   "outputs": [],
   "source": [
    "sos run ldpred.ipynb inf_phenopred \\\n",
    "    --outpath res-data \\\n",
    "    --testpath ukbiobank \\\n",
    "    --cov_file ukbiobank/UKB.ind.cov \\\n",
    "    --trait_file ukbiobank/UKB.hdl.cov \\\n",
    "    --prs_file res-data/InfPred.Rdata \\\n",
    "    --mod_summary InfSummary.pdf \\\n",
    "    --model InfModel.Rdata \\\n",
    "    --response continuous"
   ]
  },
  {
   "cell_type": "code",
   "execution_count": null,
   "id": "sudden-thing",
   "metadata": {
    "kernel": "Bash"
   },
   "outputs": [],
   "source": [
    "sos run ldpred.ipynb grid_phenopred \\\n",
    "    --outpath res-data \\\n",
    "    --testpath ukbiobank \\\n",
    "    --cov_file ukbiobank/UKB.ind.cov \\\n",
    "    --trait_file ukbiobank/UKB.hdl.cov \\\n",
    "    --prs_file res-data/GridPred.Rdata \\\n",
    "    --mod_summary GridSummary.pdf \\\n",
    "    --model GridModel.Rdata \\\n",
    "    --response continuous"
   ]
  },
  {
   "cell_type": "code",
   "execution_count": null,
   "id": "diagnostic-sponsorship",
   "metadata": {
    "kernel": "Bash"
   },
   "outputs": [],
   "source": [
    "sos run ldpred.ipynb auto_phenopred \\\n",
    "    --outpath res-data \\\n",
    "    --testpath ukbiobank \\\n",
    "    --cov_file ukbiobank/UKB.ind.cov \\\n",
    "    --trait_file ukbiobank/UKB.hdl.cov \\\n",
    "    --prs_file res-data/AutoPred.Rdata \\\n",
    "    --mod_summary AutoSummary.pdf \\\n",
    "    --model AutoModel.Rdata \\\n",
    "    --response 1"
   ]
  },
  {
   "cell_type": "markdown",
   "id": "dedicated-physics",
   "metadata": {
    "kernel": "Bash"
   },
   "source": [
    "# Results"
   ]
  },
  {
   "cell_type": "markdown",
   "id": "infrared-radio",
   "metadata": {
    "kernel": "Bash"
   },
   "source": [
    "Following table shows adjusted R squared of HDL prediction model. QC is quality control in step 4."
   ]
  },
  {
   "cell_type": "markdown",
   "id": "effective-locking",
   "metadata": {
    "kernel": "Bash"
   },
   "source": [
    "|   Betas   | QC? |   Null  |   Inf   |   Grid  |   Auto  |\n",
    "|:---------:|:---:|:-------:|:-------:|:-------:|:-------:|\n",
    "|  Original | Yes | 0.2901 | 0.2909 | 0.2897  | 0.2909 |\n",
    "|  Original |  No$^*$ | - | - |    -  |    -   |\n",
    "| Posterior | Yes | 0.2901 | 0.2897 | 0.2901| 0.29 |\n",
    "| Posterior |  No$^*$ |  -  |  - |    -    |    -   |"
   ]
  },
  {
   "cell_type": "markdown",
   "id": "saving-group",
   "metadata": {
    "kernel": "Bash"
   },
   "source": [
    "$*$: Take long very long time to get results (4hrs+)"
   ]
  }
 ],
 "metadata": {
  "kernelspec": {
   "display_name": "SoS",
   "language": "sos",
   "name": "sos"
  },
  "language_info": {
   "codemirror_mode": "sos",
   "file_extension": ".sos",
   "mimetype": "text/x-sos",
   "name": "sos",
   "nbconvert_exporter": "sos_notebook.converter.SoS_Exporter",
   "pygments_lexer": "sos"
  },
  "sos": {
   "kernels": [
    [
     "Bash",
     "bash",
     "Bash",
     "#E6EEFF",
     "shell"
    ],
    [
     "R",
     "ir",
     "R",
     "#DCDCDA",
     ""
    ]
   ],
   "version": "0.22.4"
  },
  "toc-autonumbering": false
 },
 "nbformat": 4,
 "nbformat_minor": 5
}
