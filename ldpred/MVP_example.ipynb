{
 "cells": [
  {
   "cell_type": "markdown",
   "id": "peaceful-albany",
   "metadata": {
    "kernel": "Bash"
   },
   "source": [
    "# HDL in MVP\n",
    "\n",
    "## Reference panel\n",
    "\n",
    "`download_1000G()` in `bigsnpr`\n",
    "\n",
    "Including 503 (mostly unrelated) European individuals and ~1.7M SNPs in common with either HapMap3 or the UK Biobank. Classification of European populstion can be found at [IGSR](https://www.internationalgenome.org/category/population/). European individuals ID are from [IGSR data portal](https://www.internationalgenome.org/data-portal/sample).\n",
    "\n",
    "## Base data: summary Statistics from MVP\n",
    "\n",
    "Posterior betas for traits HDL.\n",
    "\n",
    "## Target data: UK biobank\n",
    "\n",
    "covariates, phenotype related to HDL and genotypes of 2000 individuals `UKB.QC.fam`. \n",
    "\n",
    "## Model\n",
    "\n",
    "Auto model runs the algorithm for 30 different $p$ (the proportion of causal variants) values range from 10e-4 to 0.9, and heritability $h^2$ from LD score regression as initial value.\n",
    "\n",
    "Grid model tries a grid of parameters $p$, ranges from 0 to 1 and three $h^2$ which are 0.7/1/1.4 times of initial $h^2$ estimated by LD score regression.\n",
    "\n",
    "## Test genotype data preparation\n",
    "\n",
    "Use `awk` select columns in phenotypes file saved to traits file `UKB.hdl.cov` and covariates file `UKB.ind.cov`.\n"
   ]
  },
  {
   "cell_type": "code",
   "execution_count": 1,
   "id": "consistent-tuition",
   "metadata": {
    "kernel": "R"
   },
   "outputs": [],
   "source": [
    "fam_UKB <- read.table(\"ukbiobank/UKB.fam\", header = F, stringsAsFactors = F)\n",
    "colnames(fam_UKB)=c(\"FID\",\"IID\",\"paternal.ID\",\"maternal.ID\",\"sex\",\"affection\")\n",
    "covariates <- read.table(\"ukbiobank/UKBCauc_cholesterolandbloodpressurefields_inverseranknorm_covariatesage_sex_alcohol_smokingpackyears_foranalysis\", header = T, stringsAsFactors = F)\n",
    "suppressMessages(library(tidyverse))\n",
    "\n",
    "set.seed(2021)\n",
    "covariate = covariates %>%\n",
    "    drop_na() %>%\n",
    "    filter(FID %in% sample(FID,2000))\n",
    "    \n",
    "covariate = covariate[order(covariate[,1]),]\n",
    "\n",
    "fam_UKB = fam_UKB %>% filter(FID %in% covariate$FID)\n",
    "fam_UKB = fam_UKB[order(covariate[,1]),]\n",
    "colnames(fam_UKB)<-NULL\n",
    "\n",
    "write.table(covariate, file = \"ukbiobank/UKB.cov\", sep = \" \", \n",
    "            row.names = F, col.names = T,)\n",
    "write.table(fam_UKB, file = \"ukbiobank/UKB.QC.fam\", sep = \" \", \n",
    "            row.names = FALSE, col.names = FALSE)"
   ]
  },
  {
   "cell_type": "code",
   "execution_count": 2,
   "id": "disturbed-delivery",
   "metadata": {
    "kernel": "Bash"
   },
   "outputs": [
    {
     "name": "stdout",
     "output_type": "stream",
     "text": [
      "\u001b[?2004h\u001b[?2004l\u001b[?2004l\u001b[?2004l"
     ]
    },
    {
     "ename": "",
     "evalue": "1",
     "output_type": "error",
     "traceback": []
    }
   ],
   "source": [
    "cd ukbiobank\n",
    "awk '{print $3, $4}' UKB.cov > UKB.ind.cov\n",
    "awk '{print $14}' UKB.cov > UKB.hdl.cov\n",
    "cd .."
   ]
  },
  {
   "cell_type": "markdown",
   "id": "civilian-induction",
   "metadata": {
    "kernel": "Bash"
   },
   "source": [
    "## Summary statistics data preparation"
   ]
  },
  {
   "cell_type": "code",
   "execution_count": null,
   "id": "lucky-richards",
   "metadata": {
    "kernel": "R"
   },
   "outputs": [],
   "source": [
    "library(tidyverse)\n",
    "\n",
    "format_data <- function(sums, chrpos, betaty = c(\"pos\",\"raw\")){\n",
    "  sums = inner_join(sums, chrpos, by = c(\"chr\",\"pos\")) %>% select(chr, pos, rsid, a0, a1, everything())\n",
    "  \n",
    "  print(\"inner join completed\")\n",
    "  \n",
    "  if(betaty == \"raw\"){\n",
    "    sums = sums %>% \n",
    "      mutate(hdl = hdl_z*hdl_se,\n",
    "            ldl = ldl_z*ldl_se,\n",
    "            tc = tc_z*tc_se,\n",
    "            tg = tg_z*tg_se) %>% \n",
    "      select(-hdl_z,-ldl_z, -tc_z, -tg_z)\n",
    "  }\n",
    "\n",
    "  \n",
    "  sumstats_hdl  = sums %>% \n",
    "    select(chr, pos, rsid, a0,a1, hdl, hdl_se,hdl_p) %>% \n",
    "    rename(beta = hdl,\n",
    "          beta_se = hdl_se) %>% \n",
    "    mutate(n_eff = 200000)\n",
    "  \n",
    "  print(\"finish hdl\")\n",
    "  \n",
    "  sumstats_ldl  = sums %>% \n",
    "   select(chr, pos, rsid, a0, a1, ldl, ldl_se,ldl_p) %>% \n",
    "    rename(beta = ldl,\n",
    "          beta_se = ldl_se) %>% \n",
    "    mutate(n_eff = 200000)\n",
    "  \n",
    "  print(\"finish ldl\")\n",
    "\n",
    "  sumstats_tc  = sums %>% \n",
    "    select(chr, pos, rsid, a0,a1, tc, tc_se,tc_p) %>% \n",
    "    rename(beta = tc,\n",
    "          beta_se = tc_se) %>% \n",
    "    mutate(n_eff = 200000)\n",
    "  \n",
    "  print(\"finish tc\")\n",
    "\n",
    "  sumstats_tg  = sums %>% \n",
    "    select(chr, pos, rsid, a0,a1, tg, tg_se,tg_p) %>% \n",
    "    rename(beta = tg,\n",
    "          beta_se = tg_se) %>% \n",
    "    mutate(n_eff = 200000)\n",
    "  \n",
    "  print(\"finish tg\")\n",
    "  \n",
    "  print(\"data ready to save\")\n",
    "  \n",
    "  if(betaty == \"raw\"){\n",
    "    saveRDS(sumstats_hdl, file = \"mvpdata/sumstats_hdl.rds\")\n",
    "    saveRDS(sumstats_ldl, file = \"mvpdata/sumstats_ldl.rds\")\n",
    "    saveRDS(sumstats_tc, file = \"mvpdata/sumstats_tc.rds\")\n",
    "    saveRDS(sumstats_tg, file = \"mvpdata/sumstats_tg.rds\")\n",
    "  }\n",
    "  if(betaty ==\"pos\"){\n",
    "    saveRDS(sumstats_hdl, file = \"mvpdata/pos_sumstats_hdl.rds\")\n",
    "    saveRDS(sumstats_ldl, file = \"mvpdata/pos_sumstats_ldl.rds\")\n",
    "    saveRDS(sumstats_tc, file = \"mvpdata/pos_sumstats_tc.rds\")\n",
    "    saveRDS(sumstats_tg, file = \"mvpdata/pos_sumstats_tg.rds\")\n",
    "  }\n",
    "  \n",
    "}"
   ]
  },
  {
   "cell_type": "code",
   "execution_count": null,
   "id": "interpreted-independence",
   "metadata": {
    "kernel": "R"
   },
   "outputs": [],
   "source": [
    "chr_pos = bigreadr::fread2(\"./all_MVP_posteriors/identifying_info/chr_pos_allele2_lfsr.txt\")\n",
    "head(chr_pos)\n",
    "\n",
    "chr_pos = chr_pos %>%\n",
    "  extract(V1, into = c(\"chr\", \"pos\"), regex = \"([0-9]+)(\\\\:[0-9]+)\") %>% \n",
    "  mutate(chr = as.numeric(chr),\n",
    "         pos = as.numeric(str_replace(pos, \":\",\"\"))) %>% \n",
    "  rename(a0 = Allele1,\n",
    "         a1 = Allele2,\n",
    "         rsid = rsID) %>% \n",
    "  select(chr,pos,rsid,a0,a1)\n",
    "head(chr_pos)"
   ]
  },
  {
   "cell_type": "code",
   "execution_count": null,
   "id": "separated-organization",
   "metadata": {
    "kernel": "R"
   },
   "outputs": [],
   "source": [
    "raw_beta = readRDS(\"./all_MVP_posteriors/raw_univariate_estimates/zmash_raw_univariate_MVP.rds\")\n",
    "\n",
    "raw_beta_se = bigreadr::fread2(\"./all_MVP_posteriors/raw_univariate_estimates/Merged_MVP_Full_se_raw.txt\")"
   ]
  },
  {
   "cell_type": "code",
   "execution_count": null,
   "id": "harmful-perth",
   "metadata": {
    "kernel": "R"
   },
   "outputs": [],
   "source": [
    "raw_beta_se = raw_beta_se %>% \n",
    "  data.frame() %>% \n",
    "  rename(marker = m.Marker)\n",
    "raw_beta = raw_beta %>% \n",
    "  data.frame() %>% \n",
    "  mutate(marker = rownames(raw_beta))\n",
    "\n",
    "sumstats = inner_join(raw_beta_se,raw_beta, by = 'marker') %>% \n",
    "  select(marker, hdl,HDLSe,ldl,LDLSe, tg, TGSe, tc, TCSe)\n",
    "\n",
    "colnames(sumstats) = c(\"marker\", \"hdl_z\", \"hdl_se\", \"ldl_z\", \"ldl_se\", \"tg_z\", \"tg_se\", \"tc_z\", \"tc_se\")\n",
    "\n",
    "sumstats = sumstats %>%\n",
    "  extract(marker, into = c(\"chr\", \"pos\"), regex = \"([0-9]+)(\\\\:[0-9]+)\") %>% \n",
    "  mutate(chr = as.numeric(chr),\n",
    "         pos = as.numeric(str_replace(pos, \":\",\"\")))"
   ]
  },
  {
   "cell_type": "code",
   "execution_count": null,
   "id": "packed-baseline",
   "metadata": {
    "kernel": "R"
   },
   "outputs": [],
   "source": [
    "format_data(sumstats, chr_pos, \"raw\")"
   ]
  },
  {
   "cell_type": "code",
   "execution_count": null,
   "id": "divine-frontier",
   "metadata": {
    "kernel": "R"
   },
   "outputs": [],
   "source": [
    "pos_raw_beta = bigreadr::fread2(\"./all_MVP_posteriors/posterior_estimates/MVP_all_beta_posterior_beta.txt\")\n",
    "\n",
    "pos_raw_beta_se = bigreadr::fread2(\"./all_MVP_posteriors/posterior_estimates/posterior_beta_se.txt\")\n",
    "\n",
    "colnames(pos_raw_beta)=c(\"marker\", \"hdl\",\"ldl\",\"tg\",\"tc\")\n",
    "colnames(pos_raw_beta_se)=c(\"marker\", \"hdl_se\",\"ldl_se\",\"tg_se\",\"tc_se\")"
   ]
  },
  {
   "cell_type": "code",
   "execution_count": null,
   "id": "express-miami",
   "metadata": {
    "kernel": "R"
   },
   "outputs": [],
   "source": [
    "pos_raw_beta_se = pos_raw_beta_se %>% \n",
    "  data.frame()\n",
    "pos_raw_beta = pos_raw_beta %>% \n",
    "  data.frame()"
   ]
  },
  {
   "cell_type": "code",
   "execution_count": null,
   "id": "satisfactory-cancellation",
   "metadata": {
    "kernel": "R"
   },
   "outputs": [],
   "source": [
    "sumstats_pos = inner_join(pos_raw_beta_se,pos_raw_beta, by = 'marker') %>% \n",
    "  select(marker, hdl,hdl_se,ldl,ldl_se, tg, tg_se, tc, tc_se)\n",
    "\n",
    "head(sumstats_pos)\n",
    "\n",
    "colnames(sumstats_pos) = c(\"marker\", \"hdl\", \"hdl_se\", \"ldl\", \"ldl_se\", \"tg\", \"tg_se\", \"tc\", \"tc_se\")\n",
    "\n",
    "sumstats_pos = sumstats_pos %>%\n",
    "  extract(marker, into = c(\"chr\", \"pos\"), regex = \"([0-9]+)(\\\\:[0-9]+)\") %>% \n",
    "  mutate(chr = as.numeric(chr),\n",
    "         pos = as.numeric(str_replace(pos, \":\",\"\")))"
   ]
  },
  {
   "cell_type": "code",
   "execution_count": null,
   "id": "focused-contamination",
   "metadata": {
    "kernel": "R"
   },
   "outputs": [],
   "source": [
    "format_data(sumstats_pos, chr_pos, \"pos\")"
   ]
  },
  {
   "cell_type": "markdown",
   "id": "large-eight",
   "metadata": {
    "kernel": "Bash"
   },
   "source": [
    "## Step 1: common snps"
   ]
  },
  {
   "cell_type": "code",
   "execution_count": 6,
   "id": "adverse-membership",
   "metadata": {
    "kernel": "Bash"
   },
   "outputs": [
    {
     "name": "stdout",
     "output_type": "stream",
     "text": [
      "\u001b[?2004h\u001b[?2004l\u001b[?2004l\u001b[?2004l\u001b[?2004l\u001b[?2004l\u001b[?2004l\u001b[?2004l\u001b[?2004l"
     ]
    },
    {
     "ename": "",
     "evalue": "1",
     "output_type": "error",
     "traceback": []
    }
   ],
   "source": [
    "sos run ldpred.ipynb extract_snp -v1 \\\n",
    "    --outpath res-data \\\n",
    "    --testpath ukbiobank \\\n",
    "    --ref_bed 1000G/1000G.EUR.bed \\\n",
    "    --test_bed ukbiobank/UKB.bed \\\n",
    "    --ref_snp 1000G/1000G.QC.snplist \\\n",
    "    --test_snp ukbiobank/UKB.QC.snplist \\\n",
    "    --summstats_file mvpdata/sumstats_hdl.rds \\\n",
    "    --stat_snp mvpdata/sumstats_hdl.snplist"
   ]
  },
  {
   "cell_type": "code",
   "execution_count": 7,
   "id": "criminal-width",
   "metadata": {
    "kernel": "Bash"
   },
   "outputs": [
    {
     "name": "stdout",
     "output_type": "stream",
     "text": [
      "INFO: Running \u001b[32mcommon_snp\u001b[0m: 2004l\u001b[?2004l\u001b[?2004l\u001b[?2004l\n",
      "During startup - Warning messages:\n",
      "1: Setting LC_COLLATE failed, using \"C\" \n",
      "2: Setting LC_TIME failed, using \"C\" \n",
      "3: Setting LC_MESSAGES failed, using \"C\" \n",
      "4: Setting LC_MONETARY failed, using \"C\" \n",
      "[1] \"There are  409486  common SNPs.\"\n",
      "INFO: \u001b[32mcommon_snp\u001b[0m is \u001b[32mcompleted\u001b[0m.\n",
      "INFO: \u001b[32mcommon_snp\u001b[0m output:   \u001b[32mmvpdata/sumstats_hdl.SUB.rds res-data/common.snplist\u001b[0m\n",
      "INFO: Workflow common_snp (ID=wda5082e8178fcf44) is executed successfully with 1 completed step.\n",
      "\u001b[?2004h"
     ]
    },
    {
     "ename": "",
     "evalue": "1",
     "output_type": "error",
     "traceback": []
    }
   ],
   "source": [
    "sos run ldpred.ipynb common_snp \\\n",
    "    --outpath res-data \\\n",
    "    --testpath ukbiobank \\\n",
    "    --stat_snp mvpdata/sumstats_hdl.snplist \\\n",
    "    --ref_snp 1000G/1000G.QC.snplist \\\n",
    "    --test_snp ukbiobank/UKB.QC.snplist \\\n",
    "    --summstats_file mvpdata/sumstats_hdl.rds \\\n",
    "    --sub_stats mvpdata/sumstats_hdl.SUB.rds"
   ]
  },
  {
   "cell_type": "markdown",
   "id": "promising-tuner",
   "metadata": {
    "kernel": "Bash"
   },
   "source": [
    "## Step 2: subsetting reference panel"
   ]
  },
  {
   "cell_type": "code",
   "execution_count": 9,
   "id": "overall-shift",
   "metadata": {
    "kernel": "Bash"
   },
   "outputs": [
    {
     "name": "stdout",
     "output_type": "stream",
     "text": [
      "INFO: Running \u001b[32msubsets\u001b[0m: \u001b[?2004l\u001b[?2004l\u001b[?2004l\n",
      "PLINK v1.90b6.22 64-bit (16 Apr 2021)          www.cog-genomics.org/plink/1.9/\n",
      "(C) 2005-2021 Shaun Purcell, Christopher Chang   GNU General Public License v3\n",
      "Logging to 1000G/1000G.SUB.log.\n",
      "Options in effect:\n",
      "  --bfile 1000G/1000G.EUR\n",
      "  --extract res-data/common.snplist\n",
      "  --keep 1000G/1000G.EUR.fam\n",
      "  --make-bed\n",
      "  --out 1000G/1000G.SUB\n",
      "\n",
      "8192 MB RAM detected; reserving 4096 MB for main workspace.\n",
      "1664852 variants loaded from .bim file.\n",
      "503 people (240 males, 263 females) loaded from .fam.\n",
      "--extract: 409486 variants remaining.\n",
      "--keep: 503 people remaining.\n",
      "Using 1 thread (no multithreaded calculations invoked).\n",
      "Before main variant filters, 503 founders and 0 nonfounders present.\n",
      "Calculating allele frequencies... 10111213141516171819202122232425262728293031323334353637383940414243444546474849505152535455565758596061626364656667686970717273747576777879808182838485868788899091929394959697989 done.\n",
      "409486 variants and 503 people pass filters and QC.\n",
      "Note: No phenotypes present.\n",
      "--make-bed to 1000G/1000G.SUB.bed + 1000G/1000G.SUB.bim + 1000G/1000G.SUB.fam\n",
      "... 101112131415161718192021222324252627282930313233343536373839404142434445464748495051525354555657585960616263646566676869707172737475767778798081828384858687888990919293949596979899done.\n",
      "INFO: \u001b[32msubsets\u001b[0m is \u001b[32mcompleted\u001b[0m.\n",
      "INFO: \u001b[32msubsets\u001b[0m output:   \u001b[32m1000G/1000G.SUB.bed 1000G/1000G.SUB.bim... (3 items)\u001b[0m\n",
      "INFO: Workflow subsets (ID=w155ce1f50427ee8f) is executed successfully with 1 completed step.\n",
      "\u001b[?2004h"
     ]
    },
    {
     "ename": "",
     "evalue": "1",
     "output_type": "error",
     "traceback": []
    }
   ],
   "source": [
    "sos run ldpred.ipynb subsets \\\n",
    "    --outpath res-data \\\n",
    "    --testpath ukbiobank \\\n",
    "    --bed_file 1000G/1000G.EUR.bed \\\n",
    "    --fam_file 1000G/1000G.EUR.fam \\\n",
    "    --snp_file res-data/common.snplist \\\n",
    "    --sub_bedfile 1000G/1000G.SUB.bed"
   ]
  },
  {
   "cell_type": "markdown",
   "id": "plastic-estimate",
   "metadata": {
    "kernel": "Bash"
   },
   "source": [
    "Totally 31566 varients"
   ]
  },
  {
   "cell_type": "markdown",
   "id": "suited-roman",
   "metadata": {
    "kernel": "Bash"
   },
   "source": [
    "    ./plink \\\n",
    "        --bfile 1000G/1000G.EUR \\\n",
    "        --keep 1000G/1000G.EUR.fam \\\n",
    "        --extract res-data/common.snplist \\\n",
    "        --make-bed \\\n",
    "        --out 1000G/1000G.SUB\n"
   ]
  },
  {
   "cell_type": "markdown",
   "id": "systematic-visiting",
   "metadata": {
    "kernel": "Bash"
   },
   "source": [
    "## Step 3: SNP Matching\n"
   ]
  },
  {
   "cell_type": "code",
   "execution_count": null,
   "id": "rough-democrat",
   "metadata": {
    "kernel": "Bash"
   },
   "outputs": [],
   "source": [
    "sos run ldpred.ipynb snp_match \\\n",
    "    --outpath res-data \\\n",
    "    --testpath ukbiobank \\\n",
    "    --ref_bfile 1000G/1000G.SUB.bed \\\n",
    "    --ref_file 1000G/1000G.SUB.rds \\\n",
    "    --summstats_file mvpdata/sumstats_hdl.SUB.rds \\\n",
    "    --n_eff 200000 \\\n",
    "    --test_snplist UKB.SUB.snplist"
   ]
  },
  {
   "cell_type": "markdown",
   "id": "dynamic-creator",
   "metadata": {
    "kernel": "Bash"
   },
   "source": [
    "## Step 4: Quality control (or do not)\n",
    "\n",
    "Greatly drop variants. "
   ]
  },
  {
   "cell_type": "code",
   "execution_count": null,
   "id": "assigned-shade",
   "metadata": {
    "kernel": "Bash"
   },
   "outputs": [],
   "source": [
    "sos run ldpred.ipynb QControl \\\n",
    "    --qc_in res-data/MatchedSnp.RData \\\n",
    "    --outpath res-data \\\n",
    "    --testpath ukbiobank \\\n",
    "    --test_snplist UKB.QC.SUB.snplist"
   ]
  },
  {
   "cell_type": "markdown",
   "id": "ongoing-polyester",
   "metadata": {
    "kernel": "Bash"
   },
   "source": [
    "## Step 5: subsetting target data"
   ]
  },
  {
   "cell_type": "code",
   "execution_count": null,
   "id": "rural-chemistry",
   "metadata": {
    "kernel": "Bash"
   },
   "outputs": [],
   "source": [
    "sos run ldpred.ipynb subsets \\\n",
    "    --outpath res-data \\\n",
    "    --testpath ukbiobank \\\n",
    "    --bed_file ukbiobank/UKB.bed \\\n",
    "    --fam_file ukbiobank/UKB.QC.fam \\\n",
    "    --snp_file ukbiobank/UKB.SUB.snplist \\\n",
    "    --sub_bedfile ukbiobank/UKB.SUB.bed"
   ]
  },
  {
   "cell_type": "markdown",
   "id": "smooth-locking",
   "metadata": {
    "kernel": "Bash"
   },
   "source": [
    "## Step 6: Calculate LD matrix and correlation"
   ]
  },
  {
   "cell_type": "code",
   "execution_count": null,
   "id": "handled-facing",
   "metadata": {
    "kernel": "Bash"
   },
   "outputs": [],
   "source": [
    "sos run ldpred.ipynb LD \\\n",
    "    --outpath res-data \\\n",
    "    --testpath ukbiobank \\\n",
    "    --ld_in res-data/MatchedSnp.Rdata"
   ]
  },
  {
   "cell_type": "markdown",
   "id": "embedded-infection",
   "metadata": {
    "kernel": "Bash"
   },
   "source": [
    "## Step 7: Estimate posterior effect sizes and PRS"
   ]
  },
  {
   "cell_type": "code",
   "execution_count": null,
   "id": "coordinate-recall",
   "metadata": {
    "kernel": "Bash"
   },
   "outputs": [],
   "source": [
    "sos run ldpred.ipynb load_testdata+inf_prs \\\n",
    "    --outpath res-data \\\n",
    "    --testpath ukbiobank \\\n",
    "    --inf_in res-data/LdMatrix.Rdata \\\n",
    "    --test_bfile ukbiobank/UKB.SUB.bed \\\n",
    "    --test_file ukbiobank/UKB.SUB.rds"
   ]
  },
  {
   "cell_type": "code",
   "execution_count": null,
   "id": "abandoned-philosophy",
   "metadata": {
    "kernel": "Bash"
   },
   "outputs": [],
   "source": [
    "sos run ldpred.ipynb grid_prs \\\n",
    "    --outpath res-data \\\n",
    "    --testpath ukbiobank \\\n",
    "    --grid_in res-data/LdMatrix.Rdata \\\n",
    "    --test_bfile ukbiobank/UKB.SUB.bed \\\n",
    "    --cov_file ukbiobank/UKB.ind.cov \\\n",
    "    --trait_file ukbiobank/UKB.hdl.cov \\\n",
    "    --test_file ukbiobank/UKB.SUB.rds \\\n",
    "    --response continuous"
   ]
  },
  {
   "cell_type": "code",
   "execution_count": null,
   "id": "unnecessary-surface",
   "metadata": {
    "kernel": "Bash"
   },
   "outputs": [],
   "source": [
    "sos run ldpred.ipynb auto_prs \\\n",
    "    --outpath res-data \\\n",
    "    --testpath ukbiobank \\\n",
    "    --auto_in res-data/LdMatrix.Rdata \\\n",
    "    --test_bfile ukbiobank/UKB.SUB.bed \\\n",
    "    --test_file ukbiobank/UKB.SUB.rds"
   ]
  },
  {
   "cell_type": "markdown",
   "id": "pursuant-lodge",
   "metadata": {
    "kernel": "Bash"
   },
   "source": [
    "## Step 8: predict phenotypes"
   ]
  },
  {
   "cell_type": "markdown",
   "id": "worldwide-cigarette",
   "metadata": {
    "kernel": "Bash"
   },
   "source": [
    "Null model: Traits ~ Sex + Age"
   ]
  },
  {
   "cell_type": "code",
   "execution_count": 5,
   "id": "dated-valve",
   "metadata": {
    "kernel": "Bash"
   },
   "outputs": [
    {
     "name": "stdout",
     "output_type": "stream",
     "text": [
      "INFO: Running \u001b[32mnull_phenopred\u001b[0m: l\u001b[?2004l\n",
      "During startup - Warning messages:\n",
      "1: Setting LC_COLLATE failed, using \"C\" \n",
      "2: Setting LC_TIME failed, using \"C\" \n",
      "3: Setting LC_MESSAGES failed, using \"C\" \n",
      "4: Setting LC_MONETARY failed, using \"C\" \n",
      "Loading required package: bigstatsr\n",
      "HDL_inverseranknorm ~ AGE + SEX\n",
      "<environment: 0x7fdc0ec54d20>\n",
      "\n",
      "Call:\n",
      "lm(formula = ., data = data[train.ind, ])\n",
      "\n",
      "Residuals:\n",
      "    Min      1Q  Median      3Q     Max \n",
      "-2.7973 -0.6148 -0.0072  0.5943  3.2185 \n",
      "\n",
      "Coefficients:\n",
      "             Estimate Std. Error t value Pr(>|t|)    \n",
      "(Intercept) -0.083025   0.177526  -0.468   0.6401    \n",
      "AGE          0.007225   0.003028   2.386   0.0171 *  \n",
      "SEX         -0.857958   0.046395 -18.492   <2e-16 ***\n",
      "---\n",
      "Signif. codes:  0 ‘***’ 0.001 ‘**’ 0.01 ‘*’ 0.05 ‘.’ 0.1 ‘ ’ 1\n",
      "\n",
      "Residual standard error: 0.9257 on 1597 degrees of freedom\n",
      "Multiple R-squared:  0.177,\tAdjusted R-squared:  0.176 \n",
      "F-statistic: 171.7 on 2 and 1597 DF,  p-value: < 2.2e-16\n",
      "\n",
      "\u001b[90m# A tibble: 1 x 3\u001b[39m\n",
      "  model         R2   MSE\n",
      "  \u001b[3m\u001b[90m<chr>\u001b[39m\u001b[23m      \u001b[3m\u001b[90m<dbl>\u001b[39m\u001b[23m \u001b[3m\u001b[90m<dbl>\u001b[39m\u001b[23m\n",
      "\u001b[90m1\u001b[39m NULL model 0.176 0.954\n",
      "null device \n",
      "          1 \n",
      "INFO: \u001b[32mnull_phenopred\u001b[0m is \u001b[32mcompleted\u001b[0m.\n",
      "INFO: \u001b[32mnull_phenopred\u001b[0m output:   \u001b[32mres-data/summary/NullSummary.pdf res-data/model/NullModel.Rdata\u001b[0m\n",
      "INFO: Workflow null_phenopred (ID=w66238e0ec0d25389) is executed successfully with 1 completed step.\n",
      "\u001b[?2004h"
     ]
    },
    {
     "ename": "",
     "evalue": "1",
     "output_type": "error",
     "traceback": []
    }
   ],
   "source": [
    "sos run ldpred.ipynb null_phenopred \\\n",
    "    --outpath res-data \\\n",
    "    --testpath ukbiobank \\\n",
    "    --cov_file ukbiobank/UKB.ind.cov \\\n",
    "    --trait_file ukbiobank/UKB.hdl.cov \\\n",
    "    --response continuous"
   ]
  },
  {
   "cell_type": "markdown",
   "id": "duplicate-immunology",
   "metadata": {
    "kernel": "Bash"
   },
   "source": [
    "Inf/grid/auto model: Traits ~ Sex + Age + PRS"
   ]
  },
  {
   "cell_type": "code",
   "execution_count": 4,
   "id": "pending-command",
   "metadata": {
    "kernel": "Bash"
   },
   "outputs": [
    {
     "name": "stdout",
     "output_type": "stream",
     "text": [
      "INFO: Running \u001b[32minf_phenopred\u001b[0m: 4l\u001b[?2004l\u001b[?2004l\u001b[?2004l\u001b[?2004l\n",
      "During startup - Warning messages:\n",
      "1: Setting LC_COLLATE failed, using \"C\" \n",
      "2: Setting LC_TIME failed, using \"C\" \n",
      "3: Setting LC_MESSAGES failed, using \"C\" \n",
      "4: Setting LC_MONETARY failed, using \"C\" \n",
      "Loading required package: bigstatsr\n",
      "HDL_inverseranknorm ~ PRS + AGE + SEX\n",
      "<environment: 0x7fe452c226e0>\n",
      "\n",
      "Call:\n",
      "lm(formula = reg.formula, data = data[train.ind, ])\n",
      "\n",
      "Residuals:\n",
      "    Min      1Q  Median      3Q     Max \n",
      "-2.9595 -0.5773 -0.0030  0.5575  3.8241 \n",
      "\n",
      "Coefficients:\n",
      "             Estimate Std. Error t value Pr(>|t|)    \n",
      "(Intercept) -0.303484   0.166778  -1.820   0.0690 .  \n",
      "PRS         -2.628765   0.174294 -15.082   <2e-16 ***\n",
      "AGE          0.006512   0.002834   2.298   0.0217 *  \n",
      "SEX         -0.839663   0.043436 -19.331   <2e-16 ***\n",
      "---\n",
      "Signif. codes:  0 ‘***’ 0.001 ‘**’ 0.01 ‘*’ 0.05 ‘.’ 0.1 ‘ ’ 1\n",
      "\n",
      "Residual standard error: 0.8663 on 1596 degrees of freedom\n",
      "Multiple R-squared:  0.2797,\tAdjusted R-squared:  0.2783 \n",
      "F-statistic: 206.5 on 3 and 1596 DF,  p-value: < 2.2e-16\n",
      "\n",
      "\u001b[90m# A tibble: 1 x 2\u001b[39m\n",
      "     R2   MSE\n",
      "  \u001b[3m\u001b[90m<dbl>\u001b[39m\u001b[23m \u001b[3m\u001b[90m<dbl>\u001b[39m\u001b[23m\n",
      "\u001b[90m1\u001b[39m 0.278 0.861\n",
      "null device \n",
      "          1 \n",
      "INFO: \u001b[32minf_phenopred\u001b[0m is \u001b[32mcompleted\u001b[0m.\n",
      "INFO: \u001b[32minf_phenopred\u001b[0m output:   \u001b[32mres-data/summary/InfSummary.pdf res-data/model/InfModel.Rdata\u001b[0m\n",
      "INFO: Workflow inf_phenopred (ID=wda1c7045b39ee0ce) is executed successfully with 1 completed step.\n",
      "\u001b[?2004h"
     ]
    },
    {
     "ename": "",
     "evalue": "1",
     "output_type": "error",
     "traceback": []
    }
   ],
   "source": [
    "sos run ldpred.ipynb inf_phenopred \\\n",
    "    --outpath res-data \\\n",
    "    --testpath ukbiobank \\\n",
    "    --cov_file ukbiobank/UKB.ind.cov \\\n",
    "    --trait_file ukbiobank/UKB.hdl.cov \\\n",
    "    --prs_file res-data/InfPred.Rdata \\\n",
    "    --mod_summary InfSummary.pdf \\\n",
    "    --model InfModel.Rdata \\\n",
    "    --response continuous"
   ]
  },
  {
   "cell_type": "code",
   "execution_count": null,
   "id": "weighted-assets",
   "metadata": {
    "kernel": "Bash"
   },
   "outputs": [],
   "source": [
    "sos run ldpred.ipynb grid_phenopred \\\n",
    "    --outpath res-data \\\n",
    "    --testpath ukbiobank \\\n",
    "    --cov_file ukbiobank/UKB.ind.cov \\\n",
    "    --trait_file ukbiobank/UKB.hdl.cov \\\n",
    "    --prs_file res-data/GridPred.Rdata \\\n",
    "    --mod_summary GridSummary.pdf \\\n",
    "    --model GridModel.Rdata \\\n",
    "    --response continuous"
   ]
  },
  {
   "cell_type": "code",
   "execution_count": null,
   "id": "dense-seller",
   "metadata": {
    "kernel": "Bash"
   },
   "outputs": [],
   "source": [
    "sos run ldpred.ipynb auto_phenopred \\\n",
    "    --outpath res-data \\\n",
    "    --testpath ukbiobank \\\n",
    "    --cov_file ukbiobank/UKB.ind.cov \\\n",
    "    --trait_file ukbiobank/UKB.hdl.cov \\\n",
    "    --prs_file res-data/AutoPred.Rdata \\\n",
    "    --mod_summary AutoSummary.pdf \\\n",
    "    --model AutoModel.Rdata \\\n",
    "    --response continuous"
   ]
  },
  {
   "cell_type": "markdown",
   "id": "diverse-teach",
   "metadata": {
    "kernel": "Bash"
   },
   "source": [
    "# Results"
   ]
  },
  {
   "cell_type": "markdown",
   "id": "applied-kennedy",
   "metadata": {
    "kernel": "Bash"
   },
   "source": [
    "Following table shows adjusted R squared of HDL prediction model. QC is quality control in step 4."
   ]
  },
  {
   "cell_type": "markdown",
   "id": "rapid-footage",
   "metadata": {
    "kernel": "Bash"
   },
   "source": [
    "|   Betas   | QC? |   Null  |   Inf   |   Grid  |   Auto  |\n",
    "|:---------:|:---:|:-------:|:-------:|:-------:|:-------:|\n",
    "|  Original | Yes | 0.2901 | 0.2899 | 0.2901  | 0.2897 |\n",
    "|  Original |  No$^*$ | - | - |    -  |    -   |\n",
    "| Posterior | Yes | 0.2901 | 0.2897 | 0.2901| 0.29 |\n",
    "| Posterior |  No$^*$ |  -  |  - |    -    |    -   |"
   ]
  },
  {
   "cell_type": "markdown",
   "id": "prescribed-planner",
   "metadata": {
    "kernel": "Bash"
   },
   "source": [
    "|   Betas   | QC? |   Null  |   Inf   |   Grid  |   Auto  |\n",
    "|:---------:|:---:|:-------:|:-------:|:-------:|:-------:|\n",
    "|  Original | Yes | 0.176 | 0.1756 | 0.1757  | 0.1755 |\n",
    "|  Original |  No$^*$ | - | - |    -  |    -   |\n",
    "| Posterior | Yes | 0.176 | 0.1756 | 0.1758| 0.1756 |\n",
    "| Posterior |  No$^*$ |  0.176  |  0.2783 |    -    |    -   |"
   ]
  },
  {
   "cell_type": "markdown",
   "id": "metropolitan-vulnerability",
   "metadata": {
    "kernel": "Bash"
   },
   "source": [
    "$*$: Take long very long time to get results (4hrs+)"
   ]
  }
 ],
 "metadata": {
  "kernelspec": {
   "display_name": "SoS",
   "language": "sos",
   "name": "sos"
  },
  "language_info": {
   "codemirror_mode": "sos",
   "file_extension": ".sos",
   "mimetype": "text/x-sos",
   "name": "sos",
   "nbconvert_exporter": "sos_notebook.converter.SoS_Exporter",
   "pygments_lexer": "sos"
  },
  "sos": {
   "kernels": [
    [
     "Bash",
     "bash",
     "Bash",
     "#E6EEFF",
     "shell"
    ],
    [
     "R",
     "ir",
     "R",
     "#DCDCDA",
     "r"
    ]
   ],
   "version": "0.22.4"
  },
  "toc-autonumbering": false
 },
 "nbformat": 4,
 "nbformat_minor": 5
}
