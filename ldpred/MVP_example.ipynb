{
 "cells": [
  {
   "cell_type": "markdown",
   "id": "automotive-guyana",
   "metadata": {
    "kernel": "Bash"
   },
   "source": [
    "# HDL in MVP\n",
    "\n",
    "## Reference panel\n",
    "\n",
    "`download_1000G()` in `bigsnpr`\n",
    "\n",
    "Including 503 (mostly unrelated) European individuals and ~1.7M SNPs in common with either HapMap3 or the UK Biobank. Classification of European populstion can be found at [IGSR](https://www.internationalgenome.org/category/population/). European individuals ID are from [IGSR data portal](https://www.internationalgenome.org/data-portal/sample).\n",
    "\n",
    "## Base data: summary Statistics from MVP\n",
    "\n",
    "Posterior betas for traits HDL.\n",
    "\n",
    "## Target data: UK biobank\n",
    "\n",
    "covariates, phenotype related to HDL and genotypes of 2000 individuals `UKB.QC.fam`. \n",
    "\n",
    "## Model\n",
    "\n",
    "Auto model runs the algorithm for 30 different $p$ (the proportion of causal variants) values range from 10e-4 to 0.9, and heritability $h^2$ from LD score regression as initial value.\n",
    "\n",
    "Grid model tries a grid of parameters $p$, ranges from 0 to 1 and three $h^2$ which are 0.7/1/1.4 times of initial $h^2$ estimated by LD score regression.\n",
    "\n",
    "## Test genotype data preparation\n",
    "\n",
    "Use `awk` select columns in phenotypes file saved to traits file `UKB.hdl.cov` and covariate file `UKB.ind.cov`.\n"
   ]
  },
  {
   "cell_type": "markdown",
   "id": "marine-palestine",
   "metadata": {
    "kernel": "SoS"
   },
   "source": [
    "## Summary statistics data preparation"
   ]
  },
  {
   "cell_type": "code",
   "execution_count": null,
   "id": "psychological-thirty",
   "metadata": {
    "kernel": "R"
   },
   "outputs": [],
   "source": [
    "raw_beta = readRDS(\"./all_MVP_posteriors/raw_univariate_estimates/zmash_raw_univariate_MVP.rds\")\n",
    "raw_beta_se = bigreadr::fread2(\"./all_MVP_posteriors/raw_univariate_estimates/Merged_MVP_Full_se_raw.txt\")\n",
    "#chr_pos_allele2_lfsr = read.table(\"./all_MVP_posteriors/identifying_info/chr_pos_allele2_lfsr.txt\")"
   ]
  },
  {
   "cell_type": "code",
   "execution_count": null,
   "id": "continuing-wyoming",
   "metadata": {
    "kernel": "R"
   },
   "outputs": [],
   "source": [
    "raw_beta_se = raw_beta_se %>% \n",
    "  data.frame() %>% \n",
    "  rename(marker = m.Marker)\n",
    "raw_beta = raw_beta %>% \n",
    "  data.frame() %>% \n",
    "  mutate(marker = rownames(raw_beta))\n",
    "\n",
    "sumstats = inner_join(raw_beta_se,raw_beta, by = 'marker') %>% \n",
    "  select(marker, hdl,HDLSe,ldl,LDLSe, tg, TGSe, tc, TCSe)\n",
    "\n",
    "head(sumstats)\n",
    "\n",
    "colnames(sumstats) = c(\"marker\", \"hdl\", \"hdl_se\", \"ldl\", \"ldl_se\", \"tg\", \"tg_se\", \"tc\", \"tc_se\")\n",
    "\n",
    "sumstats = sumstats %>%\n",
    "  extract(marker, into = c(\"chr\", \"pos\"), regex = \"([0-9]+)(\\\\:[0-9]+)\") %>% \n",
    "  mutate(chr = as.numeric(chr),\n",
    "         pos = as.numeric(str_replace(pos, \":\",\"\")))"
   ]
  },
  {
   "cell_type": "code",
   "execution_count": null,
   "id": "yellow-great",
   "metadata": {
    "kernel": "R"
   },
   "outputs": [],
   "source": [
    "chr_pos = bigreadr::fread2(\"./all_MVP_posteriors/identifying_info/chr_pos_allele2_lfsr.txt\")\n",
    "head(chr_pos)"
   ]
  },
  {
   "cell_type": "code",
   "execution_count": null,
   "id": "large-campaign",
   "metadata": {
    "kernel": "R"
   },
   "outputs": [],
   "source": [
    "chr_pos = chr_pos %>%\n",
    "  extract(V1, into = c(\"chr\", \"pos\"), regex = \"([0-9]+)(\\\\:[0-9]+)\") %>% \n",
    "  mutate(chr = as.numeric(chr),\n",
    "         pos = as.numeric(str_replace(pos, \":\",\"\"))) %>% \n",
    "  rename(a0 = Allele1,\n",
    "         a1 = Allele2,\n",
    "         rsid = rsID) %>% \n",
    "  select(chr,pos,rsid,a0,a1)"
   ]
  },
  {
   "cell_type": "code",
   "execution_count": null,
   "id": "organized-medicine",
   "metadata": {
    "kernel": "R"
   },
   "outputs": [],
   "source": [
    "sumstats = inner_join(sumstats, chr_pos, by = c(\"chr\",\"pos\")) %>% select(chr, pos, rsid, a0, a1, everything())\n",
    "sumstats = sumstats %>% \n",
    "  mutate(hdl_z = hdl/hdl_se,\n",
    "         hdl_p = 2*pnorm(-abs(hdl_z)),\n",
    "         ldl_z = ldl/ldl_se,\n",
    "         ldl_p = 2*pnorm(-abs(ldl_z)),\n",
    "         tc_z = tc/tc_se,\n",
    "         tc_p = 2*pnorm(-abs(tc_z)),\n",
    "         tg_z = tg/tg_se,\n",
    "         tg_p = 2*pnorm(-abs(tg_z))) %>% \n",
    "  select(-hdl_z,-ldl_z, -tc_z, -tg_z)\n",
    "\n",
    "head(sumstats)"
   ]
  },
  {
   "cell_type": "code",
   "execution_count": null,
   "id": "periodic-workstation",
   "metadata": {
    "kernel": "R"
   },
   "outputs": [],
   "source": [
    "sumstats_hdl  = sumstats %>% \n",
    "  select(chr, pos, rsid, a0,a1, hdl, hdl_se,hdl_p) %>% \n",
    "  rename(beta = hdl,\n",
    "         beta_se = hdl_se,\n",
    "         p = hdl_p)\n",
    "head(sumstats_hdl)\n",
    "\n",
    "sumstats_ldl  = sumstats %>% \n",
    "  select(chr, pos, rsid, a0, a1, ldl, ldl_se,ldl_p) %>% \n",
    "  rename(beta = ldl,\n",
    "         beta_se = ldl_se,\n",
    "         p = ldl_p)\n",
    "\n",
    "sumstats_tc  = sumstats %>% \n",
    "  select(chr, pos, rsid, a0,a1, tc, tc_se,tc_p) %>% \n",
    "  rename(beta = tc,\n",
    "         beta_se = tc_se,\n",
    "         p = tc_p)\n",
    "\n",
    "sumstats_tg  = sumstats %>% \n",
    "  select(chr, pos, rsid, a0,a1, tg, tg_se,tg_p) %>% \n",
    "  rename(beta = tg,\n",
    "         beta_se = tg_se,\n",
    "         p = tg_p)"
   ]
  },
  {
   "cell_type": "code",
   "execution_count": null,
   "id": "incident-sherman",
   "metadata": {
    "kernel": "R"
   },
   "outputs": [],
   "source": [
    "saveRDS(sumstats_hdl, file = \"mvpdata/sumstats_hdl.rds\")\n",
    "saveRDS(sumstats_ldl, file = \"mvpdata/sumstats_ldl.rds\")\n",
    "saveRDS(sumstats_tc, file = \"mvpdata/sumstats_tc.rds\")\n",
    "saveRDS(sumstats_tg, file = \"mvpdata/sumstats_tg.rds\")\n",
    "head(sumstats_tg)"
   ]
  },
  {
   "cell_type": "code",
   "execution_count": null,
   "id": "postal-coffee",
   "metadata": {
    "kernel": "R"
   },
   "outputs": [],
   "source": [
    "pos_raw_beta = bigreadr::fread2(\"./all_MVP_posteriors/posterior_estimates/MVP_all_beta_posterior_beta.txt\")\n",
    "\n",
    "pos_raw_beta_se = bigreadr::fread2(\"./all_MVP_posteriors/posterior_estimates/posterior_beta_se.txt\")\n",
    "\n",
    "colnames(pos_raw_beta)=c(\"marker\", \"hdl\",\"ldl\",\"tg\",\"tc\")\n",
    "colnames(pos_raw_beta_se)=c(\"marker\", \"hdl_se\",\"ldl_se\",\"tg_se\",\"tc_se\")"
   ]
  },
  {
   "cell_type": "code",
   "execution_count": null,
   "id": "alone-tennessee",
   "metadata": {
    "kernel": "R"
   },
   "outputs": [],
   "source": [
    "head(pos_raw_beta)"
   ]
  },
  {
   "cell_type": "code",
   "execution_count": null,
   "id": "literary-miami",
   "metadata": {
    "kernel": "R"
   },
   "outputs": [],
   "source": [
    "head(pos_raw_beta_se)"
   ]
  },
  {
   "cell_type": "code",
   "execution_count": null,
   "id": "chemical-support",
   "metadata": {
    "kernel": "R"
   },
   "outputs": [],
   "source": [
    "pos_raw_beta_se = pos_raw_beta_se %>% \n",
    "  data.frame()\n",
    "pos_raw_beta = pos_raw_beta %>% \n",
    "  data.frame()"
   ]
  },
  {
   "cell_type": "code",
   "execution_count": null,
   "id": "native-browse",
   "metadata": {
    "kernel": "R"
   },
   "outputs": [],
   "source": [
    "sumstats = inner_join(pos_raw_beta_se,pos_raw_beta, by = 'marker') %>% \n",
    "  select(marker, hdl,hdl_se,ldl,ldl_se, tg, tg_se, tc, tc_se)\n",
    "\n",
    "head(sumstats)\n",
    "\n",
    "colnames(sumstats) = c(\"marker\", \"hdl\", \"hdl_se\", \"ldl\", \"ldl_se\", \"tg\", \"tg_se\", \"tc\", \"tc_se\")\n",
    "\n",
    "sumstats = sumstats %>%\n",
    "  extract(marker, into = c(\"chr\", \"pos\"), regex = \"([0-9]+)(\\\\:[0-9]+)\") %>% \n",
    "  mutate(chr = as.numeric(chr),\n",
    "         pos = as.numeric(str_replace(pos, \":\",\"\")))"
   ]
  },
  {
   "cell_type": "code",
   "execution_count": null,
   "id": "accepting-cigarette",
   "metadata": {
    "kernel": "R"
   },
   "outputs": [],
   "source": [
    "chr_pos = bigreadr::fread2(\"./all_MVP_posteriors/identifying_info/chr_pos_allele2_lfsr.txt\")\n",
    "head(chr_pos)"
   ]
  },
  {
   "cell_type": "markdown",
   "id": "regulation-badge",
   "metadata": {
    "kernel": "Bash"
   },
   "source": [
    "## Step 1: common snps"
   ]
  },
  {
   "cell_type": "code",
   "execution_count": 5,
   "id": "bright-washington",
   "metadata": {
    "kernel": "Bash"
   },
   "outputs": [
    {
     "name": "stdout",
     "output_type": "stream",
     "text": [
      "PLINK v1.90b6.22 64-bit (16 Apr 2021)          www.cog-genomics.org/plink/1.9/\n",
      "(C) 2005-2021 Shaun Purcell, Christopher Chang   GNU General Public License v3\n",
      "Logging to ukbiobank/UKB.QC.log.\n",
      "Options in effect:\n",
      "  --bfile ukbiobank/UKB\n",
      "  --geno 0.01\n",
      "  --maf 0.01\n",
      "  --mind 0.01\n",
      "  --out ukbiobank/UKB.QC\n",
      "  --write-snplist\n",
      "\n",
      "8192 MB RAM detected; reserving 4096 MB for main workspace.\n",
      "529024 variants loaded from .bim file.\n",
      "366732 people (168262 males, 198470 females) loaded from .fam.\n",
      "282 people removed due to missing genotype data (--mind).\n",
      "IDs written to ukbiobank/UKB.QC.irem .\n",
      "Using 1 thread (no multithreaded calculations invoked).\n",
      "Before main variant filters, 366450 founders and 0 nonfounders present.\n",
      "Calculating allele frequencies... 10111213141516171819202122232425262728293031323334353637383940414243444546474849505152535455565758596061626364656667686970717273747576777879808182838485868788899091929394959697989 done.\n",
      "Total genotyping rate in remaining samples is 0.997994.\n",
      "81 variants removed due to missing genotype data (--geno).\n",
      "132 variants removed due to minor allele threshold(s)\n",
      "(--maf/--max-maf/--mac/--max-mac).\n",
      "528811 variants and 366450 people pass filters and QC.\n",
      "Note: No phenotypes present.\n",
      "List of variant IDs written to ukbiobank/UKB.QC.snplist .\n",
      "\u001b[?2004h"
     ]
    },
    {
     "ename": "",
     "evalue": "1",
     "output_type": "error",
     "traceback": []
    }
   ],
   "source": [
    "sos run ldpred.ipynb extract_snp -v1 \\\n",
    "    --outpath res-data \\\n",
    "    --testpath ukbiobank \\\n",
    "    --ref_bed 1000G/1000G.EUR.bed \\\n",
    "    --test_bed ukbiobank/UKB.bed \\\n",
    "    --ref_snp 1000G/1000G.QC.snplist \\\n",
    "    --test_snp ukbiobank/UKB.QC.snplist \\\n",
    "    --summstats_file mvpdata/pos_sumstats_hdl.rds \\\n",
    "    --stat_snp mvpdata/pos_sumstats_hdl.snplist"
   ]
  },
  {
   "cell_type": "code",
   "execution_count": 7,
   "id": "fresh-commercial",
   "metadata": {
    "kernel": "Bash"
   },
   "outputs": [
    {
     "name": "stdout",
     "output_type": "stream",
     "text": [
      "INFO: Running \u001b[32mcommon_snp\u001b[0m: 2004l\u001b[?2004l\u001b[?2004l\u001b[?2004l\n",
      "During startup - Warning messages:\n",
      "1: Setting LC_COLLATE failed, using \"C\" \n",
      "2: Setting LC_TIME failed, using \"C\" \n",
      "3: Setting LC_MESSAGES failed, using \"C\" \n",
      "4: Setting LC_MONETARY failed, using \"C\" \n",
      "[1] \"There are  409486  common SNPs.\"\n",
      "INFO: \u001b[32mcommon_snp\u001b[0m is \u001b[32mcompleted\u001b[0m.\n",
      "INFO: \u001b[32mcommon_snp\u001b[0m output:   \u001b[32mmvpdata/pos_sumstats_hdl.SUB.rds res-data/common.snplist\u001b[0m\n",
      "INFO: Workflow common_snp (ID=w5eab50cc3f321432) is executed successfully with 1 completed step.\n",
      "\u001b[?2004h"
     ]
    },
    {
     "ename": "",
     "evalue": "1",
     "output_type": "error",
     "traceback": []
    }
   ],
   "source": [
    "sos run ldpred.ipynb common_snp \\\n",
    "    --outpath res-data \\\n",
    "    --testpath ukbiobank \\\n",
    "    --stat_snp mvpdata/pos_sumstats_hdl.snplist \\\n",
    "    --ref_snp 1000G/1000G.QC.snplist \\\n",
    "    --test_snp ukbiobank/UKB.QC.snplist \\\n",
    "    --summstats_file mvpdata/pos_sumstats_hdl.rds \\\n",
    "    --sub_stats mvpdata/pos_sumstats_hdl.SUB.rds"
   ]
  },
  {
   "cell_type": "markdown",
   "id": "magnetic-treasurer",
   "metadata": {
    "kernel": "Bash"
   },
   "source": [
    "## Step 2: subsetting reference panel"
   ]
  },
  {
   "cell_type": "code",
   "execution_count": 8,
   "id": "affiliated-cooler",
   "metadata": {
    "kernel": "Bash"
   },
   "outputs": [
    {
     "name": "stdout",
     "output_type": "stream",
     "text": [
      "INFO: Running \u001b[32msubsets\u001b[0m: \u001b[?2004l\u001b[?2004l\u001b[?2004l\n",
      "PLINK v1.90b6.22 64-bit (16 Apr 2021)          www.cog-genomics.org/plink/1.9/\n",
      "(C) 2005-2021 Shaun Purcell, Christopher Chang   GNU General Public License v3\n",
      "Logging to 1000G/1000G.SUB.log.\n",
      "Options in effect:\n",
      "  --bfile 1000G/1000G.EUR\n",
      "  --extract res-data/common.snplist\n",
      "  --keep 1000G/1000G.EUR.fam\n",
      "  --make-bed\n",
      "  --out 1000G/1000G.SUB\n",
      "\n",
      "8192 MB RAM detected; reserving 4096 MB for main workspace.\n",
      "1664852 variants loaded from .bim file.\n",
      "503 people (240 males, 263 females) loaded from .fam.\n",
      "--extract: 409486 variants remaining.\n",
      "--keep: 503 people remaining.\n",
      "Using 1 thread (no multithreaded calculations invoked).\n",
      "Before main variant filters, 503 founders and 0 nonfounders present.\n",
      "Calculating allele frequencies... 10111213141516171819202122232425262728293031323334353637383940414243444546474849505152535455565758596061626364656667686970717273747576777879808182838485868788899091929394959697989 done.\n",
      "409486 variants and 503 people pass filters and QC.\n",
      "Note: No phenotypes present.\n",
      "--make-bed to 1000G/1000G.SUB.bed + 1000G/1000G.SUB.bim + 1000G/1000G.SUB.fam\n",
      "... 101112131415161718192021222324252627282930313233343536373839404142434445464748495051525354555657585960616263646566676869707172737475767778798081828384858687888990919293949596979899done.\n",
      "INFO: \u001b[32msubsets\u001b[0m is \u001b[32mcompleted\u001b[0m.\n",
      "INFO: \u001b[32msubsets\u001b[0m output:   \u001b[32m1000G/1000G.SUB.bed 1000G/1000G.SUB.bim... (3 items)\u001b[0m\n",
      "INFO: Workflow subsets (ID=w216beb3d6d9d7154) is executed successfully with 1 completed step.\n",
      "\u001b[?2004h"
     ]
    },
    {
     "ename": "",
     "evalue": "1",
     "output_type": "error",
     "traceback": []
    }
   ],
   "source": [
    "sos run ldpred.ipynb subsets \\\n",
    "    --outpath res-data \\\n",
    "    --testpath ukbiobank \\\n",
    "    --bed_file 1000G/1000G.EUR.bed \\\n",
    "    --fam_file 1000G/1000G.EUR.fam \\\n",
    "    --snp_file res-data/common.snplist \\\n",
    "    --sub_bedfile 1000G/1000G.SUB.bed"
   ]
  },
  {
   "cell_type": "markdown",
   "id": "political-nevada",
   "metadata": {
    "kernel": "Bash"
   },
   "source": [
    "Totally 31566 varients"
   ]
  },
  {
   "cell_type": "markdown",
   "id": "eligible-right",
   "metadata": {
    "kernel": "Bash"
   },
   "source": [
    "    ./plink \\\n",
    "        --bfile 1000G/1000G.EUR \\\n",
    "        --keep 1000G/1000G.EUR.fam \\\n",
    "        --extract res-data/common.snplist \\\n",
    "        --make-bed \\\n",
    "        --out 1000G/1000G.SUB\n"
   ]
  },
  {
   "cell_type": "markdown",
   "id": "theoretical-ordinary",
   "metadata": {
    "kernel": "Bash"
   },
   "source": [
    "## Step 3: SNP Matching\n"
   ]
  },
  {
   "cell_type": "code",
   "execution_count": 10,
   "id": "equivalent-arnold",
   "metadata": {
    "kernel": "Bash"
   },
   "outputs": [
    {
     "name": "stdout",
     "output_type": "stream",
     "text": [
      "INFO: Running \u001b[32mdata_load_10\u001b[0m: 04l\u001b[?2004l\u001b[?2004l\u001b[?2004l\n",
      "During startup - Warning messages:\n",
      "1: Setting LC_COLLATE failed, using \"C\" \n",
      "2: Setting LC_TIME failed, using \"C\" \n",
      "3: Setting LC_MESSAGES failed, using \"C\" \n",
      "4: Setting LC_MONETARY failed, using \"C\" \n",
      "Loading required package: bigstatsr\n",
      "[1] \"/Users/zhangmengyu/Documents/bioworkflows/ldpred/1000G/1000G.SUB.rds\"\n",
      "INFO: \u001b[32mdata_load_10\u001b[0m is \u001b[32mcompleted\u001b[0m.\n",
      "INFO: \u001b[32mdata_load_10\u001b[0m output:   \u001b[32mres-data/SumStats.rds\u001b[0m\n",
      "INFO: Running \u001b[32mdata_load_20\u001b[0m: \n",
      "During startup - Warning messages:\n",
      "1: Setting LC_COLLATE failed, using \"C\" \n",
      "2: Setting LC_TIME failed, using \"C\" \n",
      "3: Setting LC_MESSAGES failed, using \"C\" \n",
      "4: Setting LC_MONETARY failed, using \"C\" \n",
      "Loading required package: bigstatsr\n",
      "409,486 variants to be matched.\n",
      "21,954 ambiguous SNPs have been removed.\n",
      "387,532 variants have been matched; 0 were flipped and 211,410 were reversed.\n",
      "INFO: \u001b[32mdata_load_20\u001b[0m is \u001b[32mcompleted\u001b[0m.\n",
      "INFO: \u001b[32mdata_load_20\u001b[0m output:   \u001b[32mres-data/MatchedSnp.RData ukbiobank/UKB.SUB.snplist\u001b[0m\n",
      "INFO: Workflow data_load (ID=waa7d57a2e86f0332) is executed successfully with 2 completed steps.\n",
      "\u001b[?2004h"
     ]
    },
    {
     "ename": "",
     "evalue": "1",
     "output_type": "error",
     "traceback": []
    }
   ],
   "source": [
    "sos run ldpred.ipynb data_load \\\n",
    "    --outpath res-data \\\n",
    "    --testpath ukbiobank \\\n",
    "    --ref_bfile 1000G/1000G.SUB.bed \\\n",
    "    --ref_file 1000G/1000G.SUB.rds \\\n",
    "    --summstats_file mvpdata/pos_sumstats_hdl.SUB.rds \\\n",
    "    --n_eff 200000 \\\n",
    "    --test_snplist UKB.SUB.snplist"
   ]
  },
  {
   "cell_type": "markdown",
   "id": "eligible-installation",
   "metadata": {
    "kernel": "Bash"
   },
   "source": [
    "## Step 4: Quality control (or do not)\n",
    "\n",
    "Greatly drop variants. "
   ]
  },
  {
   "cell_type": "code",
   "execution_count": 11,
   "id": "regulated-rendering",
   "metadata": {
    "kernel": "Bash"
   },
   "outputs": [
    {
     "name": "stdout",
     "output_type": "stream",
     "text": [
      "INFO: Running \u001b[32mQControl\u001b[0m: [?2004l\n",
      "During startup - Warning messages:\n",
      "1: Setting LC_COLLATE failed, using \"C\" \n",
      "2: Setting LC_TIME failed, using \"C\" \n",
      "3: Setting LC_MESSAGES failed, using \"C\" \n",
      "4: Setting LC_MONETARY failed, using \"C\" \n",
      "Loading required package: bigstatsr\n",
      "During startup - Warning messages:\n",
      "1: Setting LC_COLLATE failed, using \"C\" \n",
      "2: Setting LC_TIME failed, using \"C\" \n",
      "3: Setting LC_MESSAGES failed, using \"C\" \n",
      "4: Setting LC_MONETARY failed, using \"C\" \n",
      "During startup - Warning messages:\n",
      "1: Setting LC_COLLATE failed, using \"C\" \n",
      "2: Setting LC_TIME failed, using \"C\" \n",
      "3: Setting LC_MESSAGES failed, using \"C\" \n",
      "4: Setting LC_MONETARY failed, using \"C\" \n",
      "During startup - Warning messages:\n",
      "1: Setting LC_COLLATE failed, using \"C\" \n",
      "2: Setting LC_TIME failed, using \"C\" \n",
      "3: Setting LC_MESSAGES failed, using \"C\" \n",
      "4: Setting LC_MONETARY failed, using \"C\" \n",
      "Saving 7 x 7 in image\n",
      "[1] \"387086 over 387532 were removed in Quality Control.\"\n",
      "INFO: \u001b[32mQControl\u001b[0m is \u001b[32mcompleted\u001b[0m.\n",
      "INFO: \u001b[32mQControl\u001b[0m output:   \u001b[32mres-data/QcMatchedSnp.RData res-data/plots/QcPlot.png... (3 items)\u001b[0m\n",
      "INFO: Workflow QControl (ID=w4c4dd1a6634e2fc1) is executed successfully with 1 completed step.\n",
      "\u001b[?2004h"
     ]
    },
    {
     "ename": "",
     "evalue": "1",
     "output_type": "error",
     "traceback": []
    }
   ],
   "source": [
    "sos run ldpred.ipynb QControl \\\n",
    "    --qc_in res-data/MatchedSnp.RData \\\n",
    "    --outpath res-data \\\n",
    "    --testpath ukbiobank \\\n",
    "    --test_snplist UKB.QC.SUB.snplist"
   ]
  },
  {
   "cell_type": "markdown",
   "id": "animated-encounter",
   "metadata": {
    "kernel": "Bash"
   },
   "source": [
    "## Step 5: subsetting target data"
   ]
  },
  {
   "cell_type": "code",
   "execution_count": 12,
   "id": "dramatic-notebook",
   "metadata": {
    "kernel": "Bash"
   },
   "outputs": [
    {
     "name": "stdout",
     "output_type": "stream",
     "text": [
      "INFO: Running \u001b[32msubsets\u001b[0m: \u001b[?2004l\u001b[?2004l\u001b[?2004l\n",
      "PLINK v1.90b6.22 64-bit (16 Apr 2021)          www.cog-genomics.org/plink/1.9/\n",
      "(C) 2005-2021 Shaun Purcell, Christopher Chang   GNU General Public License v3\n",
      "Logging to ukbiobank/UKB.SUB.log.\n",
      "Options in effect:\n",
      "  --bfile ukbiobank/UKB\n",
      "  --extract ukbiobank/UKB.QC.SUB.snplist\n",
      "  --keep ukbiobank/UKB.QC.fam\n",
      "  --make-bed\n",
      "  --out ukbiobank/UKB.SUB\n",
      "\n",
      "8192 MB RAM detected; reserving 4096 MB for main workspace.\n",
      "529024 variants loaded from .bim file.\n",
      "366732 people (168262 males, 198470 females) loaded from .fam.\n",
      "--extract: 446 variants remaining.\n",
      "--keep: 2000 people remaining.\n",
      "Using 1 thread (no multithreaded calculations invoked).\n",
      "Before main variant filters, 2000 founders and 0 nonfounders present.\n",
      "Calculating allele frequencies... 10111213141516171819202122232425262728293031323334353637383940414243444546474849505152535455565758596061626364656667686970717273747576777879808182838485868788899091929394959697989 done.\n",
      "Total genotyping rate in remaining samples is 0.997422.\n",
      "446 variants and 2000 people pass filters and QC.\n",
      "Note: No phenotypes present.\n",
      "--make-bed to ukbiobank/UKB.SUB.bed + ukbiobank/UKB.SUB.bim +\n",
      "ukbiobank/UKB.SUB.fam ... 101112131415161718192021222324252627282930313233343536373839404142434445464748495051525354555657585960616263646566676869707172737475767778798081828384858687888990919293949596979899done.\n",
      "INFO: \u001b[32msubsets\u001b[0m is \u001b[32mcompleted\u001b[0m.\n",
      "INFO: \u001b[32msubsets\u001b[0m output:   \u001b[32mukbiobank/UKB.SUB.bed ukbiobank/UKB.SUB.bim... (3 items)\u001b[0m\n",
      "INFO: Workflow subsets (ID=w392ed264bbebfe7d) is executed successfully with 1 completed step.\n",
      "\u001b[?2004h"
     ]
    },
    {
     "ename": "",
     "evalue": "1",
     "output_type": "error",
     "traceback": []
    }
   ],
   "source": [
    "sos run ldpred.ipynb subsets \\\n",
    "    --outpath res-data \\\n",
    "    --testpath ukbiobank \\\n",
    "    --bed_file ukbiobank/UKB.bed \\\n",
    "    --fam_file ukbiobank/UKB.QC.fam \\\n",
    "    --snp_file ukbiobank/UKB.QC.SUB.snplist \\\n",
    "    --sub_bedfile ukbiobank/UKB.SUB.bed"
   ]
  },
  {
   "cell_type": "markdown",
   "id": "coastal-brighton",
   "metadata": {
    "kernel": "Bash"
   },
   "source": [
    "## Step 6: Calculate LD matrix and correlation"
   ]
  },
  {
   "cell_type": "code",
   "execution_count": 13,
   "id": "fitting-workplace",
   "metadata": {
    "kernel": "Bash"
   },
   "outputs": [
    {
     "name": "stdout",
     "output_type": "stream",
     "text": [
      "INFO: Running \u001b[32mLD\u001b[0m: 2004l\n",
      "During startup - Warning messages:\n",
      "1: Setting LC_COLLATE failed, using \"C\" \n",
      "2: Setting LC_TIME failed, using \"C\" \n",
      "3: Setting LC_MESSAGES failed, using \"C\" \n",
      "4: Setting LC_MONETARY failed, using \"C\" \n",
      "Loading required package: bigstatsr\n",
      "During startup - Warning messages:\n",
      "1: Setting LC_COLLATE failed, using \"C\" \n",
      "2: Setting LC_TIME failed, using \"C\" \n",
      "3: Setting LC_MESSAGES failed, using \"C\" \n",
      "4: Setting LC_MONETARY failed, using \"C\" \n",
      "INFO: \u001b[32mLD\u001b[0m is \u001b[32mcompleted\u001b[0m.\n",
      "INFO: \u001b[32mLD\u001b[0m output:   \u001b[32mres-data/LdMatrix.Rdata\u001b[0m\n",
      "INFO: Workflow LD (ID=w10cce9261a8a96e3) is executed successfully with 1 completed step.\n",
      "\u001b[?2004h"
     ]
    },
    {
     "ename": "",
     "evalue": "1",
     "output_type": "error",
     "traceback": []
    }
   ],
   "source": [
    "sos run ldpred.ipynb LD \\\n",
    "    --outpath res-data \\\n",
    "    --testpath ukbiobank \\\n",
    "    --ld_in res-data/QcMatchedSnp.Rdata"
   ]
  },
  {
   "cell_type": "markdown",
   "id": "nervous-territory",
   "metadata": {
    "kernel": "Bash"
   },
   "source": [
    "## Step 7: Estimate posterior effect sizes and PRS"
   ]
  },
  {
   "cell_type": "code",
   "execution_count": 28,
   "id": "designed-henry",
   "metadata": {
    "kernel": "Bash"
   },
   "outputs": [
    {
     "name": "stdout",
     "output_type": "stream",
     "text": [
      "INFO: Running \u001b[32mload_testdata\u001b[0m: 4l\u001b[?2004l\n",
      "During startup - Warning messages:\n",
      "1: Setting LC_COLLATE failed, using \"C\" \n",
      "2: Setting LC_TIME failed, using \"C\" \n",
      "3: Setting LC_MESSAGES failed, using \"C\" \n",
      "4: Setting LC_MONETARY failed, using \"C\" \n",
      "Loading required package: bigstatsr\n",
      "Error : File 'ukbiobank/UKB.SUB.bk' already exists.\n",
      "INFO: \u001b[32mload_testdata\u001b[0m is \u001b[32mcompleted\u001b[0m.\n",
      "INFO: Running \u001b[32minf_prs\u001b[0m: \n",
      "During startup - Warning messages:\n",
      "1: Setting LC_COLLATE failed, using \"C\" \n",
      "2: Setting LC_TIME failed, using \"C\" \n",
      "3: Setting LC_MESSAGES failed, using \"C\" \n",
      "4: Setting LC_MONETARY failed, using \"C\" \n",
      "Loading required package: bigstatsr\n",
      "[1] \"finish imputation\"\n",
      "446 variants to be matched.\n",
      "0 ambiguous SNPs have been removed.\n",
      "446 variants have been matched; 0 were flipped and 446 were reversed.\n",
      "[1] \"finish estimate beta\"\n",
      "INFO: \u001b[32minf_prs\u001b[0m is \u001b[32mcompleted\u001b[0m.\n",
      "INFO: \u001b[32minf_prs\u001b[0m output:   \u001b[32mres-data/InfPred.Rdata\u001b[0m\n",
      "INFO: Workflow load_testdata+inf_prs (ID=w54dc303e0045d534) is executed successfully with 2 completed steps.\n",
      "\u001b[?2004h"
     ]
    },
    {
     "ename": "",
     "evalue": "1",
     "output_type": "error",
     "traceback": []
    }
   ],
   "source": [
    "sos run ldpred.ipynb load_testdata+inf_prs \\\n",
    "    --outpath res-data \\\n",
    "    --testpath ukbiobank \\\n",
    "    --inf_in res-data/LdMatrix.Rdata \\\n",
    "    --test_bfile ukbiobank/UKB.SUB.bed \\\n",
    "    --test_file ukbiobank/UKB.SUB.rds"
   ]
  },
  {
   "cell_type": "code",
   "execution_count": 70,
   "id": "verified-microphone",
   "metadata": {
    "kernel": "Bash"
   },
   "outputs": [
    {
     "name": "stdout",
     "output_type": "stream",
     "text": [
      "INFO: Running \u001b[32mgrid_prs\u001b[0m: [?2004l\u001b[?2004l\u001b[?2004l\u001b[?2004l\u001b[?2004l\n",
      "During startup - Warning messages:\n",
      "1: Setting LC_COLLATE failed, using \"C\" \n",
      "2: Setting LC_TIME failed, using \"C\" \n",
      "3: Setting LC_MESSAGES failed, using \"C\" \n",
      "4: Setting LC_MONETARY failed, using \"C\" \n",
      "Loading required package: bigstatsr\n",
      "446 variants to be matched.\n",
      "0 ambiguous SNPs have been removed.\n",
      "446 variants have been matched; 0 were flipped and 446 were reversed.\n",
      "During startup - Warning messages:\n",
      "1: Setting LC_COLLATE failed, using \"C\" \n",
      "2: Setting LC_TIME failed, using \"C\" \n",
      "3: Setting LC_MESSAGES failed, using \"C\" \n",
      "4: Setting LC_MONETARY failed, using \"C\" \n",
      "Saving 7 x 7 in image\n",
      "INFO: \u001b[32mgrid_prs\u001b[0m is \u001b[32mcompleted\u001b[0m.\n",
      "INFO: \u001b[32mgrid_prs\u001b[0m output:   \u001b[32mres-data/GridPred.Rdata res-data/plots/GridPlot.png\u001b[0m\n",
      "INFO: Workflow grid_prs (ID=w3fc91275489be46d) is executed successfully with 1 completed step.\n",
      "\u001b[?2004h"
     ]
    },
    {
     "ename": "",
     "evalue": "1",
     "output_type": "error",
     "traceback": []
    }
   ],
   "source": [
    "sos run ldpred.ipynb grid_prs \\\n",
    "    --outpath res-data \\\n",
    "    --testpath ukbiobank \\\n",
    "    --grid_in res-data/LdMatrix.Rdata \\\n",
    "    --test_bfile ukbiobank/UKB.SUB.bed \\\n",
    "    --cov_file ukbiobank/UKB.ind.cov \\\n",
    "    --trait_file ukbiobank/UKB.hdl.cov \\\n",
    "    --test_file ukbiobank/UKB.SUB.rds \\\n",
    "    --response continuous"
   ]
  },
  {
   "cell_type": "code",
   "execution_count": 33,
   "id": "prompt-permission",
   "metadata": {
    "kernel": "Bash"
   },
   "outputs": [
    {
     "name": "stdout",
     "output_type": "stream",
     "text": [
      "INFO: Running \u001b[32mauto_prs\u001b[0m: [?2004l\u001b[?2004l\n",
      "During startup - Warning messages:\n",
      "1: Setting LC_COLLATE failed, using \"C\" \n",
      "2: Setting LC_TIME failed, using \"C\" \n",
      "3: Setting LC_MESSAGES failed, using \"C\" \n",
      "4: Setting LC_MONETARY failed, using \"C\" \n",
      "Loading required package: bigstatsr\n",
      "446 variants to be matched.\n",
      "0 ambiguous SNPs have been removed.\n",
      "446 variants have been matched; 0 were flipped and 446 were reversed.\n",
      "During startup - Warning messages:\n",
      "1: Setting LC_COLLATE failed, using \"C\" \n",
      "2: Setting LC_TIME failed, using \"C\" \n",
      "3: Setting LC_MESSAGES failed, using \"C\" \n",
      "4: Setting LC_MONETARY failed, using \"C\" \n",
      "During startup - Warning messages:\n",
      "1: Setting LC_COLLATE failed, using \"C\" \n",
      "2: Setting LC_TIME failed, using \"C\" \n",
      "3: Setting LC_MESSAGES failed, using \"C\" \n",
      "4: Setting LC_MONETARY failed, using \"C\" \n",
      "During startup - Warning messages:\n",
      "1: Setting LC_COLLATE failed, using \"C\" \n",
      "2: Setting LC_TIME failed, using \"C\" \n",
      "3: Setting LC_MESSAGES failed, using \"C\" \n",
      "4: Setting LC_MONETARY failed, using \"C\" \n",
      "Saving 7 x 7 in image\n",
      "INFO: \u001b[32mauto_prs\u001b[0m is \u001b[32mcompleted\u001b[0m.\n",
      "INFO: \u001b[32mauto_prs\u001b[0m output:   \u001b[32mres-data/AutoPred.Rdata res-data/plots/AutoPlot.png\u001b[0m\n",
      "INFO: Workflow auto_prs (ID=w01dd5919fb61885d) is executed successfully with 1 completed step.\n",
      "\u001b[?2004h"
     ]
    },
    {
     "ename": "",
     "evalue": "1",
     "output_type": "error",
     "traceback": []
    }
   ],
   "source": [
    "sos run ldpred.ipynb auto_prs \\\n",
    "    --outpath res-data \\\n",
    "    --testpath ukbiobank \\\n",
    "    --auto_in res-data/LdMatrix.Rdata \\\n",
    "    --test_bfile ukbiobank/UKB.SUB.bed \\\n",
    "    --test_file ukbiobank/UKB.SUB.rds"
   ]
  },
  {
   "cell_type": "markdown",
   "id": "floppy-walter",
   "metadata": {
    "kernel": "Bash"
   },
   "source": [
    "## Step 8: predict phenotypes"
   ]
  },
  {
   "cell_type": "markdown",
   "id": "controversial-rebecca",
   "metadata": {
    "kernel": "Bash"
   },
   "source": [
    "Null model: Traits ~ Sex + Age + Smoking + Alcohol"
   ]
  },
  {
   "cell_type": "code",
   "execution_count": 63,
   "id": "ahead-recovery",
   "metadata": {
    "kernel": "Bash"
   },
   "outputs": [
    {
     "name": "stdout",
     "output_type": "stream",
     "text": [
      "INFO: Running \u001b[32mnull_phenopred\u001b[0m: l\u001b[?2004l\n",
      "During startup - Warning messages:\n",
      "1: Setting LC_COLLATE failed, using \"C\" \n",
      "2: Setting LC_TIME failed, using \"C\" \n",
      "3: Setting LC_MESSAGES failed, using \"C\" \n",
      "4: Setting LC_MONETARY failed, using \"C\" \n",
      "Loading required package: bigstatsr\n",
      "There were 50 or more warnings (use warnings() to see the first 50)\n",
      "\u001b[90m# A tibble: 1 x 3\u001b[39m\n",
      "  model          R2   MSE\n",
      "  \u001b[3m\u001b[90m<chr>\u001b[39m\u001b[23m       \u001b[3m\u001b[90m<dbl>\u001b[39m\u001b[23m \u001b[3m\u001b[90m<dbl>\u001b[39m\u001b[23m\n",
      "\u001b[90m1\u001b[39m NULL model 0.034\u001b[4m9\u001b[24m 0.943\n",
      "null device \n",
      "          1 \n",
      "INFO: \u001b[32mnull_phenopred\u001b[0m is \u001b[32mcompleted\u001b[0m.\n",
      "INFO: \u001b[32mnull_phenopred\u001b[0m output:   \u001b[32mres-data/summary/NullSummary.pdf res-data/model/NullModel.Rdata\u001b[0m\n",
      "INFO: Workflow null_phenopred (ID=wdc18cb54145d3956) is executed successfully with 1 completed step.\n",
      "\u001b[?2004h"
     ]
    },
    {
     "ename": "",
     "evalue": "1",
     "output_type": "error",
     "traceback": []
    }
   ],
   "source": [
    "sos run ldpred.ipynb null_phenopred \\\n",
    "    --outpath res-data \\\n",
    "    --testpath ukbiobank \\\n",
    "    --cov_file ukbiobank/UKB.ind.cov \\\n",
    "    --trait_file ukbiobank/UKB.hdl.cov \\\n",
    "    --response continuous"
   ]
  },
  {
   "cell_type": "markdown",
   "id": "future-longitude",
   "metadata": {
    "kernel": "Bash"
   },
   "source": [
    "Inf/grid/auto model: Traits ~ Sex + Age + Smoking + Alcohol + PRS"
   ]
  },
  {
   "cell_type": "code",
   "execution_count": 66,
   "id": "transsexual-vancouver",
   "metadata": {
    "kernel": "Bash"
   },
   "outputs": [
    {
     "name": "stdout",
     "output_type": "stream",
     "text": [
      "INFO: Running \u001b[32minf_phenopred\u001b[0m: 4l\u001b[?2004l\u001b[?2004l\u001b[?2004l\u001b[?2004l\n",
      "During startup - Warning messages:\n",
      "1: Setting LC_COLLATE failed, using \"C\" \n",
      "2: Setting LC_TIME failed, using \"C\" \n",
      "3: Setting LC_MESSAGES failed, using \"C\" \n",
      "4: Setting LC_MONETARY failed, using \"C\" \n",
      "Loading required package: bigstatsr\n",
      "There were 50 or more warnings (use warnings() to see the first 50)\n",
      "\u001b[90m# A tibble: 1 x 2\u001b[39m\n",
      "      R2   MSE\n",
      "   \u001b[3m\u001b[90m<dbl>\u001b[39m\u001b[23m \u001b[3m\u001b[90m<dbl>\u001b[39m\u001b[23m\n",
      "\u001b[90m1\u001b[39m 0.036\u001b[4m3\u001b[24m 0.946\n",
      "null device \n",
      "          1 \n",
      "INFO: \u001b[32minf_phenopred\u001b[0m is \u001b[32mcompleted\u001b[0m.\n",
      "INFO: \u001b[32minf_phenopred\u001b[0m output:   \u001b[32mres-data/summary/InfSummary.pdf res-data/model/InfModel.Rdata\u001b[0m\n",
      "INFO: Workflow inf_phenopred (ID=w37ea6141f308b849) is executed successfully with 1 completed step.\n",
      "\u001b[?2004h"
     ]
    },
    {
     "ename": "",
     "evalue": "1",
     "output_type": "error",
     "traceback": []
    }
   ],
   "source": [
    "sos run ldpred.ipynb inf_phenopred \\\n",
    "    --outpath res-data \\\n",
    "    --testpath ukbiobank \\\n",
    "    --cov_file ukbiobank/UKB.ind.cov \\\n",
    "    --trait_file ukbiobank/UKB.hdl.cov \\\n",
    "    --prs_file res-data/InfPred.Rdata \\\n",
    "    --mod_summary InfSummary.pdf \\\n",
    "    --model InfModel.Rdata \\\n",
    "    --response continuous"
   ]
  },
  {
   "cell_type": "code",
   "execution_count": 67,
   "id": "thirty-hypothetical",
   "metadata": {
    "kernel": "Bash"
   },
   "outputs": [
    {
     "name": "stdout",
     "output_type": "stream",
     "text": [
      "INFO: Running \u001b[32mgrid_phenopred\u001b[0m: l\u001b[?2004l\u001b[?2004l\u001b[?2004l\u001b[?2004l\n",
      "During startup - Warning messages:\n",
      "1: Setting LC_COLLATE failed, using \"C\" \n",
      "2: Setting LC_TIME failed, using \"C\" \n",
      "3: Setting LC_MESSAGES failed, using \"C\" \n",
      "4: Setting LC_MONETARY failed, using \"C\" \n",
      "Loading required package: bigstatsr\n",
      "There were 50 or more warnings (use warnings() to see the first 50)\n",
      "\u001b[90m# A tibble: 1 x 2\u001b[39m\n",
      "      R2   MSE\n",
      "   \u001b[3m\u001b[90m<dbl>\u001b[39m\u001b[23m \u001b[3m\u001b[90m<dbl>\u001b[39m\u001b[23m\n",
      "\u001b[90m1\u001b[39m 0.046\u001b[4m0\u001b[24m 0.937\n",
      "null device \n",
      "          1 \n",
      "INFO: \u001b[32mgrid_phenopred\u001b[0m is \u001b[32mcompleted\u001b[0m.\n",
      "INFO: \u001b[32mgrid_phenopred\u001b[0m output:   \u001b[32mres-data/summary/GridSummary.pdf res-data/model/GridModel.Rdata\u001b[0m\n",
      "INFO: Workflow grid_phenopred (ID=w2a8b5d758bf9e758) is executed successfully with 1 completed step.\n",
      "\u001b[?2004h"
     ]
    },
    {
     "ename": "",
     "evalue": "1",
     "output_type": "error",
     "traceback": []
    }
   ],
   "source": [
    "sos run ldpred.ipynb grid_phenopred \\\n",
    "    --outpath res-data \\\n",
    "    --testpath ukbiobank \\\n",
    "    --cov_file ukbiobank/UKB.ind.cov \\\n",
    "    --trait_file ukbiobank/UKB.hdl.cov \\\n",
    "    --prs_file res-data/GridPred.Rdata \\\n",
    "    --mod_summary GridSummary.pdf \\\n",
    "    --model GridModel.Rdata \\\n",
    "    --response continuous"
   ]
  },
  {
   "cell_type": "code",
   "execution_count": 36,
   "id": "portuguese-sally",
   "metadata": {
    "kernel": "Bash"
   },
   "outputs": [
    {
     "name": "stdout",
     "output_type": "stream",
     "text": [
      "INFO: Running \u001b[32mauto_phenopred\u001b[0m: l\u001b[?2004l\u001b[?2004l\u001b[?2004l\u001b[?2004l\n",
      "During startup - Warning messages:\n",
      "1: Setting LC_COLLATE failed, using \"C\" \n",
      "2: Setting LC_TIME failed, using \"C\" \n",
      "3: Setting LC_MESSAGES failed, using \"C\" \n",
      "4: Setting LC_MONETARY failed, using \"C\" \n",
      "Loading required package: bigstatsr\n",
      "There were 50 or more warnings (use warnings() to see the first 50)\n",
      "\u001b[90m# A tibble: 1 x 2\u001b[39m\n",
      "      R2   MSE\n",
      "   \u001b[3m\u001b[90m<dbl>\u001b[39m\u001b[23m \u001b[3m\u001b[90m<dbl>\u001b[39m\u001b[23m\n",
      "\u001b[90m1\u001b[39m 0.041\u001b[4m4\u001b[24m 0.943\n",
      "null device \n",
      "          1 \n",
      "INFO: \u001b[32mauto_phenopred\u001b[0m is \u001b[32mcompleted\u001b[0m.\n",
      "INFO: \u001b[32mauto_phenopred\u001b[0m output:   \u001b[32mres-data/summary/AutoSummary.pdf res-data/model/AutoModel.Rdata\u001b[0m\n",
      "INFO: Workflow auto_phenopred (ID=wd0834b76da1c03f1) is executed successfully with 1 completed step.\n",
      "\u001b[?2004h"
     ]
    },
    {
     "ename": "",
     "evalue": "1",
     "output_type": "error",
     "traceback": []
    }
   ],
   "source": [
    "sos run ldpred.ipynb auto_phenopred \\\n",
    "    --outpath res-data \\\n",
    "    --testpath ukbiobank \\\n",
    "    --cov_file ukbiobank/UKB.ind.cov \\\n",
    "    --trait_file ukbiobank/UKB.hdl.cov \\\n",
    "    --prs_file res-data/AutoPred.Rdata \\\n",
    "    --mod_summary AutoSummary.pdf \\\n",
    "    --model AutoModel.Rdata \\\n",
    "    --response 1"
   ]
  },
  {
   "cell_type": "markdown",
   "id": "senior-grammar",
   "metadata": {
    "kernel": "Bash"
   },
   "source": [
    "# Results"
   ]
  },
  {
   "cell_type": "markdown",
   "id": "thrown-indian",
   "metadata": {
    "kernel": "Bash"
   },
   "source": [
    "Following table shows adjusted R squared of HDL prediction model. QC is quality control in step 4."
   ]
  },
  {
   "cell_type": "markdown",
   "id": "pointed-execution",
   "metadata": {
    "kernel": "Bash"
   },
   "source": [
    "|   Betas   | QC? |   Null  |   Inf   |   Grid  |   Auto  |\n",
    "|:---------:|:---:|:-------:|:-------:|:-------:|:-------:|\n",
    "|  Original | Yes | 0.03486 | 0.03549 | 0.03431 | 0.03564 |\n",
    "|  Original |  No | -$^{*}$ | -$^{*}$ |    -$^{*}$    |    -$^*$    |\n",
    "| Posterior | Yes | 0.03486 | 0.03628 | 0.04595 | 0.04142 |\n",
    "| Posterior |  No | 0.03486 | 0.03516 |    -$^{*}$    |    -$^*$    |"
   ]
  },
  {
   "cell_type": "markdown",
   "id": "latter-intake",
   "metadata": {
    "kernel": "Bash"
   },
   "source": [
    "$*$: Take long very long time to get results (4hrs+)"
   ]
  }
 ],
 "metadata": {
  "kernelspec": {
   "display_name": "SoS",
   "language": "sos",
   "name": "sos"
  },
  "language_info": {
   "codemirror_mode": "sos",
   "file_extension": ".sos",
   "mimetype": "text/x-sos",
   "name": "sos",
   "nbconvert_exporter": "sos_notebook.converter.SoS_Exporter",
   "pygments_lexer": "sos"
  },
  "sos": {
   "kernels": [
    [
     "Bash",
     "bash",
     "Bash",
     "#E6EEFF",
     "shell"
    ],
    [
     "R",
     "ir",
     "R",
     "#DCDCDA",
     ""
    ]
   ],
   "version": "0.22.4"
  },
  "toc-autonumbering": false
 },
 "nbformat": 4,
 "nbformat_minor": 5
}
