{
 "cells": [
  {
   "cell_type": "code",
   "execution_count": 2,
   "id": "valued-equilibrium",
   "metadata": {
    "kernel": "R"
   },
   "outputs": [
    {
     "ename": "ERROR",
     "evalue": "Error in readRDS(\"./all_MVP_posteriors/identifying_info/annotated_ma.rds\"): unknown input format\n",
     "output_type": "error",
     "traceback": [
      "Error in readRDS(\"./all_MVP_posteriors/identifying_info/annotated_ma.rds\"): unknown input format\nTraceback:\n",
      "1. readRDS(\"./all_MVP_posteriors/identifying_info/annotated_ma.rds\")"
     ]
    }
   ],
   "source": [
    "readRDS(\"./all_MVP_posteriors/identifying_info/annotated_ma.rds\")"
   ]
  },
  {
   "cell_type": "code",
   "execution_count": null,
   "id": "center-plumbing",
   "metadata": {
    "kernel": "Bash"
   },
   "outputs": [],
   "source": [
    "sos run ldpred.ipynb inf \\\n",
    "    --datafolder post-qc \\\n",
    "    --summstats_file post-qc/Height.QC.gz \\\n",
    "    --hapmap3 post-qc/hm3_variants.rds \\\n",
    "    --bed_file  post-qc/EUR.QC.bed \\\n",
    "    --geno_file post-qc/EUR.QC.rds \\\n",
    "    --pheno_file post-qc/EUR.height \\\n",
    "    --covariate_file post-qc/EUR.cov \\\n",
    "    --pcs_file post-qc/EUR.eigenvec \\\n",
    "    --pheno_out './res-data/PhenoOut.RData' \\\n",
    "    --summary_stat './res-data/SumStats.RData' \\\n",
    "    --ld_in './res-data/LdInput.RData' \\\n",
    "    --ld_out './res-data/LdOutput.RData' \\\n",
    "    --ldreg_out './res-data/LdRegOut.RData' \\\n",
    "    --inf_beta './res-data/InfBeta.RData' \\\n",
    "    --grid_beta './res-data/GridBeta.RData' \\\n",
    "    --auto_beta './res-data/AutoBeta.RData' \\\n",
    "    --inf_prs './res-data/InfPrs.RData' \\\n",
    "    --grid_prs './res-data/GridPrs.RData' \\\n",
    "    --auto_prs './res-data/AutoPrs.RData' \\\n",
    "    --null_r2 './res-data/NullR2.RData' \\\n",
    "    --inf_mod './res-data/InfMod.RData' \\\n",
    "    --grid_mod './res-data/GridMod.RData' \\\n",
    "    --auto_mod './res-data/AutoMod.RData' \\\n",
    "    --inf_pheno_pred './res-data/InfPhenoPred.RData' \\\n",
    "    --grid_pheno_pred './res-data/GridPhenoPred.RData' \\\n",
    "    --auto_pheno_pred './res-data/AutoPhenoPred.RData' \\\n",
    "    --inf_ldpred_res './res-data/InfLdpredRes.RData' \\\n",
    "    --grid_ldpred_res './res-data/GridLdpredRes.RData' \\\n",
    "    --auto_ldpred_res './res-data/AutoLdpredRes.RData' \\\n",
    "    --response 'continuous'\n",
    "    "
   ]
  }
 ],
 "metadata": {
  "kernelspec": {
   "display_name": "SoS",
   "language": "sos",
   "name": "sos"
  },
  "language_info": {
   "codemirror_mode": "sos",
   "file_extension": ".sos",
   "mimetype": "text/x-sos",
   "name": "sos",
   "nbconvert_exporter": "sos_notebook.converter.SoS_Exporter",
   "pygments_lexer": "sos"
  },
  "sos": {
   "kernels": [
    [
     "Bash",
     "bash",
     "Bash",
     "#E6EEFF",
     ""
    ],
    [
     "R",
     "ir",
     "R",
     "#DCDCDA",
     ""
    ]
   ],
   "version": "0.22.4"
  }
 },
 "nbformat": 4,
 "nbformat_minor": 5
}
