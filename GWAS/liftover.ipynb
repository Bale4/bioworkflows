{
 "cells": [
  {
   "cell_type": "markdown",
   "id": "59448f70-0ecc-4ce1-b826-9702065b109c",
   "metadata": {
    "kernel": "SoS"
   },
   "source": [
    "# Liftover Pipeline"
   ]
  },
  {
   "cell_type": "markdown",
   "id": "5a0dda76-1a6a-41c8-9858-2bcd3b531e58",
   "metadata": {
    "kernel": "SoS"
   },
   "source": [
    "##  Aim\n",
    "To liftover chromosome related file from one reference to another reference, for example hg19 -> hg38"
   ]
  },
  {
   "cell_type": "markdown",
   "id": "424ac1db-b2cd-4638-8682-a9292db641c9",
   "metadata": {
    "kernel": "SoS"
   },
   "source": [
    "## Pre-requisites\n",
    "\n",
    "Make sure you install the pre-requisited before running this notebook:\n",
    "\n",
    "```\n",
    "pip install cugg -U\n",
    "```"
   ]
  },
  {
   "cell_type": "markdown",
   "id": "320a27d4-4c56-4f76-917a-082b066a4680",
   "metadata": {
    "kernel": "SoS"
   },
   "source": [
    "## Input"
   ]
  },
  {
   "cell_type": "markdown",
   "id": "b15467f3-ba9b-4ca5-820e-e72280e2bafe",
   "metadata": {
    "kernel": "SoS"
   },
   "source": [
    "- `--cwd`, Work directory where output will be saved to\n",
    "- `--input_file`, the path of input file which can be plink format, gvcf/vcf format, sumstat format.\n",
    "    - if plink format, provide the path of `bim` file \n",
    "    - if gvcf/vcf format, the file must have gvcf and vcf in suffixes\n",
    "    - other format will be considered as sumstat format, whose header should have CHR, POS, A0 and A1 columns\n",
    "- `--yml_file`, if the sumstat header doesn't have CHR, POS, A0 and A1 columns, you need to provide a ymal file to describe the format of your file, such as following. the first 5 row is required. **ID is the combindation of key words from the word before `:` in the yml file.**\n",
    "```\n",
    "ID: CHR,POS,A0,A1\n",
    "CHR: CHR\n",
    "POS: POS\n",
    "A0: REF\n",
    "A1: ALT\n",
    "SNP: SNP\n",
    "STAT: BETA\n",
    "SE: SE\n",
    "P: P\n",
    "```\n",
    "- `--ouput_file`, the name of ouput file which will be saved under `cwd` path\n",
    "- `--fr`, From reference genome, defaut is `hg19`\n",
    "- `--to`,To reference genome, defaut is `hg38`\n",
    "- `--remove-missing`, boolen, Remove SNPs failed to liftover (default to False)\n",
    "- `--rename`, boolen, Rename variants' ID (default to True). **Only implemented to sumstat liftover**"
   ]
  },
  {
   "cell_type": "markdown",
   "id": "def4381d-7695-4bed-aae4-f62c2b364a38",
   "metadata": {
    "kernel": "SoS"
   },
   "source": [
    "## Output"
   ]
  },
  {
   "cell_type": "markdown",
   "id": "30583033-2259-436f-a345-c3d7a9fa8bb4",
   "metadata": {
    "kernel": "SoS"
   },
   "source": [
    "new file with chromosomes and positions which are liftovered from old reference to new reference.\n",
    "if adding the `--remove-missing` parameter, the SNPs failed to liftover will be removed in the output. otherwise, their chr and pos will be replaced by 0 and 0.\n",
    "\n",
    "**For plink files, if no `--remove-missing` parameter, only bim file will be updated.**"
   ]
  },
  {
   "cell_type": "markdown",
   "id": "09ee785e-292c-4a67-97dd-c50fdeb9c1a2",
   "metadata": {
    "kernel": "SoS"
   },
   "source": [
    "## Examples"
   ]
  },
  {
   "cell_type": "markdown",
   "id": "9b43bf67-dc2d-4aa4-9f89-d11eac6d2e9e",
   "metadata": {
    "kernel": "SoS"
   },
   "source": [
    "```\n",
    "sos run liftover.ipynb --input_file file.vcf.gz --output_file new_file.vcf.gz --cwd output\n",
    "    \n",
    "```"
   ]
  },
  {
   "cell_type": "markdown",
   "id": "a7d23f17-be2e-4ab5-a768-2724fe93f84e",
   "metadata": {
    "kernel": "SoS"
   },
   "source": [
    "## Debugs\n",
    "For your first time running, if you get the error related with downloading chain file (usually it works), you can download them from the following links.\n",
    "- hg19 -> hg38: https://hgdownload.cse.ucsc.edu/goldenpath/hg19/liftOver/hg19ToHg38.over.chain.gz\n",
    "- hg38 -> hg19: http://hgdownload.cse.ucsc.edu/goldenpath/hg38/liftOver/hg38ToHg19.over.chain.gz\n",
    "\n",
    "And move the chain file to `~/.liftover` folder."
   ]
  },
  {
   "cell_type": "code",
   "execution_count": 1,
   "id": "4665b6b1-5e14-41b1-8537-70082c3f38dd",
   "metadata": {
    "kernel": "SoS",
    "tags": []
   },
   "outputs": [],
   "source": [
    "[global]\n",
    "# Work directory where output will be saved to\n",
    "parameter: cwd = path\n",
    "# Input file which can be plink format, gvcf/vcf format, sumstat format.\n",
    "parameter: input_file = path\n",
    "# The path of yaml file with input file format, only for sumstat file.\n",
    "parameter: yml_file = path('.') \n",
    "# the name of ouput file which will be saved under cwd path\n",
    "parameter: output_file = path\n",
    "# From reference genome, defaut is hg19\n",
    "parameter: fr = 'hg19'\n",
    "# To reference genome, defaut is hg38\n",
    "parameter: to = 'hg38'\n",
    "# Remove SNPs failed to liftover (defaults to False)\n",
    "parameter: remove_missing = False\n",
    "# Rename Variant ID\n",
    "parameter: rename = True\n",
    "# Container\n",
    "parameter: container = ''"
   ]
  },
  {
   "cell_type": "code",
   "execution_count": null,
   "id": "e9ad1bbb-eef3-40de-b1c0-c109161bbc58",
   "metadata": {
    "kernel": "SoS"
   },
   "outputs": [],
   "source": [
    "[default_1 (export utils script)]\n",
    "depends:  Py_Module('cugg'), Py_Module('pathlib'),Py_Module('pandas')\n",
    "output: f'{cwd:a}/utils.py'\n",
    "report: expand = '${ }', output=f'{cwd:a}/utils.py'\n",
    "\n",
    "    import pandas as pd\n",
    "    from pathlib import Path\n",
    "    from cugg.genodata import *\n",
    "    from cugg.sumstat import Sumstat\n",
    "    from cugg.liftover import Liftover\n",
    "    def liftover(input_path,output_path,yml=None,fr='hg19',to='hg38',remove_missing=True,rename=True):\n",
    "        lf = Liftover(fr,to)\n",
    "        print(\"liftover from \" + fr +\" to \" +to)\n",
    "        print(\"Removing SNPs failed to liftover is\", remove_missing)\n",
    "        #file type detection, sumstats, plink, vcf,gvcf, >>>future bgen\n",
    "        input_path = Path(input_path)\n",
    "        input_suffixes = set(input_path.suffixes)\n",
    "        output_path = Path(output_path)\n",
    "        if not input_path.exists(): print(\"The file is not exist:\", input_path)\n",
    "        if input_path.suffix in ['.bim','.bed','.fam']:\n",
    "            if remove_missing:\n",
    "                geno = Genodata(str(input_path.with_suffix('.bed')))\n",
    "                bim = geno.bim\n",
    "            else:\n",
    "                bim = read_bim(input_path)\n",
    "            new_bim = lf.bim_liftover(bim)\n",
    "            idx = new_bim.chrom == 0\n",
    "            if idx.all():\n",
    "                raise(\"No SNP liftover from old reference to new reference. The reference genome should be wrong!!!\")\n",
    "            if remove_missing:\n",
    "                geno.bim = new_bim\n",
    "                geno.extractbyidx(~idx)\n",
    "                geno.export_plink(output_path.with_suffix('.bed'))\n",
    "                print(\"Total number SNPs \",new_bim.shape[0],\". Removing SNPs failed to liftover \", sum(idx))\n",
    "            else:\n",
    "                write_bim(output_path.with_suffix('.bim'),new_bim)\n",
    "                print(\"Total number SNPs \",new_bim.shape[0],\". The number of SNPs failed to liftover \", sum(idx),\". Their chr and pos is replaced with 0, 0\")\n",
    "        elif len(input_suffixes.intersection(['.gvcf','.vcf']))>0:\n",
    "            lf.vcf_liftover(input_path,output_path,remove_missing)\n",
    "        else:\n",
    "            print(\"This file is considered as sumstat format file\")\n",
    "            sums = Sumstat(input_path,config_file=yml,rename=rename)\n",
    "            new_sums = lf.sumstat_liftover(sums.ss,rename)\n",
    "            idx = new_sums.CHR == 0\n",
    "            if remove_missing:\n",
    "                new_sums[~idx].to_csv(output_path, compression='gzip', sep = \"\\t\", header = True, index = False)\n",
    "                print(\"Total number SNPs \",new_sums.shape[0],\". Removing SNPs failed to liftover \", sum(idx))\n",
    "            else:\n",
    "                new_sums.to_csv(output_path, compression='gzip', sep = \"\\t\", header = True, index = False)\n",
    "                print(\"Total number SNPs \",new_sums.shape[0],\". The number of SNPs failed to liftover \", sum(idx),\". Their chr and pos is replaced with 0, 0\")\n",
    "    def read_bim(fn):\n",
    "        header = [\"chrom\", \"snp\", \"cm\",\"pos\",\"a0\", \"a1\"]\n",
    "        df = pd.read_csv(fn,delim_whitespace=True,header=None,names=header,compression=None,engine=\"c\",iterator=False)\n",
    "        df[\"i\"] = range(df.shape[0])\n",
    "        return df"
   ]
  },
  {
   "cell_type": "code",
   "execution_count": null,
   "id": "e6e9c77d-4b95-4e35-8ccf-ac3e5c7a5e5a",
   "metadata": {
    "kernel": "SoS"
   },
   "outputs": [],
   "source": [
    "[default_2 (do liftover)]\n",
    "depends: f'{cwd:a}/utils.py'\n",
    "input: input_file\n",
    "output: f'{cwd}/{output_file}'\n",
    "python: input = f'{cwd:a}/utils.py', expand = '${ }', stderr = f'{_output[0]:n}.stderr', stdout = f'{_output[0]:n}.stdout'\n",
    "    \n",
    "    \n",
    "    import os.path\n",
    "    input_path=${_input[0]:r}\n",
    "    output_path=${_output[0]:r}\n",
    "    fr = '${fr}'\n",
    "    to = '${to}'\n",
    "    remove_missing=${remove_missing}\n",
    "    rename = ${rename}\n",
    "    yml_file = '${yml_file}'\n",
    "    if not os.path.isfile(yml_file):\n",
    "        yml_file = None\n",
    "    print(fr,to,remove_missing)\n",
    "    liftover(input_path,output_path,yml_file,fr,to,remove_missing,rename)"
   ]
  }
 ],
 "metadata": {
  "kernelspec": {
   "display_name": "SoS",
   "language": "sos",
   "name": "sos"
  },
  "language_info": {
   "codemirror_mode": "sos",
   "file_extension": ".sos",
   "mimetype": "text/x-sos",
   "name": "sos",
   "nbconvert_exporter": "sos_notebook.converter.SoS_Exporter",
   "pygments_lexer": "sos"
  },
  "sos": {
   "kernels": [
    [
     "Bash",
     "calysto_bash",
     "Bash",
     "#E6EEFF",
     ""
    ],
    [
     "SoS",
     "sos",
     "",
     "",
     "sos"
    ]
   ],
   "version": "0.22.7"
  }
 },
 "nbformat": 4,
 "nbformat_minor": 5
}
